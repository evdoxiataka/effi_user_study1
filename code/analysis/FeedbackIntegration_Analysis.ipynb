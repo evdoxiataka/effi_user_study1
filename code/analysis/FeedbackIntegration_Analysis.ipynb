{
 "cells": [
  {
   "cell_type": "code",
   "execution_count": null,
   "id": "2555bbca-685e-4a7f-b65a-d1b9d300a83d",
   "metadata": {},
   "outputs": [],
   "source": [
    "import numpy as np\n",
    "import pandas as pd\n",
    "import json\n",
    "\n",
    "########################SET folder to path of code directory in the project folder#####################\n",
    "## SET PATH to code directory in the project folder\n",
    "code_path = \"\"\n",
    "import sys  \n",
    "sys.path.insert(1, code_path)\n",
    "\n",
    "########################SET folder to project directory path#####################\n",
    "folder=\"\"\n",
    "\n",
    "from utils.utils import *\n",
    "from utils.visualization import *\n",
    "\n",
    "import matplotlib\n",
    "import matplotlib.pyplot as plt\n",
    "\n",
    "import warnings\n",
    "from pandas.errors import SettingWithCopyWarning\n",
    "warnings.simplefilter(action=\"ignore\", category=SettingWithCopyWarning)\n",
    "\n",
    "sensitive_attrs = [\"CODE_GENDER\",\"NAME_FAMILY_STATUS\",\"AGE\"]\n",
    "fs = [0.5]\n",
    "\n",
    "##\n",
    "group_fair = ['DemographicParityRatio',\n",
    "              'ConditionalDemographicDisparity',\n",
    "              'EqualOpportunityDifference',\n",
    "              'AverageOddsDifference',\n",
    "              'PredictiveParity']\n",
    "group_fair_codes = ['DPR','CDD','EOD','AOD','PPD']\n",
    "indiv_fair = ['consistency_10','theil_index']"
   ]
  },
  {
   "cell_type": "markdown",
   "id": "0ea14234-f4ca-405d-b39c-9ebc3be0b333",
   "metadata": {},
   "source": [
    "# One-off Feedback Integration and Retraining"
   ]
  },
  {
   "cell_type": "markdown",
   "id": "e78a4b30-9d77-46a0-928e-641f5cd3d0aa",
   "metadata": {},
   "source": [
    "## Labels ('fair'+'unfair')"
   ]
  },
  {
   "cell_type": "code",
   "execution_count": null,
   "id": "62be925b-3788-4b86-b233-8d4b0592bd66",
   "metadata": {},
   "outputs": [],
   "source": [
    "df_group_oneoff_ap1 = pd.read_csv(folder+'data/results/oneoff/Labels_fair+unfair/group_fairness_oneoff-Labels_Fair+Unfair.csv', delimiter=',')\n",
    "df_indiv_oneoff_ap1 = pd.read_csv(folder+'data/results/oneoff/Labels_fair+unfair/individual_fairness_oneoff-Labels_Fair+Unfair.csv', delimiter=',')\n",
    "df_acc_oneoff_ap1 = pd.read_csv(folder+'data/results/oneoff/Labels_fair+unfair/accuracy_oneoff-Labels_Fair+Unfair.csv', delimiter=',')\n",
    "\n",
    "perc_change_df = get_percentage_change_oneoff(df_group_oneoff_ap1, group_fair, \n",
    "                                            df_indiv_oneoff_ap1, indiv_fair, \n",
    "                                             df_acc_oneoff_ap1,\n",
    "                                            sensitive_attrs, fs)\n",
    "##\n",
    "perc_change_df.to_csv(folder+\"data/results/oneoff/Labels_fair+unfair/perc_change_oneoff-Labels_Fair+Unfair.csv\", index=False)\n",
    "# perc_change_df"
   ]
  },
  {
   "cell_type": "markdown",
   "id": "abd3cee4-13eb-4d2d-ad96-3b6f54e3ca2b",
   "metadata": {},
   "source": [
    "## Labels ('unfair') "
   ]
  },
  {
   "cell_type": "code",
   "execution_count": null,
   "id": "3a45d1a6-95dc-4f2f-9d39-f43513d8533f",
   "metadata": {},
   "outputs": [],
   "source": [
    "df_group_oneoff_ap2 = pd.read_csv(folder+'data/results/oneoff/Labels_unfair/group_fairness_oneoff-Labels_Unfair.csv', delimiter=',')\n",
    "df_indiv_oneoff_ap2 = pd.read_csv(folder+'data/results/oneoff/Labels_unfair/individual_fairness_oneoff-Labels_Unfair.csv', delimiter=',')\n",
    "df_acc_oneoff_ap2 = pd.read_csv(folder+'data/results/oneoff/Labels_unfair/accuracy_oneoff-Labels_Unfair.csv', delimiter=',')\n",
    "\n",
    "perc_change_df2 = get_percentage_change_oneoff(df_group_oneoff_ap2, group_fair, \n",
    "                                            df_indiv_oneoff_ap2, indiv_fair, \n",
    "                                             df_acc_oneoff_ap2,\n",
    "                                            sensitive_attrs, fs)\n",
    "##\n",
    "perc_change_df2.to_csv(folder+\"data/results/oneoff/Labels_unfair/perc_change_oneoff-Labels_Unfair.csv\", index=False)\n",
    "# perc_change_df2"
   ]
  },
  {
   "cell_type": "markdown",
   "id": "9ab401bd-f2f9-4654-8972-4f876ee35df9",
   "metadata": {},
   "source": [
    "## Labels+Weights ('fair'+'unfair')"
   ]
  },
  {
   "cell_type": "code",
   "execution_count": null,
   "id": "582e1c18-e78a-4575-977e-c3d316fa966c",
   "metadata": {},
   "outputs": [],
   "source": [
    "df_group_oneoff_ap3 = pd.read_csv(folder+'data/results/oneoff/Labels+Weights_fair+unfair/group_fairness_oneoff-Labels+Weights_Fair+Unfair.csv', delimiter=',')\n",
    "df_indiv_oneoff_ap3 = pd.read_csv(folder+'data/results/oneoff/Labels+Weights_fair+unfair/individual_fairness_oneoff-Labels+Weights_Fair+Unfair.csv', delimiter=',')\n",
    "df_acc_oneoff_ap3 = pd.read_csv(folder+'data/results/oneoff/Labels+Weights_fair+unfair/accuracy_oneoff-Labels+Weights_Fair+Unfair.csv', delimiter=',')\n",
    "\n",
    "perc_change_df = get_percentage_change_oneoff(df_group_oneoff_ap3, group_fair, \n",
    "                                            df_indiv_oneoff_ap3, indiv_fair, \n",
    "                                             df_acc_oneoff_ap3,\n",
    "                                            sensitive_attrs, fs)\n",
    "##\n",
    "perc_change_df.to_csv(folder+\"data/results/oneoff/Labels+Weights_fair+unfair/perc_change_oneoff-Labels+Weights_Fair+Unfair.csv\", index=False)\n",
    "# perc_change_df"
   ]
  },
  {
   "cell_type": "markdown",
   "id": "2c34c635-e79a-4b38-a5d0-642a97b0135a",
   "metadata": {},
   "source": [
    "# IML-Labels"
   ]
  },
  {
   "cell_type": "markdown",
   "id": "6c2fe5d6-9fb4-4f8d-b1ed-f32edec1e91c",
   "metadata": {},
   "source": [
    "## 'fair'+'unfair'"
   ]
  },
  {
   "cell_type": "code",
   "execution_count": null,
   "id": "a4a0f91c-36cb-4c89-803e-fb37cc1b7c26",
   "metadata": {},
   "outputs": [],
   "source": [
    "df_group = pd.read_csv(folder+'data/results/IML-Labels/fair+unfair/group_fairness_iml-labels_fair+unfair_with_cma.csv', delimiter=',')\n",
    "df_indiv = pd.read_csv(folder+'data/results/IML-Labels/fair+unfair/individual_fairness_iml-labels_fair+unfair_with_cma.csv', delimiter=',')\n",
    "df_acc = pd.read_csv(folder+'data/results/IML-Labels/fair+unfair/accuracy_iml-labels_fair+unfair_with_cma.csv', delimiter=',')\n",
    "\n",
    "perc_change_df,cma_perc_change_df = get_percentage_change_IML(df_group, group_fair, \n",
    "                                                                    df_indiv, indiv_fair, \n",
    "                                                                    sensitive_attrs, fs)\n",
    "perc_change_df.to_csv(folder+\"data/results/IML-Labels/fair+unfair/perc_change_IML-Labels_Fair+Unfair_raw.csv\", index=False)\n",
    "cma_perc_change_df.to_csv(folder+\"data/results/IML-Labels/fair+unfair/perc_change_IML-Labels_Fair+Unfair_cma.csv\", index=False)\n",
    "\n",
    "p_ids = perc_change_df['participant_id'].tolist()"
   ]
  },
  {
   "cell_type": "markdown",
   "id": "ee0ea9b4-a5a9-400c-b5e4-04d5eae3bace",
   "metadata": {},
   "source": [
    "### Cluster participants based on perc. change of group fairness measured at last iteration of CMA"
   ]
  },
  {
   "cell_type": "code",
   "execution_count": null,
   "id": "d08a8aa4-6644-4a01-a885-b5e38e7db462",
   "metadata": {},
   "outputs": [],
   "source": [
    "## df to array - keep only group fairness for clustering\n",
    "perc_change_array = []\n",
    "for i in perc_change_df.index:\n",
    "    perc_change_array.append(perc_change_df.loc[i].tolist()[:-3])\n",
    "cma_perc_change_array = []\n",
    "for i in cma_perc_change_df.index:\n",
    "    cma_perc_change_array.append(cma_perc_change_df.loc[i].tolist()[:-3])\n",
    "\n",
    "##\n",
    "clustered_data = cma_perc_change_array\n",
    "metric = 'mean'"
   ]
  },
  {
   "cell_type": "code",
   "execution_count": null,
   "id": "f4305aee-53f2-46c7-a81f-4a0dbef99ce0",
   "metadata": {},
   "outputs": [],
   "source": [
    "## Search for optimal number of clusters\n",
    "# candidate values for our number of cluster\n",
    "parameters = [2, 3, 4, 5, 6, 7, 8, 9, 10, 15, 20, 25, 30, 35, 40, 45]\n",
    "silhouette_scores, best_score, best_grid = k_means_optimize_parameter(clustered_data, parameters, metric)\n",
    "plot_silhouette_scores(silhouette_scores, parameters)"
   ]
  },
  {
   "cell_type": "code",
   "execution_count": null,
   "id": "ad9d64da-0025-40ba-812f-0266bbf033de",
   "metadata": {
    "scrolled": true
   },
   "outputs": [],
   "source": [
    "nc = 3\n",
    "cluster_ids, cluster_centroids, array_of_vectors_pca = k_means_pca(clustered_data, nc, metric, n_components=2)\n",
    "colors = ['r','g','b','orange','purple', 'y','cyan','magenta','tab:blue']\n",
    "plot_clusters(array_of_vectors_pca, cluster_ids, colors)\n",
    "##\n",
    "cluster_p_id_dict = {}\n",
    "for i, cl_id in enumerate(cluster_ids):\n",
    "    color = 'cluster_'+str(cl_id)\n",
    "    if color not in cluster_p_id_dict:\n",
    "        cluster_p_id_dict[color] = []\n",
    "    cluster_p_id_dict[color].append((i, p_ids[i]))\n",
    "cluster_p_id_dict"
   ]
  },
  {
   "cell_type": "code",
   "execution_count": null,
   "id": "dafbcf67-7f72-4f6d-9824-a77e292a01bc",
   "metadata": {},
   "outputs": [],
   "source": [
    "clustered_data_df = cma_perc_change_df.copy(deep=True)\n",
    "clustered_data_df.drop(columns=['consistency_10','theil_index'],inplace=True)\n",
    "clustered_data_df['cluster_id'] = cluster_ids\n",
    "for i,centroid in enumerate(cluster_centroids):\n",
    "    centroid = centroid.tolist()\n",
    "    centroid.append('centroid')\n",
    "    centroid.append(i)\n",
    "    clustered_data_df.loc[58+i] = centroid\n",
    "clustered_data_df.to_csv(folder+\"data/results/IML-Labels/fair+unfair/clustering/perc_change_IML-Labels_Unfair_clustering_cma_group.csv\", index=False)"
   ]
  },
  {
   "cell_type": "code",
   "execution_count": null,
   "id": "b673740f-a865-4c8d-8aa3-617c0c6945ac",
   "metadata": {},
   "outputs": [],
   "source": [
    "for cl in cluster_p_id_dict:\n",
    "    print(cl,len(cluster_p_id_dict[cl]))"
   ]
  },
  {
   "cell_type": "markdown",
   "id": "665e258c-5ea1-4eb4-a6fd-7f108ce2d257",
   "metadata": {},
   "source": [
    "#### Line plots per cluster"
   ]
  },
  {
   "cell_type": "code",
   "execution_count": null,
   "id": "ff3eb5c1-f757-40c0-8679-9d32bb20a816",
   "metadata": {
    "scrolled": true
   },
   "outputs": [],
   "source": [
    "for cl in cluster_p_id_dict:\n",
    "    title = 'IML-Labels_Fair+Unfair_Clustering_CMA_Group_{}'.format(cl)\n",
    "    fPath = folder+'data/results/IML-Labels/fair+unfair/clustering/'\n",
    "    filename = 'lineGraphs_IML-Labels_Fair+Unfair_Clustering_CMA_Group_{}'.format(cl)\n",
    "    image_type = '.jpeg'\n",
    "    colors = ['r','g','b','orange','purple', 'y','cyan','magenta','tab:blue']\n",
    "    cl_participants = [p_id[1] for p_id in cluster_p_id_dict[cl]]\n",
    "    cl_participants.append(np.nan)\n",
    "    print(cl, cl_participants)\n",
    "    joint_plot_all_participants(title, \n",
    "                                fPath, filename, image_type, \n",
    "                                sensitive_attrs, \n",
    "                                group_fair, group_fair_codes, \n",
    "                                indiv_fair, \n",
    "                                fs, \n",
    "                                df_group.loc[df_group['participant_id'].isin(cl_participants)], \n",
    "                                df_indiv.loc[df_indiv['participant_id'].isin(cl_participants)], \n",
    "                                df_acc.loc[df_acc['participant_id'].isin(cl_participants)], \n",
    "                                colors, True, True)"
   ]
  },
  {
   "cell_type": "markdown",
   "id": "cfbe9aef-71b6-4801-8c1f-9aefb5d9d3f1",
   "metadata": {},
   "source": [
    "#### Perc. change graphs per cluster"
   ]
  },
  {
   "cell_type": "code",
   "execution_count": null,
   "id": "c5e0c7d9-e1b0-4176-92ba-7ec781139532",
   "metadata": {},
   "outputs": [],
   "source": [
    "## plot all fairness metrics\n",
    "perc_ch_df = cma_perc_change_df\n",
    "cluster_df = clustered_data_df\n",
    "title = 'IML-Labels_Fair+Unfair Cluster {}'\n",
    "file_name = 'percChange_Graphs_IML-Labels_Fair+Unfair_Clustering_CMA_Group_cl{}.pdf'\n",
    "fPath = folder+'data/results/IML-Labels/fair+unfair/clustering/'\n",
    "##\n",
    "attrs  = ['CODE_GENDER','NAME_FAMILY_STATUS','AGE']\n",
    "attrs_codes = ['Gender','Marit. Stat.','Age']\n",
    "group_f = ['DemographicParityRatio',\n",
    "           'ConditionalDemographicDisparity',\n",
    "           'EqualOpportunityDifference',\n",
    "           'AverageOddsDifference',\n",
    "           'PredictiveParity']\n",
    "group_fair_cod = ['DPR (+)','CDD (-)','EOD (+)','AOD (+)','PPD (+)']\n",
    "\n",
    "perc_change_plots_per_cluster(perc_ch_df, cluster_df, title, file_name, fPath, attrs, attrs_codes, group_f, group_fair_cod)"
   ]
  },
  {
   "cell_type": "markdown",
   "id": "ce89358d-ca7a-4193-84b2-a900b6941534",
   "metadata": {},
   "source": [
    "### Perc. change plot of all participants"
   ]
  },
  {
   "cell_type": "code",
   "execution_count": null,
   "id": "cb864b86-1f64-4820-8a4a-fa73bdb770ab",
   "metadata": {},
   "outputs": [],
   "source": [
    "## plot perc. change plot for all fairness metrics\n",
    "perc_ch_df = cma_perc_change_df\n",
    "title = 'IML-Labels_Fair+Unfair'\n",
    "file_name = 'percChange_Graphs_IML-Labels_Fair+Unfair.pdf'\n",
    "fPath = folder+'data/results/IML-Labels/fair+unfair/'\n",
    "attrs  = ['CODE_GENDER','NAME_FAMILY_STATUS','AGE']\n",
    "attrs_codes = ['Gender','Marit. Stat.','Age']\n",
    "group_f = ['DemographicParityRatio','ConditionalDemographicDisparity','EqualOpportunityDifference',\n",
    "                    'AverageOddsDifference','PredictiveParity','indiv.']\n",
    "group_fair_cod = ['DPR (+)','CDD (-)','EOD (+)','AOD (+)','PPD (+)']\n",
    "\n",
    "perc_change_plots(perc_ch_df, title, file_name, fPath, attrs, attrs_codes, group_f, group_fair_cod)"
   ]
  },
  {
   "cell_type": "markdown",
   "id": "b249dbfe-8885-4c7e-a955-f3c1603cefc3",
   "metadata": {},
   "source": [
    "### Line (Raw and CMA) plots"
   ]
  },
  {
   "cell_type": "markdown",
   "id": "bddc6b7b-710d-46bb-a1b7-ee0685e29cc6",
   "metadata": {},
   "source": [
    "#### Joint plots for all participants"
   ]
  },
  {
   "cell_type": "code",
   "execution_count": null,
   "id": "6d82e35f-dcb2-4511-9a03-1d6b4cd4e7fc",
   "metadata": {
    "tags": []
   },
   "outputs": [],
   "source": [
    "title = 'IML-Labels_Fair+Unfair_all'\n",
    "fPath = folder+'data/results/IML-Labels/fair+unfair/'\n",
    "image_type = '.jpeg'\n",
    "filename = 'all_participants'\n",
    "joint_plot_all_participants(title, fPath, filename, image_type, \n",
    "                            sensitive_attrs, \n",
    "                            group_fair, group_fair_codes, \n",
    "                            indiv_fair, \n",
    "                            fs, \n",
    "                            df_group, df_indiv, df_acc, \n",
    "                            colors, True, True)"
   ]
  },
  {
   "cell_type": "markdown",
   "id": "6022afa6-e4a7-4cb9-aa76-2d8f7ed602ab",
   "metadata": {},
   "source": [
    "#### Plots per participant"
   ]
  },
  {
   "cell_type": "code",
   "execution_count": null,
   "id": "263532d1-fd4d-4c38-a091-4223e91335d0",
   "metadata": {
    "scrolled": true
   },
   "outputs": [],
   "source": [
    "title = 'IML-Labels_Fair+Unfair_{}'\n",
    "fPath = folder+'data/results/IML-Labels/fair+unfair/'\n",
    "image_type = '.jpeg'\n",
    "plots_per_participant(title, fPath, image_type, \n",
    "                      sensitive_attrs, \n",
    "                      group_fair, group_fair_codes, \n",
    "                      indiv_fair, \n",
    "                      fs, \n",
    "                      df_group, df_indiv, df_acc, \n",
    "                      colors, True)"
   ]
  },
  {
   "cell_type": "markdown",
   "id": "84a3032a-f215-4fa3-beaf-8b75a6f2d7f0",
   "metadata": {},
   "source": [
    "## 'unfair'"
   ]
  },
  {
   "cell_type": "code",
   "execution_count": null,
   "id": "02c104af-d7da-4bbc-aad7-7464abe07902",
   "metadata": {},
   "outputs": [],
   "source": [
    "df_group = pd.read_csv(folder+'data/results/IML-Labels/unfair/group_fairness_iml-labels_unfair_with_cma.csv', delimiter=',')\n",
    "df_indiv = pd.read_csv(folder+'data/results/IML-Labels/unfair/individual_fairness_iml-labels_unfair_with_cma.csv', delimiter=',')\n",
    "df_acc = pd.read_csv(folder+'data/results/IML-Labels/unfair/accuracy_iml-labels_unfair_with_cma.csv', delimiter=',')\n",
    "\n",
    "perc_change_df, cma_perc_change_df = get_percentage_change_IML(df_group, group_fair, \n",
    "                                                               df_indiv, indiv_fair, \n",
    "                                                               sensitive_attrs, fs)\n",
    "perc_change_df.to_csv(folder+\"data/results/IML-Labels/unfair/perc_change_IML-Labels_Unfair_raw.csv\", index=False)\n",
    "cma_perc_change_df.to_csv(folder+\"data/results/IML-Labels/unfair/perc_change_IML-Labels_Unfair_cma.csv\", index=False)\n",
    "\n",
    "p_ids = perc_change_df['participant_id'].tolist()"
   ]
  },
  {
   "cell_type": "markdown",
   "id": "a1492a59-6f30-462e-ab48-987a7c9594ef",
   "metadata": {},
   "source": [
    "### Cluster participants based on perc. change of group fairness measured at last iteration of CMA"
   ]
  },
  {
   "cell_type": "code",
   "execution_count": null,
   "id": "6c095068-fe41-4b63-919b-b9a8c19bf9d5",
   "metadata": {},
   "outputs": [],
   "source": [
    "## df to array - keep only group fairness for clustering\n",
    "perc_change_array = []\n",
    "for i in perc_change_df.index:\n",
    "    perc_change_array.append(perc_change_df.loc[i].tolist()[:-3])\n",
    "cma_perc_change_array = []\n",
    "for i in cma_perc_change_df.index:\n",
    "    cma_perc_change_array.append(cma_perc_change_df.loc[i].tolist()[:-3])\n",
    "\n",
    "##\n",
    "clustered_data = cma_perc_change_array\n",
    "metric = 'mean'"
   ]
  },
  {
   "cell_type": "code",
   "execution_count": null,
   "id": "29ecdab4-c03a-4951-b082-b84ca4f6f0a9",
   "metadata": {},
   "outputs": [],
   "source": [
    "## Search for optimal number of clusters\n",
    "# candidate values for our number of cluster\n",
    "parameters = [2, 3, 4, 5, 6, 7, 8, 9, 10, 15, 20, 25, 30, 35, 40, 45]\n",
    "silhouette_scores, best_score, best_grid = k_means_optimize_parameter(clustered_data, parameters, metric)\n",
    "plot_silhouette_scores(silhouette_scores, parameters)"
   ]
  },
  {
   "cell_type": "code",
   "execution_count": null,
   "id": "f0070540-1b86-476b-80eb-8c047ed136b2",
   "metadata": {
    "scrolled": true
   },
   "outputs": [],
   "source": [
    "nc = 3\n",
    "cluster_ids, cluster_centroids, array_of_vectors_pca = k_means_pca(clustered_data, nc, metric, n_components=2)\n",
    "colors = ['r','g','b','orange','purple', 'y','cyan','magenta','tab:blue']\n",
    "plot_clusters(array_of_vectors_pca, cluster_ids, colors)\n",
    "##\n",
    "cluster_p_id_dict = {}\n",
    "for i, cl_id in enumerate(cluster_ids):\n",
    "    color = 'cluster_'+str(cl_id)\n",
    "    if color not in cluster_p_id_dict:\n",
    "        cluster_p_id_dict[color] = []\n",
    "    cluster_p_id_dict[color].append((i, p_ids[i]))\n",
    "cluster_p_id_dict"
   ]
  },
  {
   "cell_type": "code",
   "execution_count": null,
   "id": "a4a0a5d5-8b90-4546-bd16-3bbed1e3df65",
   "metadata": {},
   "outputs": [],
   "source": [
    "clustered_data_df = cma_perc_change_df.copy(deep=True)\n",
    "clustered_data_df.drop(columns=['consistency_10','theil_index'],inplace=True)\n",
    "clustered_data_df['cluster_id'] = cluster_ids\n",
    "for i,centroid in enumerate(cluster_centroids):\n",
    "    centroid = centroid.tolist()\n",
    "    centroid.append('centroid')\n",
    "    centroid.append(i)\n",
    "    clustered_data_df.loc[58+i] = centroid\n",
    "clustered_data_df.to_csv(folder+\"data/results/IML-Labels/unfair/clustering/perc_change_IML-Labels_Unfair_clustering_cma_group.csv\", index=False)\n",
    "# clustered_data_df.to_csv(\"perc_change_IML-Labels_Unfair_clustering_cma_group+indiv.csv\", index=False)"
   ]
  },
  {
   "cell_type": "code",
   "execution_count": null,
   "id": "dd2299e4-f86d-431f-8e43-b77eebbaa72f",
   "metadata": {},
   "outputs": [],
   "source": [
    "for cl in cluster_p_id_dict:\n",
    "    print(cl,len(cluster_p_id_dict[cl]))"
   ]
  },
  {
   "cell_type": "markdown",
   "id": "5f4a286e-e65e-4aff-a09b-b8ba2daa5852",
   "metadata": {},
   "source": [
    "#### Line plots per cluster"
   ]
  },
  {
   "cell_type": "code",
   "execution_count": null,
   "id": "f0bec372-2f8f-4f4f-9dd5-f7b4d1703bf2",
   "metadata": {
    "scrolled": true
   },
   "outputs": [],
   "source": [
    "for cl in cluster_p_id_dict:\n",
    "    title = 'IML-Labels_Unfair_Clustering_CMA_Group_{}'.format(cl)\n",
    "    fPath = folder+'data/results/IML-Labels/unfair/clustering/'\n",
    "    filename = 'lineGraphs_IML-Labels_Unfair_Clustering_CMA_Group_{}'.format(cl)\n",
    "    image_type = '.jpeg'\n",
    "    colors = ['r','g','b','orange','purple', 'y','cyan','magenta','tab:blue']\n",
    "    cl_participants = [p_id[1] for p_id in cluster_p_id_dict[cl]]\n",
    "    cl_participants.append(np.nan)\n",
    "    print(cl, cl_participants)\n",
    "    joint_plot_all_participants(title, \n",
    "                                fPath, filename, image_type, \n",
    "                                sensitive_attrs, \n",
    "                                group_fair, group_fair_codes, \n",
    "                                indiv_fair, \n",
    "                                fs, \n",
    "                                df_group.loc[df_group['participant_id'].isin(cl_participants)], \n",
    "                                df_indiv.loc[df_indiv['participant_id'].isin(cl_participants)], \n",
    "                                df_acc.loc[df_acc['participant_id'].isin(cl_participants)], \n",
    "                                colors, True, True)"
   ]
  },
  {
   "cell_type": "markdown",
   "id": "1172f19a-c64c-44be-bf0a-283a530de72b",
   "metadata": {},
   "source": [
    "#### Perc. change graphs per cluster"
   ]
  },
  {
   "cell_type": "code",
   "execution_count": null,
   "id": "2f0defcf-4e7c-45af-b4e4-3f9383b718d7",
   "metadata": {
    "scrolled": true
   },
   "outputs": [],
   "source": [
    "## plot all fairness metrics\n",
    "perc_ch_df = cma_perc_change_df\n",
    "cluster_df = clustered_data_df\n",
    "title = 'IML-Labels_Unfair Cluster {}'\n",
    "file_name = 'percChange_Graphs_IML-Labels_Unfair_Clustering_CMA_Group_cl{}.pdf'\n",
    "fPath = folder+'data/results/IML-Labels/unfair/clustering/'\n",
    "##\n",
    "attrs  = ['CODE_GENDER','NAME_FAMILY_STATUS','AGE']\n",
    "attrs_codes = ['Gender','Marit. Stat.','Age']\n",
    "group_f = ['DemographicParityRatio',\n",
    "           'ConditionalDemographicDisparity',\n",
    "           'EqualOpportunityDifference',                    \n",
    "           'AverageOddsDifference',\n",
    "           'PredictiveParity']\n",
    "group_fair_cod = ['DPR (+)','CDD (-)','EOD (+)','AOD (+)','PPD (+)']\n",
    "\n",
    "perc_change_plots_per_cluster(perc_ch_df, cluster_df, title, file_name, fPath, attrs, attrs_codes, group_f, group_fair_cod)"
   ]
  },
  {
   "cell_type": "code",
   "execution_count": null,
   "id": "fecf6c51-9a8d-4388-b42d-d2b4de0a4ada",
   "metadata": {
    "scrolled": true
   },
   "outputs": [],
   "source": [
    "## plot only DPR and AOD\n",
    "perc_ch_df = cma_perc_change_df\n",
    "cluster_df = clustered_data_df\n",
    "title = 'IML-Labels_Unfair Cluster {}'\n",
    "file_name = 'percChange_Graphs_IML-Labels_Unfair_Clustering_CMA_Group_cl{}_short.pdf'\n",
    "fPath = folder+'data/results/IML-Labels/unfair/clustering/'\n",
    "##\n",
    "attrs  = ['CODE_GENDER','NAME_FAMILY_STATUS','AGE']\n",
    "attrs_codes = ['Gender','Marit. Stat.','Age']\n",
    "group_f = ['DemographicParityRatio','AverageOddsDifference']\n",
    "group_fair_cod = ['DPR (+)','AOD (+)']\n",
    "\n",
    "perc_change_plots_per_cluster(perc_ch_df, cluster_df, title, file_name, fPath, attrs, attrs_codes, group_f, group_fair_cod)"
   ]
  },
  {
   "cell_type": "markdown",
   "id": "b8f40dbc-6b25-4a80-ac2b-35771ae5f88a",
   "metadata": {},
   "source": [
    "### Perc. change plot of all participants"
   ]
  },
  {
   "cell_type": "code",
   "execution_count": null,
   "id": "9e0c30ee-e5a5-43f6-9493-6fbc0e858f81",
   "metadata": {},
   "outputs": [],
   "source": [
    "## plot perc. change plot for all fairness metrics\n",
    "perc_ch_df = cma_perc_change_df\n",
    "title = 'IML-Labels_Unfair'\n",
    "file_name = 'percChange_Graphs_IML-Labels_Unfair.pdf'\n",
    "fPath = folder+'data/results/IML-Labels/unfair/'\n",
    "attrs  = ['CODE_GENDER','NAME_FAMILY_STATUS','AGE']\n",
    "attrs_codes = ['Gender','Marit. Stat.','Age']\n",
    "group_f = ['DemographicParityRatio',\n",
    "           'ConditionalDemographicDisparity',\n",
    "           'EqualOpportunityDifference',\n",
    "            'AverageOddsDifference',\n",
    "           'PredictiveParity','indiv.']\n",
    "group_fair_cod = ['DPR (+)','CDD (-)','EOD (+)','AOD (+)','PPD (+)']\n",
    "\n",
    "perc_change_plots(perc_ch_df, title, file_name, fPath, attrs, attrs_codes, group_f, group_fair_cod)"
   ]
  },
  {
   "cell_type": "code",
   "execution_count": null,
   "id": "a728c413-9343-46a5-b690-e12b7503639a",
   "metadata": {},
   "outputs": [],
   "source": [
    "## plot perc. change plot for DPR and AOD\n",
    "perc_ch_df = cma_perc_change_df\n",
    "title = 'IML-Labels_Unfair'\n",
    "file_name = 'percChange_Graphs_IML-Labels_Unfair_short.pdf'\n",
    "fPath = folder+'data/results/IML-Labels/unfair/'\n",
    "attrs  = ['CODE_GENDER','NAME_FAMILY_STATUS','AGE']\n",
    "attrs_codes = ['Gender','Marit. Stat.','Age']\n",
    "group_f = ['DemographicParityRatio','AverageOddsDifference']\n",
    "group_fair_cod = ['DPR (+)','AOD (+)']\n",
    "\n",
    "perc_change_plots(perc_ch_df, title, file_name, fPath, attrs, attrs_codes, group_f, group_fair_cod)"
   ]
  },
  {
   "cell_type": "markdown",
   "id": "bbf79cd7-affb-4eea-a01b-62bf5c7885b5",
   "metadata": {},
   "source": [
    "### Line (Raw and CMA) plots"
   ]
  },
  {
   "cell_type": "markdown",
   "id": "aea364d1-a455-47f8-bf10-59ebb2124604",
   "metadata": {},
   "source": [
    "#### Joint plots for all participants"
   ]
  },
  {
   "cell_type": "code",
   "execution_count": null,
   "id": "ee281d5d-e256-4f7b-ae1b-ed654ab97a0d",
   "metadata": {
    "tags": []
   },
   "outputs": [],
   "source": [
    "title = 'IML-Labels_Unfair_all'\n",
    "fPath = folder+'data/results/IML-Labels/unfair/'\n",
    "image_type = '.jpeg'\n",
    "filename = 'all_participants'\n",
    "joint_plot_all_participants(title, fPath, filename, image_type, \n",
    "                            sensitive_attrs, \n",
    "                            group_fair, group_fair_codes, \n",
    "                            indiv_fair, \n",
    "                            fs, \n",
    "                            df_group, df_indiv, df_acc, \n",
    "                            colors, True, True)"
   ]
  },
  {
   "cell_type": "markdown",
   "id": "8055c62e-5db2-4f66-9891-56938eefde2d",
   "metadata": {},
   "source": [
    "#### Plots per participant"
   ]
  },
  {
   "cell_type": "code",
   "execution_count": null,
   "id": "e0fa8e6a-6bd4-43ef-adb9-163142915ec8",
   "metadata": {
    "scrolled": true
   },
   "outputs": [],
   "source": [
    "title = 'IML-Labels_Unfair_{}'\n",
    "fPath = folder+'data/results/IML-Labels/unfair/'\n",
    "image_type = '.jpeg'\n",
    "plots_per_participant(title, fPath, image_type, \n",
    "                      sensitive_attrs, \n",
    "                      group_fair, group_fair_codes, \n",
    "                      indiv_fair, \n",
    "                      fs, \n",
    "                      df_group, df_indiv, df_acc, \n",
    "                      colors, True)"
   ]
  },
  {
   "cell_type": "markdown",
   "id": "39ea0a0f-83f7-4d23-94fd-e3c8fe3982cf",
   "metadata": {},
   "source": [
    "#### Line graphs for DPR and AOD and 3 protected attributes for participant 608aa18a3c2dfd212a1a77a9 (IML-Labels_Unfair)"
   ]
  },
  {
   "cell_type": "code",
   "execution_count": null,
   "id": "bea24644-664c-4fbd-a2d6-ab754580f014",
   "metadata": {},
   "outputs": [],
   "source": [
    "group_f = ['DemographicParityRatio','AverageOddsDifference']\n",
    "group_fair_cod = ['DPR','AOD']\n",
    "colors = ['r','g','b','orange','purple', 'y','cyan','magenta','tab:blue']\n",
    "indiv_f = []\n",
    "title = 'IML-Labels_Unfair_{}'\n",
    "fPath = folder+'data/results/IML-Labels/unfair/'\n",
    "image_type = '.pdf'\n",
    "line_graphs_of_participant(title, fPath, image_type, \n",
    "                      sensitive_attrs, \n",
    "                      group_f, group_fair_cod, \n",
    "                      indiv_f, \n",
    "                      fs, \n",
    "                      df_group, df_indiv, df_acc, \n",
    "                      colors, True, '608aa18a3c2dfd212a1a77a9')"
   ]
  },
  {
   "cell_type": "markdown",
   "id": "76ab10c3-6cb7-4afe-9456-f1b6b3988f69",
   "metadata": {},
   "source": [
    "# IML-Labels+Weights"
   ]
  },
  {
   "cell_type": "markdown",
   "id": "6d1e7d1a-3fc4-4e09-9565-e6221e74ec97",
   "metadata": {},
   "source": [
    "## 'fair'+'unfair'"
   ]
  },
  {
   "cell_type": "code",
   "execution_count": null,
   "id": "684db604-7761-4793-8b5e-7ea8d8323299",
   "metadata": {},
   "outputs": [],
   "source": [
    "df_group = pd.read_csv(folder+'data/results/IML-Labels+Weights/fair+unfair/group_fairness_IML-Labels+Weights_Fair+Unfair_with_cma.csv', delimiter=',')\n",
    "df_indiv = pd.read_csv(folder+'data/results/IML-Labels+Weights/fair+unfair/individual_fairness_IML-Labels+Weights_Fair+Unfair_with_cma.csv', delimiter=',')\n",
    "df_acc = pd.read_csv(folder+'data/results/IML-Labels+Weights/fair+unfair/accuracy_IML-Labels+Weights_Fair+Unfair_with_cma.csv', delimiter=',')\n",
    "\n",
    "perc_change_df, cma_perc_change_df = get_percentage_change_IML(df_group, group_fair, \n",
    "                                                               df_indiv, indiv_fair, \n",
    "                                                               sensitive_attrs, fs)\n",
    "perc_change_df.to_csv(folder+\"data/results/IML-Labels+Weights/fair+unfair/perc_change_IML-Labels+Weights_Fair+Unfair_raw.csv\", index=False)\n",
    "cma_perc_change_df.to_csv(folder+\"data/results/IML-Labels+Weights/fair+unfair/perc_change_IML-Labels+Weights_Fair+Unfair_cma.csv\", index=False)\n",
    "\n",
    "p_ids = perc_change_df['participant_id'].tolist()"
   ]
  },
  {
   "cell_type": "markdown",
   "id": "121621a6-cd61-474e-8ec0-5ba2b5dc70fc",
   "metadata": {},
   "source": [
    "### Cluster participants based on perc. change of group fairness measured at last iteration of CMA"
   ]
  },
  {
   "cell_type": "code",
   "execution_count": null,
   "id": "7052169e-754a-4412-b8cd-c7977b3da3c4",
   "metadata": {},
   "outputs": [],
   "source": [
    "## df to array - keep only group fairness for clustering\n",
    "perc_change_array = []\n",
    "for i in perc_change_df.index:\n",
    "    perc_change_array.append(perc_change_df.loc[i].tolist()[:-3])\n",
    "cma_perc_change_array = []\n",
    "for i in cma_perc_change_df.index:\n",
    "    cma_perc_change_array.append(cma_perc_change_df.loc[i].tolist()[:-3])\n",
    "\n",
    "##\n",
    "clustered_data = cma_perc_change_array\n",
    "metric = 'mean'"
   ]
  },
  {
   "cell_type": "code",
   "execution_count": null,
   "id": "642f32f6-90c9-4563-a014-06a3ffb257d7",
   "metadata": {},
   "outputs": [],
   "source": [
    "## Search for optimal number of clusters\n",
    "# candidate values for our number of cluster\n",
    "parameters = [2, 3, 4, 5, 6, 7, 8, 9, 10, 15, 20, 25, 30, 35, 40, 45]\n",
    "silhouette_scores, best_score, best_grid = k_means_optimize_parameter(clustered_data, parameters, metric)\n",
    "plot_silhouette_scores(silhouette_scores, parameters)"
   ]
  },
  {
   "cell_type": "code",
   "execution_count": null,
   "id": "bfe54ebd-b3d9-4978-bfa3-888166bd04ca",
   "metadata": {
    "scrolled": true
   },
   "outputs": [],
   "source": [
    "nc = 3\n",
    "cluster_ids, cluster_centroids, array_of_vectors_pca = k_means_pca(clustered_data, nc, metric, n_components=2)\n",
    "colors = ['r','g','b','orange','purple', 'y','cyan','magenta','tab:blue']\n",
    "plot_clusters(array_of_vectors_pca, cluster_ids, colors)\n",
    "##\n",
    "cluster_p_id_dict = {}\n",
    "for i, cl_id in enumerate(cluster_ids):\n",
    "    color = 'cluster_'+str(cl_id)\n",
    "    if color not in cluster_p_id_dict:\n",
    "        cluster_p_id_dict[color] = []\n",
    "    cluster_p_id_dict[color].append((i, p_ids[i]))\n",
    "cluster_p_id_dict"
   ]
  },
  {
   "cell_type": "code",
   "execution_count": null,
   "id": "e8c163ae-592c-4e8e-8c74-3cc62ca8a71a",
   "metadata": {},
   "outputs": [],
   "source": [
    "clustered_data_df = cma_perc_change_df.copy(deep=True)\n",
    "clustered_data_df.drop(columns=['consistency_10','theil_index'],inplace=True)\n",
    "clustered_data_df['cluster_id'] = cluster_ids\n",
    "for i,centroid in enumerate(cluster_centroids):\n",
    "    centroid = centroid.tolist()\n",
    "    centroid.append('centroid')\n",
    "    centroid.append(i)\n",
    "    clustered_data_df.loc[58+i] = centroid\n",
    "clustered_data_df.to_csv(folder+\"data/results/IML-Labels+Weights/fair+unfair/clustering/perc_change_IML-Labels+Weights_Fair+Unfair_clustering_cma_group.csv\", index=False)"
   ]
  },
  {
   "cell_type": "code",
   "execution_count": null,
   "id": "1b71fef9-935c-48ca-a9f1-8b91fba76fb3",
   "metadata": {},
   "outputs": [],
   "source": [
    "for cl in cluster_p_id_dict:\n",
    "    print(cl,len(cluster_p_id_dict[cl]))"
   ]
  },
  {
   "cell_type": "markdown",
   "id": "3786b5dd-0f11-475f-8ba0-442f0a061d3c",
   "metadata": {},
   "source": [
    "#### Line plots per cluster"
   ]
  },
  {
   "cell_type": "code",
   "execution_count": null,
   "id": "904af109-ca50-4945-928e-1e2b1316a176",
   "metadata": {
    "scrolled": true
   },
   "outputs": [],
   "source": [
    "for cl in cluster_p_id_dict:\n",
    "    title = 'IML-Labels+Weights_Fair+Unfair_CMA_{}'.format(cl)\n",
    "    fPath = folder+'data/results/IML-Labels+Weights/fair+unfair/clustering/'\n",
    "    filename = cl\n",
    "    image_type = '.jpeg'\n",
    "    cl_participants = [p_id[1] for p_id in cluster_p_id_dict[cl]]\n",
    "    cl_participants.append(np.nan)\n",
    "    print(cl, cl_participants)\n",
    "    joint_plot_all_participants(title, \n",
    "                                fPath, filename, image_type, \n",
    "                                sensitive_attrs, \n",
    "                                group_fair, group_fair_codes, \n",
    "                                indiv_fair, \n",
    "                                fs, \n",
    "                                df_group.loc[df_group['participant_id'].isin(cl_participants)], \n",
    "                                df_indiv.loc[df_indiv['participant_id'].isin(cl_participants)], \n",
    "                                df_acc.loc[df_acc['participant_id'].isin(cl_participants)], \n",
    "                                colors, True, True)"
   ]
  },
  {
   "cell_type": "markdown",
   "id": "a8cbcfe6-a858-48f4-b07d-fec507997e3c",
   "metadata": {},
   "source": [
    "#### Perc. change graphs per cluster"
   ]
  },
  {
   "cell_type": "code",
   "execution_count": null,
   "id": "a2d3c99c-9f23-47c1-93a8-34ee882dd05c",
   "metadata": {},
   "outputs": [],
   "source": [
    "## plot all fairness metrics\n",
    "perc_ch_df = cma_perc_change_df\n",
    "cluster_df = clustered_data_df\n",
    "title = 'IML-Labels+Weights_Fair+Unfair Cluster {}'\n",
    "file_name = 'percChange_Graphs_IML-Labels+Weights_Fair+Unfair_Clustering_CMA_Group_cl{}.pdf'\n",
    "fPath = folder+'data/results/IML-Labels+Weights/fair+unfair/clustering/'\n",
    "##\n",
    "attrs  = ['CODE_GENDER','NAME_FAMILY_STATUS','AGE']\n",
    "attrs_codes = ['Gender','Marit. Stat.','Age']\n",
    "group_f = ['DemographicParityRatio','ConditionalDemographicDisparity','EqualOpportunityDifference',\n",
    "                    'AverageOddsDifference','PredictiveParity']\n",
    "group_fair_cod = ['DPR (+)','CDD (-)','EOD (+)','AOD (+)','PPD (+)']\n",
    "\n",
    "perc_change_plots_per_cluster(perc_ch_df, cluster_df, title, file_name, fPath, attrs, attrs_codes, group_f, group_fair_cod)"
   ]
  },
  {
   "cell_type": "markdown",
   "id": "99c3b959-bfdc-4147-bba9-ed41ca03fbd3",
   "metadata": {},
   "source": [
    "### Perc. change plot of all participants"
   ]
  },
  {
   "cell_type": "code",
   "execution_count": null,
   "id": "5aec8386-dd5a-4238-ba08-5ec7ef597bdc",
   "metadata": {},
   "outputs": [],
   "source": [
    "## plot perc. change plot for all fairness metrics\n",
    "perc_ch_df = cma_perc_change_df\n",
    "title = 'IML-Labels+Weights_Fair+Unfair'\n",
    "file_name = 'percChange_Graphs_IML-Labels+Weights_Fair+Unfair.pdf'\n",
    "fPath = folder+'data/results/IML-Labels+Weights/fair+unfair/'\n",
    "attrs  = ['CODE_GENDER','NAME_FAMILY_STATUS','AGE']\n",
    "attrs_codes = ['Gender','Marit. Stat.','Age']\n",
    "group_f = ['DemographicParityRatio','ConditionalDemographicDisparity','EqualOpportunityDifference',\n",
    "                    'AverageOddsDifference','PredictiveParity','indiv.']\n",
    "group_fair_cod = ['DPR (+)','CDD (-)','EOD (+)','AOD (+)','PPD (+)']\n",
    "\n",
    "perc_change_plots(perc_ch_df, title, file_name, fPath, attrs, attrs_codes, group_f, group_fair_cod)"
   ]
  },
  {
   "cell_type": "markdown",
   "id": "ed3bb3d5-0c6f-4b2f-b431-6982d20e36b6",
   "metadata": {},
   "source": [
    "### Line (Raw and CMA) plots"
   ]
  },
  {
   "cell_type": "markdown",
   "id": "f41ca9cf-4bb9-470f-bcac-363eaf0fd527",
   "metadata": {},
   "source": [
    "#### Joint plots for all participants"
   ]
  },
  {
   "cell_type": "code",
   "execution_count": null,
   "id": "3e7b459e-e797-4bef-bf59-25306b0d8bf9",
   "metadata": {
    "tags": []
   },
   "outputs": [],
   "source": [
    "title = 'IML-Labels+Weights_Fair+Unfair_all'\n",
    "fPath = folder+'data/results/IML-Labels+Weights/fair+unfair/'\n",
    "image_type = '.jpeg'\n",
    "filename = 'all_participants'\n",
    "joint_plot_all_participants(title, fPath, filename, image_type, \n",
    "                            sensitive_attrs, \n",
    "                            group_fair, group_fair_codes, \n",
    "                            indiv_fair, \n",
    "                            fs, \n",
    "                            df_group, df_indiv, df_acc, \n",
    "                            colors, True, True)"
   ]
  },
  {
   "cell_type": "markdown",
   "id": "039e12cb-ae95-4a40-ae5e-76d45e454962",
   "metadata": {},
   "source": [
    "#### Plots per participant"
   ]
  },
  {
   "cell_type": "code",
   "execution_count": null,
   "id": "ffe5baf9-55a0-432e-baaf-39f2715aae3e",
   "metadata": {
    "scrolled": true
   },
   "outputs": [],
   "source": [
    "title = 'IML-Labels+Weights_Fair+Unfair_{}'\n",
    "fPath = folder+'data/results/IML-Labels+Weights/fair+unfair/'\n",
    "image_type = '.jpeg'\n",
    "plots_per_participant(title, fPath, image_type, \n",
    "                      sensitive_attrs, \n",
    "                      group_fair, group_fair_codes, \n",
    "                      indiv_fair, \n",
    "                      fs, \n",
    "                      df_group, df_indiv, df_acc, \n",
    "                      colors, True)"
   ]
  },
  {
   "cell_type": "markdown",
   "id": "abd24ec1-3438-4e7f-98b1-c67bff516ef7",
   "metadata": {},
   "source": [
    "# Amount of interaction with attributes based on the interaction logs "
   ]
  },
  {
   "cell_type": "code",
   "execution_count": null,
   "id": "33594ffb-1572-4381-987e-2add40e7bc40",
   "metadata": {},
   "outputs": [],
   "source": [
    "## load all participants' interaction data with the UI\n",
    "feedback_df = pd.read_csv(folder+'data/processed_data/Feedback_final.csv', delimiter=',', index_col=0)\n",
    "feedback_df.drop(columns = [\"Lower bound\",\"Upper bound\"],inplace = True) # blank columns\n",
    "## get only feedback-related interactions with the UI\n",
    "feedback_df = feedback_df[feedback_df[\"Function\"] == \"select_reject_application\"] \n",
    "## load application data shown to participants through the UI\n",
    "applications_df = pd.read_csv(\"Applications_Converted.csv\", index_col=0)\n",
    "## get list of weights before feedback integration in right order\n",
    "features_in_trainingOrder = ['Number of children', 'Income', 'Loan Credit amount ', 'Loan annuity',\n",
    "       'Goods Price', \"Region's Normalized Population\", 'Age',\n",
    "       'Years in current employment', 'Years since changing registration', 'Years since changing  identity document',\n",
    "       'Has Mobile', 'Has Employee Phone', 'Has Work Phone', 'Mobile reachable',\n",
    "       'Has Phone', 'Has email', 'Number of family members', \"Region's Rating\",\n",
    "       'Region & City Rating', 'Application Hour',\n",
    "       'Contact address located in Registration region', 'Work address located in Registration region',\n",
    "       'Contact address located in work region', 'Contact city in Registration city',\n",
    "       'Work address in Registration city', 'Contact city in work city',\n",
    "       'Number of times social circle at default risk for 30 days', 'Number of times social circle defaulted on loan for 30 days',\n",
    "       'Number of times social circle were at risk to default on loan for 60 days', 'Number of times social circle defaulted on loan for 60 days',\n",
    "       'Years since changing phone', 'Number of Credit Bureau enquiries 1 hour before application',\n",
    "       'Number of Credit Bureau enquiries 1 day before application', 'Number of Credit Bureau enquiries 1 week before application',\n",
    "       'Number of Credit Bureau enquiries 1 month before application', 'Number of Credit Bureau enquiries 3 month before application',\n",
    "       'Number of Credit Bureau enquiries 1 year before application', 'Installments', 'Gender',\n",
    "       'Owns Car', 'Owns Property', 'Accompanied while applying',\n",
    "       'Income type', 'Highest education level',\n",
    "       'Family status', 'Housing situation', 'Occupation Type',\n",
    "       'Application Day', 'Employer organization']\n",
    "feature_weights_dict = {}\n",
    "for i in range(49):\n",
    "    feature_weights_dict[applications_df['ft_name_'+str(i)].tolist()[0]] = applications_df['ft_weight_'+str(i)].tolist()[0]\n",
    "feature_weights = []\n",
    "for feat in features_in_trainingOrder:\n",
    "    feature_weights.append(feature_weights_dict[feat])\n",
    "\n",
    "## convert string values to list of dicts\n",
    "for i in feedback_df.index :\n",
    "    s = feedback_df['Value'].loc[i]\n",
    "    # print(i,feedback_df['App ID'].loc[i])\n",
    "    s = s.replace(\"'\", \"\\\"\")\n",
    "    s = s.replace(\"Region\\\"s Rating\", \"Region\\'s Rating\")\n",
    "    s = s.replace(\"Region\\\"s Normalized Population\", \"Region\\'s Normalized Population\")\n",
    "    feedback_df.loc[[i], \"Value\"] = pd.Series([json.loads(s)], index=[i])\n",
    "\n",
    "## keep only feature weights relevant to each APP ID\n",
    "all_new_values = []\n",
    "for i in feedback_df.index :\n",
    "    app_id = feedback_df['App ID'].loc[i]\n",
    "    value = feedback_df['Value'].loc[i]\n",
    "    new_value = {}\n",
    "    if value:\n",
    "        for v_dict in value:\n",
    "            _idx = v_dict['attribute'].index('_')\n",
    "            if app_id == np.int64(v_dict['attribute'][0:_idx]):\n",
    "                attr = v_dict['attribute'][(_idx+1):]\n",
    "                new_value[attr]=np.float64(v_dict['value'])\n",
    "    all_new_values.append(new_value)    \n",
    "feedback_df['Value'] = all_new_values\n",
    "feedback_df"
   ]
  },
  {
   "cell_type": "code",
   "execution_count": null,
   "id": "fb3a1365-0d56-4a20-946f-5f536723a876",
   "metadata": {},
   "outputs": [],
   "source": [
    "attributes = {'Gender':'CODE_GENDER',\n",
    "              'Family status':'NAME_FAMILY_STATUS',\n",
    "              'Age':'AGE',\n",
    "              \"Region's Rating\":'REGION_RATING_CLIENT',\n",
    "              'Region & City Rating':'REGION_RATING_CLIENT_W_CITY',\n",
    "              'Number of times social circle at default risk for 30 days':'OBS_30_CNT_SOCIAL_CIRCLE',\n",
    "             'Number of times social circle defaulted on loan for 30 days':'DEF_30_CNT_SOCIAL_CIRCLE',\n",
    "             'Number of times social circle were at risk to default on loan for 60 days':'OBS_60_CNT_SOCIAL_CIRCLE',\n",
    "             'Number of times social circle defaulted on loan for 60 days':'DEF_60_CNT_SOCIAL_CIRCLE',\n",
    "             'Number of children':'CNT_CHILDREN', \n",
    "              'Income':'AMT_INCOME_TOTAL', \n",
    "              'Loan Credit amount ':'AMT_CREDIT', \n",
    "              'Loan annuity':'AMT_ANNUITY',\n",
    "               'Goods Price':'AMT_GOODS_PRICE', \n",
    "              \"Region's Normalized Population\":'REGION_POPULATION_RELATIVE',\n",
    "               'Years in current employment':'YEARS_EMPLOYED', \n",
    "              'Years since changing registration':'YEARS_REGISTRATION', \n",
    "              'Years since changing  identity document':'YEARS_ID_PUBLISH',\n",
    "               'Has Mobile':'FLAG_MOBIL', \n",
    "              'Has Employee Phone':'FLAG_EMP_PHONE', \n",
    "              'Has Work Phone':'FLAG_WORK_PHONE', \n",
    "              'Mobile reachable':'FLAG_CONT_MOBILE',\n",
    "               'Has Phone':'FLAG_PHONE', \n",
    "              'Has email':'FLAG_EMAIL', \n",
    "              'Number of family members':'CNT_FAM_MEMBERS', \n",
    "              'Application Hour':'HOUR_APPR_PROCESS_START',\n",
    "       'Contact address located in Registration region':'REG_REGION_NOT_LIVE_REGION', \n",
    "              'Work address located in Registration region':'REG_REGION_NOT_WORK_REGION',\n",
    "       'Contact address located in work region':'LIVE_REGION_NOT_WORK_REGION', \n",
    "              'Contact city in Registration city':'REG_CITY_NOT_LIVE_CITY',\n",
    "       'Work address in Registration city':'REG_CITY_NOT_WORK_CITY', \n",
    "              'Contact city in work city':'LIVE_CITY_NOT_WORK_CITY',\n",
    "       'Years since changing phone':'YEARS_LAST_PHONE_CHANGE', \n",
    "              'Number of Credit Bureau enquiries 1 hour before application':'AMT_REQ_CREDIT_BUREAU_HOUR',\n",
    "       'Number of Credit Bureau enquiries 1 day before application':'AMT_REQ_CREDIT_BUREAU_DAY', \n",
    "              'Number of Credit Bureau enquiries 1 week before application':'AMT_REQ_CREDIT_BUREAU_WEEK',\n",
    "       'Number of Credit Bureau enquiries 1 month before application':'AMT_REQ_CREDIT_BUREAU_MON', \n",
    "              'Number of Credit Bureau enquiries 3 month before application':'AMT_REQ_CREDIT_BUREAU_QRT',\n",
    "       'Number of Credit Bureau enquiries 1 year before application':'AMT_REQ_CREDIT_BUREAU_YEAR', \n",
    "              'Installments':'NAME_CONTRACT_TYPE', \n",
    "       'Owns Car':'FLAG_OWN_CAR', \n",
    "              'Owns Property':'FLAG_OWN_REALTY', \n",
    "              'Accompanied while applying':'NAME_TYPE_SUITE',\n",
    "       'Income type':'NAME_INCOME_TYPE', \n",
    "              'Highest education level':'NAME_EDUCATION_TYPE',\n",
    "              'Housing situation':'NAME_HOUSING_TYPE', \n",
    "              'Occupation Type':'OCCUPATION_TYPE ',\n",
    "       'Application Day':'WEEKDAY_APPR_PROCESS_START', \n",
    "              'Employer organization':'ORGANIZATION_TYPE'}\n",
    "attrs_count_dict = {}\n",
    "parts_count = []\n",
    "for attr in attributes:\n",
    "    count = 0\n",
    "    parts = []\n",
    "    for part in feedback_df['ID'].unique():\n",
    "        for idx in feedback_df[feedback_df['ID']==part].index:\n",
    "            if attr in feedback_df.loc[idx]['Value']:\n",
    "                if attributes[attr] not in attrs_count_dict:\n",
    "                    attrs_count_dict[attributes[attr]] = 0\n",
    "                count = count +1\n",
    "                parts.append(part)\n",
    "                break\n",
    "    attrs_count_dict[attributes[attr]] = attrs_count_dict[attributes[attr]]+count\n",
    "    parts_count.append(parts)\n",
    "attrs_count_dict=sorted(attrs_count_dict.items(), key=lambda x:x[1], reverse=True)\n",
    "print(attrs_count_dict)"
   ]
  },
  {
   "cell_type": "code",
   "execution_count": null,
   "id": "7fe8b403-2e1a-4320-9bae-4a1354a8c3b6",
   "metadata": {},
   "outputs": [],
   "source": [
    "feature_weights_dict = {}\n",
    "for i in range(49):\n",
    "    feature_weights_dict[applications_df['ft_name_'+str(i)].tolist()[0]] = applications_df['ft_weight_'+str(i)].tolist()[0]\n",
    "    \n",
    "av_weight_ch_dict = {}\n",
    "for attr in attributes:\n",
    "    av_weight_ch_dict[attributes[attr]] = []\n",
    "for i in feedback_df.index:\n",
    "    app_id = feedback_df['App ID'].loc[i]\n",
    "    value_dict = feedback_df['Value'].loc[i]\n",
    "    if value_dict:\n",
    "        for attr in value_dict:\n",
    "            av_weight_ch_dict[attributes[attr]].append(value_dict[attr] - feature_weights_dict[attr])\n",
    "for attr in av_weight_ch_dict:\n",
    "    av_weight_ch_dict[attr] = sum(av_weight_ch_dict[attr])/len(av_weight_ch_dict[attr])\n",
    "    idx = list(attributes.values()).index(attr)\n",
    "    av_weight_ch_dict[attr] = (av_weight_ch_dict[attr]/abs(feature_weights[idx]))*100\n",
    "av_weight_ch_dict = sorted(av_weight_ch_dict.items(), key=lambda x:x[1], reverse=True)\n",
    "av_weight_ch_dict"
   ]
  },
  {
   "cell_type": "code",
   "execution_count": null,
   "id": "b9c4f97d-65f3-4794-a6ab-157d2e8c2b86",
   "metadata": {},
   "outputs": [],
   "source": []
  }
 ],
 "metadata": {
  "kernelspec": {
   "display_name": "Python 3 (ipykernel)",
   "language": "python",
   "name": "python3"
  },
  "language_info": {
   "codemirror_mode": {
    "name": "ipython",
    "version": 3
   },
   "file_extension": ".py",
   "mimetype": "text/x-python",
   "name": "python",
   "nbconvert_exporter": "python",
   "pygments_lexer": "ipython3",
   "version": "3.11.4"
  }
 },
 "nbformat": 4,
 "nbformat_minor": 5
}
