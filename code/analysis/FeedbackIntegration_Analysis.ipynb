{
 "cells": [
  {
   "cell_type": "code",
   "execution_count": null,
   "id": "2555bbca-685e-4a7f-b65a-d1b9d300a83d",
   "metadata": {},
   "outputs": [],
   "source": [
    "import numpy as np\n",
    "import pandas as pd\n",
    "import json\n",
    "\n",
    "########################SET folder to path of code directory in the project folder#####################\n",
    "## SET PATH to code directory in the project folder\n",
    "code_path = \"C:\\\\Users\\\\evdoxiataka\\\\codes\\\\effi_user_study_1\\\\code\\\\\"\n",
    "import sys  \n",
    "sys.path.insert(1, code_path)\n",
    "\n",
    "########################SET folder to project directory path#####################\n",
    "folder=\"C:\\\\Users\\\\evdoxiataka\\\\codes\\\\effi_user_study_1\\\\\"\n",
    "\n",
    "from utils.utils import *\n",
    "from utils.visualization import *\n",
    "\n",
    "import matplotlib\n",
    "import matplotlib.pyplot as plt\n",
    "\n",
    "import warnings\n",
    "from pandas.errors import SettingWithCopyWarning\n",
    "warnings.simplefilter(action=\"ignore\", category=SettingWithCopyWarning)\n",
    "\n",
    "sensitive_attrs = [\"CODE_GENDER\",\"NAME_FAMILY_STATUS\",\"AGE\"]\n",
    "all_attributes = list(attributes_names_mapping.keys())\n",
    "# all_attributes.remove(\"CODE_GENDER\")\n",
    "# all_attributes.remove(\"NAME_FAMILY_STATUS\")\n",
    "# all_attributes.remove(\"AGE\")\n",
    "# sensitive_attrs = sensitive_attrs+all_attributes\n",
    "fs = 0.5\n",
    "\n",
    "##\n",
    "colors = ['r','g','b','orange','purple', 'y','cyan','magenta','tab:blue']\n",
    "\n",
    "##\n",
    "group_fair = ['DemographicParityRatio',\n",
    "              'ConditionalDemographicDisparity',\n",
    "              'EqualOpportunityDifference',\n",
    "              'AverageOddsDifference',\n",
    "              'PredictiveParity']\n",
    "group_fair_codes = ['DPR','CDD','EOD','AOD','PPD']\n",
    "indiv_fair = ['consistency_10','theil_index']"
   ]
  },
  {
   "cell_type": "markdown",
   "id": "0ea14234-f4ca-405d-b39c-9ebc3be0b333",
   "metadata": {},
   "source": [
    "# Global Model"
   ]
  },
  {
   "cell_type": "markdown",
   "id": "e78a4b30-9d77-46a0-928e-641f5cd3d0aa",
   "metadata": {},
   "source": [
    "## Labels ('fair'+'unfair')"
   ]
  },
  {
   "cell_type": "code",
   "execution_count": null,
   "id": "62be925b-3788-4b86-b233-8d4b0592bd66",
   "metadata": {},
   "outputs": [],
   "source": [
    "df_group_global_ap1 = pd.read_csv(folder+'data/results/global/Labels/group_fairness_global-Labels.csv', delimiter=',')\n",
    "df_indiv_global_ap1 = pd.read_csv(folder+'data/results/global/Labels/individual_fairness_global-Labels.csv', delimiter=',')\n",
    "df_acc_global_ap1 = pd.read_csv(folder+'data/results/global/Labels/accuracy_global-Labels.csv', delimiter=',')\n",
    "\n",
    "perc_change_df1 = get_percentage_change_oneoff(df_group_global_ap1, group_fair, \n",
    "                                            df_indiv_global_ap1, indiv_fair, \n",
    "                                             df_acc_global_ap1,\n",
    "                                            all_attributes, fs)\n",
    "##\n",
    "perc_change_df1.to_csv(folder+\"data/results/global/Labels/perc_change_global-Labels.csv\", index=False)\n",
    "# perc_change_df"
   ]
  },
  {
   "cell_type": "markdown",
   "id": "abd3cee4-13eb-4d2d-ad96-3b6f54e3ca2b",
   "metadata": {},
   "source": [
    "## Labels ('unfair') "
   ]
  },
  {
   "cell_type": "code",
   "execution_count": null,
   "id": "3a45d1a6-95dc-4f2f-9d39-f43513d8533f",
   "metadata": {},
   "outputs": [],
   "source": [
    "df_group_global_ap2 = pd.read_csv(folder+'data/results/global/Labels_Unfair/group_fairness_global-Labels_Unfair.csv', delimiter=',')\n",
    "df_indiv_global_ap2 = pd.read_csv(folder+'data/results/global/Labels_Unfair/individual_fairness_global-Labels_Unfair.csv', delimiter=',')\n",
    "df_acc_global_ap2 = pd.read_csv(folder+'data/results/global/Labels_Unfair/accuracy_global-Labels_Unfair.csv', delimiter=',')\n",
    "\n",
    "perc_change_df2 = get_percentage_change_oneoff(df_group_global_ap2, group_fair, \n",
    "                                            df_indiv_global_ap2, indiv_fair, \n",
    "                                             df_acc_global_ap2,\n",
    "                                            all_attributes, fs)\n",
    "##\n",
    "perc_change_df2.to_csv(folder+\"data/results/global/Labels_Unfair/perc_change_global-Labels_Unfair.csv\", index=False)\n",
    "# perc_change_df2"
   ]
  },
  {
   "cell_type": "markdown",
   "id": "9ab401bd-f2f9-4654-8972-4f876ee35df9",
   "metadata": {},
   "source": [
    "## Labels+Weights ('fair'+'unfair')"
   ]
  },
  {
   "cell_type": "code",
   "execution_count": null,
   "id": "582e1c18-e78a-4575-977e-c3d316fa966c",
   "metadata": {},
   "outputs": [],
   "source": [
    "df_group_global_ap3 = pd.read_csv(folder+'data/results/global/Labels+Weights/group_fairness_global-Labels+Weights.csv', delimiter=',')\n",
    "df_indiv_global_ap3 = pd.read_csv(folder+'data/results/global/Labels+Weights/individual_fairness_global-Labels+Weights.csv', delimiter=',')\n",
    "df_acc_global_ap3 = pd.read_csv(folder+'data/results/global/Labels+Weights/accuracy_global-Labels+Weights.csv', delimiter=',')\n",
    "\n",
    "perc_change_df3 = get_percentage_change_oneoff(df_group_oneoff_ap3, group_fair, \n",
    "                                            df_indiv_oneoff_ap3, indiv_fair, \n",
    "                                             df_acc_oneoff_ap3,\n",
    "                                            all_attributes, fs)\n",
    "##\n",
    "perc_change_df3.to_csv(folder+\"data/results/global/Labels+Weights/perc_change_global-Labels+Weights.csv\", index=False)\n",
    "# perc_change_df"
   ]
  },
  {
   "cell_type": "markdown",
   "id": "2c34c635-e79a-4b38-a5d0-642a97b0135a",
   "metadata": {},
   "source": [
    "# Personalized Models"
   ]
  },
  {
   "cell_type": "markdown",
   "id": "6c2fe5d6-9fb4-4f8d-b1ed-f32edec1e91c",
   "metadata": {},
   "source": [
    "## Labels ('fair'+'unfair')"
   ]
  },
  {
   "cell_type": "code",
   "execution_count": null,
   "id": "a4a0f91c-36cb-4c89-803e-fb37cc1b7c26",
   "metadata": {},
   "outputs": [],
   "source": [
    "df_group = pd.read_csv(folder+'data/results/personalized/Labels/group_fairness_personalized-Labels_with_cma.csv', delimiter=',')\n",
    "df_indiv = pd.read_csv(folder+'data/results/personalized/Labels/individual_fairness_personalized-Labels_with_cma.csv', delimiter=',')\n",
    "df_acc = pd.read_csv(folder+'data/results/personalized/Labels/accuracy_personalized-Labels_with_cma.csv', delimiter=',')\n",
    "\n",
    "perc_change_df, cma_perc_change_df = get_percentage_change_IML(df_group, group_fair, \n",
    "                                                                df_indiv, indiv_fair, \n",
    "                                                                sensitive_attrs, fs)\n",
    "perc_change_df.to_csv(folder+\"data/results/personalized/Labels/perc_change_personalized-Labels_raw.csv\", index=False)\n",
    "cma_perc_change_df.to_csv(folder+\"data/results/personalized/Labels/perc_change_personalized-Labels_cma.csv\", index=False)\n",
    "\n",
    "p_ids = perc_change_df['participant_id'].tolist()"
   ]
  },
  {
   "cell_type": "markdown",
   "id": "ee0ea9b4-a5a9-400c-b5e4-04d5eae3bace",
   "metadata": {},
   "source": [
    "### Cluster participants based on perc. change of group fairness measured at last iteration of CMA"
   ]
  },
  {
   "cell_type": "code",
   "execution_count": null,
   "id": "d08a8aa4-6644-4a01-a885-b5e38e7db462",
   "metadata": {},
   "outputs": [],
   "source": [
    "## df to array - keep only group fairness for clustering\n",
    "clustered_data = []\n",
    "for i in cma_perc_change_df.index:\n",
    "    clustered_data.append(cma_perc_change_df.loc[i].tolist()[:-3])\n",
    "metric = 'mean'"
   ]
  },
  {
   "cell_type": "code",
   "execution_count": null,
   "id": "f4305aee-53f2-46c7-a81f-4a0dbef99ce0",
   "metadata": {},
   "outputs": [],
   "source": [
    "## Search for optimal number of clusters\n",
    "# candidate values for our number of cluster\n",
    "parameters = [2, 3, 4, 5, 6, 7, 8, 9, 10, 15, 20, 25, 30, 35, 40, 45]\n",
    "silhouette_scores, best_score, best_grid = k_means_optimize_parameter(clustered_data, parameters, metric)\n",
    "plot_silhouette_scores(silhouette_scores, parameters)"
   ]
  },
  {
   "cell_type": "code",
   "execution_count": null,
   "id": "ad9d64da-0025-40ba-812f-0266bbf033de",
   "metadata": {
    "scrolled": true
   },
   "outputs": [],
   "source": [
    "nc = 3\n",
    "cluster_ids, cluster_centroids, array_of_vectors_pca = k_means_pca(clustered_data, nc, metric, n_components=2)\n",
    "colors = ['r','g','b','orange','purple', 'y','cyan','magenta','tab:blue']\n",
    "plot_clusters(array_of_vectors_pca, cluster_ids, colors)\n",
    "##\n",
    "cluster_p_id_dict = {}\n",
    "for i, cl_id in enumerate(cluster_ids):\n",
    "    color = 'cluster_'+str(cl_id)\n",
    "    if color not in cluster_p_id_dict:\n",
    "        cluster_p_id_dict[color] = []\n",
    "    cluster_p_id_dict[color].append((i, p_ids[i]))\n",
    "cluster_p_id_dict"
   ]
  },
  {
   "cell_type": "code",
   "execution_count": null,
   "id": "dafbcf67-7f72-4f6d-9824-a77e292a01bc",
   "metadata": {},
   "outputs": [],
   "source": [
    "clustered_data_df = cma_perc_change_df.copy(deep=True)\n",
    "clustered_data_df.drop(columns=['consistency_10','theil_index'],inplace=True)\n",
    "clustered_data_df['cluster_id'] = cluster_ids\n",
    "for i,centroid in enumerate(cluster_centroids):\n",
    "    centroid = centroid.tolist()\n",
    "    centroid.append('centroid')\n",
    "    centroid.append(i)\n",
    "    clustered_data_df.loc[58+i] = centroid\n",
    "clustered_data_df.to_csv(folder+\"data/results/personalized/Labels/perc_change_personalized-Labels_clustering_cma.csv\", index=False)"
   ]
  },
  {
   "cell_type": "code",
   "execution_count": null,
   "id": "b673740f-a865-4c8d-8aa3-617c0c6945ac",
   "metadata": {},
   "outputs": [],
   "source": [
    "for cl in cluster_p_id_dict:\n",
    "    print(cl,len(cluster_p_id_dict[cl]))"
   ]
  },
  {
   "cell_type": "markdown",
   "id": "665e258c-5ea1-4eb4-a6fd-7f108ce2d257",
   "metadata": {},
   "source": [
    "#### Line plots per cluster"
   ]
  },
  {
   "cell_type": "code",
   "execution_count": null,
   "id": "ff3eb5c1-f757-40c0-8679-9d32bb20a816",
   "metadata": {
    "scrolled": true
   },
   "outputs": [],
   "source": [
    "for cl in cluster_p_id_dict:\n",
    "    title = 'personalized-Labels_Clustering_CMA_Group_{}'.format(cl)\n",
    "    filename = 'lineGraphs_personalized-Labels_Clustering_CMA_Group_{}'.format(cl)\n",
    "    image_type = '.jpeg'\n",
    "    cl_participants = [p_id[1] for p_id in cluster_p_id_dict[cl]]\n",
    "    cl_participants.append(np.nan)\n",
    "    print(cl, cl_participants)\n",
    "    joint_plot_all_participants(title, \n",
    "                                folder+'data/results/personalized-Labels/figures/clustering/', filename, image_type, \n",
    "                                sensitive_attrs, \n",
    "                                group_fair, group_fair_codes, \n",
    "                                indiv_fair, \n",
    "                                fs, \n",
    "                                df_group.loc[df_group['participant_id'].isin(cl_participants)], \n",
    "                                df_indiv.loc[df_indiv['participant_id'].isin(cl_participants)], \n",
    "                                df_acc.loc[df_acc['participant_id'].isin(cl_participants)], \n",
    "                                colors, True, True)"
   ]
  },
  {
   "cell_type": "markdown",
   "id": "cfbe9aef-71b6-4801-8c1f-9aefb5d9d3f1",
   "metadata": {},
   "source": [
    "#### Perc. change bar graphs per cluster"
   ]
  },
  {
   "cell_type": "code",
   "execution_count": null,
   "id": "c5e0c7d9-e1b0-4176-92ba-7ec781139532",
   "metadata": {},
   "outputs": [],
   "source": [
    "## plot all fairness metrics\n",
    "perc_ch_df = cma_perc_change_df\n",
    "cluster_df = clustered_data_df\n",
    "title = 'personalized-Labels_ Cluster {}'\n",
    "file_name = 'percChange_Graphs_personalized-Labels_Clustering_CMA_Group_cl{}.pdf'\n",
    "fPath = folder+'data/results/personalized-Labels/figures/clustering/'\n",
    "##\n",
    "attrs  = ['CODE_GENDER','NAME_FAMILY_STATUS','AGE']\n",
    "attrs_codes = ['Gender','Marit. Stat.','Age']\n",
    "group_f = ['DemographicParityRatio',\n",
    "           'ConditionalDemographicDisparity',\n",
    "           'EqualOpportunityDifference',\n",
    "           'AverageOddsDifference',\n",
    "           'PredictiveParity']\n",
    "group_fair_cod = ['DPR (↑)','CDD (↓)','EOD (↓)','AOD (↓)','PPD (↓)']\n",
    "\n",
    "perc_change_plots_per_cluster(perc_ch_df, cluster_df, title, file_name, fPath, attrs, attrs_codes, group_f, group_fair_cod)"
   ]
  },
  {
   "cell_type": "markdown",
   "id": "ce89358d-ca7a-4193-84b2-a900b6941534",
   "metadata": {},
   "source": [
    "### Perc. change bar graph of all participants"
   ]
  },
  {
   "cell_type": "code",
   "execution_count": null,
   "id": "cb864b86-1f64-4820-8a4a-fa73bdb770ab",
   "metadata": {},
   "outputs": [],
   "source": [
    "## plot perc. change plot for all fairness metrics\n",
    "perc_ch_df = cma_perc_change_df\n",
    "title = 'personalized-Labels'\n",
    "file_name = 'percChange_Graphs_personalized-Labels.pdf'\n",
    "attrs  = ['CODE_GENDER','NAME_FAMILY_STATUS','AGE']\n",
    "attrs_codes = ['Gender','Marit. Stat.','Age']\n",
    "group_f = ['DemographicParityRatio','ConditionalDemographicDisparity','EqualOpportunityDifference',\n",
    "                    'AverageOddsDifference','PredictiveParity','indiv.']\n",
    "group_fair_cod = ['DPR (↑)','CDD (↓)','EOD (↓)','AOD (↓)','PPD (↓)']\n",
    "\n",
    "perc_change_plots(perc_ch_df, title, file_name, \n",
    "                  folder+'data/results/personalized/Labels/figures/', \n",
    "                  attrs, attrs_codes, group_f, group_fair_cod)"
   ]
  },
  {
   "cell_type": "markdown",
   "id": "b249dbfe-8885-4c7e-a955-f3c1603cefc3",
   "metadata": {},
   "source": [
    "### Line (Raw and CMA) plots"
   ]
  },
  {
   "cell_type": "markdown",
   "id": "bddc6b7b-710d-46bb-a1b7-ee0685e29cc6",
   "metadata": {},
   "source": [
    "#### Joint plot for all participants"
   ]
  },
  {
   "cell_type": "code",
   "execution_count": null,
   "id": "6d82e35f-dcb2-4511-9a03-1d6b4cd4e7fc",
   "metadata": {
    "tags": []
   },
   "outputs": [],
   "source": [
    "title = 'personalized-Labels_all'\n",
    "image_type = '.jpeg'\n",
    "filename = 'all_participants'\n",
    "joint_plot_all_participants(title, \n",
    "                            folder+'data/results/personalized/Labels/figures/', filename, image_type, \n",
    "                            sensitive_attrs, \n",
    "                            group_fair, group_fair_codes, \n",
    "                            indiv_fair, \n",
    "                            fs, \n",
    "                            df_group, df_indiv, df_acc, \n",
    "                            colors, True, True)"
   ]
  },
  {
   "cell_type": "markdown",
   "id": "6022afa6-e4a7-4cb9-aa76-2d8f7ed602ab",
   "metadata": {},
   "source": [
    "#### Plots per participant"
   ]
  },
  {
   "cell_type": "code",
   "execution_count": null,
   "id": "263532d1-fd4d-4c38-a091-4223e91335d0",
   "metadata": {
    "scrolled": true
   },
   "outputs": [],
   "source": [
    "title = 'personalized-Labels_{}'\n",
    "image_type = '.jpeg'\n",
    "plots_per_participant(title, \n",
    "                      folder+'data/results/personalized/Labels/figures/', \n",
    "                      image_type, \n",
    "                      sensitive_attrs, \n",
    "                      group_fair, group_fair_codes, \n",
    "                      indiv_fair, \n",
    "                      fs, \n",
    "                      df_group, df_indiv, df_acc, \n",
    "                      colors, True)"
   ]
  },
  {
   "cell_type": "markdown",
   "id": "84a3032a-f215-4fa3-beaf-8b75a6f2d7f0",
   "metadata": {},
   "source": [
    "## Labels ('unfair' only)"
   ]
  },
  {
   "cell_type": "code",
   "execution_count": null,
   "id": "02c104af-d7da-4bbc-aad7-7464abe07902",
   "metadata": {},
   "outputs": [],
   "source": [
    "df_group = pd.read_csv(folder+'data/results/personalized/Labels_Unfair/group_fairness_personalized-Labels_Unfair_with_cma.csv', delimiter=',')\n",
    "df_indiv = pd.read_csv(folder+'data/results/personalized/Labels_Unfair/individual_fairness_personalized-Labels_Unfair_with_cma.csv', delimiter=',')\n",
    "df_acc = pd.read_csv(folder+'data/results/personalized/Labels_Unfair/accuracy_personalized-Labels_Unfair_with_cma.csv', delimiter=',')\n",
    "\n",
    "perc_change_df, cma_perc_change_df = get_percentage_change_IML(df_group, group_fair, \n",
    "                                                               df_indiv, indiv_fair, \n",
    "                                                               sensitive_attrs, fs)\n",
    "perc_change_df.to_csv(folder+\"data/results/personalized/Labels_Unfair/perc_change_personalized-Labels_Unfair_raw.csv\", index=False)\n",
    "cma_perc_change_df.to_csv(folder+\"data/results/personalized/Labels_Unfair/perc_change_personalized-Labels_Unfair_cma.csv\", index=False)\n",
    "\n",
    "p_ids = perc_change_df['participant_id'].tolist()"
   ]
  },
  {
   "cell_type": "markdown",
   "id": "a1492a59-6f30-462e-ab48-987a7c9594ef",
   "metadata": {},
   "source": [
    "### Cluster participants based on perc. change of group fairness measured at last iteration of CMA"
   ]
  },
  {
   "cell_type": "code",
   "execution_count": null,
   "id": "6c095068-fe41-4b63-919b-b9a8c19bf9d5",
   "metadata": {},
   "outputs": [],
   "source": [
    "## df to array - keep only group fairness for clustering\n",
    "perc_change_array = []\n",
    "for i in perc_change_df.index:\n",
    "    perc_change_array.append(perc_change_df.loc[i].tolist()[:-3])\n",
    "cma_perc_change_array = []\n",
    "for i in cma_perc_change_df.index:\n",
    "    cma_perc_change_array.append(cma_perc_change_df.loc[i].tolist()[:-3])\n",
    "\n",
    "##\n",
    "clustered_data = cma_perc_change_array\n",
    "metric = 'mean'"
   ]
  },
  {
   "cell_type": "code",
   "execution_count": null,
   "id": "29ecdab4-c03a-4951-b082-b84ca4f6f0a9",
   "metadata": {},
   "outputs": [],
   "source": [
    "## Search for optimal number of clusters\n",
    "# candidate values for our number of cluster\n",
    "parameters = [2, 3, 4, 5, 6, 7, 8, 9, 10, 15, 20, 25, 30, 35, 40, 45]\n",
    "silhouette_scores, best_score, best_grid = k_means_optimize_parameter(clustered_data, parameters, metric)\n",
    "plot_silhouette_scores(silhouette_scores, parameters)"
   ]
  },
  {
   "cell_type": "code",
   "execution_count": null,
   "id": "f0070540-1b86-476b-80eb-8c047ed136b2",
   "metadata": {
    "scrolled": true
   },
   "outputs": [],
   "source": [
    "nc = 3\n",
    "cluster_ids, cluster_centroids, array_of_vectors_pca = k_means_pca(clustered_data, nc, metric, n_components=2)\n",
    "colors = ['r','g','b','orange','purple', 'y','cyan','magenta','tab:blue']\n",
    "plot_clusters(array_of_vectors_pca, cluster_ids, colors)\n",
    "##\n",
    "cluster_p_id_dict = {}\n",
    "for i, cl_id in enumerate(cluster_ids):\n",
    "    color = 'cluster_'+str(cl_id)\n",
    "    if color not in cluster_p_id_dict:\n",
    "        cluster_p_id_dict[color] = []\n",
    "    cluster_p_id_dict[color].append((i, p_ids[i]))\n",
    "cluster_p_id_dict"
   ]
  },
  {
   "cell_type": "code",
   "execution_count": null,
   "id": "a4a0a5d5-8b90-4546-bd16-3bbed1e3df65",
   "metadata": {},
   "outputs": [],
   "source": [
    "clustered_data_df = cma_perc_change_df.copy(deep=True)\n",
    "clustered_data_df.drop(columns=['consistency_10','theil_index'],inplace=True)\n",
    "clustered_data_df['cluster_id'] = cluster_ids\n",
    "for i,centroid in enumerate(cluster_centroids):\n",
    "    centroid = centroid.tolist()\n",
    "    centroid.append('centroid')\n",
    "    centroid.append(i)\n",
    "    clustered_data_df.loc[58+i] = centroid\n",
    "clustered_data_df.to_csv(folder+\"data/results/personalized/Labels_Unfair/perc_change_personalized-Labels_Unfair_clustering_cma_group.csv\", index=False)\n",
    "# clustered_data_df.to_csv(\"perc_change_IML-Labels_Unfair_clustering_cma_group+indiv.csv\", index=False)"
   ]
  },
  {
   "cell_type": "code",
   "execution_count": null,
   "id": "dd2299e4-f86d-431f-8e43-b77eebbaa72f",
   "metadata": {},
   "outputs": [],
   "source": [
    "for cl in cluster_p_id_dict:\n",
    "    print(cl,len(cluster_p_id_dict[cl]))"
   ]
  },
  {
   "cell_type": "markdown",
   "id": "5f4a286e-e65e-4aff-a09b-b8ba2daa5852",
   "metadata": {},
   "source": [
    "#### Line plots per cluster"
   ]
  },
  {
   "cell_type": "code",
   "execution_count": null,
   "id": "f0bec372-2f8f-4f4f-9dd5-f7b4d1703bf2",
   "metadata": {
    "scrolled": true
   },
   "outputs": [],
   "source": [
    "for cl in cluster_p_id_dict:\n",
    "    title = 'personalized-Labels_Unfair_Clustering_CMA_Group_{}'.format(cl)\n",
    "    filename = 'lineGraphs_personalized-Labels_Unfair_Clustering_CMA_Group_{}'.format(cl)\n",
    "    image_type = '.jpeg'\n",
    "    colors = ['r','g','b','orange','purple', 'y','cyan','magenta','tab:blue']\n",
    "    cl_participants = [p_id[1] for p_id in cluster_p_id_dict[cl]]\n",
    "    cl_participants.append(np.nan)\n",
    "    print(cl, cl_participants)\n",
    "    joint_plot_all_participants(title, \n",
    "                                folder+'data/results/personalized/Labels_Unfair/figures/clustering/', filename, image_type, \n",
    "                                sensitive_attrs, \n",
    "                                group_fair, group_fair_codes, \n",
    "                                indiv_fair, \n",
    "                                fs, \n",
    "                                df_group.loc[df_group['participant_id'].isin(cl_participants)], \n",
    "                                df_indiv.loc[df_indiv['participant_id'].isin(cl_participants)], \n",
    "                                df_acc.loc[df_acc['participant_id'].isin(cl_participants)], \n",
    "                                colors, True, True)"
   ]
  },
  {
   "cell_type": "markdown",
   "id": "1172f19a-c64c-44be-bf0a-283a530de72b",
   "metadata": {},
   "source": [
    "#### Perc. change graphs per cluster"
   ]
  },
  {
   "cell_type": "code",
   "execution_count": null,
   "id": "2f0defcf-4e7c-45af-b4e4-3f9383b718d7",
   "metadata": {
    "scrolled": true
   },
   "outputs": [],
   "source": [
    "## plot all fairness metrics\n",
    "perc_ch_df = cma_perc_change_df\n",
    "cluster_df = clustered_data_df\n",
    "title = 'personalized-Labels_Unfair Cluster {}'\n",
    "file_name = 'percChange_Graphs_personalized-Labels_Unfair_Clustering_CMA_Group_cl{}.pdf'\n",
    "fPath = folder+'data/results/personalized/Labels_Unfair/figures/clustering/'\n",
    "##\n",
    "attrs  = ['CODE_GENDER','NAME_FAMILY_STATUS','AGE']\n",
    "attrs_codes = ['Gender','Marit. Stat.','Age']\n",
    "group_f = ['DemographicParityRatio',\n",
    "           'ConditionalDemographicDisparity',\n",
    "           'EqualOpportunityDifference',                    \n",
    "           'AverageOddsDifference',\n",
    "           'PredictiveParity']\n",
    "group_fair_cod = ['DPR (↑)','CDD (↓)','EOD (↓)','AOD (↓)','PPD (↓)']\n",
    "\n",
    "perc_change_plots_per_cluster(perc_ch_df, cluster_df, title, file_name, fPath, attrs, attrs_codes, group_f, group_fair_cod)"
   ]
  },
  {
   "cell_type": "code",
   "execution_count": null,
   "id": "fecf6c51-9a8d-4388-b42d-d2b4de0a4ada",
   "metadata": {
    "scrolled": true
   },
   "outputs": [],
   "source": [
    "## plot only DPR and AOD\n",
    "perc_ch_df = cma_perc_change_df\n",
    "cluster_df = clustered_data_df\n",
    "title = 'personalized-Labels_Unfair Cluster {}'\n",
    "file_name = 'percChange_Graphs_personalized-Labels_Unfair_Clustering_CMA_Group_cl{}_short.pdf'\n",
    "fPath = folder+'data/results/personalized/Labels_Unfair/figures/clustering/'\n",
    "##\n",
    "attrs  = ['CODE_GENDER','NAME_FAMILY_STATUS','AGE']\n",
    "attrs_codes = ['Gender','Marit. Stat.','Age']\n",
    "group_f = ['DemographicParityRatio','AverageOddsDifference']\n",
    "group_fair_cod = ['DPR (↑)','AOD (↓)']\n",
    "\n",
    "perc_change_plots_per_cluster(perc_ch_df, cluster_df, title, file_name, fPath, attrs, attrs_codes, group_f, group_fair_cod)"
   ]
  },
  {
   "cell_type": "markdown",
   "id": "b8f40dbc-6b25-4a80-ac2b-35771ae5f88a",
   "metadata": {},
   "source": [
    "### Perc. change plot of all participants"
   ]
  },
  {
   "cell_type": "code",
   "execution_count": null,
   "id": "9e0c30ee-e5a5-43f6-9493-6fbc0e858f81",
   "metadata": {},
   "outputs": [],
   "source": [
    "## plot perc. change plot for all fairness metrics\n",
    "perc_ch_df = cma_perc_change_df\n",
    "title = 'personalized-Labels_Unfair'\n",
    "file_name = 'percChange_Graphs_personalized-Labels_Unfair.pdf'\n",
    "fPath = folder+'data/results/personalized/Labels_Unfair/figures/'\n",
    "attrs  = ['CODE_GENDER','NAME_FAMILY_STATUS','AGE']\n",
    "attrs_codes = ['Gender','Marit. Stat.','Age']\n",
    "group_f = ['DemographicParityRatio',\n",
    "           'ConditionalDemographicDisparity',\n",
    "           'EqualOpportunityDifference',\n",
    "            'AverageOddsDifference',\n",
    "           'PredictiveParity','indiv.']\n",
    "group_fair_cod = ['DPR (↑)','CDD (↓)','EOD (↓)','AOD (↓)','PPD (↓)']\n",
    "\n",
    "perc_change_plots(perc_ch_df, title, file_name, fPath, attrs, attrs_codes, group_f, group_fair_cod)"
   ]
  },
  {
   "cell_type": "code",
   "execution_count": null,
   "id": "a728c413-9343-46a5-b690-e12b7503639a",
   "metadata": {},
   "outputs": [],
   "source": [
    "## plot perc. change plot for DPR and AOD\n",
    "perc_ch_df = cma_perc_change_df\n",
    "title = 'personalized-Labels_Unfair'\n",
    "file_name = 'percChange_Graphs_personalized-Labels_Unfair_short.pdf'\n",
    "fPath = folder+'data/results/personalized/Labels_Unfair/figures/'\n",
    "attrs  = ['CODE_GENDER','NAME_FAMILY_STATUS','AGE']\n",
    "attrs_codes = ['Gender','Marit. Stat.','Age']\n",
    "group_f = ['DemographicParityRatio','AverageOddsDifference']\n",
    "group_fair_cod = ['DPR (↑)','AOD (↓)']\n",
    "\n",
    "perc_change_plots(perc_ch_df, title, file_name, fPath, attrs, attrs_codes, group_f, group_fair_cod)"
   ]
  },
  {
   "cell_type": "markdown",
   "id": "bbf79cd7-affb-4eea-a01b-62bf5c7885b5",
   "metadata": {},
   "source": [
    "### Line (Raw and CMA) plots"
   ]
  },
  {
   "cell_type": "markdown",
   "id": "aea364d1-a455-47f8-bf10-59ebb2124604",
   "metadata": {},
   "source": [
    "#### Joint plots for all participants"
   ]
  },
  {
   "cell_type": "code",
   "execution_count": null,
   "id": "ee281d5d-e256-4f7b-ae1b-ed654ab97a0d",
   "metadata": {
    "tags": []
   },
   "outputs": [],
   "source": [
    "title = 'personalized-Labels_Unfair_all'\n",
    "fPath = folder+'data/results/personalized/Labels_Unfair/figures/'\n",
    "image_type = '.jpeg'\n",
    "filename = 'all_participants'\n",
    "joint_plot_all_participants(title, fPath, filename, image_type, \n",
    "                            sensitive_attrs, \n",
    "                            group_fair, group_fair_codes, \n",
    "                            indiv_fair, \n",
    "                            fs, \n",
    "                            df_group, df_indiv, df_acc, \n",
    "                            colors, True, True)"
   ]
  },
  {
   "cell_type": "markdown",
   "id": "8055c62e-5db2-4f66-9891-56938eefde2d",
   "metadata": {},
   "source": [
    "#### Plots per participant"
   ]
  },
  {
   "cell_type": "code",
   "execution_count": null,
   "id": "e0fa8e6a-6bd4-43ef-adb9-163142915ec8",
   "metadata": {
    "scrolled": true
   },
   "outputs": [],
   "source": [
    "title = 'personalized-Labels_Unfair_{}'\n",
    "fPath = folder+'data/results/personalized/Labels_Unfair/figures/'\n",
    "image_type = '.jpeg'\n",
    "plots_per_participant(title, fPath, image_type, \n",
    "                      sensitive_attrs, \n",
    "                      group_fair, group_fair_codes, \n",
    "                      indiv_fair, \n",
    "                      fs, \n",
    "                      df_group, df_indiv, df_acc, \n",
    "                      colors, True)"
   ]
  },
  {
   "cell_type": "markdown",
   "id": "39ea0a0f-83f7-4d23-94fd-e3c8fe3982cf",
   "metadata": {},
   "source": [
    "#### Line graphs for DPR and AOD and 3 protected attributes for participant 608aa18a3c2dfd212a1a77a9 (personalized-Labels_Unfair)"
   ]
  },
  {
   "cell_type": "code",
   "execution_count": null,
   "id": "bea24644-664c-4fbd-a2d6-ab754580f014",
   "metadata": {},
   "outputs": [],
   "source": [
    "group_f = ['DemographicParityRatio','AverageOddsDifference']\n",
    "group_fair_cod = ['DPR','AOD']\n",
    "colors = ['r','g','b','orange','purple', 'y','cyan','magenta','tab:blue']\n",
    "indiv_f = []\n",
    "title = 'personalized-Labels_Unfair_{}'\n",
    "fPath = folder+'data/results/personalized/Labels_Unfair/figures/'\n",
    "image_type = '.pdf'\n",
    "line_graphs_of_participant(title, fPath, image_type, \n",
    "                      sensitive_attrs, \n",
    "                      group_f, group_fair_cod, \n",
    "                      indiv_f, \n",
    "                      fs, \n",
    "                      df_group, df_indiv, df_acc, \n",
    "                      colors, True, '608aa18a3c2dfd212a1a77a9')"
   ]
  },
  {
   "cell_type": "markdown",
   "id": "6d1e7d1a-3fc4-4e09-9565-e6221e74ec97",
   "metadata": {},
   "source": [
    "## Labels+Weights ('fair'+'unfair')"
   ]
  },
  {
   "cell_type": "code",
   "execution_count": null,
   "id": "684db604-7761-4793-8b5e-7ea8d8323299",
   "metadata": {},
   "outputs": [],
   "source": [
    "df_group = pd.read_csv(folder+'data/results/personalized/Labels+Weights/group_fairness_personalized-Labels+Weights_with_cma.csv', delimiter=',')\n",
    "df_indiv = pd.read_csv(folder+'data/results/personalized/Labels+Weights/individual_fairness_personalized-Labels+Weights_with_cma.csv', delimiter=',')\n",
    "df_acc = pd.read_csv(folder+'data/results/personalized/Labels+Weights/accuracy_personalized-Labels+Weights_with_cma.csv', delimiter=',')\n",
    "\n",
    "perc_change_df, cma_perc_change_df = get_percentage_change_IML(df_group, group_fair, \n",
    "                                                               df_indiv, indiv_fair, \n",
    "                                                               sensitive_attrs, fs)\n",
    "perc_change_df.to_csv(folder+\"data/results/personalized/Labels+Weights/perc_change_personalized-Labels+Weights_raw.csv\", index=False)\n",
    "cma_perc_change_df.to_csv(folder+\"data/results/personalized/Labels+Weights/perc_change_personalized-Labels+Weights_cma.csv\", index=False)\n",
    "\n",
    "p_ids = perc_change_df['participant_id'].tolist()"
   ]
  },
  {
   "cell_type": "markdown",
   "id": "121621a6-cd61-474e-8ec0-5ba2b5dc70fc",
   "metadata": {},
   "source": [
    "### Cluster participants based on perc. change of group fairness measured at last iteration of CMA"
   ]
  },
  {
   "cell_type": "code",
   "execution_count": null,
   "id": "7052169e-754a-4412-b8cd-c7977b3da3c4",
   "metadata": {},
   "outputs": [],
   "source": [
    "## df to array - keep only group fairness for clustering\n",
    "perc_change_array = []\n",
    "for i in perc_change_df.index:\n",
    "    perc_change_array.append(perc_change_df.loc[i].tolist()[:-3])\n",
    "cma_perc_change_array = []\n",
    "for i in cma_perc_change_df.index:\n",
    "    cma_perc_change_array.append(cma_perc_change_df.loc[i].tolist()[:-3])\n",
    "\n",
    "##\n",
    "clustered_data = cma_perc_change_array\n",
    "metric = 'mean'"
   ]
  },
  {
   "cell_type": "code",
   "execution_count": null,
   "id": "642f32f6-90c9-4563-a014-06a3ffb257d7",
   "metadata": {},
   "outputs": [],
   "source": [
    "## Search for optimal number of clusters\n",
    "# candidate values for our number of cluster\n",
    "parameters = [2, 3, 4, 5, 6, 7, 8, 9, 10, 15, 20, 25, 30, 35, 40, 45]\n",
    "silhouette_scores, best_score, best_grid = k_means_optimize_parameter(clustered_data, parameters, metric)\n",
    "plot_silhouette_scores(silhouette_scores, parameters)"
   ]
  },
  {
   "cell_type": "code",
   "execution_count": null,
   "id": "bfe54ebd-b3d9-4978-bfa3-888166bd04ca",
   "metadata": {
    "scrolled": true
   },
   "outputs": [],
   "source": [
    "nc = 3\n",
    "cluster_ids, cluster_centroids, array_of_vectors_pca = k_means_pca(clustered_data, nc, metric, n_components=2)\n",
    "colors = ['r','g','b','orange','purple', 'y','cyan','magenta','tab:blue']\n",
    "plot_clusters(array_of_vectors_pca, cluster_ids, colors)\n",
    "##\n",
    "cluster_p_id_dict = {}\n",
    "for i, cl_id in enumerate(cluster_ids):\n",
    "    color = 'cluster_'+str(cl_id)\n",
    "    if color not in cluster_p_id_dict:\n",
    "        cluster_p_id_dict[color] = []\n",
    "    cluster_p_id_dict[color].append((i, p_ids[i]))\n",
    "cluster_p_id_dict"
   ]
  },
  {
   "cell_type": "code",
   "execution_count": null,
   "id": "e8c163ae-592c-4e8e-8c74-3cc62ca8a71a",
   "metadata": {},
   "outputs": [],
   "source": [
    "clustered_data_df = cma_perc_change_df.copy(deep=True)\n",
    "clustered_data_df.drop(columns=['consistency_10','theil_index'],inplace=True)\n",
    "clustered_data_df['cluster_id'] = cluster_ids\n",
    "for i,centroid in enumerate(cluster_centroids):\n",
    "    centroid = centroid.tolist()\n",
    "    centroid.append('centroid')\n",
    "    centroid.append(i)\n",
    "    clustered_data_df.loc[58+i] = centroid\n",
    "clustered_data_df.to_csv(folder+\"data/results/personalized/Labels+Weights/perc_change_personalized-Labels+Weights_clustering_cma_group.csv\", index=False)"
   ]
  },
  {
   "cell_type": "code",
   "execution_count": null,
   "id": "1b71fef9-935c-48ca-a9f1-8b91fba76fb3",
   "metadata": {},
   "outputs": [],
   "source": [
    "for cl in cluster_p_id_dict:\n",
    "    print(cl,len(cluster_p_id_dict[cl]))"
   ]
  },
  {
   "cell_type": "markdown",
   "id": "3786b5dd-0f11-475f-8ba0-442f0a061d3c",
   "metadata": {},
   "source": [
    "#### Line plots per cluster"
   ]
  },
  {
   "cell_type": "code",
   "execution_count": null,
   "id": "904af109-ca50-4945-928e-1e2b1316a176",
   "metadata": {
    "scrolled": true
   },
   "outputs": [],
   "source": [
    "for cl in cluster_p_id_dict:\n",
    "    title = 'personalized-Labels+Weights_CMA_{}'.format(cl)\n",
    "    fPath = folder+'data/results/personalized/Labels+Weights/figures/clustering/'\n",
    "    filename = cl\n",
    "    image_type = '.jpeg'\n",
    "    cl_participants = [p_id[1] for p_id in cluster_p_id_dict[cl]]\n",
    "    cl_participants.append(np.nan)\n",
    "    print(cl, cl_participants)\n",
    "    joint_plot_all_participants(title, \n",
    "                                fPath, filename, image_type, \n",
    "                                sensitive_attrs, \n",
    "                                group_fair, group_fair_codes, \n",
    "                                indiv_fair, \n",
    "                                fs, \n",
    "                                df_group.loc[df_group['participant_id'].isin(cl_participants)], \n",
    "                                df_indiv.loc[df_indiv['participant_id'].isin(cl_participants)], \n",
    "                                df_acc.loc[df_acc['participant_id'].isin(cl_participants)], \n",
    "                                colors, True, True)"
   ]
  },
  {
   "cell_type": "markdown",
   "id": "a8cbcfe6-a858-48f4-b07d-fec507997e3c",
   "metadata": {},
   "source": [
    "#### Perc. change graphs per cluster"
   ]
  },
  {
   "cell_type": "code",
   "execution_count": null,
   "id": "a2d3c99c-9f23-47c1-93a8-34ee882dd05c",
   "metadata": {},
   "outputs": [],
   "source": [
    "## plot all fairness metrics\n",
    "perc_ch_df = cma_perc_change_df\n",
    "cluster_df = clustered_data_df\n",
    "title = 'personalized-Labels+Weights Cluster {}'\n",
    "file_name = 'percChange_Graphs_personalized-Labels+Weights_Clustering_CMA_Group_cl{}.pdf'\n",
    "fPath = folder+'data/results/personalized/Labels+Weights/figures/clustering/'\n",
    "##\n",
    "attrs  = ['CODE_GENDER','NAME_FAMILY_STATUS','AGE']\n",
    "attrs_codes = ['Gender','Marit. Stat.','Age']\n",
    "group_f = ['DemographicParityRatio','ConditionalDemographicDisparity','EqualOpportunityDifference',\n",
    "                    'AverageOddsDifference','PredictiveParity']\n",
    "group_fair_cod = ['DPR (↑)','CDD (↓)','EOD (↓)','AOD (↓)','PPD (↓)']\n",
    "\n",
    "perc_change_plots_per_cluster(perc_ch_df, cluster_df, title, file_name, fPath, attrs, attrs_codes, group_f, group_fair_cod)"
   ]
  },
  {
   "cell_type": "markdown",
   "id": "99c3b959-bfdc-4147-bba9-ed41ca03fbd3",
   "metadata": {},
   "source": [
    "### Perc. change plot of all participants"
   ]
  },
  {
   "cell_type": "code",
   "execution_count": null,
   "id": "5aec8386-dd5a-4238-ba08-5ec7ef597bdc",
   "metadata": {},
   "outputs": [],
   "source": [
    "## plot perc. change plot for all fairness metrics\n",
    "perc_ch_df = cma_perc_change_df\n",
    "title = 'personalized-Labels+Weights'\n",
    "file_name = 'percChange_Graphs_personalized-Labels+Weights.pdf'\n",
    "fPath = folder+'data/results/personalized/Labels+Weights/figures/'\n",
    "attrs  = ['CODE_GENDER','NAME_FAMILY_STATUS','AGE']\n",
    "attrs_codes = ['Gender','Marit. Stat.','Age']\n",
    "group_f = ['DemographicParityRatio','ConditionalDemographicDisparity','EqualOpportunityDifference',\n",
    "                    'AverageOddsDifference','PredictiveParity','indiv.']\n",
    "group_fair_cod = ['DPR (↑)','CDD (↓)','EOD (↓)','AOD (↓)','PPD (↓)']\n",
    "\n",
    "perc_change_plots(perc_ch_df, title, file_name, fPath, attrs, attrs_codes, group_f, group_fair_cod)"
   ]
  },
  {
   "cell_type": "markdown",
   "id": "ed3bb3d5-0c6f-4b2f-b431-6982d20e36b6",
   "metadata": {},
   "source": [
    "### Line (Raw and CMA) plots"
   ]
  },
  {
   "cell_type": "markdown",
   "id": "f41ca9cf-4bb9-470f-bcac-363eaf0fd527",
   "metadata": {},
   "source": [
    "#### Joint plots for all participants"
   ]
  },
  {
   "cell_type": "code",
   "execution_count": null,
   "id": "3e7b459e-e797-4bef-bf59-25306b0d8bf9",
   "metadata": {
    "tags": []
   },
   "outputs": [],
   "source": [
    "title = 'personalized-Labels+Weights_all'\n",
    "fPath = folder+'data/results/personalized/Labels+Weights/figures/'\n",
    "image_type = '.jpeg'\n",
    "filename = 'all_participants'\n",
    "joint_plot_all_participants(title, fPath, filename, image_type, \n",
    "                            sensitive_attrs, \n",
    "                            group_fair, group_fair_codes, \n",
    "                            indiv_fair, \n",
    "                            fs, \n",
    "                            df_group, df_indiv, df_acc, \n",
    "                            colors, True, True)"
   ]
  },
  {
   "cell_type": "markdown",
   "id": "039e12cb-ae95-4a40-ae5e-76d45e454962",
   "metadata": {},
   "source": [
    "#### Plots per participant"
   ]
  },
  {
   "cell_type": "code",
   "execution_count": null,
   "id": "ffe5baf9-55a0-432e-baaf-39f2715aae3e",
   "metadata": {
    "scrolled": true
   },
   "outputs": [],
   "source": [
    "title = 'personalized-Labels+Weights_{}'\n",
    "fPath = folder+'data/results/personalized/Labels+Weights/figures/'\n",
    "image_type = '.jpeg'\n",
    "plots_per_participant(title, fPath, image_type, \n",
    "                      sensitive_attrs, \n",
    "                      group_fair, group_fair_codes, \n",
    "                      indiv_fair, \n",
    "                      fs, \n",
    "                      df_group, df_indiv, df_acc, \n",
    "                      colors, True)"
   ]
  }
 ],
 "metadata": {
  "kernelspec": {
   "display_name": "Python 3 (ipykernel)",
   "language": "python",
   "name": "python3"
  },
  "language_info": {
   "codemirror_mode": {
    "name": "ipython",
    "version": 3
   },
   "file_extension": ".py",
   "mimetype": "text/x-python",
   "name": "python",
   "nbconvert_exporter": "python",
   "pygments_lexer": "ipython3",
   "version": "3.12.3"
  }
 },
 "nbformat": 4,
 "nbformat_minor": 5
}
