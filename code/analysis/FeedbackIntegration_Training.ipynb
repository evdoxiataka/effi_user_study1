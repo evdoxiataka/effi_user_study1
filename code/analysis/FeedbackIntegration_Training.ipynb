{
 "cells": [
  {
   "cell_type": "code",
   "execution_count": 1,
   "id": "3250460b-f98d-451d-a50a-4874ba69e972",
   "metadata": {
    "tags": []
   },
   "outputs": [],
   "source": [
    "import numpy as np\n",
    "import pandas as pd\n",
    "from collections import Counter\n",
    "\n",
    "########################SET folder to path of code directory in the project folder#####################\n",
    "## SET PATH to code directory in the project folder\n",
    "code_path = \"C:\\\\evdoxiataka\\\\effi_user_study1\\\\code\"\n",
    "import sys  \n",
    "sys.path.insert(1, code_path)\n",
    "\n",
    "########################SET folder to project directory path#####################\n",
    "folder= \"C:\\\\evdoxiataka\\\\effi_user_study1\\\\\"\n",
    "\n",
    "from utils.data_loading import get_all_participants_logs, get_all_participants_feedback\n",
    "from utils.utils import attributes_names_mapping, manipulate_categ_values, binning\n",
    "from utils.training import oneoff_training_evaluation, iml_training_evaluation\n",
    "\n",
    "import warnings\n",
    "from pandas.errors import SettingWithCopyWarning\n",
    "warnings.simplefilter(action=\"ignore\", category=SettingWithCopyWarning)\n",
    "\n",
    "sensitive_attrs = list(attributes_names_mapping.keys())\n",
    "fs = 0.5"
   ]
  },
  {
   "cell_type": "markdown",
   "id": "e860ce5d",
   "metadata": {},
   "source": [
    "## Data loading"
   ]
  },
  {
   "cell_type": "code",
   "execution_count": 2,
   "id": "e300638e-3340-4ccc-ab9c-05cdfea959a3",
   "metadata": {
    "tags": []
   },
   "outputs": [],
   "source": [
    "## load training, validation and test sets\n",
    "train_df_train = pd.read_csv(folder+'data/processed_data/train_df_train.csv', delimiter=',')\n",
    "train_df_test = pd.read_csv(folder+'data/processed_data/train_df_test.csv', delimiter=',')\n",
    "test_df = pd.read_csv(folder+'data/processed_data/test_df_final.csv', delimiter=',')\n",
    "\n",
    "X_train_original = train_df_train.loc[:, ~train_df_train.columns.isin(['TARGET', 'SK_ID_CURR'])]\n",
    "y_train_original = train_df_train.loc[:, train_df_train.columns == 'TARGET']\n",
    "X_test_original = train_df_test.loc[:, ~train_df_test.columns.isin(['TARGET', 'SK_ID_CURR'])] ## dataset used for accuracy\n",
    "y_test_original = train_df_test.loc[:, train_df_test.columns == 'TARGET']\n",
    "\n",
    "## attributes used in training in correct order\n",
    "training_attr_in_order = X_train_original.columns.tolist()\n",
    "training_attr_descriptive_in_order = [attributes_names_mapping[attr[:-3]] if attr.endswith('_LE') else attributes_names_mapping[attr] for attr in training_attr_in_order]\n",
    "\n",
    "## load original test set to be used for fairness metrics\n",
    "train_df = pd.read_csv(folder+'data/processed_data/train_df.csv', delimiter=',')\n",
    "test_df_app_ids = train_df_test['SK_ID_CURR'].tolist()\n",
    "train_df_test_or = train_df[train_df['SK_ID_CURR'].isin(test_df_app_ids)]\n",
    "train_df_test_or = train_df_test_or.reset_index().set_index('SK_ID_CURR').loc[test_df_app_ids].reset_index().set_index('index').rename_axis(None)\n",
    "manipulate_categ_values(train_df_test_or)\n",
    "train_df_test_bin = binning(train_df_test_or, train_df_test)\n",
    "\n",
    "## load applications' data shown to participants through the UI\n",
    "applications_df = pd.read_csv(folder+\"data/processed_data/Applications_Converted.csv\", index_col=0)\n",
    "\n",
    "## LOAD FEEDBACK\n",
    "prolific_export_filePath = folder+\"data\\\\collected_data\\\\prolific_export_demographics.csv\"\n",
    "interaction_logs_filePath = folder+\"data\\\\collected_data\\\\LOGS\\\\\"\n",
    "logs_df = get_all_participants_logs(prolific_export_filePath, interaction_logs_filePath)\n",
    "feedback_df = get_all_participants_feedback(logs_df)\n",
    "feedback_df.drop(columns = \"Lower bound\",inplace = True)\n",
    "feedback_df.drop(columns = \"Upper bound\",inplace = True)\n",
    "\n",
    "## set new proposed distribution of feature weights in Value column\n",
    "## get initial distribution\n",
    "feature_weights_dict = {}\n",
    "for i in range(49):\n",
    "    feature_weights_dict[applications_df['ft_name_'+str(i)].tolist()[0]] = applications_df['ft_weight_'+str(i)].tolist()[0]\n",
    "feature_weights = []\n",
    "for feat in training_attr_descriptive_in_order:\n",
    "    feature_weights.append(feature_weights_dict[feat])\n",
    "## calculate new distribution\n",
    "all_new_values = []\n",
    "pred_decision = []\n",
    "for i in feedback_df.index :\n",
    "    app_id = feedback_df['App ID'].loc[i]\n",
    "    p_id = feedback_df['ID'].loc[i]\n",
    "    value = feedback_df['Value'].loc[i]\n",
    "    ## PREDICTED DECISION\n",
    "    pred_decision.append(applications_df[applications_df[\"Application_id\"] == app_id][\"Predicted_decision\"].tolist()[0])\n",
    "    ##\n",
    "    new_value = feature_weights.copy()\n",
    "    if value:\n",
    "        for v_dict in value:\n",
    "            attr = v_dict['attribute']\n",
    "            new_value[training_attr_descriptive_in_order.index(attr)]=np.float64(v_dict['value'])\n",
    "    else:\n",
    "        new_value = []\n",
    "    ## normalize\n",
    "    new_value = [v/sum(new_value) for v in new_value]\n",
    "    # if sum(new_value) >1.0:\n",
    "    #     print(sum(new_value), max(new_value),min(new_value))\n",
    "    all_new_values.append(new_value)    \n",
    "feedback_df['Value'] = all_new_values\n",
    "feedback_df['PredictedDecision'] = pred_decision\n",
    "\n",
    "## FEEDBACK without duplicate instances of same application per participant\n",
    "feedback_df_no_app_dupl_per_part = pd.DataFrame(feedback_df)\n",
    "for p_id in feedback_df_no_app_dupl_per_part['ID'].unique().tolist():\n",
    "    p_id_feedbck_df = feedback_df_no_app_dupl_per_part[feedback_df_no_app_dupl_per_part['ID']==p_id]    \n",
    "    apps_counts = dict(Counter(p_id_feedbck_df['App ID']))\n",
    "    for app,v in apps_counts.items():\n",
    "        if v>1:\n",
    "            idxs_to_drop = p_id_feedbck_df[p_id_feedbck_df['App ID']==app].index.tolist()[:-1]\n",
    "            feedback_df_no_app_dupl_per_part.drop(idxs_to_drop,inplace=True)"
   ]
  },
  {
   "cell_type": "markdown",
   "id": "4743a78d-c943-43d1-b413-8853d6e3ad19",
   "metadata": {},
   "source": [
    "## TRAINING"
   ]
  },
  {
   "cell_type": "markdown",
   "id": "2f4d3089-43fb-403e-b34b-ccf0e2d1eeb4",
   "metadata": {},
   "source": [
    "### Global Model - Labels ('fair'+'unfair')\n",
    "The XGboost classifier is retrained. The feedback instances of all participants are added into the training set all at once.\n",
    "\n",
    "**All the 'fair' and 'unfair'** labelled instances by participants are used. \n",
    "\n",
    "We set fs = 0.5."
   ]
  },
  {
   "cell_type": "code",
   "execution_count": 3,
   "id": "c4206512-703c-4911-9667-1a6e8a36652d",
   "metadata": {},
   "outputs": [
    {
     "name": "stdout",
     "output_type": "stream",
     "text": [
      "participant 0\n",
      "predictedDecision Accepted\n",
      "feed_label fair\n"
     ]
    }
   ],
   "source": [
    "oneoff_training_evaluation(X_train_original, y_train_original,\n",
    "                            X_test_original, y_test_original,\n",
    "                           train_df_test_bin, test_df,\n",
    "                            sensitive_attrs, fs, feedback_df,\n",
    "                           False, False,\n",
    "                           folder+\"data/results/global/Labels/\", 'global-Labels')"
   ]
  },
  {
   "cell_type": "markdown",
   "id": "16e23743-b41e-48e2-9b39-035f2f06ace8",
   "metadata": {},
   "source": [
    "### Global Model - Labels ('unfair')\n",
    "The XGboost classifier is retrained. The feedback instances of all participants are added into the training set all at once.\n",
    "\n",
    "**Only the 'unfair'** labelled instances by participants are used. \n",
    "\n",
    "We set fs = 0.5."
   ]
  },
  {
   "cell_type": "code",
   "execution_count": null,
   "id": "b9f83c1c-eed6-4efc-a038-053e10973a06",
   "metadata": {},
   "outputs": [],
   "source": [
    "oneoff_training_evaluation(X_train_original, y_train_original,\n",
    "                            X_test_original, y_test_original,\n",
    "                           train_df_test_bin, test_df,\n",
    "                            sensitive_attrs, fs, feedback_df,\n",
    "                           True, False,\n",
    "                           folder+\"data/results/global/Labels_Unfair/\", 'global-Labels_Unfair')"
   ]
  },
  {
   "cell_type": "markdown",
   "id": "ea12afb6-95cf-4d5e-a4e4-324487aed0c2",
   "metadata": {},
   "source": [
    "### Global Model - Labels+Weights ('fair'+'unfair')\n",
    "The XGboost classifier is retrained. The feedback instances of all participants are added into the training set all at once.\n",
    "\n",
    "**All the 'fair' and 'unfair'** labelled instances by participants **with proposed weight changes** are used. \n",
    "\n",
    "We set fs = 0.5."
   ]
  },
  {
   "cell_type": "code",
   "execution_count": null,
   "id": "27b172d9-7a52-425d-8015-43aef9719ae4",
   "metadata": {},
   "outputs": [],
   "source": [
    "oneoff_training_evaluation(X_train_original, y_train_original,\n",
    "                            X_test_original, y_test_original,\n",
    "                           train_df_test_bin, test_df,\n",
    "                            sensitive_attrs, fs, feedback_df,\n",
    "                           False, True, \n",
    "                           folder+\"data/results/global/Labels+Weights/\", 'global-Labels+Weights')"
   ]
  },
  {
   "cell_type": "markdown",
   "id": "8a0c373e-ad92-476d-88bc-e34ffe17e8af",
   "metadata": {},
   "source": [
    "### Personalized Models - Labels ('fair'+'unfair')\n",
    "58 XGboost classifiers will be trained, one for each participant independently. The feedback instances of each participant will be added to the training set incrementally, one at a time, in increasing timestamps (the previous feedback instances of a participant remain in the training set as we add a new one). The XGboost classifier is retrained from scratch in every incremental step (iteration). \n",
    "\n",
    "**All the 'fair' and 'unfair'** labelled instances by participants are used. \n",
    "\n",
    "We set fs = 0.5."
   ]
  },
  {
   "cell_type": "code",
   "execution_count": null,
   "id": "fbe603f0-f324-40b9-b35a-8dc0e9bc3cd4",
   "metadata": {},
   "outputs": [],
   "source": [
    "iml_training_evaluation(X_train_original, y_train_original,\n",
    "                        X_test_original, y_test_original,\n",
    "                        train_df_test_bin, test_df,\n",
    "                        sensitive_attrs, fs, feedback_df,\n",
    "                        False, False, \n",
    "                        folder+\"data/results/personalized/Labels/\", 'personalized-Labels')"
   ]
  },
  {
   "cell_type": "markdown",
   "id": "da2d0cbd-49e1-4463-81e7-431ebf13c9a3",
   "metadata": {},
   "source": [
    "### Personalized Models - Labels ('unfair')\n",
    "58 XGboost classifiers will be trained, one for each participant independently. The feedback instances of each participant will be added to the training set incrementally, one at a time, in increasing timestamps (the previous feedback instances of a participant remain in the training set as we add a new one). The XGboost classifier is retrained from scratch in every incremental step (iteration). \n",
    "\n",
    "**Only the 'unfair'** labelled instances by participants are used.\n",
    "\n",
    "We set fs = 0.5."
   ]
  },
  {
   "cell_type": "code",
   "execution_count": null,
   "id": "c5130ceb-3cbf-4474-b46d-29b6063e3c28",
   "metadata": {},
   "outputs": [],
   "source": [
    "iml_training_evaluation(X_train_original, y_train_original,\n",
    "                        X_test_original, y_test_original,\n",
    "                        train_df_test_bin, test_df,\n",
    "                        sensitive_attrs, fs, feedback_df,\n",
    "                        True, False, \n",
    "                        folder+\"data/results/personalized/Labels_Unfair/\", 'personalized-Labels_Unfair')"
   ]
  },
  {
   "cell_type": "markdown",
   "id": "7e58f604-72d9-42d0-a8ae-7657a19a5e53",
   "metadata": {},
   "source": [
    "### Personalized Models - Labels+Weights ('fair'+'unfair')\n",
    "The feedback instances of each participant will be added to the training set incrementally, one at a time, in increasing timestamps (the previous feedback instances of a participant remain in the training set as we add a new one). The XGboost classifier is retrained from scratch in every incremental step (iteration).\n",
    "\n",
    "**All the 'fair' and 'unfair'** labelled instances with proposed weight changes are used. Participants weights of each instance are used to set feature weights of the training.\n",
    "\n",
    "We set fs = 0.5."
   ]
  },
  {
   "cell_type": "code",
   "execution_count": null,
   "id": "f00ad845-e1d2-427d-aa6a-f6a7f041122b",
   "metadata": {},
   "outputs": [],
   "source": [
    "iml_training_evaluation(X_train_original, y_train_original,\n",
    "                        X_test_original, y_test_original,\n",
    "                        train_df_test_bin, test_df,\n",
    "                        sensitive_attrs, fs, feedback_df,\n",
    "                        False, True, \n",
    "                        folder+\"data/results/personalized/Labels+Weights/\", 'personalized-Labels+Weights')"
   ]
  }
 ],
 "metadata": {
  "kernelspec": {
   "display_name": "Python 3 (ipykernel)",
   "language": "python",
   "name": "python3"
  },
  "language_info": {
   "codemirror_mode": {
    "name": "ipython",
    "version": 3
   },
   "file_extension": ".py",
   "mimetype": "text/x-python",
   "name": "python",
   "nbconvert_exporter": "python",
   "pygments_lexer": "ipython3",
   "version": "3.11.4"
  }
 },
 "nbformat": 4,
 "nbformat_minor": 5
}
