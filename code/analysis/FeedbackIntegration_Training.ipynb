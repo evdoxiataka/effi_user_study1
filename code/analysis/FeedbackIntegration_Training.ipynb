{
 "cells": [
  {
   "cell_type": "code",
   "execution_count": null,
   "id": "3250460b-f98d-451d-a50a-4874ba69e972",
   "metadata": {
    "tags": []
   },
   "outputs": [],
   "source": [
    "# import numpy as np\n",
    "# import pandas as pd\n",
    "# import json\n",
    "\n",
    "# ## SET PATH to code directory in the project folder\n",
    "# code_path = 'C:\\\\evdoxiataka\\\\effi_user_study1\\\\code'\n",
    "# import sys  \n",
    "# sys.path.insert(1, code_path)\n",
    "\n",
    "# ## SET folder to project directory\n",
    "# folder=\"C:\\\\evdoxiataka\\\\effi_user_study1\\\\\"\n",
    "\n",
    "# from utils.utils import *\n",
    "# from utils.training import oneoff_training_evaluation, iml_training_evaluation\n",
    "# from utils.visualization import *\n",
    "\n",
    "# import matplotlib\n",
    "# import matplotlib.pyplot as plt\n",
    "\n",
    "# import warnings\n",
    "# from pandas.errors import SettingWithCopyWarning\n",
    "# warnings.simplefilter(action=\"ignore\", category=SettingWithCopyWarning)\n",
    "\n",
    "# ## Any of the training set's attributes could be added here, protected or not, sensitive or not.\n",
    "# ## We evaluated fairness for the following attributes\n",
    "# sensitive_attrs = [\"CODE_GENDER\",\n",
    "#                    \"NAME_FAMILY_STATUS\",\n",
    "#                    \"AGE\",\n",
    "#                    \"REGION_RATING_CLIENT\",\n",
    "#                    \"REGION_RATING_CLIENT_W_CITY\",\n",
    "#                    \"OBS_30_CNT_SOCIAL_CIRCLE\",\n",
    "#                    \"DEF_30_CNT_SOCIAL_CIRCLE\",\n",
    "#                    \"OBS_60_CNT_SOCIAL_CIRCLE\",\n",
    "#                    \"DEF_60_CNT_SOCIAL_CIRCLE\"]\n",
    "# fs = 0.5\n",
    "\n",
    "# colors = ['r','g','b','orange','purple', 'y','cyan','magenta','tab:blue']\n",
    "\n",
    "import numpy as np\n",
    "import pandas as pd\n",
    "import ast\n",
    "\n",
    "########################SET folder to path of code directory in the project folder#####################\n",
    "## SET PATH to code directory in the project folder\n",
    "code_path = \"C:\\\\evdoxiataka\\\\effi_user_study1\\\\code\"\n",
    "import sys  \n",
    "sys.path.insert(1, code_path)\n",
    "\n",
    "########################SET folder to project directory path#####################\n",
    "folder= \"C:\\\\evdoxiataka\\\\effi_user_study1\\\\\"\n",
    "\n",
    "from utils.data_loading import get_feedback_df, get_training\n",
    "from utils.utils import attributes_names_mapping\n",
    "from utils.training import oneoff_training_evaluation, iml_training_evaluation\n",
    "\n",
    "import warnings\n",
    "from pandas.errors import SettingWithCopyWarning\n",
    "warnings.simplefilter(action=\"ignore\", category=SettingWithCopyWarning)\n",
    "\n",
    "sensitive_attrs = list(attributes_names_mapping.keys())\n",
    "fs = 0.5"
   ]
  },
  {
   "cell_type": "markdown",
   "id": "e860ce5d",
   "metadata": {},
   "source": [
    "## Data loading"
   ]
  },
  {
   "cell_type": "code",
   "execution_count": null,
   "id": "e300638e-3340-4ccc-ab9c-05cdfea959a3",
   "metadata": {
    "tags": []
   },
   "outputs": [],
   "source": [
    "## load training and test set\n",
    "train_df_train = pd.read_csv(folder+'data/processed_data/train_df_train.csv', delimiter=',')\n",
    "train_df_test = pd.read_csv(folder+'data/processed_data/train_df_test.csv', delimiter=',')\n",
    "\n",
    "X_train_original = train_df_train.loc[:, ~train_df_train.columns.isin(['TARGET', 'SK_ID_CURR'])]\n",
    "y_train_original = train_df_train.loc[:, train_df_train.columns == 'TARGET']\n",
    "X_test_original = train_df_test.loc[:, ~train_df_test.columns.isin(['TARGET'])] ## dataset used for accuracy\n",
    "y_test_original = train_df_test.loc[:, train_df_test.columns == 'TARGET']\n",
    "\n",
    "## load original test set to be used for fairness metrics\n",
    "train_df = pd.read_csv(folder+'data/processed_data/train_df.csv', delimiter=',')\n",
    "train_df_test_or = train_df[train_df['SK_ID_CURR'].isin(train_df_test['SK_ID_CURR'].tolist())]\n",
    "lst = train_df_test['SK_ID_CURR'].tolist()\n",
    "train_df_test_or = train_df_test_or.reset_index().set_index('SK_ID_CURR').loc[lst].reset_index().set_index('index').rename_axis(None)\n",
    "manipulate_categ_values(train_df_test_or)\n",
    "train_df_test_bin = binning(train_df_test_or, train_df_test)\n",
    "\n",
    "## load application data shown to participants through the UI\n",
    "applications_df = pd.read_csv(folder+\"data/processed_data/Applications_Converted.csv\", index_col=0)\n",
    "\n",
    "## load test data used to predict labels before shown to participants\n",
    "test_df = pd.read_csv(folder+'data/processed_data/test_df_final.csv', delimiter=',')\n",
    "# test_df = test_df.loc[:, ~test_df.columns.isin(['SK_ID_CURR'])]\n",
    "\n",
    "## load participants' feedback\n",
    "feedback_df = pd.read_csv(folder+'data/processed_data/Feedback_final.csv', delimiter=',', index_col=0)\n",
    "feedback_df.drop(columns = \"Lower bound\",inplace = True)\n",
    "feedback_df.drop(columns = \"Upper bound\",inplace = True)\n",
    "feedback_df = feedback_df[feedback_df[\"Function\"] == \"select_reject_application\"]\n",
    "\n",
    "## get list of weights before feedback integration in right order\n",
    "features_in_trainingOrder = ['Number of children', 'Income', 'Loan Credit amount ', 'Loan annuity',\n",
    "       'Goods Price', \"Region's Normalized Population\", 'Age',\n",
    "       'Years in current employment', 'Years since changing registration', 'Years since changing  identity document',\n",
    "       'Has Mobile', 'Has Employee Phone', 'Has Work Phone', 'Mobile reachable',\n",
    "       'Has Phone', 'Has email', 'Number of family members', \"Region's Rating\",\n",
    "       'Region & City Rating', 'Application Hour',\n",
    "       'Contact address located in Registration region', 'Work address located in Registration region',\n",
    "       'Contact address located in work region', 'Contact city in Registration city',\n",
    "       'Work address in Registration city', 'Contact city in work city',\n",
    "       'Number of times social circle at default risk for 30 days', 'Number of times social circle defaulted on loan for 30 days',\n",
    "       'Number of times social circle were at risk to default on loan for 60 days', 'Number of times social circle defaulted on loan for 60 days',\n",
    "       'Years since changing phone', 'Number of Credit Bureau enquiries 1 hour before application',\n",
    "       'Number of Credit Bureau enquiries 1 day before application', 'Number of Credit Bureau enquiries 1 week before application',\n",
    "       'Number of Credit Bureau enquiries 1 month before application', 'Number of Credit Bureau enquiries 3 month before application',\n",
    "       'Number of Credit Bureau enquiries 1 year before application', 'Installments', 'Gender',\n",
    "       'Owns Car', 'Owns Property', 'Accompanied while applying',\n",
    "       'Income type', 'Highest education level',\n",
    "       'Family status', 'Housing situation', 'Occupation Type',\n",
    "       'Application Day', 'Employer organization']\n",
    "feature_weights_dict = {}\n",
    "for i in range(49):\n",
    "    feature_weights_dict[applications_df['ft_name_'+str(i)].tolist()[0]] = applications_df['ft_weight_'+str(i)].tolist()[0]\n",
    "feature_weights = []\n",
    "for feat in features_in_trainingOrder:\n",
    "    feature_weights.append(feature_weights_dict[feat])\n",
    "\n",
    "## convert string values to list of dicts\n",
    "for i in feedback_df.index :\n",
    "    s = feedback_df['Value'].loc[i]\n",
    "    # print(i,feedback_df['App ID'].loc[i])\n",
    "    s = s.replace(\"'\", \"\\\"\")\n",
    "    s = s.replace(\"Region\\\"s Rating\", \"Region\\'s Rating\")\n",
    "    s = s.replace(\"Region\\\"s Normalized Population\", \"Region\\'s Normalized Population\")\n",
    "    feedback_df.loc[[i], \"Value\"] = pd.Series([json.loads(s)], index=[i])\n",
    "\n",
    "## keep only feature weights relevant to each APP ID\n",
    "all_new_values = []\n",
    "for i in feedback_df.index :\n",
    "    app_id = feedback_df['App ID'].loc[i]\n",
    "    value = feedback_df['Value'].loc[i]\n",
    "    # new_value = {}\n",
    "    new_value = feature_weights.copy()\n",
    "    if value:\n",
    "        for v_dict in value:\n",
    "            _idx = v_dict['attribute'].index('_')\n",
    "            if app_id == np.int64(v_dict['attribute'][0:_idx]):\n",
    "                # print(new_value, v_dict['attribute'][(_idx+1):], np.float64(v_dict['value']))\n",
    "                attr = v_dict['attribute'][(_idx+1):]\n",
    "                new_value[features_in_trainingOrder.index(attr)]=np.float64(v_dict['value'])\n",
    "                # new_value[]=np.float64(v_dict['value'])\n",
    "    else:\n",
    "        new_value = []\n",
    "    ## normalize\n",
    "    new_value = [v/sum(new_value) for v in new_value]\n",
    "    # if sum(new_value) >1.0:\n",
    "    #     print(sum(new_value), max(new_value),min(new_value))\n",
    "    all_new_values.append(new_value)    \n",
    "feedback_df['Value'] = all_new_values"
   ]
  },
  {
   "cell_type": "markdown",
   "id": "4743a78d-c943-43d1-b413-8853d6e3ad19",
   "metadata": {},
   "source": [
    "## TRAINING"
   ]
  },
  {
   "cell_type": "markdown",
   "id": "2f4d3089-43fb-403e-b34b-ccf0e2d1eeb4",
   "metadata": {},
   "source": [
    "### Global Model - Labels ('fair'+'unfair')\n",
    "The XGboost classifier is retrained. The feedback instances of all participants are added into the training set all at once.\n",
    "\n",
    "**All the 'fair' and 'unfair'** labelled instances by participants are used. \n",
    "\n",
    "We set fs = 0.5."
   ]
  },
  {
   "cell_type": "code",
   "execution_count": null,
   "id": "c4206512-703c-4911-9667-1a6e8a36652d",
   "metadata": {},
   "outputs": [],
   "source": [
    "oneoff_training_evaluation(X_train_original, y_train_original,\n",
    "                            X_test_original, y_test_original,\n",
    "                           train_df_test_bin, test_df, applications_df,\n",
    "                            sensitive_attrs, fs, feedback_df,\n",
    "                           False, False,\n",
    "                           'global-Labels', folder+\"data/results/global/Labels/\")"
   ]
  },
  {
   "cell_type": "markdown",
   "id": "16e23743-b41e-48e2-9b39-035f2f06ace8",
   "metadata": {},
   "source": [
    "### Global Model - Labels ('unfair')\n",
    "The XGboost classifier is retrained. The feedback instances of all participants are added into the training set all at once.\n",
    "\n",
    "**Only the 'unfair'** labelled instances by participants are used. \n",
    "\n",
    "We set fs = 0.5."
   ]
  },
  {
   "cell_type": "code",
   "execution_count": null,
   "id": "b9f83c1c-eed6-4efc-a038-053e10973a06",
   "metadata": {},
   "outputs": [],
   "source": [
    "oneoff_training_evaluation(X_train_original, y_train_original,\n",
    "                            X_test_original, y_test_original,\n",
    "                           train_df_test_bin, test_df, applications_df,\n",
    "                            sensitive_attrs, fs, feedback_df,\n",
    "                           True, False,\n",
    "                           'global-Labels_Unfair', folder+\"data/results/global/Labels_Unfair/\")"
   ]
  },
  {
   "cell_type": "markdown",
   "id": "ea12afb6-95cf-4d5e-a4e4-324487aed0c2",
   "metadata": {},
   "source": [
    "### Global Model - Labels+Weights ('fair'+'unfair')\n",
    "The XGboost classifier is retrained. The feedback instances of all participants are added into the training set all at once.\n",
    "\n",
    "**All the 'fair' and 'unfair'** labelled instances by participants **with proposed weight changes** are used. \n",
    "\n",
    "We set fs = 0.5."
   ]
  },
  {
   "cell_type": "code",
   "execution_count": null,
   "id": "27b172d9-7a52-425d-8015-43aef9719ae4",
   "metadata": {},
   "outputs": [],
   "source": [
    "oneoff_training_evaluation(X_train_original, y_train_original,\n",
    "                            X_test_original, y_test_original,\n",
    "                           train_df_test_bin, test_df, applications_df,\n",
    "                            sensitive_attrs, fs, feedback_df,\n",
    "                           False, True, \n",
    "                           'global-Labels+Weights', folder+\"data/results/global/Labels+Weights/\")"
   ]
  },
  {
   "cell_type": "markdown",
   "id": "8a0c373e-ad92-476d-88bc-e34ffe17e8af",
   "metadata": {},
   "source": [
    "### Personalized Models - Labels ('fair'+'unfair')\n",
    "58 XGboost classifiers will be trained, one for each participant independently. The feedback instances of each participant will be added to the training set incrementally, one at a time, in increasing timestamps (the previous feedback instances of a participant remain in the training set as we add a new one). The XGboost classifier is retrained from scratch in every incremental step (iteration). \n",
    "\n",
    "**All the 'fair' and 'unfair'** labelled instances by participants are used. \n",
    "\n",
    "We set fs = 0.5."
   ]
  },
  {
   "cell_type": "code",
   "execution_count": null,
   "id": "fbe603f0-f324-40b9-b35a-8dc0e9bc3cd4",
   "metadata": {},
   "outputs": [],
   "source": [
    "iml_training_evaluation(X_train_original, y_train_original,\n",
    "                        X_test_original, y_test_original,\n",
    "                        train_df_test_bin, test_df, applications_df,\n",
    "                        sensitive_attrs, fs, feedback_df,\n",
    "                        False, False, \n",
    "                        'personalized-Labels', folder+\"data/results/personalized/Labels/\")"
   ]
  },
  {
   "cell_type": "markdown",
   "id": "da2d0cbd-49e1-4463-81e7-431ebf13c9a3",
   "metadata": {},
   "source": [
    "### Personalized Models - Labels ('unfair')\n",
    "58 XGboost classifiers will be trained, one for each participant independently. The feedback instances of each participant will be added to the training set incrementally, one at a time, in increasing timestamps (the previous feedback instances of a participant remain in the training set as we add a new one). The XGboost classifier is retrained from scratch in every incremental step (iteration). \n",
    "\n",
    "**Only the 'unfair'** labelled instances by participants are used.\n",
    "\n",
    "We set fs = 0.5."
   ]
  },
  {
   "cell_type": "code",
   "execution_count": null,
   "id": "c5130ceb-3cbf-4474-b46d-29b6063e3c28",
   "metadata": {},
   "outputs": [],
   "source": [
    "iml_training_evaluation(X_train_original, y_train_original,\n",
    "                        X_test_original, y_test_original,\n",
    "                        train_df_test_bin, test_df, applications_df,\n",
    "                        sensitive_attrs, fs, feedback_df,\n",
    "                        True, False, \n",
    "                        'personalized-Labels_Unfair', folder+\"data/results/personalized/Labels_Unfair/\")"
   ]
  },
  {
   "cell_type": "markdown",
   "id": "7e58f604-72d9-42d0-a8ae-7657a19a5e53",
   "metadata": {},
   "source": [
    "### Personalized Models - Labels+Weights ('fair'+'unfair')\n",
    "The feedback instances of each participant will be added to the training set incrementally, one at a time, in increasing timestamps (the previous feedback instances of a participant remain in the training set as we add a new one). The XGboost classifier is retrained from scratch in every incremental step (iteration).\n",
    "\n",
    "**All the 'fair' and 'unfair'** labelled instances with proposed weight changes are used. Participants weights of each instance are used to set feature weights of the training.\n",
    "\n",
    "We set fs = 0.5."
   ]
  },
  {
   "cell_type": "code",
   "execution_count": null,
   "id": "f00ad845-e1d2-427d-aa6a-f6a7f041122b",
   "metadata": {},
   "outputs": [],
   "source": [
    "iml_training_evaluation(X_train_original, y_train_original,\n",
    "                        X_test_original, y_test_original,\n",
    "                        train_df_test_bin, test_df, applications_df,\n",
    "                        sensitive_attrs, fs, feedback_df,\n",
    "                        False, True, \n",
    "                        'personalized-Labels+Weights', folder+\"data/results/personalized/Labels+Weights/\")"
   ]
  }
 ],
 "metadata": {
  "kernelspec": {
   "display_name": "Python 3 (ipykernel)",
   "language": "python",
   "name": "python3"
  },
  "language_info": {
   "codemirror_mode": {
    "name": "ipython",
    "version": 3
   },
   "file_extension": ".py",
   "mimetype": "text/x-python",
   "name": "python",
   "nbconvert_exporter": "python",
   "pygments_lexer": "ipython3",
   "version": "3.11.4"
  }
 },
 "nbformat": 4,
 "nbformat_minor": 5
}
