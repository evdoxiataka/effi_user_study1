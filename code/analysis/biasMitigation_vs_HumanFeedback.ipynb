{
 "cells": [
  {
   "cell_type": "code",
   "execution_count": null,
   "id": "4cafb9f8-bf45-49fd-811a-cfa390e5db29",
   "metadata": {},
   "outputs": [],
   "source": [
    "import numpy as np\n",
    "import pandas as pd\n",
    "from tqdm import tqdm\n",
    "import aif360\n",
    "from aif360.datasets import BinaryLabelDataset\n",
    "from aif360.datasets import AdultDataset, GermanDataset, CompasDataset\n",
    "from aif360.metrics import BinaryLabelDatasetMetric\n",
    "from aif360.metrics import ClassificationMetric\n",
    "from aif360.algorithms.preprocessing.reweighing import Reweighing\n",
    "from aif360.algorithms.preprocessing.optim_preproc_helpers.data_preproc_functions\\\n",
    "        import load_preproc_data_adult, load_preproc_data_german, load_preproc_data_compas\n",
    "from sklearn.linear_model import LogisticRegression\n",
    "from sklearn.preprocessing import StandardScaler\n",
    "from sklearn.metrics import accuracy_score\n",
    "from sklearn.utils import class_weight\n",
    "\n",
    "from xgboost import XGBClassifier\n",
    "from sklearn.model_selection import train_test_split\n",
    "from sklearn.metrics import accuracy_score\n",
    "\n",
    "from IPython.display import Markdown, display\n",
    "# import matplotlib.pyplot as plt\n",
    "\n",
    "from fairlearn.metrics import MetricFrame\n",
    "from fairlearn.metrics import selection_rate\n",
    "\n",
    "########################SET folder to path of code directory in the project folder#####################\n",
    "## SET PATH to code directory in the project folder\n",
    "code_path = \"\"\n",
    "import sys  \n",
    "sys.path.insert(1, code_path)\n",
    "\n",
    "##\n",
    "from utils.fairness_metrics import demographic_parity_ratio_\n",
    "from utils.utils import *\n",
    "\n",
    "# from common_utils import compute_metrics"
   ]
  },
  {
   "cell_type": "code",
   "execution_count": null,
   "id": "033da9bc-7f11-4c87-be46-00a7caca1029",
   "metadata": {},
   "outputs": [],
   "source": [
    "test_df = pd.read_csv('test_df.csv', delimiter=',')\n",
    "test_df_final = pd.read_csv('test_df_final.csv', delimiter=',')\n",
    "test_df_final = test_df_final.loc[:, ~test_df_final.columns.isin(['SK_ID_CURR'])]\n",
    "\n",
    "##\n",
    "train_df_train = pd.read_csv('train_df_train.csv', delimiter=',')\n",
    "train_df_test = pd.read_csv('train_df_test.csv', delimiter=',')\n",
    "\n",
    "X_train_original = train_df_train.loc[:, ~train_df_train.columns.isin(['TARGET', 'SK_ID_CURR'])]\n",
    "y_train_original = train_df_train.loc[:, train_df_train.columns == 'TARGET']\n",
    "X_test_original = train_df_test.loc[:, ~train_df_test.columns.isin(['TARGET', 'SK_ID_CURR'])]\n",
    "y_test_original = train_df_test.loc[:, train_df_test.columns == 'TARGET']\n",
    "\n",
    "## load original test set to be used for fairness metrics\n",
    "train_df = pd.read_csv('train_df.csv', delimiter=',')\n",
    "\n",
    "### train_df_train\n",
    "train_df_train_or = train_df[train_df['SK_ID_CURR'].isin(train_df_train['SK_ID_CURR'].tolist())]\n",
    "lst = train_df_train['SK_ID_CURR'].tolist()\n",
    "train_df_train_or = train_df_train_or.reset_index().set_index('SK_ID_CURR').loc[lst].reset_index().set_index('index').rename_axis(None)\n",
    "manipulate_categ_values(train_df_train_or)\n",
    "train_df_train_bin = binning(train_df_train_or, train_df_train)\n",
    "\n",
    "### train_df_test\n",
    "train_df_test_or = train_df[train_df['SK_ID_CURR'].isin(train_df_test['SK_ID_CURR'].tolist())]\n",
    "lst = train_df_test['SK_ID_CURR'].tolist()\n",
    "train_df_test_or = train_df_test_or.reset_index().set_index('SK_ID_CURR').loc[lst].reset_index().set_index('index').rename_axis(None)\n",
    "manipulate_categ_values(train_df_test_or)\n",
    "train_df_test_bin = binning(train_df_test_or, train_df_test)\n",
    "\n",
    "##\n",
    "classes_weights = class_weight.compute_sample_weight(\n",
    "    class_weight='balanced',\n",
    "    y = y_train_original\n",
    ")\n",
    "# classes_weights"
   ]
  },
  {
   "cell_type": "code",
   "execution_count": null,
   "id": "21cb625c-8e95-40f2-ad91-d480e753ae4d",
   "metadata": {},
   "outputs": [],
   "source": [
    "train_df_train[train_df_train['SK_ID_CURR']==226040]['CODE_GENDER_LE']"
   ]
  },
  {
   "cell_type": "code",
   "execution_count": null,
   "id": "461024d5-d98e-4075-9643-78469f1beaef",
   "metadata": {},
   "outputs": [],
   "source": [
    "tr = pd.read_csv('train_df.csv', delimiter=',')\n",
    "tr[tr['SK_ID_CURR']==226040]['CODE_GENDER']"
   ]
  },
  {
   "cell_type": "code",
   "execution_count": null,
   "id": "b61ab281-06d4-4677-b849-ff4224cc6dfa",
   "metadata": {},
   "outputs": [],
   "source": [
    "lst = train_df_train['SK_ID_CURR'].tolist()\n",
    "tr_or = tr.reset_index().set_index('SK_ID_CURR').loc[lst].reset_index().set_index('index').rename_axis(None)\n",
    "tr_or['AGE'].unique()"
   ]
  },
  {
   "cell_type": "code",
   "execution_count": null,
   "id": "7ce9a7ec-512f-40a8-9ab2-164a7597e039",
   "metadata": {},
   "outputs": [],
   "source": [
    "train_df_train"
   ]
  },
  {
   "cell_type": "markdown",
   "id": "681017b5-91e3-4d4a-8698-452196962efe",
   "metadata": {},
   "source": [
    "## GENDER"
   ]
  },
  {
   "cell_type": "code",
   "execution_count": null,
   "id": "e5cf1d73-ebc2-4c5f-b992-6d72b574db57",
   "metadata": {},
   "outputs": [],
   "source": [
    "binaryLabelDataset = aif360.datasets.BinaryLabelDataset(\n",
    "    favorable_label=1,\n",
    "    unfavorable_label=0,\n",
    "    df=train_df_train.loc[:, ~train_df_train.columns.isin(['SK_ID_CURR'])],\n",
    "    label_names=['TARGET'],\n",
    "    protected_attribute_names=['CODE_GENDER_LE'])\n",
    "\n",
    "RW = Reweighing(unprivileged_groups=[{'CODE_GENDER_LE':0}],\n",
    "               privileged_groups=[{'CODE_GENDER_LE':1}])\n",
    "RW.fit(binaryLabelDataset)\n",
    "dataset_transf_train = RW.transform(binaryLabelDataset)\n",
    "# dataset_transf_train = dataset_transf_train.convert_to_dataframe()\n",
    "\n",
    "gender_transf_weights = dataset_transf_train.instance_weights\n",
    "# gender_transf_weights"
   ]
  },
  {
   "cell_type": "code",
   "execution_count": null,
   "id": "410306f2-44bc-4cd9-acb1-12ff8a1a3123",
   "metadata": {},
   "outputs": [],
   "source": [
    "model_g = XGBClassifier(random_state = 15, eta = 0.3)\n",
    "\n",
    "model_g.fit(X_train_original, y_train_original, sample_weight=classes_weights*gender_transf_weights)\n",
    "\n",
    "y_pred = model_g.predict(X_test_original)\n",
    "predictions = [round(value) for value in y_pred]\n",
    "\n",
    "# evaluate predictions\n",
    "accuracy_g = accuracy_score(y_test_original, predictions)\n",
    "print('acc:',accuracy_g)\n",
    "# train_df_test.insert(loc=1, column=\"Predicted_Result\", value=predictions)\n",
    "\n",
    "##add predictions to original test set \n",
    "train_df_test_bin_ = train_df_test_bin.copy()   \n",
    "train_df_test_bin_.insert(loc=1, column=\"Predicted_Result\", value = predictions)\n",
    "\n",
    "## fairness metrics\n",
    "demographic_parity_ratio_(train_df_test_bin_, 'CODE_GENDER')"
   ]
  },
  {
   "cell_type": "code",
   "execution_count": null,
   "id": "ebcd1c5b-4a3c-4709-8349-601c7a19efcc",
   "metadata": {},
   "outputs": [],
   "source": [
    "## fairness metrics\n",
    "demographic_parity_ratio_(train_df_test_bin_, 'NAME_FAMILY_STATUS')"
   ]
  },
  {
   "cell_type": "code",
   "execution_count": null,
   "id": "71b7818e-6457-4680-adf7-dd429d2a39c0",
   "metadata": {},
   "outputs": [],
   "source": [
    "## fairness metrics\n",
    "demographic_parity_ratio_(train_df_test_bin_, 'AGE')"
   ]
  },
  {
   "cell_type": "markdown",
   "id": "a3af234a-7d18-437a-a9dd-2ce4f600729d",
   "metadata": {
    "scrolled": true
   },
   "source": [
    "## MARITAL STATUS"
   ]
  },
  {
   "cell_type": "code",
   "execution_count": null,
   "id": "3436716f-174c-4a14-9664-aa4da25bd86c",
   "metadata": {},
   "outputs": [],
   "source": [
    "train_df_train['NAME_FAMILY_STATUS_LE'].head()"
   ]
  },
  {
   "cell_type": "code",
   "execution_count": null,
   "id": "a06e0ddf-4501-45e8-a5b8-237833bda3e6",
   "metadata": {},
   "outputs": [],
   "source": [
    "train_df_train['NAME_FAMILY_STATUS_LE']\n",
    "train_df['NAME_FAMILY_STATUS'].head()"
   ]
  },
  {
   "cell_type": "code",
   "execution_count": null,
   "id": "d23b39ba-0df4-404e-85ff-a7935cbe234e",
   "metadata": {},
   "outputs": [],
   "source": [
    "binaryLabelDataset = aif360.datasets.BinaryLabelDataset(\n",
    "    favorable_label=1,\n",
    "    unfavorable_label=0,\n",
    "    df=train_df_train.loc[:, ~train_df_train.columns.isin(['SK_ID_CURR'])],\n",
    "    label_names=['TARGET'],\n",
    "    protected_attribute_names=['NAME_FAMILY_STATUS_LE'])\n",
    "\n",
    "RW = Reweighing(unprivileged_groups=[{'NAME_FAMILY_STATUS_LE':1}],\n",
    "               privileged_groups=[{'NAME_FAMILY_STATUS_LE':4}])\n",
    "RW.fit(binaryLabelDataset)\n",
    "dataset_transf_train = RW.transform(binaryLabelDataset)\n",
    "\n",
    "maritStat_transf_weights = dataset_transf_train.instance_weights"
   ]
  },
  {
   "cell_type": "code",
   "execution_count": null,
   "id": "17a794e7-3b51-489f-8608-fb47969b6bf3",
   "metadata": {},
   "outputs": [],
   "source": [
    "model_m = XGBClassifier(random_state = 15, eta = 0.3)\n",
    "\n",
    "model_m.fit(X_train_original, y_train_original, sample_weight=classes_weights*maritStat_transf_weights)\n",
    "\n",
    "y_pred = model_m.predict(X_test_original)\n",
    "predictions = [round(value) for value in y_pred]\n",
    "\n",
    "# evaluate predictions\n",
    "accuracy_m = accuracy_score(y_test_original, predictions)\n",
    "print('acc:',accuracy_m)\n",
    "# train_df_test.insert(loc=1, column=\"Predicted_Result\", value=predictions)\n",
    "\n",
    "##add predictions to original test set \n",
    "train_df_test_bin_ = train_df_test_bin.copy()   \n",
    "train_df_test_bin_.insert(loc=1, column=\"Predicted_Result\", value = predictions)\n",
    "\n",
    "## fairness metrics\n",
    "demographic_parity_ratio_(train_df_test_bin_, 'CODE_GENDER')"
   ]
  },
  {
   "cell_type": "code",
   "execution_count": null,
   "id": "9bb9c12a-253e-4841-b839-cab772a231fb",
   "metadata": {},
   "outputs": [],
   "source": [
    "## fairness metrics\n",
    "demographic_parity_ratio_(train_df_test_bin_, 'NAME_FAMILY_STATUS')"
   ]
  },
  {
   "cell_type": "code",
   "execution_count": null,
   "id": "2a05f14f-7ced-49a9-ae4f-618d57374c62",
   "metadata": {},
   "outputs": [],
   "source": [
    "## fairness metrics\n",
    "demographic_parity_ratio_(train_df_test_bin_, 'AGE')"
   ]
  },
  {
   "cell_type": "markdown",
   "id": "28ce110c-4efb-4c1a-8cc3-7d8687657701",
   "metadata": {},
   "source": [
    "## AGE"
   ]
  },
  {
   "cell_type": "code",
   "execution_count": null,
   "id": "aae7fa8f-6895-4add-952d-cb9578283aa5",
   "metadata": {
    "scrolled": true
   },
   "outputs": [],
   "source": [
    "train_age = train_df_train.loc[:, ~train_df_train.columns.isin(['SK_ID_CURR'])]\n",
    "ages = []\n",
    "for age in train_age['AGE']:\n",
    "    if age<40.:\n",
    "        ages.append(0)\n",
    "    else:\n",
    "        ages.append(1)\n",
    "train_age['AGE'] = ages"
   ]
  },
  {
   "cell_type": "code",
   "execution_count": null,
   "id": "9f98af07-c887-49d1-9299-7f3e3accc9c0",
   "metadata": {},
   "outputs": [],
   "source": [
    "binaryLabelDataset = aif360.datasets.BinaryLabelDataset(\n",
    "    favorable_label=1,\n",
    "    unfavorable_label=0,\n",
    "    df=train_df_train.loc[:, ~train_df_train.columns.isin(['SK_ID_CURR'])],\n",
    "    label_names=['TARGET'],\n",
    "    protected_attribute_names=['AGE'])\n",
    "\n",
    "RW = Reweighing(unprivileged_groups=[{'AGE':0}],\n",
    "               privileged_groups=[{'AGE':1}])\n",
    "RW.fit(binaryLabelDataset)\n",
    "dataset_transf_train = RW.transform(binaryLabelDataset)\n",
    "# dataset_transf_train = dataset_transf_train.convert_to_dataframe()\n",
    "\n",
    "age_transf_weights = dataset_transf_train.instance_weights"
   ]
  },
  {
   "cell_type": "code",
   "execution_count": null,
   "id": "a0e5930d-1020-4e36-9885-3c7f7d6e2343",
   "metadata": {},
   "outputs": [],
   "source": [
    "model_a = XGBClassifier(random_state = 15, eta = 0.3)\n",
    "\n",
    "model_a.fit(X_train_original, y_train_original, sample_weight=classes_weights*age_transf_weights)\n",
    "\n",
    "y_pred = model_a.predict(X_test_original)\n",
    "predictions = [round(value) for value in y_pred]\n",
    "\n",
    "# evaluate predictions\n",
    "accuracy_a = accuracy_score(y_test_original, predictions)\n",
    "print('acc:',accuracy_a)\n",
    "# train_df_test.insert(loc=1, column=\"Predicted_Result\", value=predictions)\n",
    "\n",
    "##add predictions to original test set \n",
    "train_df_test_bin_ = train_df_test_bin.copy()   \n",
    "train_df_test_bin_.insert(loc=1, column=\"Predicted_Result\", value = predictions)\n",
    "\n",
    "## fairness metrics\n",
    "demographic_parity_ratio_(train_df_test_bin_, 'AGE')"
   ]
  },
  {
   "cell_type": "code",
   "execution_count": null,
   "id": "342344e5-1862-48bb-a830-7db5225e089d",
   "metadata": {},
   "outputs": [],
   "source": [
    "## fairness metrics\n",
    "demographic_parity_ratio_(train_df_test_bin_, 'NAME_FAMILY_STATUS')"
   ]
  },
  {
   "cell_type": "code",
   "execution_count": null,
   "id": "0833ed14-ddd8-4851-a1ca-41b77324c1e2",
   "metadata": {},
   "outputs": [],
   "source": [
    "## fairness metrics\n",
    "demographic_parity_ratio_(train_df_test_bin_, 'AGE')"
   ]
  },
  {
   "cell_type": "code",
   "execution_count": null,
   "id": "fe52ee4f-b9f6-423a-898d-4d5e40be1d88",
   "metadata": {},
   "outputs": [],
   "source": []
  }
 ],
 "metadata": {
  "kernelspec": {
   "display_name": "Python 3 (ipykernel)",
   "language": "python",
   "name": "python3"
  },
  "language_info": {
   "codemirror_mode": {
    "name": "ipython",
    "version": 3
   },
   "file_extension": ".py",
   "mimetype": "text/x-python",
   "name": "python",
   "nbconvert_exporter": "python",
   "pygments_lexer": "ipython3",
   "version": "3.11.4"
  }
 },
 "nbformat": 4,
 "nbformat_minor": 5
}
