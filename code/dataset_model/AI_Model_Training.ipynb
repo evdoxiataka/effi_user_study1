{
 "cells": [
  {
   "cell_type": "code",
   "execution_count": null,
   "id": "d3e845d4-f76d-4bd5-90ba-4b73db9c7d51",
   "metadata": {
    "tags": []
   },
   "outputs": [],
   "source": [
    "import pandas as pd\n",
    "import numpy as np\n",
    "\n",
    "from sklearn.utils import class_weight\n",
    "\n",
    "from xgboost import XGBClassifier\n",
    "from sklearn.model_selection import train_test_split\n",
    "from sklearn.metrics import accuracy_score\n",
    "\n",
    "########################SET folder to project directory path#####################\n",
    "folder=\"\""
   ]
  },
  {
   "cell_type": "markdown",
   "id": "246b0bd7-b3f1-4cc0-b76c-0f05e81abc40",
   "metadata": {},
   "source": [
    "## Loading Training - Test Sets"
   ]
  },
  {
   "cell_type": "code",
   "execution_count": null,
   "id": "84e3331e-fccd-44e9-bab9-789226904c84",
   "metadata": {
    "tags": []
   },
   "outputs": [],
   "source": [
    "test_df = pd.read_csv(folder+'data/processed_data/test_df.csv', delimiter=',')\n",
    "test_df_final = pd.read_csv(folder+'data/processed_data/test_df_final.csv', delimiter=',')\n",
    "test_df_final = test_df_final.loc[:, ~test_df_final.columns.isin(['SK_ID_CURR'])]\n",
    "\n",
    "##\n",
    "train_df_train = pd.read_csv(folder+'data/processed_data/train_df_train.csv', delimiter=',')\n",
    "train_df_test = pd.read_csv(folder+'data/processed_data/train_df_test.csv', delimiter=',')\n",
    "\n",
    "X_train_original = train_df_train.loc[:, ~train_df_train.columns.isin(['TARGET', 'SK_ID_CURR'])]\n",
    "y_train_original = train_df_train.loc[:, train_df_train.columns == 'TARGET']\n",
    "X_test_original = train_df_test.loc[:, ~train_df_test.columns.isin(['TARGET', 'SK_ID_CURR'])]\n",
    "y_test_original = train_df_test.loc[:, train_df_test.columns == 'TARGET']"
   ]
  },
  {
   "cell_type": "markdown",
   "id": "8ad8d218-d72b-4057-9de7-88c406a16948",
   "metadata": {},
   "source": [
    "## Assigning class weights"
   ]
  },
  {
   "cell_type": "code",
   "execution_count": null,
   "id": "220cf74e-004d-4280-9755-df5594f10572",
   "metadata": {
    "tags": []
   },
   "outputs": [],
   "source": [
    "classes_weights = class_weight.compute_sample_weight(\n",
    "    class_weight='balanced',\n",
    "    y = y_train_original\n",
    ")\n",
    "classes_weights"
   ]
  },
  {
   "cell_type": "markdown",
   "id": "5438fc5a-481f-485b-9a84-c6e39741de14",
   "metadata": {},
   "source": [
    "## Model Trainning (XGBOOST)"
   ]
  },
  {
   "cell_type": "code",
   "execution_count": null,
   "id": "da3685df-92fe-4113-9f2d-7d4d95df6a97",
   "metadata": {
    "tags": []
   },
   "outputs": [],
   "source": [
    "model = XGBClassifier(random_state = 15, eta = 0.3)\n",
    "\n",
    "model.fit(X_train_original, y_train_original, sample_weight=classes_weights)"
   ]
  },
  {
   "cell_type": "markdown",
   "id": "5f9942f6-4d1f-43e7-af0f-44e9bc89505b",
   "metadata": {},
   "source": [
    "## Model Results"
   ]
  },
  {
   "cell_type": "markdown",
   "id": "c8883896-c712-4868-a537-899f0985ee1d",
   "metadata": {},
   "source": [
    "Evaluation on trainning set"
   ]
  },
  {
   "cell_type": "code",
   "execution_count": null,
   "id": "c919d4bb-eb75-4d14-9ea3-b901130f38b9",
   "metadata": {
    "tags": []
   },
   "outputs": [],
   "source": [
    "y_pred = model.predict(X_train_original)\n",
    "predictions = [round(value) for value in y_pred]\n",
    "\n",
    "# evaluate predictions\n",
    "accuracy = accuracy_score(y_train_original, predictions)\n",
    "print(\"Training Set Accuracy: %.2f%%\" % (accuracy * 100.0))"
   ]
  },
  {
   "cell_type": "markdown",
   "id": "dd610ff3-6963-4a0b-b479-e1d42db5744d",
   "metadata": {},
   "source": [
    "Evaluation on the validation set (train_df_test)"
   ]
  },
  {
   "cell_type": "code",
   "execution_count": null,
   "id": "957dfcc3-af7d-4be9-8f30-24d9a589c624",
   "metadata": {
    "tags": []
   },
   "outputs": [],
   "source": [
    "y_pred = model.predict(X_test_original)\n",
    "predictions = [round(value) for value in y_pred]\n",
    "\n",
    "# evaluate predictions\n",
    "accuracy = accuracy_score(y_test_original, predictions)\n",
    "print(\"TestSet Set Accuracy: %.2f%%\" % (accuracy * 100.0))"
   ]
  },
  {
   "cell_type": "markdown",
   "id": "651571a2-2e77-41c7-bf41-56aecde28758",
   "metadata": {},
   "source": [
    "### Predict labels for test set (test_df) instances\n",
    "The following fields are added to the test set (test_df) that contains the data shown to participants:\n",
    "- Predicted_Result : 0 : 'Rejected', 1:  'Accepted'\n",
    "- Prediction_Confidence_Accepted\n",
    "- Prediction_Confidence_Rejected"
   ]
  },
  {
   "cell_type": "code",
   "execution_count": null,
   "id": "220bb502-8bca-4e40-89fe-8ac76e0d3a50",
   "metadata": {
    "scrolled": true,
    "tags": []
   },
   "outputs": [],
   "source": [
    "y_pred_test = model.predict(test_df_final)\n",
    "predictions_test = [round(value) for value in y_pred_test]"
   ]
  },
  {
   "cell_type": "code",
   "execution_count": null,
   "id": "dbba84a4-7033-4e00-a62a-5a2788ded18c",
   "metadata": {
    "tags": []
   },
   "outputs": [],
   "source": [
    "# predictions_test"
   ]
  },
  {
   "cell_type": "code",
   "execution_count": null,
   "id": "9051996b-4fb3-4bf1-b695-7e40df0f645c",
   "metadata": {},
   "outputs": [],
   "source": [
    "# test_df.drop(columns = [\"Predicted_Result\",\"Prediction_Confidence_Accepted\",\"Prediction_Confidence_Rejected\"], inplace=True)"
   ]
  },
  {
   "cell_type": "code",
   "execution_count": null,
   "id": "c738b2e0-fe4f-42a9-a8d8-5a22384721b8",
   "metadata": {
    "tags": []
   },
   "outputs": [],
   "source": [
    "test_df.insert(loc=1, column=\"Predicted_Result\", value=predictions_test)\n",
    "# test_df[\"Predicted_Result\"] = predictions_test\n",
    "\n",
    "# Labels\n",
    "test_df.replace({'Predicted_Result' : { 0 : 'Rejected', 1:  'Accepted'}},inplace=True)\n",
    "\n",
    "# Prediction Confidence\n",
    "\n",
    "accepted = []\n",
    "rejected = []\n",
    "for i in range(len(test_df_final)):\n",
    "    accepted.append(round(100 * model.predict_proba(test_df_final)[i][1],3))\n",
    "    rejected.append(round(100 * model.predict_proba(test_df_final)[i][0],3))\n",
    "    \n",
    "\n",
    "test_df.insert(loc=2, column=\"Prediction_Confidence_Accepted\", value=accepted)\n",
    "test_df.insert(loc=3, column=\"Prediction_Confidence_Rejected\", value=rejected)\n",
    "\n",
    "test_df"
   ]
  },
  {
   "cell_type": "code",
   "execution_count": null,
   "id": "d84289ce-9bad-457b-b2ef-69949176b31a",
   "metadata": {
    "tags": []
   },
   "outputs": [],
   "source": [
    "test_df.to_csv(folder+\"data/processed_data/Model_Predictions.csv\", index=False)"
   ]
  },
  {
   "cell_type": "markdown",
   "id": "0e9ad0f2-5f8e-4f92-81b2-efbe2f893a4d",
   "metadata": {},
   "source": [
    "### Retrieval of features' names and importance (weight)\n",
    "\n",
    "The following fields will be added to the test set (test_df):\n"
   ]
  },
  {
   "cell_type": "code",
   "execution_count": null,
   "id": "2fe0b73b-1347-46b4-8415-fdd9610abc15",
   "metadata": {
    "tags": []
   },
   "outputs": [],
   "source": [
    "ft_df = pd.DataFrame({\"Feature_Name\": model.get_booster().feature_names,\n",
    "     'Importance': model.feature_importances_,\n",
    "    })\n",
    "\n",
    "# ft_df[\"DP_Difference\"] = dp_diff_list\n",
    "# ft_df[\"DP_Ratio\"] = dp_ratio_list\n",
    "# ft_df[\"SR\"] = sr_list\n",
    "\n",
    "ft_df = ft_df.T\n",
    "ft_df.rename(columns=ft_df.iloc[0],inplace =True)\n",
    "\n",
    "\n",
    "ft_df.rename(columns={'CODE_GENDER_LE':'CODE_GENDER','NAME_CONTRACT_TYPE_LE': 'NAME_CONTRACT_TYPE',\n",
    "                             'FLAG_OWN_CAR_LE':\"FLAG_OWN_CAR\" , 'FLAG_OWN_REALTY_LE':'FLAG_OWN_REALTY', \n",
    "                              'NAME_TYPE_SUITE_LE':\"NAME_TYPE_SUITE\",'NAME_INCOME_TYPE_LE':\"NAME_INCOME_TYPE\",\n",
    "                              \n",
    "                              'NAME_EDUCATION_TYPE_LE': \"NAME_EDUCATION_TYPE\",'NAME_FAMILY_STATUS_LE':\"NAME_FAMILY_STATUS\",\n",
    "                              'NAME_HOUSING_TYPE_LE':\"NAME_HOUSING_TYPE\", 'OCCUPATION_TYPE_LE':\"OCCUPATION_TYPE\",\n",
    "                              'WEEKDAY_APPR_PROCESS_START_LE':\"WEEKDAY_APPR_PROCESS_START\",'ORGANIZATION_TYPE_LE':\"ORGANIZATION_TYPE\"\n",
    "                             }, inplace=True)\n",
    "\n"
   ]
  },
  {
   "cell_type": "code",
   "execution_count": null,
   "id": "f7dc4ca8-5287-495b-b4eb-008d4f123d51",
   "metadata": {
    "tags": []
   },
   "outputs": [],
   "source": [
    "ft_df.to_csv(folder+\"data/processed_data/FeatureImportance.csv\", index=True)"
   ]
  },
  {
   "cell_type": "code",
   "execution_count": null,
   "id": "88721fb3-8592-44bd-a682-0c2cbc94082b",
   "metadata": {},
   "outputs": [],
   "source": []
  }
 ],
 "metadata": {
  "kernelspec": {
   "display_name": "Python 3 (ipykernel)",
   "language": "python",
   "name": "python3"
  },
  "language_info": {
   "codemirror_mode": {
    "name": "ipython",
    "version": 3
   },
   "file_extension": ".py",
   "mimetype": "text/x-python",
   "name": "python",
   "nbconvert_exporter": "python",
   "pygments_lexer": "ipython3",
   "version": "3.11.4"
  }
 },
 "nbformat": 4,
 "nbformat_minor": 5
}
