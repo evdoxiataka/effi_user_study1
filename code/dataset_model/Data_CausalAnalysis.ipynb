{
 "cells": [
  {
   "cell_type": "code",
   "execution_count": null,
   "id": "41a92a17-1b32-459d-9088-830cb829b860",
   "metadata": {},
   "outputs": [],
   "source": [
    "import pandas as pd\n",
    "import numpy as np\n",
    "\n",
    "########################SET folder to project directory path#####################\n",
    "folder=\"\""
   ]
  },
  {
   "cell_type": "markdown",
   "id": "98fc35af-96da-43c4-a0d3-97f6f5beda62",
   "metadata": {},
   "source": [
    "# Causal Data Analysis"
   ]
  },
  {
   "cell_type": "code",
   "execution_count": null,
   "id": "8e666d9e-b802-4825-9cb7-741bcf47162d",
   "metadata": {},
   "outputs": [],
   "source": [
    "test_df = pd.read_csv(folder+'data/processed_data/Model_Predictions.csv', delimiter=',')\n",
    "predictions_test = test_df.loc[:, test_df.columns == 'Predicted_Result']\n",
    "predictions_test.replace({'Predicted_Result' : { 'Accepted':0, 'Rejected':1}},inplace=True)\n",
    "\n",
    "test_df_final = pd.read_csv(folder+'data/processed_data/test_df_final.csv', delimiter=',')\n",
    "test_df_final.drop(columns = [\"SK_ID_CURR\"],inplace = True)\n",
    "test_df_final.insert(loc=1, column=\"Target\", value=predictions_test)\n",
    "test_df_final"
   ]
  },
  {
   "cell_type": "markdown",
   "id": "69cf6796-bf22-44b6-a374-9d1268fae41d",
   "metadata": {},
   "source": [
    "# SAM"
   ]
  },
  {
   "cell_type": "code",
   "execution_count": null,
   "id": "01957595-2cd0-49dc-86c9-00d00b6d5f76",
   "metadata": {},
   "outputs": [],
   "source": [
    "import networkx as nx\n",
    "from cdt.causality.graph import SAM\n",
    "import matplotlib.pyplot as plt \n",
    "    \n",
    "#For full dataset, it is getting memory error. \n",
    "\n",
    "data = test_df_final\n",
    "obj = SAM(train_epochs = 400, test_epochs= 400 , batch_size = 300, nruns= 2, verbose = True)\n",
    "\n",
    "output = obj.predict(data)    \n",
    "\n",
    "fig=plt.figure(figsize=(15,15))\n",
    "\n",
    "\n",
    "nx.draw_networkx(output, font_size=9, node_size = 700, node_color = '#FFF8DC',edge_color = '#3D59AB' , font_color='#000000')\n",
    "plt.show()"
   ]
  },
  {
   "cell_type": "code",
   "execution_count": null,
   "id": "36fef4b9-6803-4a4a-b498-28dc6287dd73",
   "metadata": {},
   "outputs": [],
   "source": [
    "g = nx.DiGraph(output)\n",
    "\n",
    "l = list(g.nodes())\n",
    "e = list(g.edges())\n",
    "a = nx.adjacency_matrix(g).todense()\n",
    "\n",
    "am = pd.DataFrame(a, columns = l)\n",
    "edges = pd.DataFrame(e)\n",
    "nodes = pd.DataFrame(l)\n",
    "\n",
    "# df.insert(loc, column, value)\n",
    "am.insert(0,column = 'Edge_Start', value = l )\n",
    "# am.set_index('Edge_Start', inplace = True)"
   ]
  },
  {
   "cell_type": "code",
   "execution_count": null,
   "id": "ba49ea40-e812-4556-959c-7271f0cf9c7b",
   "metadata": {},
   "outputs": [],
   "source": [
    "am.rename(columns={'CODE_GENDER_LE':'CODE_GENDER','NAME_CONTRACT_TYPE_LE': 'NAME_CONTRACT_TYPE',\n",
    "                             'FLAG_OWN_CAR_LE':\"FLAG_OWN_CAR\" , 'FLAG_OWN_REALTY_LE':'FLAG_OWN_REALTY', \n",
    "                              'NAME_TYPE_SUITE_LE':\"NAME_TYPE_SUITE\",'NAME_INCOME_TYPE_LE':\"NAME_INCOME_TYPE\",\n",
    "                              \n",
    "                              'NAME_EDUCATION_TYPE_LE': \"NAME_EDUCATION_TYPE\",'NAME_FAMILY_STATUS_LE':\"NAME_FAMILY_STATUS\",\n",
    "                              'NAME_HOUSING_TYPE_LE':\"NAME_HOUSING_TYPE\", 'OCCUPATION_TYPE_LE':\"OCCUPATION_TYPE\",\n",
    "                              'WEEKDAY_APPR_PROCESS_START_LE':\"WEEKDAY_APPR_PROCESS_START\",'ORGANIZATION_TYPE_LE':\"ORGANIZATION_TYPE\"\n",
    "                             }, inplace=True)\n",
    "\n",
    "am.replace({'Edge_Start' : {'CODE_GENDER_LE':'CODE_GENDER','NAME_CONTRACT_TYPE_LE': 'NAME_CONTRACT_TYPE',\n",
    "                             'FLAG_OWN_CAR_LE':\"FLAG_OWN_CAR\" , 'FLAG_OWN_REALTY_LE':'FLAG_OWN_REALTY', \n",
    "                              'NAME_TYPE_SUITE_LE':\"NAME_TYPE_SUITE\",'NAME_INCOME_TYPE_LE':\"NAME_INCOME_TYPE\",\n",
    "                              \n",
    "                              'NAME_EDUCATION_TYPE_LE': \"NAME_EDUCATION_TYPE\",'NAME_FAMILY_STATUS_LE':\"NAME_FAMILY_STATUS\",\n",
    "                              'NAME_HOUSING_TYPE_LE':\"NAME_HOUSING_TYPE\", 'OCCUPATION_TYPE_LE':\"OCCUPATION_TYPE\",\n",
    "                              'WEEKDAY_APPR_PROCESS_START_LE':\"WEEKDAY_APPR_PROCESS_START\",'ORGANIZATION_TYPE_LE':\"ORGANIZATION_TYPE\"\n",
    "                             }},inplace=True)\n",
    "\n",
    "edges.replace({'0' : {'CODE_GENDER_LE':'CODE_GENDER','NAME_CONTRACT_TYPE_LE': 'NAME_CONTRACT_TYPE',\n",
    "                             'FLAG_OWN_CAR_LE':\"FLAG_OWN_CAR\" , 'FLAG_OWN_REALTY_LE':'FLAG_OWN_REALTY', \n",
    "                              'NAME_TYPE_SUITE_LE':\"NAME_TYPE_SUITE\",'NAME_INCOME_TYPE_LE':\"NAME_INCOME_TYPE\",\n",
    "                              \n",
    "                              'NAME_EDUCATION_TYPE_LE': \"NAME_EDUCATION_TYPE\",'NAME_FAMILY_STATUS_LE':\"NAME_FAMILY_STATUS\",\n",
    "                              'NAME_HOUSING_TYPE_LE':\"NAME_HOUSING_TYPE\", 'OCCUPATION_TYPE_LE':\"OCCUPATION_TYPE\",\n",
    "                              'WEEKDAY_APPR_PROCESS_START_LE':\"WEEKDAY_APPR_PROCESS_START\",'ORGANIZATION_TYPE_LE':\"ORGANIZATION_TYPE\"\n",
    "                             }},inplace=True)\n",
    "\n",
    "edges.replace({'1' : {'CODE_GENDER_LE':'CODE_GENDER','NAME_CONTRACT_TYPE_LE': 'NAME_CONTRACT_TYPE',\n",
    "                             'FLAG_OWN_CAR_LE':\"FLAG_OWN_CAR\" , 'FLAG_OWN_REALTY_LE':'FLAG_OWN_REALTY', \n",
    "                              'NAME_TYPE_SUITE_LE':\"NAME_TYPE_SUITE\",'NAME_INCOME_TYPE_LE':\"NAME_INCOME_TYPE\",\n",
    "                              \n",
    "                              'NAME_EDUCATION_TYPE_LE': \"NAME_EDUCATION_TYPE\",'NAME_FAMILY_STATUS_LE':\"NAME_FAMILY_STATUS\",\n",
    "                              'NAME_HOUSING_TYPE_LE':\"NAME_HOUSING_TYPE\", 'OCCUPATION_TYPE_LE':\"OCCUPATION_TYPE\",\n",
    "                              'WEEKDAY_APPR_PROCESS_START_LE':\"WEEKDAY_APPR_PROCESS_START\",'ORGANIZATION_TYPE_LE':\"ORGANIZATION_TYPE\"\n",
    "                             }},inplace=True)\n",
    "\n",
    "nodes.replace({'0' : {'CODE_GENDER_LE':'CODE_GENDER','NAME_CONTRACT_TYPE_LE': 'NAME_CONTRACT_TYPE',\n",
    "                             'FLAG_OWN_CAR_LE':\"FLAG_OWN_CAR\" , 'FLAG_OWN_REALTY_LE':'FLAG_OWN_REALTY', \n",
    "                              'NAME_TYPE_SUITE_LE':\"NAME_TYPE_SUITE\",'NAME_INCOME_TYPE_LE':\"NAME_INCOME_TYPE\",\n",
    "                              \n",
    "                              'NAME_EDUCATION_TYPE_LE': \"NAME_EDUCATION_TYPE\",'NAME_FAMILY_STATUS_LE':\"NAME_FAMILY_STATUS\",\n",
    "                              'NAME_HOUSING_TYPE_LE':\"NAME_HOUSING_TYPE\", 'OCCUPATION_TYPE_LE':\"OCCUPATION_TYPE\",\n",
    "                              'WEEKDAY_APPR_PROCESS_START_LE':\"WEEKDAY_APPR_PROCESS_START\",'ORGANIZATION_TYPE_LE':\"ORGANIZATION_TYPE\"\n",
    "                             }},inplace=True)"
   ]
  },
  {
   "cell_type": "code",
   "execution_count": null,
   "id": "f5ee4ede-9640-4c86-a174-43bcb4816f44",
   "metadata": {},
   "outputs": [],
   "source": [
    "# edges = pd.DataFrame(e)\n",
    "# nodes = pd.DataFrame(l)\n",
    "\n",
    "# edges.to_csv(folder+'data/processed_data/Edges_TestSet.csv')\n",
    "# am.to_csv(folder+'data/processed_data/adjacency_matrix_TestSet.csv')\n",
    "# nodes.to_csv(folder+'data/processed_data/nodes_TestSet.csv')"
   ]
  },
  {
   "cell_type": "code",
   "execution_count": null,
   "id": "b9ba070d-784a-431e-9ee9-e298b57d366c",
   "metadata": {},
   "outputs": [],
   "source": [
    "am.head()"
   ]
  },
  {
   "cell_type": "markdown",
   "id": "3158d396-6d7d-446d-9275-57e4bbebbf94",
   "metadata": {},
   "source": [
    "Features affecting Target Variable"
   ]
  },
  {
   "cell_type": "code",
   "execution_count": null,
   "id": "4e75001a-c087-4f75-9066-489c76efd1ab",
   "metadata": {},
   "outputs": [],
   "source": [
    "#Target Edge and weights\n",
    "\n",
    "edge_end = am.columns[1:]\n",
    "target_edge = am[\"Target\"].tolist()\n",
    "target_edge_sorted = sorted(target_edge, reverse = True)"
   ]
  },
  {
   "cell_type": "code",
   "execution_count": null,
   "id": "5429e14d-b7c5-443c-a00f-40ece16b644e",
   "metadata": {},
   "outputs": [],
   "source": [
    "#Storing Weights in desc order\n",
    "\n",
    "target_df = pd.DataFrame()\n",
    "target_df['Weights'] = target_edge_sorted"
   ]
  },
  {
   "cell_type": "code",
   "execution_count": null,
   "id": "d5fbb46a-88d6-44cd-b867-4af30d90dba3",
   "metadata": {},
   "outputs": [],
   "source": [
    "#Storing Edges with most influence on Target Variable\n",
    "\n",
    "sorted_target_index = np.argsort(target_edge)[::-1]\n",
    "print(sorted_target_index)\n",
    "target_df[\"Edge\"] = edge_end[sorted_target_index]"
   ]
  },
  {
   "cell_type": "code",
   "execution_count": null,
   "id": "9cfb929f-dd93-4e4f-acab-533cd95f4022",
   "metadata": {},
   "outputs": [],
   "source": [
    "target_df.head(15)"
   ]
  },
  {
   "cell_type": "code",
   "execution_count": null,
   "id": "5fd31e49-26e9-4d67-aa81-a1ddba6ab8ba",
   "metadata": {},
   "outputs": [],
   "source": [
    "import plotly.express as px\n",
    "\n",
    "fig = px.line(target_df.head(15), y=\"Weights\", x = \"Edge\",markers = True, title = \"Features Affecting Target\")\n",
    "# fig.update_traces(textposition=\"top left\")\n",
    "fig.show()"
   ]
  },
  {
   "cell_type": "code",
   "execution_count": null,
   "id": "8678f872-4329-4c8f-9fbf-d23e70e6c01f",
   "metadata": {
    "scrolled": true
   },
   "outputs": [],
   "source": [
    "display(target_df[target_df[\"Edge\"] == \"AGE\"])\n",
    "display(target_df[target_df[\"Edge\"] == \"CODE_GENDER_LE\"])\n",
    "display(target_df[target_df[\"Edge\"] == \"NAME_FAMILY_STATUS_LE\"])"
   ]
  },
  {
   "cell_type": "markdown",
   "id": "fac1c51a-79c9-4faf-9425-3981ca9300f4",
   "metadata": {},
   "source": [
    "Indirect Effect of Protected attributes"
   ]
  },
  {
   "cell_type": "markdown",
   "id": "81ec0b8f-29a9-4368-bccf-16f5069b56c0",
   "metadata": {},
   "source": [
    "Who is CODE_GENDER_LE affecting?"
   ]
  },
  {
   "cell_type": "code",
   "execution_count": null,
   "id": "0ab81d61-2037-4a9f-8ad1-85b017a040bc",
   "metadata": {},
   "outputs": [],
   "source": [
    "#Target Edge and weights\n",
    "edge_end = am.columns[1:]\n",
    "\n",
    "ind = am[am[\"Edge_Start\"] == \"CODE_GENDER_LE\"].index\n",
    "\n",
    "# Extract the row of CODE GENDER as it will give all the weights of the edges starting from CODE_GENDER\n",
    "edge_weights = am.iloc[ind, 1:].values.flatten().tolist()\n",
    "edge_weights_sorted = sorted(edge_weights, reverse = True)\n",
    "\n",
    "#Storing Weights in desc order\n",
    "CODE_GENDER_LE_df = pd.DataFrame()\n",
    "CODE_GENDER_LE_df['Weights'] = edge_weights_sorted\n",
    "\n",
    "#Storing Edges with most influence on EXT_SOURCE_2\n",
    "sorted_weight_index = np.argsort(edge_weights)[::-1]\n",
    "# print(sorted_weight_index)\n",
    "CODE_GENDER_LE_df[\"Edge\"] = edge_end[sorted_weight_index]\n",
    "\n",
    "CODE_GENDER_LE_df.head(15)"
   ]
  },
  {
   "cell_type": "code",
   "execution_count": null,
   "id": "351e78cb-515e-42f8-ad68-f9be4530d6b0",
   "metadata": {},
   "outputs": [],
   "source": [
    "display(target_df[target_df[\"Edge\"] == \"FLAG_OWN_CAR_LE\"])\n",
    "display(target_df[target_df[\"Edge\"] == \"OCCUPATION_TYPE_LE\"])\n",
    "display(target_df[target_df[\"Edge\"] == \"ORGANIZATION_TYPE_LE\"])\n",
    "display(target_df[target_df[\"Edge\"] == \"OBS_30_CNT_SOCIAL_CIRCLE\"])\n",
    "display(target_df[target_df[\"Edge\"] == \"AGE\"])"
   ]
  },
  {
   "cell_type": "markdown",
   "id": "55359320-6475-4af1-99e9-e786fbfa8d7d",
   "metadata": {},
   "source": [
    "Who is NAME_FAMILY_STATUS_LE affecting?"
   ]
  },
  {
   "cell_type": "code",
   "execution_count": null,
   "id": "35e2fd9e-71e3-4c5a-a19a-21b06050a10f",
   "metadata": {},
   "outputs": [],
   "source": [
    "#Target Edge and weights\n",
    "edge_end = am.columns[1:]\n",
    "\n",
    "ind = am[am[\"Edge_Start\"] == \"NAME_FAMILY_STATUS_LE\"].index\n",
    "print(am.iloc[ind, 0].values)\n",
    "\n",
    "# Extract the row of CODE GENDER as it will give all the weights of the edges starting from CODE_GENDER\n",
    "edge_weights = am.iloc[ind, 1:].values.flatten().tolist()\n",
    "edge_weights_sorted = sorted(edge_weights, reverse = True)\n",
    "\n",
    "#Storing Weights in desc order\n",
    "NAME_FAMILY_STATUS_LE_df = pd.DataFrame()\n",
    "NAME_FAMILY_STATUS_LE_df['Weights'] = edge_weights_sorted\n",
    "\n",
    "#Storing Edges with most influence on EXT_SOURCE_2\n",
    "sorted_weight_index = np.argsort(edge_weights)[::-1]\n",
    "# print(sorted_weight_index)\n",
    "NAME_FAMILY_STATUS_LE_df[\"Edge\"] = edge_end[sorted_weight_index]\n",
    "\n",
    "NAME_FAMILY_STATUS_LE_df.head(15)"
   ]
  },
  {
   "cell_type": "code",
   "execution_count": null,
   "id": "733e1af3-c7b4-4890-85f5-148311389531",
   "metadata": {},
   "outputs": [],
   "source": [
    "display(target_df[target_df[\"Edge\"] == \"CNT_FAM_MEMBERS\"])\n",
    "display(target_df[target_df[\"Edge\"] == \"CNT_CHILDREN\"])\n",
    "display(target_df[target_df[\"Edge\"] == \"FLAG_OWN_REALTY_LE\"])\n",
    "display(target_df[target_df[\"Edge\"] == \"OBS_60_CNT_SOCIAL_CIRCLE\"])\n",
    "display(target_df[target_df[\"Edge\"] == \"FLAG_OWN_CAR_LE\"])"
   ]
  },
  {
   "cell_type": "code",
   "execution_count": null,
   "id": "5f8f2117-572a-4e62-9155-f64a5e828928",
   "metadata": {},
   "outputs": [],
   "source": [
    "# am[\"CNT_CHILDREN\"]"
   ]
  }
 ],
 "metadata": {
  "kernelspec": {
   "display_name": "Python 3 (ipykernel)",
   "language": "python",
   "name": "python3"
  },
  "language_info": {
   "codemirror_mode": {
    "name": "ipython",
    "version": 3
   },
   "file_extension": ".py",
   "mimetype": "text/x-python",
   "name": "python",
   "nbconvert_exporter": "python",
   "pygments_lexer": "ipython3",
   "version": "3.11.4"
  }
 },
 "nbformat": 4,
 "nbformat_minor": 5
}
