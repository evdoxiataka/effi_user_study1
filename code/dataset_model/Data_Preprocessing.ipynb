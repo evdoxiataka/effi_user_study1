{
 "cells": [
  {
   "cell_type": "code",
   "execution_count": null,
   "id": "2e1ca213-437b-44fa-9634-c1f8de54ad9f",
   "metadata": {},
   "outputs": [],
   "source": [
    "import numpy as np \n",
    "import pandas as pd\n",
    "\n",
    "np.random.seed(0)\n",
    "\n",
    "########################SET folder to project directory path#####################\n",
    "folder=\"\""
   ]
  },
  {
   "cell_type": "markdown",
   "id": "4d76f2a1-fc86-47a3-a8d6-33ca3fe53dfc",
   "metadata": {},
   "source": [
    "## Loading Home Credit Training and Test Sets\n",
    "This data was downloaded from https://www.kaggle.com/competitions/home-credit-default-risk/data."
   ]
  },
  {
   "cell_type": "code",
   "execution_count": null,
   "id": "4c1b12ac-4ee6-4ba8-9745-b52a46d2c3bb",
   "metadata": {},
   "outputs": [],
   "source": [
    "application_train = pd.read_csv(folder+'data/HomeCreditDataset/application_train.csv', delimiter=',')\n",
    "display(application_train.shape)"
   ]
  },
  {
   "cell_type": "code",
   "execution_count": null,
   "id": "dc0b14c5-214e-480b-843a-59c4fefeba76",
   "metadata": {},
   "outputs": [],
   "source": [
    "application_test = pd.read_csv(folder+'data/HomeCreditDataset/application_test.csv', delimiter=',')\n",
    "display(application_test.shape)"
   ]
  },
  {
   "cell_type": "markdown",
   "id": "747af266-a458-43c4-9cc7-1440b855619b",
   "metadata": {},
   "source": [
    "## Analysing Class Imbalance"
   ]
  },
  {
   "cell_type": "code",
   "execution_count": null,
   "id": "f58c3230-9a63-47a3-88f2-6878ddf53a34",
   "metadata": {
    "scrolled": true
   },
   "outputs": [],
   "source": [
    "rejected_applications_df = application_train[(application_train['TARGET'] == 1)] # Risk detected in loan application, hence reject it.\n",
    "accepted_applications_df = application_train[(application_train['TARGET'] == 0)] #No Risk\n",
    "\n",
    "print(\"Rejected Applications in Trainset: \", len(rejected_applications_df))\n",
    "print(\"Accepted Applications in Trainset: \", len(accepted_applications_df))"
   ]
  },
  {
   "cell_type": "code",
   "execution_count": null,
   "id": "a1db4c32-c487-4039-bc05-25a33b6d7817",
   "metadata": {},
   "outputs": [],
   "source": [
    "# Dataframe without any na values\n",
    "accepted_without_na = accepted_applications_df.dropna()\n",
    "accepted_without_na.shape"
   ]
  },
  {
   "cell_type": "code",
   "execution_count": null,
   "id": "4c80c3c7-7326-48a3-92e1-af79ff657314",
   "metadata": {},
   "outputs": [],
   "source": [
    "# DF with Na values \n",
    "accepted_with_na = accepted_applications_df[accepted_applications_df.isna().any(axis='columns')]\n",
    "accepted_with_na.shape"
   ]
  },
  {
   "cell_type": "code",
   "execution_count": null,
   "id": "629c87a7-1aea-4353-970a-ecc36e13a2f9",
   "metadata": {},
   "outputs": [],
   "source": [
    "# Take remaining rows from accepted_applications_sampled\n",
    "\n",
    "remaining = 100000 - (len(rejected_applications_df) + len(accepted_without_na))\n",
    "print(remaining)\n",
    "\n",
    "accepted_sampled_na = accepted_with_na.sample(n = remaining+1, random_state=0)\n",
    "accepted_sampled_na.shape"
   ]
  },
  {
   "cell_type": "code",
   "execution_count": null,
   "id": "0cefef24-a225-4622-8113-cfa9d2080b21",
   "metadata": {},
   "outputs": [],
   "source": [
    "# train_df[train_df[\"CODE_GENDER\"] == \"XNA\"].index"
   ]
  },
  {
   "cell_type": "code",
   "execution_count": null,
   "id": "30f53949-89b3-4178-b0c9-594c3197f74b",
   "metadata": {},
   "outputs": [],
   "source": [
    "# # drop_xna_index = train_df[train_df[\"CODE_GENDER\"] == \"XNA\"].index\n",
    "# drop_xna_index"
   ]
  },
  {
   "cell_type": "code",
   "execution_count": null,
   "id": "a12ee0bd-3e95-49d0-b2d9-a481a71debca",
   "metadata": {},
   "outputs": [],
   "source": [
    "train_df = pd.concat([rejected_applications_df, accepted_without_na, accepted_sampled_na ], ignore_index=True)\n",
    "\n",
    "#Shuffle\n",
    "train_df = train_df.sample(frac=1).reset_index(drop=True)\n",
    "\n",
    "#Sort\n",
    "train_df.sort_values(by=['SK_ID_CURR'],inplace = True,ignore_index=True)\n",
    "\n",
    "# Dropping Extra Gender\n",
    "\n",
    "train_df.drop(index = train_df[train_df[\"CODE_GENDER\"] == \"XNA\"].index, inplace = True)\n",
    "\n",
    "display(train_df.shape)"
   ]
  },
  {
   "cell_type": "code",
   "execution_count": null,
   "id": "e2327b4e-7c5b-444f-819b-055f91b7fb13",
   "metadata": {},
   "outputs": [],
   "source": [
    "test_df = application_test.iloc[:1000,:]\n",
    "test_df.shape"
   ]
  },
  {
   "cell_type": "markdown",
   "id": "0ef2c622-9e65-4de6-a0b1-eff750c61be5",
   "metadata": {},
   "source": [
    "## Feature Selection"
   ]
  },
  {
   "cell_type": "markdown",
   "id": "ef5d7503-4a3c-40b9-8864-2a374b7b6001",
   "metadata": {},
   "source": [
    "### Missing Values"
   ]
  },
  {
   "cell_type": "code",
   "execution_count": null,
   "id": "e0e705d5-731b-46f9-a471-818fd73c1ad1",
   "metadata": {},
   "outputs": [],
   "source": [
    "col = application_train.columns\n",
    "\n",
    "#List of all features containing null values\n",
    "features_with_na = []\n",
    "\n",
    "#Checking for NaN\n",
    "for i in range(len(col)):\n",
    "    check_for_nan = application_train[col[i]].isnull().values.any()\n",
    "    if check_for_nan == True: \n",
    "        features_with_na.append(col[i])\n",
    "\n",
    "# print(\"Features containing Null values: \")\n",
    "# print('\\n')\n",
    "# print(features_with_na)\n",
    "# print('\\n')\n",
    "\n",
    "#Calculating the percentage of NaN values\n",
    "inconsistent_features = []\n",
    "for i in features_with_na:\n",
    "#     print(i) \n",
    "    percent_missing = 100*application_train[i].isnull().sum() / application_train.shape[0]\n",
    "    \n",
    "#     print ('Percentage of NaN: ' , round(percent_missing,2),\"%\")\n",
    "#     print('\\n')\n",
    "    if percent_missing > 25:\n",
    "#         print(i) \n",
    "#         print ('Percentage of NaN: ' , round(percent_missing,2),\"%\")\n",
    "#         print('\\n')\n",
    "        inconsistent_features.append(i)\n",
    "# print('\\n')\n",
    "\n",
    "print(\"Num of features with at least 1 NaN value: \", len(features_with_na))\n",
    "print(\"Num of features with more than 25% of missing values : \", len(inconsistent_features))"
   ]
  },
  {
   "cell_type": "code",
   "execution_count": null,
   "id": "ffaa2163-b537-43ad-b6c3-08fa49c70c69",
   "metadata": {},
   "outputs": [],
   "source": [
    "inconsistent_features"
   ]
  },
  {
   "cell_type": "markdown",
   "id": "3030a4c7-d869-400d-bc32-c5f32d4cf17f",
   "metadata": {},
   "source": [
    "As the relevant feature is just \"OCCUPATION_TYPE\" which describes the occupation of an individual, we will keep this feature and remove the rest. "
   ]
  },
  {
   "cell_type": "code",
   "execution_count": null,
   "id": "27810b3f-1ad9-4bda-af21-2b980684f5bb",
   "metadata": {},
   "outputs": [],
   "source": [
    "inconsistent_features.remove('OCCUPATION_TYPE')\n",
    "inconsistent_features\n",
    "\n",
    "train_df.drop(columns = inconsistent_features,inplace = True)\n",
    "train_df.shape"
   ]
  },
  {
   "cell_type": "code",
   "execution_count": null,
   "id": "2e1946d3-8a66-48ce-a806-d8afc95dd816",
   "metadata": {},
   "outputs": [],
   "source": [
    "test_df.drop(columns = inconsistent_features,inplace = True)\n",
    "test_df.shape"
   ]
  },
  {
   "cell_type": "markdown",
   "id": "1ac4a7cf-738c-4a7a-aaf1-8ad96c38dd32",
   "metadata": {},
   "source": [
    "### Dropping Inexplainable features"
   ]
  },
  {
   "cell_type": "code",
   "execution_count": null,
   "id": "c4e71c96-673a-4006-a5cc-a955653e4a17",
   "metadata": {},
   "outputs": [],
   "source": [
    "train_df.columns"
   ]
  },
  {
   "cell_type": "code",
   "execution_count": null,
   "id": "c983f9b0-1942-4f4e-8818-2ff602d450f9",
   "metadata": {},
   "outputs": [],
   "source": [
    "inexplanaible_features = ['EXT_SOURCE_2', \"EXT_SOURCE_3\",'FLAG_DOCUMENT_2', 'FLAG_DOCUMENT_3',\n",
    "       'FLAG_DOCUMENT_4', 'FLAG_DOCUMENT_5', 'FLAG_DOCUMENT_6',\n",
    "       'FLAG_DOCUMENT_7', 'FLAG_DOCUMENT_8', 'FLAG_DOCUMENT_9',\n",
    "       'FLAG_DOCUMENT_10', 'FLAG_DOCUMENT_11', 'FLAG_DOCUMENT_12',\n",
    "       'FLAG_DOCUMENT_13', 'FLAG_DOCUMENT_14', 'FLAG_DOCUMENT_15',\n",
    "       'FLAG_DOCUMENT_16', 'FLAG_DOCUMENT_17', 'FLAG_DOCUMENT_18',\n",
    "       'FLAG_DOCUMENT_19', 'FLAG_DOCUMENT_20', 'FLAG_DOCUMENT_21']"
   ]
  },
  {
   "cell_type": "code",
   "execution_count": null,
   "id": "d336a5a4-94a1-44b9-8bed-de97da83f703",
   "metadata": {},
   "outputs": [],
   "source": [
    "train_df.drop(columns = inexplanaible_features,inplace = True)\n",
    "display(train_df.shape)\n",
    "\n",
    "test_df.drop(columns = inexplanaible_features,inplace = True)\n",
    "display(test_df.shape)"
   ]
  },
  {
   "cell_type": "markdown",
   "id": "6f05d1b0-e206-43ab-b8a0-a77c5e884c11",
   "metadata": {},
   "source": [
    "### Converting Days Features"
   ]
  },
  {
   "cell_type": "code",
   "execution_count": null,
   "id": "08f7929b-8f5c-4da8-a79d-083dfbf5cf27",
   "metadata": {},
   "outputs": [],
   "source": [
    "train_df.columns"
   ]
  },
  {
   "cell_type": "code",
   "execution_count": null,
   "id": "0b8d6f69-97d1-4da0-a11f-6209357eece8",
   "metadata": {},
   "outputs": [],
   "source": [
    "train_df[\"DAYS_BIRTH\"] = round(train_df[\"DAYS_BIRTH\"]/-365)\n",
    "train_df[\"DAYS_EMPLOYED\"] = round(train_df[\"DAYS_EMPLOYED\"]/-365)\n",
    "train_df[\"DAYS_REGISTRATION\"] = round(train_df[\"DAYS_REGISTRATION\"]/-365)\n",
    "train_df[\"DAYS_ID_PUBLISH\"] = round(train_df[\"DAYS_ID_PUBLISH\"]/-365)\n",
    "train_df[\"DAYS_LAST_PHONE_CHANGE\"] = round(train_df[\"DAYS_LAST_PHONE_CHANGE\"]/-365)\n",
    "\n",
    "test_df[\"DAYS_BIRTH\"] = round(test_df[\"DAYS_BIRTH\"]/-365)\n",
    "test_df[\"DAYS_EMPLOYED\"] = round(test_df[\"DAYS_EMPLOYED\"]/-365)\n",
    "test_df[\"DAYS_REGISTRATION\"] = round(test_df[\"DAYS_REGISTRATION\"]/-365)\n",
    "test_df[\"DAYS_ID_PUBLISH\"] = round(test_df[\"DAYS_ID_PUBLISH\"]/-365)\n",
    "test_df[\"DAYS_LAST_PHONE_CHANGE\"] = round(test_df[\"DAYS_LAST_PHONE_CHANGE\"]/-365)"
   ]
  },
  {
   "cell_type": "code",
   "execution_count": null,
   "id": "4638891c-aed6-4482-b7b8-7ae4e609a3df",
   "metadata": {},
   "outputs": [],
   "source": [
    "train_df.rename(columns={'DAYS_BIRTH':'AGE','DAYS_EMPLOYED': 'YEARS_EMPLOYED',\n",
    "                             'DAYS_REGISTRATION':\"YEARS_REGISTRATION\" , 'DAYS_ID_PUBLISH':'YEARS_ID_PUBLISH', \n",
    "                              'DAYS_LAST_PHONE_CHANGE':\"YEARS_LAST_PHONE_CHANGE\"}, inplace=True)\n",
    "\n",
    "test_df.rename(columns={'DAYS_BIRTH':'AGE','DAYS_EMPLOYED': 'YEARS_EMPLOYED',\n",
    "                             'DAYS_REGISTRATION':\"YEARS_REGISTRATION\" , 'DAYS_ID_PUBLISH':'YEARS_ID_PUBLISH', \n",
    "                              'DAYS_LAST_PHONE_CHANGE':\"YEARS_LAST_PHONE_CHANGE\"}, inplace=True)"
   ]
  },
  {
   "cell_type": "code",
   "execution_count": null,
   "id": "20e239b7-1efc-4bec-99a0-45c598a9f71f",
   "metadata": {
    "scrolled": true,
    "tags": []
   },
   "outputs": [],
   "source": [
    "test_df.columns "
   ]
  },
  {
   "cell_type": "code",
   "execution_count": null,
   "id": "176f175d-ed9e-478a-902e-6d8a10ad17ea",
   "metadata": {
    "tags": []
   },
   "outputs": [],
   "source": [
    "test_df.to_csv(folder+'data/processed_data/test_df.csv',index=False) "
   ]
  },
  {
   "cell_type": "markdown",
   "id": "3a53b3f6-3508-4426-9b53-abaea3abf4fd",
   "metadata": {},
   "source": [
    "### Converting Detected Risk to application Accepted/Rejected\n",
    "We used the mapping:\n",
    "\n",
    "   0    / 1  ->     1   /   0\n",
    "\n",
    "no risk/risk -> accepted/rejected"
   ]
  },
  {
   "cell_type": "code",
   "execution_count": null,
   "id": "209cb402-ab83-431b-bce0-051ee5eeffc7",
   "metadata": {},
   "outputs": [],
   "source": [
    "train_df"
   ]
  },
  {
   "cell_type": "code",
   "execution_count": null,
   "id": "3da6e45b-2d79-48f0-816c-83432d818b27",
   "metadata": {},
   "outputs": [],
   "source": [
    "train_df.replace({'TARGET' : {0:1, 1:0} },inplace=True)"
   ]
  },
  {
   "cell_type": "code",
   "execution_count": null,
   "id": "c4c036ad-b7a5-4cc0-bd3b-33d8992415a5",
   "metadata": {},
   "outputs": [],
   "source": [
    "train_df"
   ]
  },
  {
   "cell_type": "code",
   "execution_count": null,
   "id": "e147f845-54bb-4bea-b928-10dce181a49b",
   "metadata": {
    "tags": []
   },
   "outputs": [],
   "source": [
    "train_df.to_csv(folder+'data/processed_data/train_df.csv',index=False) "
   ]
  },
  {
   "cell_type": "markdown",
   "id": "4eeaa3e1-8d40-467c-bdce-0e97c363f4f6",
   "metadata": {},
   "source": [
    "### Imputation"
   ]
  },
  {
   "cell_type": "markdown",
   "id": "22bf5e9f-46b5-459e-8175-395741071624",
   "metadata": {},
   "source": [
    "Imputing categorical columns with \"Unknown\" label when the value is missing"
   ]
  },
  {
   "cell_type": "code",
   "execution_count": null,
   "id": "1e896c7f-5443-40c8-8014-202f78d19806",
   "metadata": {},
   "outputs": [],
   "source": [
    "train_df_cat = train_df.select_dtypes(exclude=[\"number\"])\n",
    "train_df_cat.fillna(\"Unknown\", inplace = True)"
   ]
  },
  {
   "cell_type": "code",
   "execution_count": null,
   "id": "2d041123-5e86-4912-b910-e6119539c043",
   "metadata": {},
   "outputs": [],
   "source": [
    "test_df_cat = test_df.select_dtypes(exclude=[\"number\"])\n",
    "test_df_cat.fillna(\"Unknown\", inplace = True)"
   ]
  },
  {
   "cell_type": "code",
   "execution_count": null,
   "id": "4d208305-3efd-4405-8af1-46dee8a60fc4",
   "metadata": {},
   "outputs": [],
   "source": [
    "train_df_cat.shape"
   ]
  },
  {
   "cell_type": "code",
   "execution_count": null,
   "id": "fc8a6ae3-8aa1-41d4-bd1e-d9f740bbd954",
   "metadata": {},
   "outputs": [],
   "source": [
    "test_df_cat.shape"
   ]
  },
  {
   "cell_type": "code",
   "execution_count": null,
   "id": "5cb0dfd3-d421-40e7-9a3e-1daec1c68d71",
   "metadata": {},
   "outputs": [],
   "source": [
    "for i in range(len(train_df_cat.columns)):\n",
    "    print(train_df_cat.columns[i])\n",
    "    \n",
    "# List of Columns before Encoding\n",
    "initial_columns = train_df_cat.columns"
   ]
  },
  {
   "cell_type": "markdown",
   "id": "dffbe797-122e-4846-afc4-81800921f123",
   "metadata": {},
   "source": [
    "### Label Encoding\n",
    "Hot encoding categorical variables to numerical values for training and predicting"
   ]
  },
  {
   "cell_type": "code",
   "execution_count": null,
   "id": "f855ba9a-ecff-4bb7-a7f3-0825b4f6d72a",
   "metadata": {},
   "outputs": [],
   "source": [
    "from sklearn import preprocessing\n",
    "le = preprocessing.LabelEncoder()\n",
    "\n",
    "for i in range(len(train_df_cat.columns)):\n",
    "    print(train_df_cat.columns[i])\n",
    "    train_df_cat[str(train_df_cat.columns[i]) + \"_LE\"] = le.fit_transform(train_df_cat[train_df_cat.columns[i]])\n",
    "    test_df_cat[str(test_df_cat.columns[i]) + \"_LE\"] = le.fit_transform(test_df_cat[train_df_cat.columns[i]])"
   ]
  },
  {
   "cell_type": "code",
   "execution_count": null,
   "id": "1b29265f-d296-41aa-b0be-324ad64d666e",
   "metadata": {},
   "outputs": [],
   "source": [
    "train_df_cat"
   ]
  },
  {
   "cell_type": "code",
   "execution_count": null,
   "id": "069d2484-c803-4bec-a412-9a1c553dd707",
   "metadata": {},
   "outputs": [],
   "source": [
    "test_df_cat"
   ]
  },
  {
   "cell_type": "markdown",
   "id": "e215962f-8be7-4027-86a8-65857fbc3315",
   "metadata": {},
   "source": [
    "### Imputing Numerical Columns with average values when a value is missing"
   ]
  },
  {
   "cell_type": "code",
   "execution_count": null,
   "id": "87d052f0-1940-4f59-a7dd-5136c7b1c3d0",
   "metadata": {},
   "outputs": [],
   "source": [
    "train_df_num = train_df.select_dtypes(include=[\"number\"])\n",
    "train_df_num.fillna(train_df_num.mean(), inplace = True)\n",
    "train_df_num"
   ]
  },
  {
   "cell_type": "code",
   "execution_count": null,
   "id": "1ccceaa5-cef3-4232-b24b-304ddf9d989b",
   "metadata": {},
   "outputs": [],
   "source": [
    "test_df_num = test_df.select_dtypes(include=[\"number\"])\n",
    "test_df_num.fillna(test_df_num.mean(), inplace = True)\n",
    "test_df_num"
   ]
  },
  {
   "cell_type": "code",
   "execution_count": null,
   "id": "2838b5a2-c709-4ba5-9d16-97fd8878f9da",
   "metadata": {},
   "outputs": [],
   "source": [
    "train_df_num.columns"
   ]
  },
  {
   "cell_type": "code",
   "execution_count": null,
   "id": "4829420a-58ae-4c68-8faa-4903a3e86126",
   "metadata": {},
   "outputs": [],
   "source": [
    "a = test_df_num['AGE']\n",
    "a.max()"
   ]
  },
  {
   "cell_type": "code",
   "execution_count": null,
   "id": "9101b145-eb63-4d1e-b54a-042932f737e1",
   "metadata": {},
   "outputs": [],
   "source": [
    "train_df_cat[\"ORGANIZATION_TYPE_LE\"].max()"
   ]
  },
  {
   "cell_type": "code",
   "execution_count": null,
   "id": "3b09e6e9-2e0f-4def-b428-589b99b6595a",
   "metadata": {},
   "outputs": [],
   "source": [
    "a = test_df_num['AMT_INCOME_TOTAL']/10000\n",
    "a.max()"
   ]
  },
  {
   "cell_type": "markdown",
   "id": "cb411b9d-0dcf-44e9-a854-be1eea02b862",
   "metadata": {},
   "source": [
    "### Normalisation"
   ]
  },
  {
   "cell_type": "code",
   "execution_count": null,
   "id": "2368eccf-fd36-4c9f-8ea0-dc967cd4e5b8",
   "metadata": {},
   "outputs": [],
   "source": [
    "absurdly_high_value_features = ['AMT_INCOME_TOTAL','AMT_CREDIT', 'AMT_ANNUITY', 'AMT_GOODS_PRICE']"
   ]
  },
  {
   "cell_type": "code",
   "execution_count": null,
   "id": "c4674ebe-3842-4389-895d-74f331a6ee2e",
   "metadata": {},
   "outputs": [],
   "source": [
    "for i in absurdly_high_value_features: \n",
    "    \n",
    "    train_df_num[i] = round(train_df_num[i]/10000)\n",
    "    test_df_num[i] = round(test_df_num[i]/10000)"
   ]
  },
  {
   "cell_type": "code",
   "execution_count": null,
   "id": "71ef600b-3c40-4ce9-8501-52f35c772edd",
   "metadata": {},
   "outputs": [],
   "source": [
    "train_df.columns"
   ]
  },
  {
   "cell_type": "code",
   "execution_count": null,
   "id": "2df3c3db-3b74-446c-a28f-49c60d6ebe8d",
   "metadata": {},
   "outputs": [],
   "source": [
    "train_df_new = pd.concat([train_df_num, train_df_cat], axis=1)"
   ]
  },
  {
   "cell_type": "code",
   "execution_count": null,
   "id": "79e75626-5389-4db7-8321-7ee90cda6537",
   "metadata": {},
   "outputs": [],
   "source": [
    "train_df_new"
   ]
  },
  {
   "cell_type": "code",
   "execution_count": null,
   "id": "51041ac7-7d5b-4101-ae3f-791ae6cfc49d",
   "metadata": {},
   "outputs": [],
   "source": [
    "test_df_new = pd.concat([test_df_num, test_df_cat], axis=1)"
   ]
  },
  {
   "cell_type": "code",
   "execution_count": null,
   "id": "4e7b9f7b-1729-440d-910e-4cf20ba1f1ec",
   "metadata": {},
   "outputs": [],
   "source": [
    "test_df_new"
   ]
  },
  {
   "cell_type": "code",
   "execution_count": null,
   "id": "a89856d3-6d72-4884-9c65-ebcefc926843",
   "metadata": {},
   "outputs": [],
   "source": [
    "# Drop categorical columns before encoding\n",
    "train_df_final = train_df_new.drop(columns = initial_columns)\n",
    "# train_df_final.drop(columns = [\"SK_ID_CURR\"],inplace = True)\n",
    "# train_df_final.to_csv(folder+'data/processed_data/train_df_final.csv',index=False) "
   ]
  },
  {
   "cell_type": "code",
   "execution_count": null,
   "id": "5d8f364e-403e-4255-9301-76709a9ceb82",
   "metadata": {},
   "outputs": [],
   "source": [
    "test_df_final = test_df_new.drop(columns = initial_columns)\n",
    "# test_df_final.drop(columns = [\"SK_ID_CURR\"],inplace = True)\n",
    "test_df_final.to_csv(folder+'data/processed_data/test_df_final.csv',index=False) "
   ]
  },
  {
   "cell_type": "markdown",
   "id": "85b296de-5aea-4b58-8a0e-dfd848c98866",
   "metadata": {},
   "source": [
    "Final Shapes"
   ]
  },
  {
   "cell_type": "code",
   "execution_count": null,
   "id": "86542748-879f-435b-81bf-e320e1fcc718",
   "metadata": {
    "tags": []
   },
   "outputs": [],
   "source": [
    "train_df_final.shape"
   ]
  },
  {
   "cell_type": "code",
   "execution_count": null,
   "id": "d782cce3-a9a9-4e3c-b31b-29bcc21b5941",
   "metadata": {},
   "outputs": [],
   "source": [
    "test_df_final.shape"
   ]
  },
  {
   "cell_type": "markdown",
   "id": "1499ab27-c857-4ab5-be94-afda60e81e05",
   "metadata": {},
   "source": [
    "## Training-Test Sets Split\n",
    "Note: This splitting generates a test set from the Home Credit Dataset's original training set. This test set will be used as a form of validation set to test the accuracy and fairness of the AI model before and after integrating participants' feedback. This test set, the *train_df_test* as we call it, is different from the *test_df* set, which is a subset of the Home Credit Dataset's original test set used to be shown to participants through the UI prototype and ask them to provide feedback."
   ]
  },
  {
   "cell_type": "code",
   "execution_count": null,
   "id": "ae2bab4b-ca15-4d52-be32-1a4337ba2fdd",
   "metadata": {
    "tags": []
   },
   "outputs": [],
   "source": [
    "## Splitting of independent and dependent variable\n",
    "X = train_df_final.loc[:, train_df_final.columns != 'TARGET']\n",
    "y = train_df_final.loc[:, train_df_final.columns == 'TARGET']\n",
    "\n",
    "display(X.shape)\n",
    "display(y.shape)"
   ]
  },
  {
   "cell_type": "code",
   "execution_count": null,
   "id": "2d55ae13-bad7-4123-af08-8dcd4ccece5f",
   "metadata": {
    "tags": []
   },
   "outputs": [],
   "source": [
    "from sklearn.model_selection import train_test_split\n",
    "\n",
    "X_train_original, X_test_original,y_train_original, y_test_original = train_test_split(X,y, test_size = 0.3, random_state = 15,shuffle=True)\n",
    "\n",
    "print(X.shape)\n",
    "\n",
    "print(\"Trainning and Validation Set for X\", X_train_original.shape)\n",
    "print(\"Trainning and Validation Set for y\",y_train_original.shape)\n",
    "print(\"Test Set for X\",X_test_original.shape)\n",
    "print(\"Test Set for y\",y_test_original.shape)"
   ]
  },
  {
   "cell_type": "code",
   "execution_count": null,
   "id": "87ded2ef-29b7-4a2a-88f7-bef3db634998",
   "metadata": {
    "tags": []
   },
   "outputs": [],
   "source": [
    "train_df_train = pd.concat([X_train_original, y_train_original], axis=1)\n",
    "train_df_train.to_csv(folder+'data/processed_data/train_df_train.csv',index=False) \n",
    "train_df_train"
   ]
  },
  {
   "cell_type": "code",
   "execution_count": null,
   "id": "e59fc9a5-f036-4a0c-af72-3165979e9a21",
   "metadata": {
    "tags": []
   },
   "outputs": [],
   "source": [
    "train_df_test = pd.concat([X_test_original, y_test_original], axis=1)\n",
    "# train_df_test.to_csv('train_df_test.csv',index=True, index_label='index') \n",
    "train_df_test.to_csv(folder+'data/processed_data/train_df_test.csv',index=False) \n",
    "train_df_test"
   ]
  },
  {
   "cell_type": "code",
   "execution_count": null,
   "id": "5f1921aa-58af-4ca0-babd-63f882b171ed",
   "metadata": {},
   "outputs": [],
   "source": []
  }
 ],
 "metadata": {
  "kernelspec": {
   "display_name": "Python 3 (ipykernel)",
   "language": "python",
   "name": "python3"
  },
  "language_info": {
   "codemirror_mode": {
    "name": "ipython",
    "version": 3
   },
   "file_extension": ".py",
   "mimetype": "text/x-python",
   "name": "python",
   "nbconvert_exporter": "python",
   "pygments_lexer": "ipython3",
   "version": "3.11.4"
  }
 },
 "nbformat": 4,
 "nbformat_minor": 5
}
