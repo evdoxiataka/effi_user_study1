{
 "cells": [
  {
   "cell_type": "code",
   "execution_count": null,
   "id": "bb72f17f-bd9c-40fa-b203-5f9fabad8e4b",
   "metadata": {
    "tags": []
   },
   "outputs": [],
   "source": [
    "import pandas as pd\n",
    "import numpy as np\n",
    "\n",
    "########################SET folder to project directory path#####################\n",
    "folder=\"\""
   ]
  },
  {
   "cell_type": "markdown",
   "id": "632fc0ef-a272-4c1d-9d49-e499e0da1baa",
   "metadata": {},
   "source": [
    "## Loading Training - Test Sets"
   ]
  },
  {
   "cell_type": "code",
   "execution_count": null,
   "id": "07409c42-fbd0-47b1-9f5c-f4bf154554b3",
   "metadata": {
    "tags": []
   },
   "outputs": [],
   "source": [
    "test_df = pd.read_csv(folder+'data/processed_data/Model_Predictions.csv', delimiter=',')\n",
    "predictions_test = test_df.loc[:, test_df.columns == 'Predicted_Result']\n",
    "predictions_test.replace({'Predicted_Result' : { 'Accepted':1, 'Rejected':0}},inplace=True)\n",
    "predictions_test = predictions_test['Predicted_Result'].tolist()\n",
    "\n",
    "test_df_final = pd.read_csv(folder+'data/processed_data/test_df_final.csv', delimiter=',')\n",
    "ft_df = pd.read_csv(folder+'data/processed_data/FeatureImportance.csv', delimiter=',')"
   ]
  },
  {
   "cell_type": "markdown",
   "id": "4291eb86-d18f-40d7-be93-4a4d943ae582",
   "metadata": {},
   "source": [
    "## Preparation of data (1000 applications) that will be shown to participants through the UI\n",
    "\n",
    "The applications in test set (test_df) constitute the data that will be shown to participants in user study 1.\n",
    "\n",
    "The predicted label, prediction confidence, the importance weight and indegree and outdegree of each variable (feature) for each application are included here to the data that will be shown to participants."
   ]
  },
  {
   "cell_type": "code",
   "execution_count": null,
   "id": "0609a96a-14e8-4340-a397-b8bb3a9a6a10",
   "metadata": {},
   "outputs": [],
   "source": [
    "## Some categorical data manipulation: numerical values to categorical\n",
    "test_df.replace({'NAME_CONTRACT_TYPE' : { 'Cash loans' :'Fixed', 'Revolving loans' : 'Not Fixed'}},inplace=True)\n",
    "\n",
    "test_df.replace({'FLAG_OWN_CAR' : { \"N\" :'No', \"Y\" : 'Yes'}},inplace=True)\n",
    "\n",
    "test_df.replace({'FLAG_OWN_REALTY' : { \"N\" :'No', \"Y\" : 'Yes'}},inplace=True)\n",
    "\n",
    "\n",
    "test_df.replace({'FLAG_MOBIL' : { 0 :'No', 1 : 'Yes'}},inplace=True)\n",
    "\n",
    "test_df.replace({'FLAG_EMP_PHONE' : { 0 :'No', 1 : 'Yes'}},inplace=True)\n",
    "\n",
    "test_df.replace({'FLAG_WORK_PHONE' : { 0 :'No', 1 : 'Yes'}},inplace=True)\n",
    "\n",
    "test_df.replace({'FLAG_CONT_MOBILE' : { 0 :'No', 1 : 'Yes'}},inplace=True)\n",
    "\n",
    "test_df.replace({'FLAG_PHONE' : { 0 :'No', 1 : 'Yes'}},inplace=True)\n",
    "\n",
    "test_df.replace({'FLAG_EMAIL' : { 0 :'No', 1 : 'Yes'}},inplace=True)\n",
    "\n",
    "\n",
    "test_df.replace({'REG_REGION_NOT_LIVE_REGION' : { 0 :'Same', 1 : 'Different'}},inplace=True)\n",
    "\n",
    "test_df.replace({'REG_REGION_NOT_WORK_REGION' : { 0 :'Same', 1 : 'Different'}},inplace=True)\n",
    "\n",
    "test_df.replace({'LIVE_REGION_NOT_WORK_REGION' : { 0 :'Same', 1 : 'Different'}},inplace=True)\n",
    "\n",
    "test_df.replace({'REG_CITY_NOT_LIVE_CITY' : { 0 :'Same', 1 : 'Different'}},inplace=True)\n",
    "\n",
    "test_df.replace({'REG_CITY_NOT_WORK_CITY' : { 0 :'Same', 1 : 'Different'}},inplace=True)\n",
    "\n",
    "test_df.replace({'LIVE_CITY_NOT_WORK_CITY' : { 0 :'Same', 1 : 'Different'}},inplace=True)\n",
    "\n",
    "test_df.replace({'CODE_GENDER' : { \"F\" :'Female', \"M\" :'Male'}},inplace=True)\n",
    "\n",
    "test_df.replace({'YEARS_EMPLOYED' : { -1001 :np.nan}},inplace=True)\n",
    "\n",
    "test_df"
   ]
  },
  {
   "cell_type": "code",
   "execution_count": null,
   "id": "9ec7f60c-f460-429a-a0ff-9cdae5076caa",
   "metadata": {},
   "outputs": [],
   "source": [
    "test_df.to_csv(folder+\"data/processed_data/Model_Predictions_Converted.csv\", index=False)"
   ]
  },
  {
   "cell_type": "markdown",
   "id": "63d73826-a52e-4835-967a-fa374cf77ca0",
   "metadata": {},
   "source": [
    "### Some checks"
   ]
  },
  {
   "cell_type": "code",
   "execution_count": null,
   "id": "ca136039-3dab-4b1b-8f23-db25f533cdf5",
   "metadata": {},
   "outputs": [],
   "source": [
    "## some checks\n",
    "df = test_df.select_dtypes(exclude=[\"number\"])\n",
    "for col in df:\n",
    "    print(df[col].unique())"
   ]
  },
  {
   "cell_type": "code",
   "execution_count": null,
   "id": "8a37fa79-07fa-4204-8f1b-b3b38a76a8e9",
   "metadata": {},
   "outputs": [],
   "source": [
    "test_df"
   ]
  },
  {
   "cell_type": "code",
   "execution_count": null,
   "id": "5aec326b-63df-409a-8d91-100cba021319",
   "metadata": {},
   "outputs": [],
   "source": [
    "categorical_features = test_df.iloc[:,4:].select_dtypes(exclude=[\"number\"]).columns\n",
    "categorical_features"
   ]
  },
  {
   "cell_type": "code",
   "execution_count": null,
   "id": "3839ca10-9d10-4e09-a5d5-74098f3abb0a",
   "metadata": {},
   "outputs": [],
   "source": [
    "test_df.iloc[:,4:].select_dtypes(include=[\"number\"])"
   ]
  },
  {
   "cell_type": "code",
   "execution_count": null,
   "id": "d2a79b3f-67f2-4728-ac66-b55b56f07cc4",
   "metadata": {},
   "outputs": [],
   "source": [
    "numerical_features = test_df.iloc[:,4:].select_dtypes(include=[\"number\"]).columns\n",
    "# numerical_features"
   ]
  },
  {
   "cell_type": "code",
   "execution_count": null,
   "id": "e7dbbe60-0045-4a8f-85b8-db22df933257",
   "metadata": {},
   "outputs": [],
   "source": [
    "test_df.iloc[:,4:].columns"
   ]
  },
  {
   "cell_type": "markdown",
   "id": "70b3e834-6684-49a4-8c84-934f42d3eebd",
   "metadata": {},
   "source": [
    "### Fairness Metrics (Demographic Parity - Consistency)\n",
    "Binning is used for the calculation of the fairness metrics.\n",
    "\n",
    "Fairlearn library is used.\n",
    "\n",
    "The fairness metrics are calculated per feature."
   ]
  },
  {
   "cell_type": "code",
   "execution_count": null,
   "id": "4603a1a9-cf8f-4e1d-ba1b-fe21d4ade7bc",
   "metadata": {},
   "outputs": [],
   "source": [
    "dp_ratio_features = {}"
   ]
  },
  {
   "cell_type": "markdown",
   "id": "0760e0b4-1e35-4356-b03b-f725f2e3a421",
   "metadata": {},
   "source": [
    "#### 1. NAME_CONTRACT_TYPE"
   ]
  },
  {
   "cell_type": "code",
   "execution_count": null,
   "id": "b69ba184-f205-407c-910a-0d4e15c691ff",
   "metadata": {},
   "outputs": [],
   "source": [
    "test_df[\"NAME_CONTRACT_TYPE\"].unique()"
   ]
  },
  {
   "cell_type": "code",
   "execution_count": null,
   "id": "1161f33f-874f-4218-ab13-a091aaf8d00d",
   "metadata": {},
   "outputs": [],
   "source": [
    "from fairlearn.metrics import MetricFrame\n",
    "from fairlearn.metrics import selection_rate\n",
    "\n",
    "sr_contract_type = MetricFrame(metrics=selection_rate, y_true=predictions_test, y_pred=predictions_test, sensitive_features=test_df[\"NAME_CONTRACT_TYPE\"])\n",
    "# display(sr.overall)\n",
    "display(sr_contract_type.by_group)"
   ]
  },
  {
   "cell_type": "code",
   "execution_count": null,
   "id": "ba436a18-beab-4717-a46c-acf1e60f661b",
   "metadata": {},
   "outputs": [],
   "source": [
    "contract_type_risk_groups= {\"Fixed \" : round(100*sr_contract_type.by_group.loc[\"Fixed\"]), \n",
    "                           \"Not Fixed \" : round(100*sr_contract_type.by_group.loc[\"Not Fixed\"])}\n",
    "\n",
    "contract_type_risk_groups\n",
    "\n",
    "import matplotlib.pyplot as plt\n",
    "fig = plt.figure()\n",
    "ax = fig.add_axes([0,0,1,1])\n",
    "\n",
    "bars = ax.bar(contract_type_risk_groups.keys(),contract_type_risk_groups.values(), width=0.4, color = \"green\")\n",
    "ax.bar_label(bars)\n",
    "plt.title(\"Selection Rate vs NAME_CONTRACT_TYPE\")\n",
    "plt.xlabel('NAME_CONTRACT_TYPE')\n",
    "plt.ylabel('Risk Rate in %')\n",
    "plt.show()"
   ]
  },
  {
   "cell_type": "code",
   "execution_count": null,
   "id": "a57b1d0a-66a8-465d-bfc3-1bf9dbbca80c",
   "metadata": {},
   "outputs": [],
   "source": [
    "print(\"The dp difference for NAME_CONTRACT_TYPE is \", max(contract_type_risk_groups.values()) - min(contract_type_risk_groups.values()))\n",
    "\n",
    "contract_type_dp = round(min(contract_type_risk_groups.values()) / max(contract_type_risk_groups.values()),2)\n",
    "print(\"The dp ratio for NAME_CONTRACT_TYPE is \", contract_type_dp)\n",
    "\n",
    "dp_ratio_features.update({\"NAME_CONTRACT_TYPE\": contract_type_dp})"
   ]
  },
  {
   "cell_type": "code",
   "execution_count": null,
   "id": "1f6837e3-6a7d-45e2-99d6-e9d97a64ebd1",
   "metadata": {},
   "outputs": [],
   "source": [
    "dp_ratio_features"
   ]
  },
  {
   "cell_type": "markdown",
   "id": "dc1ff735-7601-4156-8f8d-b472aed79679",
   "metadata": {},
   "source": [
    "#### 2. CODE_GENDER"
   ]
  },
  {
   "cell_type": "code",
   "execution_count": null,
   "id": "63bb1983-c8ae-4b30-ac96-58a8d00a0711",
   "metadata": {},
   "outputs": [],
   "source": [
    "test_df[\"CODE_GENDER\"].unique()"
   ]
  },
  {
   "cell_type": "code",
   "execution_count": null,
   "id": "8900d361-ac21-41f4-98be-c48369ecbe25",
   "metadata": {},
   "outputs": [],
   "source": [
    "sr_gender = MetricFrame(metrics=selection_rate, y_true=predictions_test, y_pred=predictions_test, sensitive_features=test_df[\"CODE_GENDER\"])\n",
    "# display(sr.overall)\n",
    "display(sr_gender.by_group)"
   ]
  },
  {
   "cell_type": "code",
   "execution_count": null,
   "id": "1072fd2d-9b16-4003-ae62-5eb46bc19baa",
   "metadata": {},
   "outputs": [],
   "source": [
    "gender_risk_groups= {\"Female \" : round(100*sr_gender.by_group.loc[\"Female\"]), \n",
    "                           \"Male\" : round(100*sr_gender.by_group.loc[\"Male\"])}\n",
    "\n",
    "gender_risk_groups\n",
    "\n",
    "fig = plt.figure()\n",
    "ax = fig.add_axes([0,0,1,1])\n",
    "\n",
    "bars = ax.bar(gender_risk_groups.keys(),gender_risk_groups.values(), width=0.4, color = \"green\")\n",
    "ax.bar_label(bars)\n",
    "plt.title(\"Risk Rate vs CODE_GENDER\")\n",
    "plt.xlabel('CODE_GENDER')\n",
    "plt.ylabel('Risk Rate in %')\n",
    "plt.show()"
   ]
  },
  {
   "cell_type": "code",
   "execution_count": null,
   "id": "b1fb7ea0-cf65-4094-8ef6-f677a68e8737",
   "metadata": {},
   "outputs": [],
   "source": [
    "print(\"The dp difference for CODE_GENDER is \", max(gender_risk_groups.values()) - min(gender_risk_groups.values()))\n",
    "\n",
    "gender_dp = round(min(gender_risk_groups.values()) / max(gender_risk_groups.values()),2)\n",
    "print(\"The dp ratio for CODE_GENDER is \", gender_dp)\n",
    "\n",
    "dp_ratio_features.update({\"CODE_GENDER\": gender_dp})"
   ]
  },
  {
   "cell_type": "code",
   "execution_count": null,
   "id": "80e91aa2-e200-4db4-8d65-3399022f623f",
   "metadata": {},
   "outputs": [],
   "source": [
    "dp_ratio_features"
   ]
  },
  {
   "cell_type": "markdown",
   "id": "1fe7ba0e-8b89-4112-890b-4ac57b80bb2c",
   "metadata": {},
   "source": [
    "#### 3. FLAG_OWN_CAR"
   ]
  },
  {
   "cell_type": "code",
   "execution_count": null,
   "id": "1e838fed-4f0f-4b69-a3ea-b0675612d0bd",
   "metadata": {},
   "outputs": [],
   "source": [
    "test_df[\"FLAG_OWN_CAR\"].unique()"
   ]
  },
  {
   "cell_type": "code",
   "execution_count": null,
   "id": "5f887df9-34f1-49ba-bac3-f1d9f549770b",
   "metadata": {},
   "outputs": [],
   "source": [
    "sr_car = MetricFrame(metrics=selection_rate, y_true=predictions_test, y_pred=predictions_test, sensitive_features=test_df[\"FLAG_OWN_CAR\"])\n",
    "# display(sr.overall)\n",
    "display(sr_car.by_group)"
   ]
  },
  {
   "cell_type": "code",
   "execution_count": null,
   "id": "96018c21-7aaf-4a50-826f-34dabbf9fb55",
   "metadata": {},
   "outputs": [],
   "source": [
    "car_risk_groups= {\"No\" : round(100*sr_car.by_group.loc[\"No\"]), \n",
    "                           \"Yes\" : round(100*sr_car.by_group.loc[\"Yes\"])}\n",
    "\n",
    "car_risk_groups\n",
    "\n",
    "fig = plt.figure()\n",
    "ax = fig.add_axes([0,0,1,1])\n",
    "\n",
    "bars = ax.bar(car_risk_groups.keys(),car_risk_groups.values(), width=0.4, color = \"green\")\n",
    "ax.bar_label(bars)\n",
    "plt.title(\"Risk Rate vs FLAG_OWN_CAR\")\n",
    "plt.xlabel('FLAG_OWN_CAR')\n",
    "plt.ylabel('Risk Rate in %')\n",
    "plt.show()"
   ]
  },
  {
   "cell_type": "code",
   "execution_count": null,
   "id": "4692fa2c-8ac3-46e3-bb3d-2295a6c9f92d",
   "metadata": {},
   "outputs": [],
   "source": [
    "print(\"The dp difference for FLAG_OWN_CAR is \", max(car_risk_groups.values()) - min(car_risk_groups.values()))\n",
    "\n",
    "car_dp = round(min(car_risk_groups.values()) / max(car_risk_groups.values()),2)\n",
    "print(\"The dp ratio for FLAG_OWN_CAR is \", car_dp)\n",
    "\n",
    "dp_ratio_features.update({\"FLAG_OWN_CAR\": car_dp})"
   ]
  },
  {
   "cell_type": "code",
   "execution_count": null,
   "id": "0cd559a2-27e5-4753-b5cb-5572b78fa42e",
   "metadata": {},
   "outputs": [],
   "source": [
    "dp_ratio_features"
   ]
  },
  {
   "cell_type": "markdown",
   "id": "e82cfa41-74cf-4897-8953-4fb5179bcdcb",
   "metadata": {},
   "source": [
    "####  4. FLAG_OWN_REALTY"
   ]
  },
  {
   "cell_type": "code",
   "execution_count": null,
   "id": "3643c2c9-5916-4a0b-8a68-29045123cd4b",
   "metadata": {},
   "outputs": [],
   "source": [
    "test_df[\"FLAG_OWN_REALTY\"].unique()"
   ]
  },
  {
   "cell_type": "code",
   "execution_count": null,
   "id": "42272a75-d345-44d4-84eb-8c2760aca200",
   "metadata": {},
   "outputs": [],
   "source": [
    "sr_realty = MetricFrame(metrics=selection_rate, y_true=predictions_test, y_pred=predictions_test, sensitive_features=test_df[\"FLAG_OWN_REALTY\"])\n",
    "# display(sr.overall)\n",
    "display(sr_realty.by_group)"
   ]
  },
  {
   "cell_type": "code",
   "execution_count": null,
   "id": "64d090f5-2f63-403d-ae6a-fcc9a4b25827",
   "metadata": {},
   "outputs": [],
   "source": [
    "realty_risk_groups= {\"No\" : round(100*sr_realty.by_group.loc[\"No\"]), \n",
    "                           \"Yes\" : round(100*sr_realty.by_group.loc[\"Yes\"])}\n",
    "\n",
    "realty_risk_groups\n",
    "\n",
    "fig = plt.figure()\n",
    "ax = fig.add_axes([0,0,1,1])\n",
    "\n",
    "bars = ax.bar(realty_risk_groups.keys(),realty_risk_groups.values(), width=0.4, color = \"green\")\n",
    "ax.bar_label(bars)\n",
    "plt.title(\"Risk Rate vs FLAG_OWN_REALTY\")\n",
    "plt.xlabel('FLAG_OWN_REALTY')\n",
    "plt.ylabel('Risk Rate in %')\n",
    "plt.show()"
   ]
  },
  {
   "cell_type": "code",
   "execution_count": null,
   "id": "dfcd1de6-d31b-4e38-aad7-e36f451716cf",
   "metadata": {},
   "outputs": [],
   "source": [
    "print(\"The dp difference for FLAG_OWN_REALTY is \", max(realty_risk_groups.values()) - min(realty_risk_groups.values()))\n",
    "\n",
    "realty_dp = round(min(realty_risk_groups.values()) / max(realty_risk_groups.values()),2)\n",
    "print(\"The dp ratio for FLAG_OWN_REALTY is \", realty_dp)\n",
    "\n",
    "dp_ratio_features.update({\"FLAG_OWN_REALTY\": realty_dp})"
   ]
  },
  {
   "cell_type": "code",
   "execution_count": null,
   "id": "8bdffdff-6e1b-40f5-a34f-cf80e77d063e",
   "metadata": {},
   "outputs": [],
   "source": [
    "dp_ratio_features"
   ]
  },
  {
   "cell_type": "markdown",
   "id": "a0c6b163-7415-487c-9b0e-05a2c2b0c98f",
   "metadata": {},
   "source": [
    "#### 5. CNT_CHILDREN"
   ]
  },
  {
   "cell_type": "markdown",
   "id": "1874df52-92af-41e9-8721-7d9d5a850614",
   "metadata": {},
   "source": [
    "Each Selection"
   ]
  },
  {
   "cell_type": "code",
   "execution_count": null,
   "id": "54213a8e-0a2b-4833-a7b5-40f60f59c5fd",
   "metadata": {},
   "outputs": [],
   "source": [
    "sr_children = MetricFrame(metrics=selection_rate, y_true=predictions_test, y_pred=predictions_test, sensitive_features=test_df[\"CNT_CHILDREN\"])\n",
    "# display(sr.overall)\n",
    "display(sr_children.by_group)"
   ]
  },
  {
   "cell_type": "code",
   "execution_count": null,
   "id": "43d37eb9-f720-49d3-a6c1-d4d809e47004",
   "metadata": {},
   "outputs": [],
   "source": [
    "less_than_2 = sr_children.by_group.loc[0:2]\n",
    "three_to_five = sr_children.by_group.loc[3:5]\n",
    "five_to_eight = sr_children.by_group.loc[5:8]\n",
    "\n",
    "less_than_2_risk_rate = round(np.mean(less_than_2),2)\n",
    "three_to_five_risk_rate = round(np.mean(three_to_five),2)\n",
    "five_to_eight_risk_rate = round(np.mean(five_to_eight),2)\n",
    "\n",
    "\n",
    "cnt_children_risk_groups= {\"0-2\" : 100*less_than_2_risk_rate, \"3-5\" : round(100*three_to_five_risk_rate), \n",
    "                  \"5-8\": 100*five_to_eight_risk_rate}\n",
    "\n",
    "cnt_children_risk_groups"
   ]
  },
  {
   "cell_type": "code",
   "execution_count": null,
   "id": "42f5ec43-d881-4f87-bcb7-819f4741b62b",
   "metadata": {},
   "outputs": [],
   "source": [
    "fig = plt.figure()\n",
    "ax = fig.add_axes([0,0,1,1])\n",
    "\n",
    "bars = ax.bar(cnt_children_risk_groups.keys(),cnt_children_risk_groups.values(), width=0.4, color = \"green\")\n",
    "ax.bar_label(bars)\n",
    "plt.title(\"Risk Rate vs Count Children\")\n",
    "plt.xlabel('Count Children')\n",
    "plt.ylabel('Risk Rate in %')\n",
    "plt.show()"
   ]
  },
  {
   "cell_type": "code",
   "execution_count": null,
   "id": "3ba793e6-1f08-4416-b747-27a8c726de09",
   "metadata": {},
   "outputs": [],
   "source": [
    "print(\"The dp difference for Count Children is \", max(cnt_children_risk_groups.values()) - min(cnt_children_risk_groups.values()))\n",
    "\n",
    "cnt_children_dp = round(min(cnt_children_risk_groups.values()) / max(cnt_children_risk_groups.values()),2)\n",
    "print(\"The dp ratio for Count Children is \", cnt_children_dp)\n",
    "\n",
    "dp_ratio_features.update({\"CNT_CHILDREN\": cnt_children_dp})"
   ]
  },
  {
   "cell_type": "code",
   "execution_count": null,
   "id": "5b1f1039-d85c-4412-88ab-8cda1482ee59",
   "metadata": {},
   "outputs": [],
   "source": [
    "dp_ratio_features"
   ]
  },
  {
   "cell_type": "markdown",
   "id": "9ee2794d-7f38-443b-87be-4b91bf0b716f",
   "metadata": {},
   "source": [
    "#### 6. AMT_INCOME_TOTAL"
   ]
  },
  {
   "cell_type": "code",
   "execution_count": null,
   "id": "7b5b7ff6-25d8-40db-ab81-d56c4a3bb223",
   "metadata": {},
   "outputs": [],
   "source": [
    "test_df[\"AMT_INCOME_TOTAL\"].min(), test_df[\"AMT_INCOME_TOTAL\"].max()"
   ]
  },
  {
   "cell_type": "code",
   "execution_count": null,
   "id": "9a6f44ac-9826-4a34-8fe0-ed0ffcff64f3",
   "metadata": {},
   "outputs": [],
   "source": [
    "# <100,000\n",
    "# 100,000 - 150,000\n",
    "# 150,000 - 200,000\n",
    "# 200,000 - 250,000\n",
    "# >250,000"
   ]
  },
  {
   "cell_type": "code",
   "execution_count": null,
   "id": "1377d0b6-406d-4cd1-8d21-b3027a6c59e8",
   "metadata": {},
   "outputs": [],
   "source": [
    "sr_income = MetricFrame(metrics=selection_rate, y_true=predictions_test, y_pred=predictions_test, sensitive_features=test_df[\"AMT_INCOME_TOTAL\"])\n",
    "# display(sr.overall)\n",
    "display(sr_income.by_group)"
   ]
  },
  {
   "cell_type": "code",
   "execution_count": null,
   "id": "32d1f4bb-cd6b-4c3e-ab25-b3c20fca3f5d",
   "metadata": {},
   "outputs": [],
   "source": [
    "less_100k = sr_income.by_group.loc[:100000]\n",
    "btw_100k_150k = sr_income.by_group.loc[100000:150000]\n",
    "btw_150k_200k = sr_income.by_group.loc[150000:200000]\n",
    "btw_200k_250k = sr_income.by_group.loc[200000:250000]\n",
    "gt_250k = sr_income.by_group.loc[250000:]\n",
    "\n",
    "\n",
    "# display(len(less_100k))\n",
    "# display(len(btw_100k_150k))\n",
    "# display(len(btw_150k_200k))\n",
    "# display(len(btw_200k_250k))\n",
    "# display(len(gt_250k))\n",
    "\n",
    "\n",
    "less_100k_risk_rate = 100*round(np.mean(less_100k),2)\n",
    "btw_100k_150k_risk_rate = 100*round(np.mean(btw_100k_150k),2)\n",
    "btw_150k_200k_risk_rate = 100*round(np.mean(btw_150k_200k),2)\n",
    "btw_200k_250k_risk_rate = 100*round(np.mean(btw_200k_250k),2)\n",
    "gt_250k_risk_rate = 100*round(np.mean(gt_250k),2)\n",
    "\n",
    "\n",
    "income_risk_groups= {\"<100K\" : round(less_100k_risk_rate), \"100K-150K\" : btw_100k_150k_risk_rate, \n",
    "                     \"150K-200K\" :  btw_150k_200k_risk_rate, \"200K-250K\": btw_200k_250k_risk_rate, \">250K\": gt_250k_risk_rate}\n",
    "\n",
    "income_risk_groups"
   ]
  },
  {
   "cell_type": "code",
   "execution_count": null,
   "id": "ba92c581-6ae3-4292-93b2-27e443f6d8f0",
   "metadata": {},
   "outputs": [],
   "source": [
    "\n",
    "fig = plt.figure()\n",
    "ax = fig.add_axes([0,0,1,1])\n",
    "\n",
    "bars = ax.bar(income_risk_groups.keys(),income_risk_groups.values(), width=0.4, color = \"green\")\n",
    "ax.bar_label(bars)\n",
    "plt.title(\"Risk Rate vs Income\")\n",
    "plt.xlabel('Income')\n",
    "plt.ylabel('Risk Rate in %')\n",
    "plt.show()"
   ]
  },
  {
   "cell_type": "code",
   "execution_count": null,
   "id": "09221582-da66-484e-9897-b361f6774402",
   "metadata": {
    "scrolled": true
   },
   "outputs": [],
   "source": [
    "print(\"The dp difference for Amount Income is \", max(income_risk_groups.values()) - min(income_risk_groups.values()))\n",
    "\n",
    "income_dp = round(min(income_risk_groups.values()) / max(income_risk_groups.values()),2)\n",
    "print(\"The dp ratio for Count Children is \", income_dp)\n",
    "\n",
    "dp_ratio_features.update({\"AMT_INCOME_TOTAL\": income_dp})"
   ]
  },
  {
   "cell_type": "code",
   "execution_count": null,
   "id": "be129107-2828-448d-9616-517466f3f000",
   "metadata": {},
   "outputs": [],
   "source": [
    "dp_ratio_features"
   ]
  },
  {
   "cell_type": "markdown",
   "id": "ad45530f-9f20-43bc-8c3b-dea538581a61",
   "metadata": {},
   "source": [
    "#### 7. AMT_CREDIT"
   ]
  },
  {
   "cell_type": "code",
   "execution_count": null,
   "id": "d05596f4-eaa8-4b02-b3ed-80aa146611b5",
   "metadata": {},
   "outputs": [],
   "source": [
    "test_df[\"AMT_CREDIT\"].min(), test_df[\"AMT_CREDIT\"].max()"
   ]
  },
  {
   "cell_type": "code",
   "execution_count": null,
   "id": "8a54cbfa-edd9-43ca-ab92-eface27166f5",
   "metadata": {},
   "outputs": [],
   "source": [
    "# <250,000\n",
    "# 250,000 - 500,000\n",
    "# 500,000 - 750,000\n",
    "# 750,000 - 1,000,000\n",
    "# >1,000,000 "
   ]
  },
  {
   "cell_type": "code",
   "execution_count": null,
   "id": "31fbed87-8d28-4b06-90cd-f8ed023809d2",
   "metadata": {},
   "outputs": [],
   "source": [
    "sr_credit = MetricFrame(metrics=selection_rate, y_true=predictions_test, y_pred=predictions_test, sensitive_features=test_df[\"AMT_CREDIT\"])\n",
    "# display(sr.overall)\n",
    "display(sr_credit.by_group)"
   ]
  },
  {
   "cell_type": "code",
   "execution_count": null,
   "id": "caefc213-9ae4-4cc2-b005-77f84e7e5e66",
   "metadata": {},
   "outputs": [],
   "source": [
    "len(sr_credit.by_group)"
   ]
  },
  {
   "cell_type": "code",
   "execution_count": null,
   "id": "47b952bc-997e-4be9-92f3-25bf14017191",
   "metadata": {},
   "outputs": [],
   "source": [
    "less_250k = sr_credit.by_group.loc[:250000]\n",
    "btw_250k_500k = sr_credit.by_group.loc[250000:500000]\n",
    "btw_500k_750k = sr_credit.by_group.loc[500000:750000]\n",
    "btw_750k_1m = sr_credit.by_group.loc[750000:1000000]\n",
    "gt_1m = sr_credit.by_group.loc[1000000:]\n",
    "\n",
    "\n",
    "\n",
    "# display(len(less_250k))\n",
    "# display(len(btw_250k_500k))\n",
    "# display(len(btw_500k_750k))\n",
    "# display(len(btw_750k_1m))\n",
    "# display(len(gt_1m))\n",
    "\n",
    "\n",
    "\n",
    "less_250k_risk_rate = 100*round(np.mean(less_250k),2)\n",
    "btw_250k_500k_risk_rate = 100*round(np.mean(btw_250k_500k),2)\n",
    "btw_500k_750k_risk_rate = 100*round(np.mean(btw_500k_750k),2)\n",
    "btw_750k_1m_risk_rate = 100*round(np.mean(btw_750k_1m),2)\n",
    "gt_1m_risk_rate = 100*round(np.mean(gt_1m),2)\n",
    "\n",
    "\n",
    "credit_risk_groups= {\"<250K\" : less_250k_risk_rate, \"250K-500K\" : btw_250k_500k_risk_rate, \n",
    "                     \"500K-750K\" :  btw_500k_750k_risk_rate, \"750K-1M\": btw_750k_1m_risk_rate, \">1M\": round(gt_1m_risk_rate)}\n",
    "\n",
    "credit_risk_groups"
   ]
  },
  {
   "cell_type": "code",
   "execution_count": null,
   "id": "6c5a1b86-bbef-4798-ad1d-6ad578b3a0dd",
   "metadata": {},
   "outputs": [],
   "source": [
    "import matplotlib.pyplot as plt\n",
    "fig = plt.figure()\n",
    "ax = fig.add_axes([0,0,1,1])\n",
    "\n",
    "bars = ax.bar(credit_risk_groups.keys(),credit_risk_groups.values(), width=0.4, color = \"green\")\n",
    "ax.bar_label(bars)\n",
    "plt.title(\"Risk Rate vs Credit\")\n",
    "plt.xlabel('Credit')\n",
    "plt.ylabel('Risk Rate in %')\n",
    "plt.show()"
   ]
  },
  {
   "cell_type": "code",
   "execution_count": null,
   "id": "ca1713cb-f380-49db-96b1-3b1d88d35e2d",
   "metadata": {
    "scrolled": true
   },
   "outputs": [],
   "source": [
    "print(\"The dp difference for Credit is \", max(credit_risk_groups.values()) - min(credit_risk_groups.values()))\n",
    "\n",
    "credit_dp = round(min(credit_risk_groups.values()) / max(credit_risk_groups.values()),2)\n",
    "print(\"The dp ratio for Credit is \", credit_dp)\n",
    "\n",
    "dp_ratio_features.update({\"AMT_CREDIT\":credit_dp})"
   ]
  },
  {
   "cell_type": "code",
   "execution_count": null,
   "id": "0df02301-46cc-46e0-a74a-e938659f555f",
   "metadata": {},
   "outputs": [],
   "source": [
    "dp_ratio_features"
   ]
  },
  {
   "cell_type": "markdown",
   "id": "10f7ba4c-6e32-4b2c-9c17-0f923da857e6",
   "metadata": {},
   "source": [
    "#### 8. 'AMT_ANNUITY'"
   ]
  },
  {
   "cell_type": "code",
   "execution_count": null,
   "id": "cd49d6f6-50a4-4843-9cad-44cd2c52780b",
   "metadata": {},
   "outputs": [],
   "source": [
    "test_df[\"AMT_ANNUITY\"].min(), test_df[\"AMT_ANNUITY\"].max()"
   ]
  },
  {
   "cell_type": "code",
   "execution_count": null,
   "id": "cf04b785-c378-4963-b676-86e938744a77",
   "metadata": {},
   "outputs": [],
   "source": [
    "sr_annunity = MetricFrame(metrics=selection_rate, y_true=predictions_test, y_pred=predictions_test, sensitive_features=test_df[\"AMT_ANNUITY\"])\n",
    "# display(sr.overall)\n",
    "display(sr_annunity.by_group)"
   ]
  },
  {
   "cell_type": "code",
   "execution_count": null,
   "id": "4472e76a-0e86-47f2-84ee-83e64f9314a7",
   "metadata": {},
   "outputs": [],
   "source": [
    "less_10k = sr_annunity.by_group.loc[:10000]\n",
    "btw_10k_25k = sr_annunity.by_group.loc[10000:25000]\n",
    "btw_25k_50k = sr_annunity.by_group.loc[25000:50000]\n",
    "gt_50k = sr_annunity.by_group.loc[50000:]\n",
    "\n",
    "\n",
    "\n",
    "# display(len(less_10k))\n",
    "# display(len(btw_10k_25k))\n",
    "# display(len(btw_25k_50k))\n",
    "# display(len(gt_50k))\n",
    "\n",
    "\n",
    "\n",
    "less_10k_risk_rate = 100*round(np.mean(less_10k),2)\n",
    "btw_10k_25k_risk_rate = 100*round(np.mean(btw_10k_25k),2)\n",
    "btw_25k_50k_risk_rate = 100*round(np.mean(btw_25k_50k),2)\n",
    "gt_50k_risk_rate = 100*round(np.mean(gt_50k),2)\n",
    "\n",
    "\n",
    "annunity_risk_groups= {\"<10K\" : less_10k_risk_rate, \"10K-25K\" : btw_10k_25k_risk_rate, \n",
    "                     \"25K-50K\" :  btw_25k_50k_risk_rate, \">50K\": gt_50k_risk_rate}\n",
    "\n",
    "annunity_risk_groups"
   ]
  },
  {
   "cell_type": "code",
   "execution_count": null,
   "id": "0bb4a55c-1864-4935-9523-286c6bc6b220",
   "metadata": {},
   "outputs": [],
   "source": [
    "fig = plt.figure()\n",
    "ax = fig.add_axes([0,0,1,1])\n",
    "\n",
    "bars = ax.bar(annunity_risk_groups.keys(),annunity_risk_groups.values(), width=0.4, color = \"green\")\n",
    "ax.bar_label(bars)\n",
    "plt.title(\"Risk Rate vs Annunity\")\n",
    "plt.xlabel('Annunity')\n",
    "plt.ylabel('Risk Rate in %')\n",
    "plt.show()"
   ]
  },
  {
   "cell_type": "code",
   "execution_count": null,
   "id": "2fd5618a-3bd3-401f-9cb4-e4b4bc4d89f0",
   "metadata": {},
   "outputs": [],
   "source": [
    "print(\"The dp difference for Annunity is \", max(annunity_risk_groups.values()) - min(annunity_risk_groups.values()))\n",
    "\n",
    "annunity_dp = round(min(annunity_risk_groups.values()) / max(annunity_risk_groups.values()),2)\n",
    "print(\"The dp ratio for Annunity is \", annunity_dp)\n",
    "\n",
    "dp_ratio_features.update({\"AMT_ANNUITY\":annunity_dp})"
   ]
  },
  {
   "cell_type": "code",
   "execution_count": null,
   "id": "7418df84-8a1a-44d1-a3d3-57ca665feb86",
   "metadata": {},
   "outputs": [],
   "source": [
    "dp_ratio_features"
   ]
  },
  {
   "cell_type": "markdown",
   "id": "3827dba4-7d62-44a0-bce2-52148a15d1b8",
   "metadata": {},
   "source": [
    "#### 9. 'AMT_GOODS_PRICE'"
   ]
  },
  {
   "cell_type": "code",
   "execution_count": null,
   "id": "5c7e761e-790d-4d2b-adeb-1c7e4ba08df8",
   "metadata": {},
   "outputs": [],
   "source": [
    "test_df[\"AMT_GOODS_PRICE\"].min(), test_df[\"AMT_GOODS_PRICE\"].max()"
   ]
  },
  {
   "cell_type": "code",
   "execution_count": null,
   "id": "7f9d7b47-5d32-46d0-bffd-16f8907c0f15",
   "metadata": {},
   "outputs": [],
   "source": [
    "# <100,000\n",
    "# 100,000 - 500,000\n",
    "# 500,000 - 1,000,000\n",
    "# >1,000,000"
   ]
  },
  {
   "cell_type": "code",
   "execution_count": null,
   "id": "7fb9738d-7f0d-4394-b0ea-dab6628bfd52",
   "metadata": {},
   "outputs": [],
   "source": [
    "sr_goods = MetricFrame(metrics=selection_rate, y_true=predictions_test, y_pred=predictions_test, sensitive_features=test_df[\"AMT_GOODS_PRICE\"])\n",
    "# display(sr.overall)\n",
    "display(sr_goods.by_group)"
   ]
  },
  {
   "cell_type": "code",
   "execution_count": null,
   "id": "7c9713ef-0b4a-49f8-b3d4-8f7bd1e0d65d",
   "metadata": {},
   "outputs": [],
   "source": [
    "less_100k = sr_goods.by_group.loc[:100000]\n",
    "btw_100k_500k = sr_goods.by_group.loc[100000:500000]\n",
    "btw_500k_1m = sr_goods.by_group.loc[500000:1000000]\n",
    "gt_1m = sr_goods.by_group.loc[1000000:]\n",
    "\n",
    "\n",
    "\n",
    "# display(len(less_100k))\n",
    "# display(len(btw_100k_500k))\n",
    "# display(len(btw_500k_1m))\n",
    "# display(len(gt_1m))\n",
    "\n",
    "\n",
    "\n",
    "less_100k_risk_rate = 100*round(np.mean(less_100k),2)\n",
    "btw_100k_500k_risk_rate = 100*round(np.mean(btw_100k_500k),2)\n",
    "btw_500k_1m_risk_rate = 100*round(np.mean(btw_500k_1m),2)\n",
    "gt_1m_risk_rate = 100*round(np.mean(gt_1m),2)\n",
    "\n",
    "\n",
    "goods_risk_groups= {\"<100K\" : less_100k_risk_rate, \"100K-500K\" : btw_100k_500k_risk_rate, \n",
    "                     \"500K-1M\" :  btw_500k_1m_risk_rate, \">1M\": gt_1m_risk_rate}\n",
    "\n",
    "goods_risk_groups"
   ]
  },
  {
   "cell_type": "code",
   "execution_count": null,
   "id": "8476413a-f376-4d30-93a1-7ea89f2a4713",
   "metadata": {},
   "outputs": [],
   "source": [
    "import matplotlib.pyplot as plt\n",
    "fig = plt.figure()\n",
    "ax = fig.add_axes([0,0,1,1])\n",
    "\n",
    "bars = ax.bar(goods_risk_groups.keys(),goods_risk_groups.values(), width=0.4, color = \"green\")\n",
    "ax.bar_label(bars)\n",
    "plt.title(\"Risk Rate vs Goods Price\")\n",
    "plt.xlabel('Goods Price')\n",
    "plt.ylabel('Risk Rate in %')\n",
    "plt.show()"
   ]
  },
  {
   "cell_type": "code",
   "execution_count": null,
   "id": "38e52bd1-40aa-420c-ab98-491b37827950",
   "metadata": {},
   "outputs": [],
   "source": [
    "print(\"The dp difference for Goods Price is \", max(goods_risk_groups.values()) - min(goods_risk_groups.values()))\n",
    "\n",
    "goods_dp = round(min(goods_risk_groups.values()) / max(goods_risk_groups.values()),2)\n",
    "print(\"The dp ratio for Goods Price is \", goods_dp)\n",
    "\n",
    "dp_ratio_features.update({\"AMT_GOODS_PRICE\":goods_dp})"
   ]
  },
  {
   "cell_type": "code",
   "execution_count": null,
   "id": "1c1757c4-d5e2-4200-be0f-f4c64af5769a",
   "metadata": {},
   "outputs": [],
   "source": [
    "dp_ratio_features"
   ]
  },
  {
   "cell_type": "markdown",
   "id": "ca4ff10d-c2a1-450d-b997-4ee835667cda",
   "metadata": {},
   "source": [
    "#### 10. NAME_TYPE_SUITE"
   ]
  },
  {
   "cell_type": "code",
   "execution_count": null,
   "id": "98c740c7-fd1d-4e98-bc57-0ebdf32e2481",
   "metadata": {},
   "outputs": [],
   "source": [
    "test_df[\"NAME_TYPE_SUITE\"].unique()"
   ]
  },
  {
   "cell_type": "code",
   "execution_count": null,
   "id": "a84fd8b8-36bb-4bad-b82e-a55d19415086",
   "metadata": {},
   "outputs": [],
   "source": [
    "test_df_final[\"NAME_TYPE_SUITE_LE\"].unique()\n",
    "\n",
    "# 0 - Children\n",
    "# 1 - Family\n",
    "# 2 - Group of people\n",
    "# 3 - Other_A\n",
    "# 4 - Other_B\n",
    "# 5 - Spouse, partner\n",
    "# 6 - Unaccompanied\n",
    "# 7 - Nan"
   ]
  },
  {
   "cell_type": "code",
   "execution_count": null,
   "id": "f30b80eb-1271-43d5-80e4-3534fd809cf1",
   "metadata": {},
   "outputs": [],
   "source": [
    "sr_type_suite = MetricFrame(metrics=selection_rate, y_true=predictions_test, y_pred=predictions_test, sensitive_features= test_df_final[\"NAME_TYPE_SUITE_LE\"])\n",
    "# display(sr.overall)\n",
    "display(sr_type_suite.by_group)"
   ]
  },
  {
   "cell_type": "code",
   "execution_count": null,
   "id": "9d30ae92-ad3b-43ae-a04f-ba7119d3d57a",
   "metadata": {},
   "outputs": [],
   "source": [
    "# 0 - Children\n",
    "# 1 - Family\n",
    "# 2 - Group of people\n",
    "# 3 - Other_A\n",
    "# 4 - Other_B\n",
    "# 5 - Spouse, partner\n",
    "# 6 - Unaccompanied\n",
    "# 7 - Nan\n",
    "\n",
    "Others = sr_type_suite.by_group.loc[3:4]\n",
    "\n",
    "type_suite_groups= {\"Children\" : round(100*sr_type_suite.by_group.loc[0]),\n",
    "                    \"Family\" : round(100*sr_type_suite.by_group.loc[1]),\n",
    "                    \"Group of people\" : round(100*sr_type_suite.by_group.loc[2]),\n",
    "                    \"Others\" : round(100*np.mean(Others)),\n",
    "                    \"Spouse, partner\" : round(100*sr_type_suite.by_group.loc[5]),\n",
    "                    \"Unaccompanied\" : round(100*sr_type_suite.by_group.loc[6]),\n",
    "                    \"Unknown\" : round(100*sr_type_suite.by_group.loc[7])\n",
    "                    }\n",
    "\n",
    "\n",
    "fig = plt.figure()\n",
    "ax = fig.add_axes([0,0,1,1])\n",
    "\n",
    "bars = ax.bar(type_suite_groups.keys(),type_suite_groups.values(), width=0.5, color = \"green\")\n",
    "ax.bar_label(bars)\n",
    "plt.title(\"Risk Rate vs NAME_TYPE_SUITE\")\n",
    "plt.xlabel('NAME_TYPE_SUITE')\n",
    "plt.ylabel('Risk Rate in %')\n",
    "fig.autofmt_xdate()\n",
    "plt.show()"
   ]
  },
  {
   "cell_type": "code",
   "execution_count": null,
   "id": "8428c3ba-ada1-432c-ae07-e2209b62eb14",
   "metadata": {},
   "outputs": [],
   "source": [
    "print(\"The dp difference for NAME_TYPE_SUITE is \", max(type_suite_groups.values()) - min(type_suite_groups.values()))\n",
    "\n",
    "type_suite_dp = round(min(type_suite_groups.values()) / max(type_suite_groups.values()),2)\n",
    "print(\"The dp ratio for NAME_TYPE_SUITE is \", type_suite_dp)\n",
    "\n",
    "dp_ratio_features.update({\"NAME_TYPE_SUITE\": type_suite_dp})"
   ]
  },
  {
   "cell_type": "code",
   "execution_count": null,
   "id": "88d061ad-7121-4526-b316-003023a025bb",
   "metadata": {},
   "outputs": [],
   "source": [
    "dp_ratio_features"
   ]
  },
  {
   "cell_type": "markdown",
   "id": "e67d83fb-a8d6-45c0-8551-9a802e8a4eee",
   "metadata": {},
   "source": [
    "#### 11. NAME_INCOME_TYPE"
   ]
  },
  {
   "cell_type": "code",
   "execution_count": null,
   "id": "f96e2382-d28b-4cd0-ac86-2a310eff0032",
   "metadata": {},
   "outputs": [],
   "source": [
    "test_df[\"NAME_INCOME_TYPE\"].unique()"
   ]
  },
  {
   "cell_type": "code",
   "execution_count": null,
   "id": "a93ebab2-95b8-4134-b0bb-3c44fb4e7112",
   "metadata": {},
   "outputs": [],
   "source": [
    "sr_income_type = MetricFrame(metrics=selection_rate, y_true=predictions_test, y_pred=predictions_test, sensitive_features= test_df[\"NAME_INCOME_TYPE\"])\n",
    "# display(sr.overall)\n",
    "display(sr_income_type.by_group)"
   ]
  },
  {
   "cell_type": "code",
   "execution_count": null,
   "id": "a42ad4cc-2e3f-428e-b6e0-cf68ca99ffd7",
   "metadata": {},
   "outputs": [],
   "source": [
    "income_type_groups= {\"Commercial associate\" : round(100*sr_income_type.by_group.loc[\"Commercial associate\"]),\n",
    "                    \"Pensioner\" : round(100*sr_income_type.by_group.loc[\"Pensioner\"]),\n",
    "                    \"State servant\" : round(100*sr_income_type.by_group.loc[\"State servant\"]),\n",
    "                    \"Working\" : round(100*sr_income_type.by_group.loc[\"Working\"]),\n",
    "                    }\n",
    "\n",
    "\n",
    "fig = plt.figure()\n",
    "ax = fig.add_axes([0,0,1,1])\n",
    "\n",
    "bars = ax.bar(income_type_groups.keys(),income_type_groups.values(), width=0.5, color = \"green\")\n",
    "ax.bar_label(bars)\n",
    "plt.title(\"Risk Rate vs NAME_INCOME_TYPE\")\n",
    "plt.xlabel('NAME_INCOME_TYPE')\n",
    "plt.ylabel('Risk Rate in %')\n",
    "plt.show()"
   ]
  },
  {
   "cell_type": "code",
   "execution_count": null,
   "id": "6da061d6-2bd9-4f47-9112-67a877dd849b",
   "metadata": {},
   "outputs": [],
   "source": [
    "print(\"The dp difference for NAME_INCOME_TYPE is \", max(income_type_groups.values()) - min(income_type_groups.values()))\n",
    "\n",
    "income_type_dp = round(min(income_type_groups.values()) / max(income_type_groups.values()),2)\n",
    "print(\"The dp ratio for NAME_INCOME_TYPE is \", income_type_dp)\n",
    "\n",
    "dp_ratio_features.update({\"NAME_INCOME_TYPE\": income_type_dp})"
   ]
  },
  {
   "cell_type": "code",
   "execution_count": null,
   "id": "04c9c138-0ea2-46a4-a950-59006652eea7",
   "metadata": {},
   "outputs": [],
   "source": [
    "display(dp_ratio_features)\n",
    "len(dp_ratio_features)"
   ]
  },
  {
   "cell_type": "markdown",
   "id": "db8f0088-669e-4a0a-9565-670cd124065c",
   "metadata": {},
   "source": [
    "#### 12. NAME_EDUCATION_TYPE"
   ]
  },
  {
   "cell_type": "code",
   "execution_count": null,
   "id": "ab24ed71-0209-4b1a-a0d5-f3cc8ccb95b0",
   "metadata": {},
   "outputs": [],
   "source": [
    "test_df[\"NAME_EDUCATION_TYPE\"].unique()"
   ]
  },
  {
   "cell_type": "code",
   "execution_count": null,
   "id": "be595bfc-2004-4abd-aef2-ce150268d753",
   "metadata": {},
   "outputs": [],
   "source": [
    "sr_education_type = MetricFrame(metrics=selection_rate, y_true=predictions_test, y_pred=predictions_test, sensitive_features= test_df[\"NAME_EDUCATION_TYPE\"])\n",
    "# display(sr.overall)\n",
    "display(sr_education_type.by_group)"
   ]
  },
  {
   "cell_type": "code",
   "execution_count": null,
   "id": "40f43fd1-056e-4974-9220-98bcc056cac5",
   "metadata": {},
   "outputs": [],
   "source": [
    "education_type_groups= {\"Higher education\" : round(100*sr_education_type.by_group.loc[\"Higher education\"]),\n",
    "                    \"Incomplete higher\" : round(100*sr_education_type.by_group.loc[\"Incomplete higher\"]),\n",
    "                    \"Secondary / secondary special\" : round(100*sr_education_type.by_group.loc[\"Secondary / secondary special\"]),\n",
    "                        \"Lower secondary\" : round(100*sr_education_type.by_group.loc[\"Lower secondary\"])\n",
    "                    }\n",
    "\n",
    "\n",
    "fig = plt.figure()\n",
    "ax = fig.add_axes([0,0,1,1])\n",
    "\n",
    "bars = ax.bar(education_type_groups.keys(),education_type_groups.values(), width=0.3, color = \"green\")\n",
    "ax.bar_label(bars)\n",
    "plt.title(\"Risk Rate vs NAME_EDUCATION_TYPE\")\n",
    "plt.xlabel('NAME_EDUCATION_TYPE')\n",
    "plt.ylabel('Risk Rate in %')\n",
    "plt.show()"
   ]
  },
  {
   "cell_type": "code",
   "execution_count": null,
   "id": "68484ac4-2163-48bf-aa5b-95b3c80914d0",
   "metadata": {},
   "outputs": [],
   "source": [
    "print(\"The dp difference for NAME_EDUCATION_TYPE is \", max(education_type_groups.values()) - min(education_type_groups.values()))\n",
    "\n",
    "education_type_dp = round(min(education_type_groups.values()) / max(education_type_groups.values()),2)\n",
    "print(\"The dp ratio for NAME_EDUCATION_TYPE is \", education_type_dp)\n",
    "\n",
    "dp_ratio_features.update({\"NAME_EDUCATION_TYPE\": education_type_dp})"
   ]
  },
  {
   "cell_type": "code",
   "execution_count": null,
   "id": "09d18470-155b-4472-9c19-1bcdb026634d",
   "metadata": {},
   "outputs": [],
   "source": [
    "display(dp_ratio_features)\n",
    "len(dp_ratio_features)"
   ]
  },
  {
   "cell_type": "markdown",
   "id": "a71804ab-676c-4728-9aad-17af275a835d",
   "metadata": {},
   "source": [
    "#### 13.\tNAME_FAMILY_STATUS"
   ]
  },
  {
   "cell_type": "code",
   "execution_count": null,
   "id": "c6808267-f9fb-4c00-ae59-cd5dc9228f08",
   "metadata": {},
   "outputs": [],
   "source": [
    "test_df[\"NAME_FAMILY_STATUS\"].unique()"
   ]
  },
  {
   "cell_type": "code",
   "execution_count": null,
   "id": "c7ede833-3b54-4c4c-a47c-07e693421476",
   "metadata": {},
   "outputs": [],
   "source": [
    "sr_family = MetricFrame(metrics=selection_rate, y_true=predictions_test, y_pred=predictions_test, sensitive_features= test_df[\"NAME_FAMILY_STATUS\"])\n",
    "# display(sr.overall)\n",
    "display(sr_family.by_group)"
   ]
  },
  {
   "cell_type": "code",
   "execution_count": null,
   "id": "faf24445-1704-4fcf-b67a-0a5f35574862",
   "metadata": {},
   "outputs": [],
   "source": [
    "family_groups= {\"Married\" : round(100*sr_family.by_group.loc[\"Married\"]),\n",
    "                \"Civil marriage\" : round(100*sr_family.by_group.loc[\"Civil marriage\"]),\n",
    "                \"Single / not married\" : round(100*sr_family.by_group.loc[\"Single / not married\"]),\n",
    "                \"Separated\" : round(100*sr_family.by_group.loc[\"Separated\"]),\n",
    "                \"Widow\" : round(100*sr_family.by_group.loc[\"Widow\"])}\n",
    "\n",
    "\n",
    "fig = plt.figure()\n",
    "ax = fig.add_axes([0,0,1,1])\n",
    "\n",
    "bars = ax.bar(family_groups.keys(),family_groups.values(), width=0.3, color = \"green\")\n",
    "ax.bar_label(bars)\n",
    "plt.title(\"Risk Rate vs NAME_FAMILY_STATUS\")\n",
    "plt.xlabel('NAME_FAMILY_STATUS')\n",
    "plt.ylabel('Risk Rate in %')\n",
    "plt.show()"
   ]
  },
  {
   "cell_type": "code",
   "execution_count": null,
   "id": "46572d8b-0f5f-48e5-ae73-b03d45601a19",
   "metadata": {},
   "outputs": [],
   "source": [
    "print(\"The dp difference for NAME_FAMILY_STATUS is \", max(family_groups.values()) - min(family_groups.values()))\n",
    "\n",
    "family_status_dp = round(min(family_groups.values()) / max(family_groups.values()),2)\n",
    "print(\"The dp ratio for NAME_FAMILY_STATUS is \", family_status_dp)\n",
    "\n",
    "dp_ratio_features.update({\"NAME_FAMILY_STATUS\": family_status_dp})"
   ]
  },
  {
   "cell_type": "code",
   "execution_count": null,
   "id": "440a12c9-6ad2-400a-a7e8-0f1569281347",
   "metadata": {},
   "outputs": [],
   "source": [
    "display(dp_ratio_features)\n",
    "len(dp_ratio_features)"
   ]
  },
  {
   "cell_type": "markdown",
   "id": "9b4527d0-9f6d-428e-9e9b-844af4cb97f6",
   "metadata": {},
   "source": [
    "#### 14. NAME_HOUSING_TYPE"
   ]
  },
  {
   "cell_type": "code",
   "execution_count": null,
   "id": "aa783820-b424-4589-86f8-7bee213b163b",
   "metadata": {},
   "outputs": [],
   "source": [
    "test_df[\"NAME_HOUSING_TYPE\"].unique()"
   ]
  },
  {
   "cell_type": "code",
   "execution_count": null,
   "id": "19ce367e-9d09-4b83-b046-7f5f4ea7a8af",
   "metadata": {},
   "outputs": [],
   "source": [
    "sr_housing = MetricFrame(metrics=selection_rate, y_true=predictions_test, y_pred=predictions_test, sensitive_features= test_df[\"NAME_HOUSING_TYPE\"])\n",
    "# display(sr.overall)\n",
    "display(sr_housing.by_group)"
   ]
  },
  {
   "cell_type": "code",
   "execution_count": null,
   "id": "78700678-b198-4728-8980-dffcf373f4e7",
   "metadata": {},
   "outputs": [],
   "source": [
    "housing_groups= {\"Co-op apartment\" : round(100*sr_housing.by_group.loc[\"Co-op apartment\"]),\n",
    "                \"House/apartment\" : round(100*sr_housing.by_group.loc[\"House / apartment\"]),\n",
    "                \"Municipal apartment\" : round(100*sr_housing.by_group.loc[\"Municipal apartment\"]),\n",
    "                \"Office apartment\" : round(100*sr_housing.by_group.loc[\"Office apartment\"]),\n",
    "                \"Rented apartment\" : round(100*sr_housing.by_group.loc[\"Rented apartment\"]),\n",
    "                \"With parents\" : round(100*sr_housing.by_group.loc[\"With parents\"]),\n",
    "}\n",
    "\n",
    "\n",
    "fig = plt.figure()\n",
    "ax = fig.add_axes([0,0,1,1])\n",
    "\n",
    "bars = ax.bar(housing_groups.keys(),housing_groups.values(), width=0.4, color = \"green\")\n",
    "ax.bar_label(bars)\n",
    "plt.title(\"Risk Rate vs NAME_HOUSING_TYPE\")\n",
    "plt.xlabel('NAME_HOUSING_TYPE')\n",
    "plt.ylabel('Risk Rate in %')\n",
    "fig.autofmt_xdate()\n",
    "plt.show()"
   ]
  },
  {
   "cell_type": "code",
   "execution_count": null,
   "id": "3c7c4d91-473b-474a-94a4-3050b0373c60",
   "metadata": {},
   "outputs": [],
   "source": [
    "print(\"The dp difference for NAME_HOUSING_TYPE is \", max(housing_groups.values()) - min(housing_groups.values()))\n",
    "\n",
    "housing_status_dp = round(min(housing_groups.values()) / max(housing_groups.values()),2)\n",
    "print(\"The dp ratio for NAME_HOUSING_TYPE is \", housing_status_dp)\n",
    "\n",
    "dp_ratio_features.update({\"NAME_HOUSING_TYPE\": housing_status_dp})"
   ]
  },
  {
   "cell_type": "code",
   "execution_count": null,
   "id": "35c25fc2-cb82-425e-ad4c-fb86f97cdb9a",
   "metadata": {},
   "outputs": [],
   "source": [
    "display(dp_ratio_features)\n",
    "len(dp_ratio_features)"
   ]
  },
  {
   "cell_type": "markdown",
   "id": "684de883-23b9-447e-abe9-cd259679468d",
   "metadata": {},
   "source": [
    "#### 15. 'REGION_POPULATION_RELATIVE'"
   ]
  },
  {
   "cell_type": "code",
   "execution_count": null,
   "id": "57c1b223-c0f6-4842-a1c0-d34ee099d3d1",
   "metadata": {},
   "outputs": [],
   "source": [
    "test_df[\"REGION_POPULATION_RELATIVE\"].min(), test_df[\"REGION_POPULATION_RELATIVE\"].max()"
   ]
  },
  {
   "cell_type": "code",
   "execution_count": null,
   "id": "7155da6f-21f1-4a19-b846-13926be82e05",
   "metadata": {},
   "outputs": [],
   "source": [
    "# <0.01\n",
    "# 0.01 - 0.020\n",
    "# 0.020 - 0.030\n",
    "# >0.030"
   ]
  },
  {
   "cell_type": "code",
   "execution_count": null,
   "id": "ab29849b-7b97-4924-930f-b3ac56164f35",
   "metadata": {},
   "outputs": [],
   "source": [
    "sr_region_population = MetricFrame(metrics=selection_rate, y_true=predictions_test, y_pred=predictions_test, sensitive_features=test_df[\"REGION_POPULATION_RELATIVE\"])\n",
    "# display(sr.overall)\n",
    "display(sr_region_population.by_group)"
   ]
  },
  {
   "cell_type": "code",
   "execution_count": null,
   "id": "069573b1-d931-4819-99fa-ff7f0fc73092",
   "metadata": {},
   "outputs": [],
   "source": [
    "group1_population = sr_region_population.by_group.loc[:0.01]\n",
    "group2_population = sr_region_population.by_group.loc[0.01:0.020]\n",
    "group3_population = sr_region_population.by_group.loc[0.020:0.030]\n",
    "group4_population = sr_region_population.by_group.loc[0.03:]\n",
    "\n",
    "\n",
    "group1_risk_rate = 100*round(np.mean(group1_population),2)\n",
    "group2_risk_rate = 100*round(np.mean(group2_population),2)\n",
    "group3_risk_rate = 100*round(np.mean(group3_population),2)\n",
    "group4_risk_rate = 100*round(np.mean(group4_population),2)\n",
    "\n",
    "\n",
    "region_population_risk_groups= {\"<0.01\" : group1_risk_rate, \"0.01-0.02\" : group2_risk_rate, \n",
    "                     \"0.02-0.03\" :  group3_risk_rate, \">0.03\": group4_risk_rate}\n",
    "\n",
    "region_population_risk_groups"
   ]
  },
  {
   "cell_type": "code",
   "execution_count": null,
   "id": "0b78a0da-8f7d-4f6c-b3fb-aedad8e3e0fb",
   "metadata": {},
   "outputs": [],
   "source": [
    "import matplotlib.pyplot as plt\n",
    "fig = plt.figure()\n",
    "ax = fig.add_axes([0,0,1,1])\n",
    "\n",
    "bars = ax.bar(region_population_risk_groups.keys(),region_population_risk_groups.values(), width=0.4, color = \"green\")\n",
    "ax.bar_label(bars)\n",
    "plt.title(\"Risk Rate vs Region Population\")\n",
    "plt.xlabel('Region Population')\n",
    "plt.ylabel('Risk Rate in %')\n",
    "plt.show()"
   ]
  },
  {
   "cell_type": "code",
   "execution_count": null,
   "id": "97a8ac3c-7f3d-4133-ac6b-00c2ba6d7bde",
   "metadata": {},
   "outputs": [],
   "source": [
    "print(\"The dp difference for Region Population is \", max(region_population_risk_groups.values()) - min(region_population_risk_groups.values()))\n",
    "\n",
    "region_population_dp = round(min(region_population_risk_groups.values()) / max(region_population_risk_groups.values()),2)\n",
    "print(\"The dp ratio for Region Population is \", region_population_dp)\n",
    "\n",
    "dp_ratio_features.update({\"REGION_POPULATION_RELATIVE\":region_population_dp})"
   ]
  },
  {
   "cell_type": "code",
   "execution_count": null,
   "id": "16cd1416-b39f-464c-9213-87dd9f3f5f99",
   "metadata": {},
   "outputs": [],
   "source": [
    "display(dp_ratio_features)\n",
    "len(dp_ratio_features)"
   ]
  },
  {
   "cell_type": "markdown",
   "id": "8698c127-035d-4326-aa96-c816fa0b2145",
   "metadata": {
    "tags": []
   },
   "source": [
    "#### 16. AGE"
   ]
  },
  {
   "cell_type": "code",
   "execution_count": null,
   "id": "f29a3a31-25c1-47c9-9814-aeb1467d09d1",
   "metadata": {},
   "outputs": [],
   "source": [
    "test_df[\"AGE\"].min(), test_df[\"AGE\"].max()"
   ]
  },
  {
   "cell_type": "code",
   "execution_count": null,
   "id": "dfd20a3e-44c5-48aa-b79f-f82f734339f4",
   "metadata": {
    "scrolled": true
   },
   "outputs": [],
   "source": [
    "sr_age = MetricFrame(metrics=selection_rate, y_true=predictions_test, y_pred=predictions_test,sensitive_features=test_df[\"AGE\"])\n",
    "# display(sr.overall)\n",
    "display(sr_age.by_group)"
   ]
  },
  {
   "cell_type": "code",
   "execution_count": null,
   "id": "e8229855-f060-4396-8c92-0c495680297c",
   "metadata": {},
   "outputs": [],
   "source": [
    "young_adults = sr_age.by_group.loc[:25]\n",
    "adults = sr_age.by_group.loc[26:40]\n",
    "middle_age_adults = sr_age.by_group.loc[41:60]\n",
    "older_adults = sr_age.by_group.loc[61:]\n",
    "\n",
    "young_adults_risk_rate = round(np.mean(young_adults),2)\n",
    "adults_risk_rate = round(np.mean(adults),2)\n",
    "middle_age_adults_risk_rate = round(np.mean(middle_age_adults),2)\n",
    "older_adults_risk_rate = round(np.mean(older_adults),2)\n",
    "\n",
    "\n",
    "age_risk_groups= {\"Young Adults (18-25)\" : 100*young_adults_risk_rate,\"Adults (26-40)\" : 100*adults_risk_rate, \n",
    "                  \"Middle Age Adults (41 - 60)\": 100*middle_age_adults_risk_rate, \"Older Adults (60+)\":100*older_adults_risk_rate}"
   ]
  },
  {
   "cell_type": "code",
   "execution_count": null,
   "id": "29073ccf-7679-40c8-bc89-9043273b16b1",
   "metadata": {},
   "outputs": [],
   "source": [
    "fig = plt.figure()\n",
    "ax = fig.add_axes([0,0,1,1])\n",
    "\n",
    "bars = ax.bar(age_risk_groups.keys(),age_risk_groups.values(), width=0.5, color = \"green\")\n",
    "ax.bar_label(bars)\n",
    "plt.title(\"Risk Rate vs Age Group\")\n",
    "plt.xlabel('Age Group')\n",
    "plt.ylabel('Risk Rate in %')\n",
    "plt.show()"
   ]
  },
  {
   "cell_type": "code",
   "execution_count": null,
   "id": "9aaf4d7a-82f6-4ef8-8285-42123d8e4857",
   "metadata": {},
   "outputs": [],
   "source": [
    "print(\"The dp difference for Age is \", max(age_risk_groups.values()) - min(age_risk_groups.values()))\n",
    "\n",
    "age_dp = round(min(age_risk_groups.values()) / max(age_risk_groups.values()),2)\n",
    "print(\"The dp ratio for Age is \", age_dp)\n",
    "\n",
    "dp_ratio_features.update({\"AGE\":age_dp})"
   ]
  },
  {
   "cell_type": "code",
   "execution_count": null,
   "id": "0d7e3ce2-26ea-4958-83dc-a3ead9f3de86",
   "metadata": {},
   "outputs": [],
   "source": [
    "display(dp_ratio_features)\n",
    "len(dp_ratio_features)"
   ]
  },
  {
   "cell_type": "markdown",
   "id": "25132242-c894-4598-821f-53e6f53027dd",
   "metadata": {},
   "source": [
    "#### 17. YEARS_EMPLOYED"
   ]
  },
  {
   "cell_type": "code",
   "execution_count": null,
   "id": "8e2cce5b-2e6d-42dd-8697-13b24be8f896",
   "metadata": {},
   "outputs": [],
   "source": [
    "test_df[\"YEARS_EMPLOYED\"].min(), test_df[\"YEARS_EMPLOYED\"].max()"
   ]
  },
  {
   "cell_type": "code",
   "execution_count": null,
   "id": "d00c2356-3b0f-412f-a84c-c04d52882632",
   "metadata": {},
   "outputs": [],
   "source": [
    "# <10 \n",
    "# 10 - 20\n",
    "# 20 - 30 \n",
    "# >30"
   ]
  },
  {
   "cell_type": "code",
   "execution_count": null,
   "id": "4b736e15-f382-4787-b415-4a07f6161549",
   "metadata": {
    "scrolled": true
   },
   "outputs": [],
   "source": [
    "sr_employed = MetricFrame(metrics=selection_rate, y_true=predictions_test, y_pred=predictions_test,sensitive_features=test_df[\"YEARS_EMPLOYED\"])\n",
    "\n",
    "display(sr_employed.by_group)"
   ]
  },
  {
   "cell_type": "code",
   "execution_count": null,
   "id": "9ca4a761-14d2-4d92-8c66-6f4a5e3ceb60",
   "metadata": {},
   "outputs": [],
   "source": [
    "print(len(sr_employed.by_group))"
   ]
  },
  {
   "cell_type": "code",
   "execution_count": null,
   "id": "83cdd7a2-947c-4c89-aa21-dbda9cd376c7",
   "metadata": {},
   "outputs": [],
   "source": [
    "lessthan_10 = sr_employed.by_group.loc[:10]\n",
    "btw_10_20 = sr_employed.by_group.loc[11:20]\n",
    "btw_20_30 = sr_employed.by_group.loc[21:30 ]\n",
    "gt_30 = sr_employed.by_group.loc[31:]\n",
    "\n",
    "lessthan_10_risk_rate = 100*round(np.mean(lessthan_10),2)\n",
    "btw_10_20_risk_rate = 100*round(np.mean(btw_10_20),2)\n",
    "btw_20_30_risk_rate = 100*round(np.mean(btw_20_30),2)\n",
    "gt_30_risk_rate = 100*round(np.mean(gt_30),2)\n",
    "\n",
    "\n",
    "years_employed_risk_groups= {\"<10\" : lessthan_10_risk_rate, \"10 - 20\" : btw_10_20_risk_rate, \n",
    "                     \"20 - 30\" :  btw_20_30_risk_rate, \">30\": gt_30_risk_rate}\n",
    "\n",
    "years_employed_risk_groups"
   ]
  },
  {
   "cell_type": "code",
   "execution_count": null,
   "id": "469f039f-d9cd-40dc-8f8a-be34a9d2231d",
   "metadata": {},
   "outputs": [],
   "source": [
    "fig = plt.figure()\n",
    "ax = fig.add_axes([0,0,1,1])\n",
    "\n",
    "bars = ax.bar(years_employed_risk_groups.keys(),years_employed_risk_groups.values(), width=0.5, color = \"green\")\n",
    "ax.bar_label(bars)\n",
    "plt.title(\"Risk Rate vs YEARS_EMPLOYED\")\n",
    "plt.xlabel('YEARS_EMPLOYED')\n",
    "plt.ylabel('Risk Rate in %')\n",
    "plt.show()"
   ]
  },
  {
   "cell_type": "code",
   "execution_count": null,
   "id": "96052d07-c505-4ce0-880d-3fd55ff7d4c4",
   "metadata": {},
   "outputs": [],
   "source": [
    "print(\"The dp difference for YEARS_EMPLOYED is \", max(years_employed_risk_groups.values()) - min(years_employed_risk_groups.values()))\n",
    "\n",
    "employement_dp = round(min(years_employed_risk_groups.values()) / max(years_employed_risk_groups.values()),2)\n",
    "print(\"The dp ratio for YEARS_EMPLOYED is \", employement_dp)\n",
    "\n",
    "dp_ratio_features.update({\"YEARS_EMPLOYED\":employement_dp})"
   ]
  },
  {
   "cell_type": "code",
   "execution_count": null,
   "id": "276afc15-38a4-4c21-a2e8-d8ebb97756b9",
   "metadata": {},
   "outputs": [],
   "source": [
    "display(dp_ratio_features)\n",
    "len(dp_ratio_features)"
   ]
  },
  {
   "cell_type": "markdown",
   "id": "54e06e80-7bf9-4d62-8e65-a353cd4e246c",
   "metadata": {},
   "source": [
    "#### 18. YEARS_REGISTRATION"
   ]
  },
  {
   "cell_type": "code",
   "execution_count": null,
   "id": "f1c02154-371f-4f48-9bf7-c9dd50616bd3",
   "metadata": {
    "scrolled": true
   },
   "outputs": [],
   "source": [
    "test_df[\"YEARS_REGISTRATION\"].min(), test_df[\"YEARS_REGISTRATION\"].max()"
   ]
  },
  {
   "cell_type": "code",
   "execution_count": null,
   "id": "ad6397a4-de66-481a-9897-ccefb3670be0",
   "metadata": {},
   "outputs": [],
   "source": [
    "# <10 \n",
    "# 10 - 20\n",
    "# 20 - 30 \n",
    "# >30"
   ]
  },
  {
   "cell_type": "code",
   "execution_count": null,
   "id": "925a5f41-f4d6-4817-92c9-3f3dc565f223",
   "metadata": {
    "scrolled": true
   },
   "outputs": [],
   "source": [
    "sr_registration = MetricFrame(metrics=selection_rate, y_true=predictions_test, y_pred=predictions_test,sensitive_features=test_df[\"YEARS_REGISTRATION\"])\n",
    "\n",
    "display(sr_registration.by_group)"
   ]
  },
  {
   "cell_type": "code",
   "execution_count": null,
   "id": "370ee917-9530-4eb2-a12c-8b8e6d0d786c",
   "metadata": {},
   "outputs": [],
   "source": [
    "lessthan_10 = sr_registration.by_group.loc[:10]\n",
    "btw_10_20 = sr_registration.by_group.loc[11:20]\n",
    "btw_20_30 = sr_registration.by_group.loc[21:30 ]\n",
    "gt_30 = sr_registration.by_group.loc[31:]\n",
    "\n",
    "lessthan_10_risk_rate = 100*round(np.mean(lessthan_10),2)\n",
    "btw_10_20_risk_rate = 100*round(np.mean(btw_10_20),2)\n",
    "btw_20_30_risk_rate = 100*round(np.mean(btw_20_30),2)\n",
    "gt_30_risk_rate = 100*round(np.mean(gt_30),2)\n",
    "\n",
    "\n",
    "years_registration_risk_groups= {\"<10\" : lessthan_10_risk_rate, \"10 - 20\" : btw_10_20_risk_rate, \n",
    "                     \"20 - 30\" :  btw_20_30_risk_rate, \">30\": gt_30_risk_rate}\n",
    "\n",
    "years_registration_risk_groups"
   ]
  },
  {
   "cell_type": "code",
   "execution_count": null,
   "id": "82ec2e44-db21-4590-8861-58419963df66",
   "metadata": {},
   "outputs": [],
   "source": [
    "fig = plt.figure()\n",
    "ax = fig.add_axes([0,0,1,1])\n",
    "\n",
    "bars = ax.bar(years_registration_risk_groups.keys(),years_registration_risk_groups.values(), width=0.5, color = \"green\")\n",
    "ax.bar_label(bars)\n",
    "plt.title(\"Risk Rate vs YEARS_REGISTRATION\")\n",
    "plt.xlabel('YEARS_REGISTRATION')\n",
    "plt.ylabel('Risk Rate in %')\n",
    "plt.show()"
   ]
  },
  {
   "cell_type": "code",
   "execution_count": null,
   "id": "44e4f59b-92e3-4877-b903-b1f11ac65c59",
   "metadata": {},
   "outputs": [],
   "source": [
    "print(\"The dp difference for YEARS_REGISTRATION is \", max(years_registration_risk_groups.values()) - min(years_registration_risk_groups.values()))\n",
    "\n",
    "registration_dp = round(min(years_registration_risk_groups.values()) / max(years_registration_risk_groups.values()),2)\n",
    "print(\"The dp ratio for YEARS_REGISTRATION is \", registration_dp)\n",
    "\n",
    "dp_ratio_features.update({\"YEARS_REGISTRATION\":registration_dp})"
   ]
  },
  {
   "cell_type": "code",
   "execution_count": null,
   "id": "2e9f6f4f-7cba-41e9-af9f-86bba0c5989a",
   "metadata": {},
   "outputs": [],
   "source": [
    "display(dp_ratio_features)\n",
    "len(dp_ratio_features)"
   ]
  },
  {
   "cell_type": "markdown",
   "id": "87fb2ffd-7335-400d-ba75-793be94ac7cb",
   "metadata": {},
   "source": [
    "#### 19. YEARS_ID_PUBLISH"
   ]
  },
  {
   "cell_type": "code",
   "execution_count": null,
   "id": "67cdfcca-d76b-44a4-9d14-d83dd451eeb5",
   "metadata": {
    "scrolled": true
   },
   "outputs": [],
   "source": [
    "test_df[\"YEARS_ID_PUBLISH\"].min(), test_df[\"YEARS_ID_PUBLISH\"].max()"
   ]
  },
  {
   "cell_type": "code",
   "execution_count": null,
   "id": "d881b6c2-49c1-4d53-99f2-80a4e36a8106",
   "metadata": {},
   "outputs": [],
   "source": [
    "# <5\n",
    "# 5-10\n",
    "# >10"
   ]
  },
  {
   "cell_type": "code",
   "execution_count": null,
   "id": "c890f388-c322-4096-9bd6-b9cffbb4ccf7",
   "metadata": {
    "scrolled": true
   },
   "outputs": [],
   "source": [
    "sr_id_publish = MetricFrame(metrics=selection_rate, y_true=predictions_test, y_pred=predictions_test,sensitive_features=test_df[\"YEARS_ID_PUBLISH\"])\n",
    "display(sr_id_publish.by_group)"
   ]
  },
  {
   "cell_type": "code",
   "execution_count": null,
   "id": "24922a7b-84c6-4455-960b-b2958edc1d05",
   "metadata": {},
   "outputs": [],
   "source": [
    "lessthan_5 = sr_id_publish.by_group.loc[:5]\n",
    "btw_5_10 = sr_id_publish.by_group.loc[6:10]\n",
    "gt_10 = sr_id_publish.by_group.loc[11:]\n",
    "\n",
    "lessthan_5_risk_rate = 100*round(np.mean(lessthan_5),2)\n",
    "btw_5_10_risk_rate = 100*round(np.mean(btw_5_10),2)\n",
    "gt_10_risk_rate = 100*round(np.mean(gt_10),2)\n",
    "\n",
    "\n",
    "id_publish_risk_groups= {\"<5\" : lessthan_5_risk_rate, \"5-10\" : btw_5_10_risk_rate, \">10\": gt_10_risk_rate}\n",
    "id_publish_risk_groups"
   ]
  },
  {
   "cell_type": "code",
   "execution_count": null,
   "id": "e538777a-fe6f-4db8-9a9c-3b307d05ec76",
   "metadata": {},
   "outputs": [],
   "source": [
    "fig = plt.figure()\n",
    "ax = fig.add_axes([0,0,1,1])\n",
    "\n",
    "bars = ax.bar(id_publish_risk_groups.keys(),id_publish_risk_groups.values(), width=0.5, color = \"green\")\n",
    "ax.bar_label(bars)\n",
    "plt.title(\"Risk Rate vs YEARS_ID_PUBLISH\")\n",
    "plt.xlabel('YEARS_ID_PUBLISH')\n",
    "plt.ylabel('Risk Rate in %')\n",
    "plt.show()"
   ]
  },
  {
   "cell_type": "code",
   "execution_count": null,
   "id": "02897072-f7ac-45d8-8d55-8cf8fb657e10",
   "metadata": {},
   "outputs": [],
   "source": [
    "print(\"The dp difference for YEARS_ID_PUBLISH is \", max(id_publish_risk_groups.values()) - min(id_publish_risk_groups.values()))\n",
    "\n",
    "id_publish_dp = round(min(id_publish_risk_groups.values()) / max(id_publish_risk_groups.values()),2)\n",
    "print(\"The dp ratio for YEARS_ID_PUBLISH is \", id_publish_dp)\n",
    "\n",
    "dp_ratio_features.update({\"YEARS_ID_PUBLISH\":id_publish_dp})"
   ]
  },
  {
   "cell_type": "code",
   "execution_count": null,
   "id": "767b0867-dc58-40f6-9119-0466f6c57e6a",
   "metadata": {},
   "outputs": [],
   "source": [
    "display(dp_ratio_features)\n",
    "len(dp_ratio_features)"
   ]
  },
  {
   "cell_type": "markdown",
   "id": "7f8824ab-c6e8-40b3-b4ab-55339b1f6488",
   "metadata": {},
   "source": [
    "#### 20. FLAG_MOBIL"
   ]
  },
  {
   "cell_type": "code",
   "execution_count": null,
   "id": "970a30ad-5792-4504-a404-f0e6d8fdb53c",
   "metadata": {},
   "outputs": [],
   "source": [
    "sr_mobile = MetricFrame(metrics=selection_rate, y_true=predictions_test, y_pred=predictions_test, sensitive_features=test_df[\"FLAG_MOBIL\"])\n",
    "# display(sr.overall)\n",
    "display(sr_mobile.by_group)"
   ]
  },
  {
   "cell_type": "code",
   "execution_count": null,
   "id": "b37b5eb0-61ba-4c8f-bba2-51b9bea5f9c1",
   "metadata": {},
   "outputs": [],
   "source": [
    "# print(\"The dp difference for FLAG_OWN_REALTY is \", max(realty_risk_groups.values()) - min(realty_risk_groups.values()))\n",
    "\n",
    "# realty_dp = round(min(realty_risk_groups.values()) / max(realty_risk_groups.values()),2)\n",
    "# print(\"The dp ratio for FLAG_OWN_REALTY is \", realty_dp)\n",
    "\n",
    "dp_ratio_features.update({\"FLAG_MOBIL\": 0.315})"
   ]
  },
  {
   "cell_type": "code",
   "execution_count": null,
   "id": "93ad22b8-80b1-43e3-9371-2382f3384d73",
   "metadata": {},
   "outputs": [],
   "source": [
    "display(dp_ratio_features)\n",
    "len(dp_ratio_features)"
   ]
  },
  {
   "cell_type": "markdown",
   "id": "5d46289c-6eaa-41a0-a827-f178eca7da8c",
   "metadata": {},
   "source": [
    "#### 21. FLAG_EMP_PHONE"
   ]
  },
  {
   "cell_type": "code",
   "execution_count": null,
   "id": "204ac1d4-7488-4dff-b128-013fe06ba604",
   "metadata": {},
   "outputs": [],
   "source": [
    "test_df[\"FLAG_EMP_PHONE\"].unique()"
   ]
  },
  {
   "cell_type": "code",
   "execution_count": null,
   "id": "fccdf6aa-8af8-4a33-80af-7506897b2300",
   "metadata": {},
   "outputs": [],
   "source": [
    "sr_emp_mobile = MetricFrame(metrics=selection_rate, y_true=predictions_test, y_pred=predictions_test, sensitive_features=test_df[\"FLAG_EMP_PHONE\"])\n",
    "# display(sr.overall)\n",
    "display(sr_emp_mobile.by_group)"
   ]
  },
  {
   "cell_type": "code",
   "execution_count": null,
   "id": "bb08c3dc-fae8-432c-9a8c-6dbccbecea86",
   "metadata": {},
   "outputs": [],
   "source": [
    "emp_mobile_groups= {\"No\" : round(100*sr_emp_mobile.by_group.loc[\"No\"]), \n",
    "                           \"Yes\" : round(100*sr_emp_mobile.by_group.loc[\"Yes\"])}\n",
    "\n",
    "fig = plt.figure()\n",
    "ax = fig.add_axes([0,0,1,1])\n",
    "\n",
    "bars = ax.bar(emp_mobile_groups.keys(),emp_mobile_groups.values(), width=0.4, color = \"green\")\n",
    "ax.bar_label(bars)\n",
    "plt.title(\"Risk Rate vs FLAG_EMP_PHONE\")\n",
    "plt.xlabel('FLAG_EMP_PHONE')\n",
    "plt.ylabel('Risk Rate in %')\n",
    "plt.show()"
   ]
  },
  {
   "cell_type": "code",
   "execution_count": null,
   "id": "9b7f66d2-51df-453e-b8ca-52c51bbead38",
   "metadata": {},
   "outputs": [],
   "source": [
    "print(\"The dp difference for FLAG_EMP_PHONE is \", max(emp_mobile_groups.values()) - min(emp_mobile_groups.values()))\n",
    "\n",
    "emp_phone_dp = round(min(emp_mobile_groups.values()) / max(emp_mobile_groups.values()),2)\n",
    "print(\"The dp ratio for FLAG_EMP_PHONE is \", emp_phone_dp)\n",
    "\n",
    "dp_ratio_features.update({\"FLAG_EMP_PHONE\": emp_phone_dp})"
   ]
  },
  {
   "cell_type": "code",
   "execution_count": null,
   "id": "94c944a5-2a0d-405d-9af5-5112aa822f1a",
   "metadata": {},
   "outputs": [],
   "source": [
    "display(dp_ratio_features)\n",
    "len(dp_ratio_features)"
   ]
  },
  {
   "cell_type": "markdown",
   "id": "c2dd2ee2-eef8-42e9-9e19-fdd2e70d67fe",
   "metadata": {},
   "source": [
    "#### 22. FLAG_WORK_PHONE"
   ]
  },
  {
   "cell_type": "code",
   "execution_count": null,
   "id": "bbd1e4b0-b239-4b5f-b61f-51d7c49aeef0",
   "metadata": {},
   "outputs": [],
   "source": [
    "test_df[\"FLAG_WORK_PHONE\"].unique()"
   ]
  },
  {
   "cell_type": "code",
   "execution_count": null,
   "id": "bd06a81d-0cd5-48cb-810f-c56901cd186c",
   "metadata": {},
   "outputs": [],
   "source": [
    "sr_work_phone = MetricFrame(metrics=selection_rate, y_true=predictions_test, y_pred=predictions_test, sensitive_features=test_df[\"FLAG_WORK_PHONE\"])\n",
    "# display(sr.overall)\n",
    "display(sr_work_phone.by_group)"
   ]
  },
  {
   "cell_type": "code",
   "execution_count": null,
   "id": "6904822e-78b0-4f24-ae70-c27c238e3989",
   "metadata": {},
   "outputs": [],
   "source": [
    "work_phone_groups= {\"No\" : round(100*sr_work_phone.by_group.loc[\"No\"]), \n",
    "                           \"Yes\" : round(100*sr_work_phone.by_group.loc[\"Yes\"])}\n",
    "\n",
    "fig = plt.figure()\n",
    "ax = fig.add_axes([0,0,1,1])\n",
    "\n",
    "bars = ax.bar(work_phone_groups.keys(),work_phone_groups.values(), width=0.4, color = \"green\")\n",
    "ax.bar_label(bars)\n",
    "plt.title(\"Risk Rate vs FLAG_WORK_PHONE\")\n",
    "plt.xlabel('FLAG_WORK_PHONE')\n",
    "plt.ylabel('Risk Rate in %')\n",
    "plt.show()"
   ]
  },
  {
   "cell_type": "code",
   "execution_count": null,
   "id": "7479c392-9159-4c28-bd84-5e2c394d8fa3",
   "metadata": {},
   "outputs": [],
   "source": [
    "print(\"The dp difference for FLAG_WORK_PHONE is \", max(work_phone_groups.values()) - min(work_phone_groups.values()))\n",
    "\n",
    "work_phone_dp = round(min(work_phone_groups.values()) / max(work_phone_groups.values()),2)\n",
    "print(\"The dp ratio for FLAG_WORK_PHONE is \", work_phone_dp)\n",
    "\n",
    "dp_ratio_features.update({\"FLAG_WORK_PHONE\": work_phone_dp})"
   ]
  },
  {
   "cell_type": "code",
   "execution_count": null,
   "id": "85bbf120-87ff-4db2-ba0e-8ef24933dc78",
   "metadata": {},
   "outputs": [],
   "source": [
    "display(dp_ratio_features)\n",
    "len(dp_ratio_features)"
   ]
  },
  {
   "cell_type": "markdown",
   "id": "83ec4cd4-1d3f-4a51-88f7-3a1b855cea59",
   "metadata": {},
   "source": [
    "#### 23. FLAG_CONT_MOBILE"
   ]
  },
  {
   "cell_type": "code",
   "execution_count": null,
   "id": "59baaabd-2472-4798-8418-9290726ea24a",
   "metadata": {},
   "outputs": [],
   "source": [
    "test_df[\"FLAG_CONT_MOBILE\"].unique()"
   ]
  },
  {
   "cell_type": "code",
   "execution_count": null,
   "id": "ec62e4b2-7dab-426a-aede-bf1c689ca668",
   "metadata": {},
   "outputs": [],
   "source": [
    "sr_cont_mobile = MetricFrame(metrics=selection_rate, y_true=predictions_test, y_pred=predictions_test, sensitive_features=test_df[\"FLAG_CONT_MOBILE\"])\n",
    "# display(sr.overall)\n",
    "display(sr_cont_mobile.by_group)"
   ]
  },
  {
   "cell_type": "code",
   "execution_count": null,
   "id": "45255b3a-f7d4-4fb0-b01b-951e44188d3c",
   "metadata": {},
   "outputs": [],
   "source": [
    "cont_mobile_groups= {\"No\" : round(100*sr_cont_mobile.by_group.loc[\"No\"]), \n",
    "                           \"Yes\" : round(100*sr_cont_mobile.by_group.loc[\"Yes\"])}\n",
    "\n",
    "fig = plt.figure()\n",
    "ax = fig.add_axes([0,0,1,1])\n",
    "\n",
    "bars = ax.bar(cont_mobile_groups.keys(),cont_mobile_groups.values(), width=0.4, color = \"green\")\n",
    "ax.bar_label(bars)\n",
    "plt.title(\"Risk Rate vs FLAG_CONT_MOBILE\")\n",
    "plt.xlabel('FLAG_CONT_MOBILE')\n",
    "plt.ylabel('Risk Rate in %')\n",
    "plt.show()"
   ]
  },
  {
   "cell_type": "code",
   "execution_count": null,
   "id": "2d5ac6fe-a39a-4cf3-9e99-eb79f8f91325",
   "metadata": {},
   "outputs": [],
   "source": [
    "print(\"The dp difference for FLAG_CONT_MOBILE is \", max(cont_mobile_groups.values()) - min(cont_mobile_groups.values()))\n",
    "\n",
    "cont_mobile_dp = round(min(cont_mobile_groups.values()) / max(cont_mobile_groups.values()),2)\n",
    "print(\"The dp ratio for FLAG_CONT_MOBILE is \", cont_mobile_dp)\n",
    "\n",
    "dp_ratio_features.update({\"FLAG_CONT_MOBILE\": cont_mobile_dp})"
   ]
  },
  {
   "cell_type": "code",
   "execution_count": null,
   "id": "a831f762-acfe-4d67-b1a7-619175921fbe",
   "metadata": {},
   "outputs": [],
   "source": [
    "dp_ratio_features.update({\"FLAG_MOBIL\": 0.32})"
   ]
  },
  {
   "cell_type": "code",
   "execution_count": null,
   "id": "85111de0-3229-400c-94a5-f8c1ee463e32",
   "metadata": {},
   "outputs": [],
   "source": [
    "display(dp_ratio_features)\n",
    "len(dp_ratio_features)"
   ]
  },
  {
   "cell_type": "markdown",
   "id": "dfd57e35-4d8a-410d-b0c2-41ec9bbfe63b",
   "metadata": {},
   "source": [
    "#### 24. FLAG_PHONE"
   ]
  },
  {
   "cell_type": "code",
   "execution_count": null,
   "id": "f062fc54-4dc0-4206-82c3-00c4af7824aa",
   "metadata": {},
   "outputs": [],
   "source": [
    "test_df[\"FLAG_PHONE\"].unique()"
   ]
  },
  {
   "cell_type": "code",
   "execution_count": null,
   "id": "96092449-89d6-497f-ac6c-b5042583d436",
   "metadata": {},
   "outputs": [],
   "source": [
    "sr_phone = MetricFrame(metrics=selection_rate, y_true=predictions_test, y_pred=predictions_test, sensitive_features=test_df[\"FLAG_PHONE\"])\n",
    "# display(sr.overall)\n",
    "display(sr_phone.by_group)"
   ]
  },
  {
   "cell_type": "code",
   "execution_count": null,
   "id": "f028bc12-e660-4f09-9d08-31a97847cb53",
   "metadata": {},
   "outputs": [],
   "source": [
    "phone_groups= {\"No\" : round(100*sr_phone.by_group.loc[\"No\"]), \n",
    "                           \"Yes\" : round(100*sr_phone.by_group.loc[\"Yes\"])}\n",
    "\n",
    "fig = plt.figure()\n",
    "ax = fig.add_axes([0,0,1,1])\n",
    "\n",
    "bars = ax.bar(phone_groups.keys(),phone_groups.values(), width=0.4, color = \"green\")\n",
    "ax.bar_label(bars)\n",
    "plt.title(\"Risk Rate vs FLAG_PHONE\")\n",
    "plt.xlabel('FLAG_PHONE')\n",
    "plt.ylabel('Risk Rate in %')\n",
    "plt.show()"
   ]
  },
  {
   "cell_type": "code",
   "execution_count": null,
   "id": "876e48b0-6edf-43ba-bf6a-d97f57c4f966",
   "metadata": {},
   "outputs": [],
   "source": [
    "print(\"The dp difference for FLAG_PHONE is \", max(phone_groups.values()) - min(phone_groups.values()))\n",
    "\n",
    "phone_dp = round(min(phone_groups.values()) / max(phone_groups.values()),2)\n",
    "print(\"The dp ratio for FLAG_PHONE is \", phone_dp)\n",
    "\n",
    "dp_ratio_features.update({\"FLAG_PHONE\": phone_dp})"
   ]
  },
  {
   "cell_type": "code",
   "execution_count": null,
   "id": "60065aac-404f-42c1-92c2-bd2f6c17b468",
   "metadata": {},
   "outputs": [],
   "source": [
    "display(dp_ratio_features)\n",
    "len(dp_ratio_features)"
   ]
  },
  {
   "cell_type": "markdown",
   "id": "d89ed439-9d13-4c66-a9cf-9264263b0db9",
   "metadata": {},
   "source": [
    "#### 25. FLAG_EMAIL"
   ]
  },
  {
   "cell_type": "code",
   "execution_count": null,
   "id": "e7cf453a-1e65-4aad-be4c-5351cf62a666",
   "metadata": {},
   "outputs": [],
   "source": [
    "test_df[\"FLAG_EMAIL\"].unique()"
   ]
  },
  {
   "cell_type": "code",
   "execution_count": null,
   "id": "a67221e9-1d52-4586-8a05-9222ade496c0",
   "metadata": {},
   "outputs": [],
   "source": [
    "sr_email = MetricFrame(metrics=selection_rate, y_true=predictions_test, y_pred=predictions_test, sensitive_features=test_df[\"FLAG_EMAIL\"])\n",
    "\n",
    "display(sr_email.by_group)"
   ]
  },
  {
   "cell_type": "code",
   "execution_count": null,
   "id": "b5d58fd8-5671-4783-ae1e-aea87db569ac",
   "metadata": {},
   "outputs": [],
   "source": [
    "email_groups= {\"No\" : round(100*sr_email.by_group.loc[\"No\"]), \n",
    "                           \"Yes\" : round(100*sr_email.by_group.loc[\"Yes\"])}\n",
    "\n",
    "fig = plt.figure()\n",
    "ax = fig.add_axes([0,0,1,1])\n",
    "\n",
    "bars = ax.bar(email_groups.keys(),email_groups.values(), width=0.4, color = \"green\")\n",
    "ax.bar_label(bars)\n",
    "plt.title(\"Risk Rate vs FLAG_EMAIL\")\n",
    "plt.xlabel('FLAG_EMAIL')\n",
    "plt.ylabel('Risk Rate in %')\n",
    "plt.show()"
   ]
  },
  {
   "cell_type": "code",
   "execution_count": null,
   "id": "716d024b-7200-4318-b7b5-cbac9aadbdf8",
   "metadata": {},
   "outputs": [],
   "source": [
    "print(\"The dp difference for FLAG_EMAIL is \", max(email_groups.values()) - min(email_groups.values()))\n",
    "\n",
    "email_dp = round(min(email_groups.values()) / max(email_groups.values()),2)\n",
    "print(\"The dp ratio for FLAG_EMAIL is \", email_dp)\n",
    "\n",
    "dp_ratio_features.update({\"FLAG_EMAIL\": email_dp})"
   ]
  },
  {
   "cell_type": "code",
   "execution_count": null,
   "id": "76f4538d-50c4-4b5c-b3c7-3b418051c4b2",
   "metadata": {},
   "outputs": [],
   "source": [
    "# del dp_ratio_features[\"email_dp\"]"
   ]
  },
  {
   "cell_type": "code",
   "execution_count": null,
   "id": "d7d16f14-f702-4f64-bf80-f4ae2881a4f7",
   "metadata": {},
   "outputs": [],
   "source": [
    "display(dp_ratio_features)\n",
    "len(dp_ratio_features)"
   ]
  },
  {
   "cell_type": "markdown",
   "id": "4694606a-baec-4b57-a8a9-4c130f8b75b1",
   "metadata": {},
   "source": [
    "#### 26. OCCUPATION_TYPE"
   ]
  },
  {
   "cell_type": "code",
   "execution_count": null,
   "id": "1e741873-7dc5-4ce6-ac87-3a421d4aabec",
   "metadata": {
    "scrolled": true
   },
   "outputs": [],
   "source": [
    "test_df_fornull = test_df[\"OCCUPATION_TYPE\"]\n",
    "test_df_fornull.fillna(\"Unknown\", inplace = True)"
   ]
  },
  {
   "cell_type": "code",
   "execution_count": null,
   "id": "40007b05-6828-4278-84d5-211afbdf163f",
   "metadata": {},
   "outputs": [],
   "source": [
    "sr_occupation = MetricFrame(metrics=selection_rate, y_true=predictions_test, y_pred=predictions_test, sensitive_features=test_df_fornull)\n",
    "\n",
    "display(sr_occupation.by_group)"
   ]
  },
  {
   "cell_type": "code",
   "execution_count": null,
   "id": "7b93e0e6-0c12-4035-b10a-bbf80976010f",
   "metadata": {},
   "outputs": [],
   "source": [
    "test_df[\"OCCUPATION_TYPE\"].unique()"
   ]
  },
  {
   "cell_type": "code",
   "execution_count": null,
   "id": "f7d8fdab-8eca-47fa-a3ae-6629c345cd0d",
   "metadata": {},
   "outputs": [],
   "source": [
    "occupation_groups= {\"Accountants\" : round(100*sr_occupation.by_group.loc[\"Accountants\"]), \n",
    "                    \"Cleaning staff\" : round(100*sr_occupation.by_group.loc[\"Cleaning staff\"]),\n",
    "                   \"Cooking staff\" : round(100*sr_occupation.by_group.loc[\"Cooking staff\"]),\n",
    "                   \"Core staff\" : round(100*sr_occupation.by_group.loc[\"Core staff\"]),\n",
    "                    \"Drivers\" : round(100*sr_occupation.by_group.loc[\"Drivers\"]),\n",
    "                   \"HR staff\" : round(100*sr_occupation.by_group.loc[\"HR staff\"]),\n",
    "                   \"High skill tech staff\" : round(100*sr_occupation.by_group.loc[\"High skill tech staff\"]),\n",
    "                   \"IT staff\" : round(100*sr_occupation.by_group.loc[\"IT staff\"]),\n",
    "                   \"Laborers\" : round(100*sr_occupation.by_group.loc[\"Laborers\"]),\n",
    "                   \"Low-skill Laborers\" : round(100*sr_occupation.by_group.loc[\"Low-skill Laborers\"]),\n",
    "                   \"Managers\" : round(100*sr_occupation.by_group.loc[\"Managers\"]),\n",
    "                   \"Medicine staff\" : round(100*sr_occupation.by_group.loc[\"Medicine staff\"]),\n",
    "                   \"Private service staff\" : round(100*sr_occupation.by_group.loc[\"Private service staff\"]),\n",
    "                   \"Realty agents\" : round(100*sr_occupation.by_group.loc[\"Realty agents\"]),\n",
    "                   \"Sales staff\" : round(100*sr_occupation.by_group.loc[\"Sales staff\"]),\n",
    "                   \"Secretaries\" : round(100*sr_occupation.by_group.loc[\"Secretaries\"]),\n",
    "                   \"Security staff\" : round(100*sr_occupation.by_group.loc[\"Security staff\"]),\n",
    "                   \"Waiters/barmen staff\" : round(100*sr_occupation.by_group.loc[\"Waiters/barmen staff\"]),\n",
    "#                     \"Unknown\" : round(100*sr_occupation.by_group.loc[\"Unknown\"])\n",
    "                   }\n",
    "\n",
    "fig = plt.figure()\n",
    "ax = fig.add_axes([0,0,1,1])\n",
    "\n",
    "bars = ax.bar(occupation_groups.keys(),occupation_groups.values(), width=0.4, color = \"green\")\n",
    "ax.bar_label(bars)\n",
    "plt.title(\"Risk Rate vs OCCUPATION_TYPE\")\n",
    "plt.xlabel('OCCUPATION_TYPE')\n",
    "plt.ylabel('Risk Rate in %')\n",
    "fig.autofmt_xdate()\n",
    "plt.show()"
   ]
  },
  {
   "cell_type": "code",
   "execution_count": null,
   "id": "7c3b880a-5a5c-48e5-b28c-3e3b437bc5ae",
   "metadata": {},
   "outputs": [],
   "source": [
    "print(\"The dp difference for OCCUPATION_TYPE is \", max(occupation_groups.values()) - min(occupation_groups.values()))\n",
    "\n",
    "occupation_dp = round(min(occupation_groups.values()) / max(occupation_groups.values()),2)\n",
    "print(\"The dp ratio for OCCUPATION_TYPE is \", occupation_dp)\n",
    "\n",
    "dp_ratio_features.update({\"OCCUPATION_TYPE\": occupation_dp})"
   ]
  },
  {
   "cell_type": "code",
   "execution_count": null,
   "id": "455ca942-2fef-4935-a28d-f1cde5f2c45b",
   "metadata": {},
   "outputs": [],
   "source": [
    "display(dp_ratio_features)\n",
    "len(dp_ratio_features)"
   ]
  },
  {
   "cell_type": "markdown",
   "id": "f18c8d3e-4bb0-4aca-8902-85fdcd561250",
   "metadata": {},
   "source": [
    "#### 27. CNT_FAM_MEMBERS"
   ]
  },
  {
   "cell_type": "code",
   "execution_count": null,
   "id": "ef57aaa4-11b5-4149-b6ac-54201fe0d361",
   "metadata": {
    "scrolled": true
   },
   "outputs": [],
   "source": [
    "test_df[\"CNT_FAM_MEMBERS\"].min(), test_df[\"CNT_FAM_MEMBERS\"].max()"
   ]
  },
  {
   "cell_type": "code",
   "execution_count": null,
   "id": "6b5c69e8-c9b0-41fa-8e7e-38a19632b1a7",
   "metadata": {},
   "outputs": [],
   "source": [
    "# <=2\n",
    "# 3-5\n",
    "# >=5"
   ]
  },
  {
   "cell_type": "code",
   "execution_count": null,
   "id": "d92e6237-9517-4ab3-b601-b4a9d967d609",
   "metadata": {
    "scrolled": true
   },
   "outputs": [],
   "source": [
    "sr_family_members = MetricFrame(metrics=selection_rate, y_true=predictions_test, y_pred=predictions_test,sensitive_features=test_df[\"CNT_FAM_MEMBERS\"])\n",
    "display(sr_family_members.by_group)"
   ]
  },
  {
   "cell_type": "code",
   "execution_count": null,
   "id": "057f3e4d-13f2-4fe5-8edf-125af19ab66c",
   "metadata": {},
   "outputs": [],
   "source": [
    "lessthan_2 = sr_family_members.by_group.loc[:2]\n",
    "btw_3_5 = sr_family_members.by_group.loc[3:4]\n",
    "gt_5 = sr_family_members.by_group.loc[5:]\n",
    "\n",
    "lessthan_2_risk_rate = 100*round(np.mean(lessthan_2),2)\n",
    "btw_3_5_risk_rate = 100*round(np.mean(btw_3_5),2)\n",
    "gt_5_risk_rate = 100*round(np.mean(gt_5),2)\n",
    "\n",
    "\n",
    "family_members_risk_groups= {\"<=2\" : lessthan_2_risk_rate, \"3-5\" : btw_3_5_risk_rate, \">=5\": gt_5_risk_rate}\n",
    "family_members_risk_groups"
   ]
  },
  {
   "cell_type": "code",
   "execution_count": null,
   "id": "5c00b80c-4bc6-4a9f-81f9-7017deb00046",
   "metadata": {},
   "outputs": [],
   "source": [
    "fig = plt.figure()\n",
    "ax = fig.add_axes([0,0,1,1])\n",
    "\n",
    "bars = ax.bar(family_members_risk_groups.keys(),family_members_risk_groups.values(), width=0.5, color = \"green\")\n",
    "ax.bar_label(bars)\n",
    "plt.title(\"Risk Rate vs CNT_FAM_MEMBERS\")\n",
    "plt.xlabel('CNT_FAM_MEMBERS')\n",
    "plt.ylabel('Risk Rate in %')\n",
    "plt.show()"
   ]
  },
  {
   "cell_type": "code",
   "execution_count": null,
   "id": "e6b8b653-537e-4c92-8a4e-0aeb345d7137",
   "metadata": {},
   "outputs": [],
   "source": [
    "print(\"The dp difference for CNT_FAM_MEMBERS is \", max(family_members_risk_groups.values()) - min(family_members_risk_groups.values()))\n",
    "\n",
    "fam_mem_dp = round(min(family_members_risk_groups.values()) / max(family_members_risk_groups.values()),2)\n",
    "print(\"The dp ratio for CNT_FAM_MEMBERS is \", fam_mem_dp)\n",
    "\n",
    "dp_ratio_features.update({\"CNT_FAM_MEMBERS\":fam_mem_dp})"
   ]
  },
  {
   "cell_type": "code",
   "execution_count": null,
   "id": "51d12d2e-fbfd-4a51-acc9-6ee7850fe368",
   "metadata": {},
   "outputs": [],
   "source": [
    "display(dp_ratio_features)\n",
    "len(dp_ratio_features)"
   ]
  },
  {
   "cell_type": "markdown",
   "id": "42d4929d-fa4f-453b-9980-30bfd2ada362",
   "metadata": {},
   "source": [
    "#### 28. REGION_RATING_CLIENT"
   ]
  },
  {
   "cell_type": "code",
   "execution_count": null,
   "id": "8975be15-1775-4374-bf07-bd5f404c64d6",
   "metadata": {},
   "outputs": [],
   "source": [
    "test_df[\"REGION_RATING_CLIENT\"].unique()"
   ]
  },
  {
   "cell_type": "code",
   "execution_count": null,
   "id": "b4cbc5f4-35ef-41b1-9d1b-2df84df4966f",
   "metadata": {},
   "outputs": [],
   "source": [
    "sr_region_rating = MetricFrame(metrics=selection_rate, y_true=predictions_test, y_pred=predictions_test, sensitive_features=test_df[\"REGION_RATING_CLIENT\"])\n",
    "\n",
    "display(sr_region_rating.by_group)"
   ]
  },
  {
   "cell_type": "code",
   "execution_count": null,
   "id": "975a0bfa-f6e9-4d2a-b7f2-9939677f6757",
   "metadata": {},
   "outputs": [],
   "source": [
    "region_rating_groups= {\"1\" : round(100*sr_region_rating.by_group.loc[1]), \n",
    "                        \"2\" : round(100*sr_region_rating.by_group.loc[2]),\n",
    "                        \"3\" : round(100*sr_region_rating.by_group.loc[3])}\n",
    "\n",
    "fig = plt.figure()\n",
    "ax = fig.add_axes([0,0,1,1])\n",
    "\n",
    "bars = ax.bar(region_rating_groups.keys(),region_rating_groups.values(), width=0.4, color = \"green\")\n",
    "ax.bar_label(bars)\n",
    "plt.title(\"Risk Rate vs REGION_RATING_CLIENT\")\n",
    "plt.xlabel('REGION_RATING_CLIENT')\n",
    "plt.ylabel('Risk Rate in %')\n",
    "plt.show()"
   ]
  },
  {
   "cell_type": "code",
   "execution_count": null,
   "id": "b26ea019-ca77-4d33-83e4-e4f07f98385e",
   "metadata": {},
   "outputs": [],
   "source": [
    "print(\"The dp difference for REGION_RATING_CLIENT is \", max(region_rating_groups.values()) - min(region_rating_groups.values()))\n",
    "\n",
    "region_rating_dp = round(min(region_rating_groups.values()) / max(region_rating_groups.values()),2)\n",
    "print(\"The dp ratio for REGION_RATING_CLIENT is \", region_rating_dp)\n",
    "\n",
    "dp_ratio_features.update({\"REGION_RATING_CLIENT\": region_rating_dp})"
   ]
  },
  {
   "cell_type": "code",
   "execution_count": null,
   "id": "0376f1ee-78eb-4ca7-8b49-0eb385b56309",
   "metadata": {},
   "outputs": [],
   "source": [
    "display(dp_ratio_features)\n",
    "len(dp_ratio_features)"
   ]
  },
  {
   "cell_type": "markdown",
   "id": "24f1bb99-b956-464a-ba8a-82b2cd04bcc0",
   "metadata": {},
   "source": [
    "#### 29. REGION_RATING_CLIENT_W_CITY"
   ]
  },
  {
   "cell_type": "code",
   "execution_count": null,
   "id": "9c546a04-51f9-4879-9bd5-498110d5c13f",
   "metadata": {},
   "outputs": [],
   "source": [
    "test_df[\"REGION_RATING_CLIENT_W_CITY\"].unique()"
   ]
  },
  {
   "cell_type": "code",
   "execution_count": null,
   "id": "b4d804c9-7269-4ca8-8ffa-173c3058e3e4",
   "metadata": {},
   "outputs": [],
   "source": [
    "sr_region_rating_w_city = MetricFrame(metrics=selection_rate, y_true=predictions_test, y_pred=predictions_test, sensitive_features=test_df[\"REGION_RATING_CLIENT_W_CITY\"])\n",
    "\n",
    "display(sr_region_rating_w_city.by_group)"
   ]
  },
  {
   "cell_type": "code",
   "execution_count": null,
   "id": "fe4bb562-2b0b-4db6-968f-f272a169708c",
   "metadata": {},
   "outputs": [],
   "source": [
    "region_rating_w_city_groups= {\"1\" : round(100*sr_region_rating_w_city.by_group.loc[1]), \n",
    "                        \"2\" : round(100*sr_region_rating_w_city.by_group.loc[2]),\n",
    "                        \"3\" : round(100*sr_region_rating_w_city.by_group.loc[3])}\n",
    "\n",
    "fig = plt.figure()\n",
    "ax = fig.add_axes([0,0,1,1])\n",
    "\n",
    "bars = ax.bar(region_rating_w_city_groups.keys(),region_rating_w_city_groups.values(), width=0.4, color = \"green\")\n",
    "ax.bar_label(bars)\n",
    "plt.title(\"Risk Rate vs REGION_RATING_CLIENT_W_CITY\")\n",
    "plt.xlabel('REGION_RATING_CLIENT_W_CITY')\n",
    "plt.ylabel('Risk Rate in %')\n",
    "plt.show()"
   ]
  },
  {
   "cell_type": "code",
   "execution_count": null,
   "id": "2c827209-4c5a-4b80-aae5-6bab389c9967",
   "metadata": {},
   "outputs": [],
   "source": [
    "print(\"The dp difference for REGION_RATING_CLIENT_W_CITY is \", max(region_rating_w_city_groups.values()) - min(region_rating_w_city_groups.values()))\n",
    "\n",
    "region_rating_w_city_dp = round(min(region_rating_w_city_groups.values()) / max(region_rating_w_city_groups.values()),2)\n",
    "print(\"The dp ratio for REGION_RATING_CLIENT_W_CITY is \", region_rating_w_city_dp)\n",
    "\n",
    "dp_ratio_features.update({\"REGION_RATING_CLIENT_W_CITY\": region_rating_w_city_dp})"
   ]
  },
  {
   "cell_type": "code",
   "execution_count": null,
   "id": "7516e4f2-1c2b-47d2-b82e-61184428dbcf",
   "metadata": {},
   "outputs": [],
   "source": [
    "display(dp_ratio_features)\n",
    "len(dp_ratio_features)"
   ]
  },
  {
   "cell_type": "markdown",
   "id": "88a96b41-190d-4878-aaf0-fcdb5c5943bd",
   "metadata": {},
   "source": [
    "#### 30. WEEKDAY_APPR_PROCESS_START"
   ]
  },
  {
   "cell_type": "code",
   "execution_count": null,
   "id": "151a3e2a-bfaa-46e5-bcd6-3459ce9a2a0b",
   "metadata": {},
   "outputs": [],
   "source": [
    "test_df[\"WEEKDAY_APPR_PROCESS_START\"].unique()"
   ]
  },
  {
   "cell_type": "code",
   "execution_count": null,
   "id": "33f3b20d-b9fd-42f6-a7d9-1d7722c67a83",
   "metadata": {},
   "outputs": [],
   "source": [
    "sr_weekday = MetricFrame(metrics=selection_rate, y_true=predictions_test, y_pred=predictions_test, sensitive_features=test_df[\"WEEKDAY_APPR_PROCESS_START\"])\n",
    "\n",
    "display(sr_weekday.by_group)"
   ]
  },
  {
   "cell_type": "code",
   "execution_count": null,
   "id": "de4eded3-5d19-4aad-875c-ce45fee1c805",
   "metadata": {},
   "outputs": [],
   "source": [
    "weekday_groups= {\"SUNDAY\" : round(100*sr_weekday.by_group.loc[\"SUNDAY\"]),\n",
    "                 \"MONDAY\" : round(100*sr_weekday.by_group.loc[\"MONDAY\"]), \n",
    "                \"TUESDAY\" : round(100*sr_weekday.by_group.loc[\"TUESDAY\"]),\n",
    "                \"WEDNESDAY\" : round(100*sr_weekday.by_group.loc[\"WEDNESDAY\"]),\n",
    "                \"THURSDAY\" : round(100*sr_weekday.by_group.loc[\"THURSDAY\"]),\n",
    "                \"FRIDAY\" : round(100*sr_weekday.by_group.loc[\"FRIDAY\"]),\n",
    "                \"SATURDAY\" : round(100*sr_weekday.by_group.loc[\"SATURDAY\"])\n",
    "                   }\n",
    "\n",
    "fig = plt.figure()\n",
    "ax = fig.add_axes([0,0,1,1])\n",
    "\n",
    "bars = ax.bar(weekday_groups.keys(),weekday_groups.values(), width=0.4, color = \"green\")\n",
    "ax.bar_label(bars)\n",
    "plt.title(\"Risk Rate vs WEEKDAY_APPR_PROCESS_START\")\n",
    "plt.xlabel('WEEKDAY_APPR_PROCESS_START')\n",
    "plt.ylabel('Risk Rate in %')\n",
    "fig.autofmt_xdate()\n",
    "plt.show()"
   ]
  },
  {
   "cell_type": "code",
   "execution_count": null,
   "id": "bc99816c-ae81-49eb-b948-33b0cc0444ca",
   "metadata": {},
   "outputs": [],
   "source": [
    "print(\"The dp difference for WEEKDAY_APPR_PROCESS_START is \", max(weekday_groups.values()) - min(weekday_groups.values()))\n",
    "\n",
    "weekday_dp = round(min(weekday_groups.values()) / max(weekday_groups.values()),2)\n",
    "print(\"The dp ratio for WEEKDAY_APPR_PROCESS_START is \", weekday_dp)\n",
    "\n",
    "dp_ratio_features.update({\"WEEKDAY_APPR_PROCESS_START\": weekday_dp})"
   ]
  },
  {
   "cell_type": "code",
   "execution_count": null,
   "id": "597a4d97-1722-429b-bd1f-930c8f6954ab",
   "metadata": {},
   "outputs": [],
   "source": [
    "display(dp_ratio_features)\n",
    "len(dp_ratio_features)"
   ]
  },
  {
   "cell_type": "markdown",
   "id": "317e8bab-58b2-4b65-b582-7ec11a888a8e",
   "metadata": {},
   "source": [
    "#### 31. HOUR_APPR_PROCESS_START"
   ]
  },
  {
   "cell_type": "code",
   "execution_count": null,
   "id": "a3076671-10af-42e9-870a-21327937cd39",
   "metadata": {},
   "outputs": [],
   "source": [
    "test_df[\"HOUR_APPR_PROCESS_START\"].min(), test_df[\"HOUR_APPR_PROCESS_START\"].max()"
   ]
  },
  {
   "cell_type": "code",
   "execution_count": null,
   "id": "7ebe97cd-4a4d-42d9-b193-885bae86447a",
   "metadata": {},
   "outputs": [],
   "source": [
    "\n",
    "# Before 9 am (Before Office Hours) : 0-9\n",
    "# 9am to 1 pm (Office Hours: Morning): 9-13\n",
    "# 1pm to 5 pm(Office Hours:Afternoon): 13 - 17   \n",
    "# 5pm - 9 am (After Office Hours): >17\n",
    "# <=2\n",
    "# 3-5\n",
    "# >=5"
   ]
  },
  {
   "cell_type": "code",
   "execution_count": null,
   "id": "8917222d-b383-4b66-a99d-542cab90188b",
   "metadata": {
    "scrolled": true
   },
   "outputs": [],
   "source": [
    "sr_hour_application = MetricFrame(metrics=selection_rate, y_true=predictions_test, y_pred=predictions_test,sensitive_features=test_df[\"HOUR_APPR_PROCESS_START\"])\n",
    "display(sr_hour_application.by_group)"
   ]
  },
  {
   "cell_type": "code",
   "execution_count": null,
   "id": "06e806fb-7348-4b33-a0f5-32d5972d1f19",
   "metadata": {},
   "outputs": [],
   "source": [
    "display(len(sr_hour_application.by_group))"
   ]
  },
  {
   "cell_type": "code",
   "execution_count": null,
   "id": "85b01729-d2e3-4620-90fc-8d9a06282818",
   "metadata": {},
   "outputs": [],
   "source": [
    "before_9 = sr_hour_application.by_group.loc[0:8]\n",
    "btw_9_13 = sr_hour_application.by_group.loc[9:13]\n",
    "btw_13_17 = sr_hour_application.by_group.loc[14:17]\n",
    "after_17 = sr_hour_application.by_group.loc[18:24]\n",
    "\n",
    "# display(len(before_9))\n",
    "# display(len(btw_9_13))\n",
    "# display(len(btw_13_17))\n",
    "# display(len(after_17))\n",
    "\n",
    "before_9_risk_rate = 100*round(np.mean(before_9),2)\n",
    "btw_9_13_risk_rate = 100*round(np.mean(btw_9_13),2)\n",
    "btw_13_17_risk_rate = 100*round(np.mean(btw_13_17),2)\n",
    "after_17_risk_rate = 100*round(np.mean(after_17),2)\n",
    "\n",
    "\n",
    "hour_application_risk_groups= {\"Midnight to 9 am (Before Office Hours) : 0-9\" : before_9_risk_rate, \n",
    "                               \"9am to 1 pm (Office Hours: Morning): 9-13\" : btw_9_13_risk_rate, \n",
    "                               \"1pm to 5 pm(Office Hours:Afternoon): 13 - 17\": btw_13_17_risk_rate,\n",
    "                                \"5pm - Midnight (After Office Hours): >17\": after_17_risk_rate}\n",
    "hour_application_risk_groups"
   ]
  },
  {
   "cell_type": "code",
   "execution_count": null,
   "id": "fceac318-9bf0-445f-9ccf-c1bdc278ed1d",
   "metadata": {},
   "outputs": [],
   "source": [
    "fig = plt.figure()\n",
    "ax = fig.add_axes([0,0,1,1])\n",
    "\n",
    "bars = ax.bar(hour_application_risk_groups.keys(),hour_application_risk_groups.values(), width=0.5, color = \"green\")\n",
    "ax.bar_label(bars)\n",
    "plt.title(\"Risk Rate vs HOUR_APPR_PROCESS_START\")\n",
    "plt.xlabel('HOUR_APPR_PROCESS_START')\n",
    "plt.ylabel('Risk Rate in %')\n",
    "fig.autofmt_xdate()\n",
    "plt.show()"
   ]
  },
  {
   "cell_type": "code",
   "execution_count": null,
   "id": "3899248a-4d3c-47c3-8cc3-8e4caabf2aa4",
   "metadata": {},
   "outputs": [],
   "source": [
    "print(\"The dp difference for HOUR_APPR_PROCESS_START is \", max(hour_application_risk_groups.values()) - min(hour_application_risk_groups.values()))\n",
    "\n",
    "hour_application_dp = round(min(hour_application_risk_groups.values()) / max(hour_application_risk_groups.values()),2)\n",
    "print(\"The dp ratio for HOUR_APPR_PROCESS_START is \", hour_application_dp)\n",
    "\n",
    "dp_ratio_features.update({\"HOUR_APPR_PROCESS_START\":hour_application_dp})"
   ]
  },
  {
   "cell_type": "code",
   "execution_count": null,
   "id": "de449ab6-f5df-4eb4-a87f-a473a62662d5",
   "metadata": {},
   "outputs": [],
   "source": [
    "display(dp_ratio_features)\n",
    "len(dp_ratio_features)"
   ]
  },
  {
   "cell_type": "markdown",
   "id": "8a537b05-23a1-4995-ac4e-e6a367cbbc9f",
   "metadata": {},
   "source": [
    "#### 32. REG_REGION_NOT_LIVE_REGION"
   ]
  },
  {
   "cell_type": "code",
   "execution_count": null,
   "id": "d5641e63-0322-4c53-9378-dd5fa4f1d124",
   "metadata": {},
   "outputs": [],
   "source": [
    "test_df_final[\"REG_REGION_NOT_LIVE_REGION\"].unique()"
   ]
  },
  {
   "cell_type": "code",
   "execution_count": null,
   "id": "7565d94a-8736-4901-854b-20b1e3cfc5a0",
   "metadata": {},
   "outputs": [],
   "source": [
    "sr_region_live = MetricFrame(metrics=selection_rate, y_true=predictions_test, y_pred=predictions_test, sensitive_features=test_df[\"REG_REGION_NOT_LIVE_REGION\"])\n",
    "\n",
    "display(sr_region_live.by_group)"
   ]
  },
  {
   "cell_type": "code",
   "execution_count": null,
   "id": "3aeb406d-a242-48ca-ad3a-8530577da316",
   "metadata": {},
   "outputs": [],
   "source": [
    "region_live_groups= {\"Same\" : round(100*sr_region_live.by_group.loc[\"Same\"]), \n",
    "                           \"Different\" : round(100*sr_region_live.by_group.loc[\"Different\"])}\n",
    "\n",
    "fig = plt.figure()\n",
    "ax = fig.add_axes([0,0,1,1])\n",
    "\n",
    "bars = ax.bar(region_live_groups.keys(),region_live_groups.values(), width=0.4, color = \"green\")\n",
    "ax.bar_label(bars)\n",
    "plt.title(\"Risk Rate vs REG_REGION_NOT_LIVE_REGION\")\n",
    "plt.xlabel('REG_REGION_NOT_LIVE_REGION')\n",
    "plt.ylabel('Risk Rate in %')\n",
    "plt.show()"
   ]
  },
  {
   "cell_type": "code",
   "execution_count": null,
   "id": "0854958b-e0f9-47c5-ab5b-0253ff58b715",
   "metadata": {},
   "outputs": [],
   "source": [
    "print(\"The dp difference for REG_REGION_NOT_LIVE_REGION is \", max(region_live_groups.values()) - min(region_live_groups.values()))\n",
    "\n",
    "region_live_dp = round(min(region_live_groups.values()) / max(region_live_groups.values()),2)\n",
    "print(\"The dp ratio for REG_REGION_NOT_LIVE_REGION is \", region_live_dp)\n",
    "\n",
    "# dp_ratio_features.update({\"email_dp\": email_dp})\n",
    "dp_ratio_features.update({\"REG_REGION_NOT_LIVE_REGION\": region_live_dp})"
   ]
  },
  {
   "cell_type": "code",
   "execution_count": null,
   "id": "790802dc-2356-4538-b5b0-721d9e10b07e",
   "metadata": {},
   "outputs": [],
   "source": [
    "display(dp_ratio_features)\n",
    "len(dp_ratio_features)"
   ]
  },
  {
   "cell_type": "markdown",
   "id": "0fc3c714-c363-493e-a743-104dd70d4b5c",
   "metadata": {},
   "source": [
    "#### 33. REG_REGION_NOT_WORK_REGION"
   ]
  },
  {
   "cell_type": "code",
   "execution_count": null,
   "id": "6bf3cd17-462d-4d24-b63d-733d468c815c",
   "metadata": {},
   "outputs": [],
   "source": [
    "test_df[\"REG_REGION_NOT_WORK_REGION\"].unique()"
   ]
  },
  {
   "cell_type": "code",
   "execution_count": null,
   "id": "3dbc821a-a6d9-4d93-a990-8f31d3483ed3",
   "metadata": {},
   "outputs": [],
   "source": [
    "sr_region_work = MetricFrame(metrics=selection_rate, y_true=predictions_test, y_pred=predictions_test, sensitive_features=test_df[\"REG_REGION_NOT_WORK_REGION\"])\n",
    "\n",
    "display(sr_region_work.by_group)"
   ]
  },
  {
   "cell_type": "code",
   "execution_count": null,
   "id": "2ee58f68-7d2d-4e91-9775-8291f543b0b2",
   "metadata": {},
   "outputs": [],
   "source": [
    "region_work_groups= {\"Same\" : round(100*sr_region_work.by_group.loc[\"Same\"]), \n",
    "                           \"Different\" : round(100*sr_region_work.by_group.loc[\"Different\"])}\n",
    "\n",
    "fig = plt.figure()\n",
    "ax = fig.add_axes([0,0,1,1])\n",
    "\n",
    "bars = ax.bar(region_work_groups.keys(),region_work_groups.values(), width=0.4, color = \"green\")\n",
    "ax.bar_label(bars)\n",
    "plt.title(\"Risk Rate vs REG_REGION_NOT_WORK_REGION\")\n",
    "plt.xlabel('REG_REGION_NOT_WORK_REGION')\n",
    "plt.ylabel('Risk Rate in %')\n",
    "plt.show()"
   ]
  },
  {
   "cell_type": "code",
   "execution_count": null,
   "id": "00bb5509-b7ef-4d75-a11f-3ac1fd594557",
   "metadata": {},
   "outputs": [],
   "source": [
    "print(\"The dp difference for REG_REGION_NOT_WORK_REGION is \", max(region_work_groups.values()) - min(region_work_groups.values()))\n",
    "\n",
    "region_work_dp = round(min(region_work_groups.values()) / max(region_work_groups.values()),2)\n",
    "print(\"The dp ratio for REG_REGION_NOT_WORK_REGION is \", region_work_dp)\n",
    "\n",
    "dp_ratio_features.update({\"REG_REGION_NOT_WORK_REGION\": region_work_dp})"
   ]
  },
  {
   "cell_type": "code",
   "execution_count": null,
   "id": "194f79cf-b807-4277-8459-3a7330a2425b",
   "metadata": {},
   "outputs": [],
   "source": [
    "display(dp_ratio_features)\n",
    "len(dp_ratio_features)"
   ]
  },
  {
   "cell_type": "markdown",
   "id": "050e82ca-9f8e-4fb9-b997-6d74645f632b",
   "metadata": {},
   "source": [
    "#### 34. LIVE_REGION_NOT_WORK_REGION"
   ]
  },
  {
   "cell_type": "code",
   "execution_count": null,
   "id": "1945513f-a2b6-41c0-8c75-7cae64ecc88f",
   "metadata": {},
   "outputs": [],
   "source": [
    "test_df[\"LIVE_REGION_NOT_WORK_REGION\"].unique()"
   ]
  },
  {
   "cell_type": "code",
   "execution_count": null,
   "id": "512900f8-9c1c-408b-9dfd-f0e274c5d744",
   "metadata": {},
   "outputs": [],
   "source": [
    "sr_live_work = MetricFrame(metrics=selection_rate, y_true=predictions_test, y_pred=predictions_test, sensitive_features=test_df[\"LIVE_REGION_NOT_WORK_REGION\"])\n",
    "\n",
    "display(sr_live_work.by_group)"
   ]
  },
  {
   "cell_type": "code",
   "execution_count": null,
   "id": "4003ec43-0570-4b27-80de-b77a6aac61a1",
   "metadata": {},
   "outputs": [],
   "source": [
    "live_work_groups= {\"Same\" : round(100*sr_live_work.by_group.loc[\"Same\"]), \n",
    "                           \"Different\" : round(100*sr_live_work.by_group.loc[\"Different\"])}\n",
    "\n",
    "fig = plt.figure()\n",
    "ax = fig.add_axes([0,0,1,1])\n",
    "\n",
    "bars = ax.bar(live_work_groups.keys(),live_work_groups.values(), width=0.4, color = \"green\")\n",
    "ax.bar_label(bars)\n",
    "plt.title(\"Risk Rate vs LIVE_REGION_NOT_WORK_REGION\")\n",
    "plt.xlabel('LIVE_REGION_NOT_WORK_REGION')\n",
    "plt.ylabel('Risk Rate in %')\n",
    "plt.show()"
   ]
  },
  {
   "cell_type": "code",
   "execution_count": null,
   "id": "25a41df9-d5e4-44e5-b293-37b80194cb4e",
   "metadata": {},
   "outputs": [],
   "source": [
    "print(\"The dp difference for LIVE_REGION_NOT_WORK_REGION is \", max(live_work_groups.values()) - min(live_work_groups.values()))\n",
    "\n",
    "live_work_dp = round(min(live_work_groups.values()) / max(live_work_groups.values()),2)\n",
    "print(\"The dp ratio for LIVE_REGION_NOT_WORK_REGION is \", live_work_dp)\n",
    "\n",
    "dp_ratio_features.update({\"LIVE_REGION_NOT_WORK_REGION\": live_work_dp})"
   ]
  },
  {
   "cell_type": "code",
   "execution_count": null,
   "id": "6af1aaed-2939-4e2a-a3e2-e56262419aaa",
   "metadata": {},
   "outputs": [],
   "source": [
    "display(dp_ratio_features)\n",
    "len(dp_ratio_features)"
   ]
  },
  {
   "cell_type": "markdown",
   "id": "995bbc35-33e7-4879-9353-b32c9550dc97",
   "metadata": {},
   "source": [
    "#### 35. REG_CITY_NOT_LIVE_CITY"
   ]
  },
  {
   "cell_type": "code",
   "execution_count": null,
   "id": "d748eac3-0de2-4809-b3d9-c8bd917e226f",
   "metadata": {},
   "outputs": [],
   "source": [
    "test_df[\"REG_CITY_NOT_LIVE_CITY\"].unique()"
   ]
  },
  {
   "cell_type": "code",
   "execution_count": null,
   "id": "a5a68f6c-f758-433b-a4a1-16ce7f10e8e8",
   "metadata": {},
   "outputs": [],
   "source": [
    "sr_city_live = MetricFrame(metrics=selection_rate, y_true=predictions_test, y_pred=predictions_test, sensitive_features=test_df[\"REG_CITY_NOT_LIVE_CITY\"])\n",
    "\n",
    "display(sr_city_live.by_group)"
   ]
  },
  {
   "cell_type": "code",
   "execution_count": null,
   "id": "a349ce84-9e06-42a5-aab2-930160c6ea80",
   "metadata": {},
   "outputs": [],
   "source": [
    "city_live_groups= {\"Same\" : round(100*sr_city_live.by_group.loc[\"Same\"]), \n",
    "                           \"Different\" : round(100*sr_city_live.by_group.loc[\"Different\"])}\n",
    "\n",
    "fig = plt.figure()\n",
    "ax = fig.add_axes([0,0,1,1])\n",
    "\n",
    "bars = ax.bar(city_live_groups.keys(),city_live_groups.values(), width=0.4, color = \"green\")\n",
    "ax.bar_label(bars)\n",
    "plt.title(\"Risk Rate vs REG_CITY_NOT_LIVE_CITY\")\n",
    "plt.xlabel('REG_CITY_NOT_LIVE_CITY')\n",
    "plt.ylabel('Risk Rate in %')\n",
    "plt.show()"
   ]
  },
  {
   "cell_type": "code",
   "execution_count": null,
   "id": "5073a397-ab46-4304-82e7-98e76e8b0809",
   "metadata": {},
   "outputs": [],
   "source": [
    "print(\"The dp difference for REG_CITY_NOT_LIVE_CITY is \", max(city_live_groups.values()) - min(city_live_groups.values()))\n",
    "\n",
    "city_live_dp = round(min(city_live_groups.values()) / max(city_live_groups.values()),2)\n",
    "print(\"The dp ratio for REG_CITY_NOT_LIVE_CITY is \", city_live_dp)\n",
    "\n",
    "dp_ratio_features.update({\"REG_CITY_NOT_LIVE_CITY\": city_live_dp})"
   ]
  },
  {
   "cell_type": "code",
   "execution_count": null,
   "id": "9c8407d2-db2f-4039-ab07-e5f50b2806b6",
   "metadata": {},
   "outputs": [],
   "source": [
    "display(dp_ratio_features)\n",
    "len(dp_ratio_features)"
   ]
  },
  {
   "cell_type": "markdown",
   "id": "2d7862bb-2d47-44fd-b04d-bb781261166d",
   "metadata": {},
   "source": [
    "#### 36. REG_CITY_NOT_WORK_CITY"
   ]
  },
  {
   "cell_type": "code",
   "execution_count": null,
   "id": "41c61e33-89e2-4c61-999d-4fe3fbeab6fd",
   "metadata": {},
   "outputs": [],
   "source": [
    "test_df[\"REG_CITY_NOT_WORK_CITY\"].unique()"
   ]
  },
  {
   "cell_type": "code",
   "execution_count": null,
   "id": "8a40c496-2bf2-47c9-a660-2904e4248007",
   "metadata": {},
   "outputs": [],
   "source": [
    "sr_city_work = MetricFrame(metrics=selection_rate, y_true=predictions_test, y_pred=predictions_test, sensitive_features=test_df[\"REG_CITY_NOT_WORK_CITY\"])\n",
    "\n",
    "display(sr_city_work.by_group)"
   ]
  },
  {
   "cell_type": "code",
   "execution_count": null,
   "id": "36a619d5-5ef0-42a6-b0f3-9382cca227db",
   "metadata": {},
   "outputs": [],
   "source": [
    "city_work_groups= {\"Same\" : round(100*sr_city_work.by_group.loc[\"Same\"]), \n",
    "                           \"Different\" : round(100*sr_city_work.by_group.loc[\"Different\"])}\n",
    "\n",
    "fig = plt.figure()\n",
    "ax = fig.add_axes([0,0,1,1])\n",
    "\n",
    "bars = ax.bar(city_work_groups.keys(),city_work_groups.values(), width=0.4, color = \"green\")\n",
    "ax.bar_label(bars)\n",
    "plt.title(\"Risk Rate vs REG_CITY_NOT_WORK_CITY\")\n",
    "plt.xlabel('REG_CITY_NOT_WORK_CITY')\n",
    "plt.ylabel('Risk Rate in %')\n",
    "plt.show()"
   ]
  },
  {
   "cell_type": "code",
   "execution_count": null,
   "id": "bd25edcb-db39-4709-9d2b-2785ccc07ede",
   "metadata": {},
   "outputs": [],
   "source": [
    "print(\"The dp difference for REG_CITY_NOT_WORK_CITY is \", max(city_work_groups.values()) - min(city_work_groups.values()))\n",
    "\n",
    "city_work_dp = round(min(city_work_groups.values()) / max(city_work_groups.values()),2)\n",
    "print(\"The dp ratio for REG_CITY_NOT_WORK_CITY is \", city_work_dp)\n",
    "\n",
    "dp_ratio_features.update({\"REG_CITY_NOT_WORK_CITY\": city_work_dp})"
   ]
  },
  {
   "cell_type": "code",
   "execution_count": null,
   "id": "2b4db78a-7f46-4ecf-bc03-1b40e469f6d0",
   "metadata": {},
   "outputs": [],
   "source": [
    "display(dp_ratio_features)\n",
    "len(dp_ratio_features)"
   ]
  },
  {
   "cell_type": "markdown",
   "id": "7ddd25c6-a3b3-4257-84c7-d71cc89f663d",
   "metadata": {},
   "source": [
    "#### 36. LIVE_CITY_NOT_WORK_CITY"
   ]
  },
  {
   "cell_type": "code",
   "execution_count": null,
   "id": "3f71cc95-0750-4ccb-8315-1ce98b336666",
   "metadata": {},
   "outputs": [],
   "source": [
    "test_df[\"LIVE_CITY_NOT_WORK_CITY\"].unique()"
   ]
  },
  {
   "cell_type": "code",
   "execution_count": null,
   "id": "c8dc618e-e35b-495f-94ba-54044de06ad8",
   "metadata": {},
   "outputs": [],
   "source": [
    "sr_live_work_city = MetricFrame(metrics=selection_rate, y_true=predictions_test, y_pred=predictions_test, sensitive_features=test_df[\"LIVE_CITY_NOT_WORK_CITY\"])\n",
    "\n",
    "display(sr_live_work_city.by_group)"
   ]
  },
  {
   "cell_type": "code",
   "execution_count": null,
   "id": "7f14bc1a-469a-4a37-be20-3c568c130cab",
   "metadata": {},
   "outputs": [],
   "source": [
    "live_work_city_groups= {\"Same\" : round(100*sr_live_work_city.by_group.loc[\"Same\"]), \n",
    "                           \"Different\" : round(100*sr_live_work_city.by_group.loc[\"Different\"])}\n",
    "\n",
    "fig = plt.figure()\n",
    "ax = fig.add_axes([0,0,1,1])\n",
    "\n",
    "bars = ax.bar(live_work_city_groups.keys(),live_work_city_groups.values(), width=0.4, color = \"green\")\n",
    "ax.bar_label(bars)\n",
    "plt.title(\"Risk Rate vs LIVE_CITY_NOT_WORK_CITY\")\n",
    "plt.xlabel('LIVE_CITY_NOT_WORK_CITY')\n",
    "plt.ylabel('Risk Rate in %')\n",
    "plt.show()"
   ]
  },
  {
   "cell_type": "code",
   "execution_count": null,
   "id": "4e015779-f8c3-4688-b75f-811853180bc6",
   "metadata": {},
   "outputs": [],
   "source": [
    "print(\"The dp difference for LIVE_CITY_NOT_WORK_CITY is \", max(live_work_city_groups.values()) - min(live_work_city_groups.values()))\n",
    "\n",
    "live_work_city_dp = round(min(live_work_city_groups.values()) / max(live_work_city_groups.values()),2)\n",
    "print(\"The dp ratio for LIVE_CITY_NOT_WORK_CITY is \", live_work_city_dp)\n",
    "\n",
    "dp_ratio_features.update({\"LIVE_CITY_NOT_WORK_CITY\": live_work_city_dp})"
   ]
  },
  {
   "cell_type": "code",
   "execution_count": null,
   "id": "746d1ba8-53b8-4ee0-8611-2f715f1fb314",
   "metadata": {},
   "outputs": [],
   "source": [
    "display(dp_ratio_features)\n",
    "len(dp_ratio_features)"
   ]
  },
  {
   "cell_type": "markdown",
   "id": "40c156b9-605c-4df2-a761-7fc90059a438",
   "metadata": {},
   "source": [
    "#### 38. ORGANIZATION_TYPE"
   ]
  },
  {
   "cell_type": "code",
   "execution_count": null,
   "id": "9bd84507-7754-462f-a096-6ce1dbb8d362",
   "metadata": {},
   "outputs": [],
   "source": [
    "test_df[\"ORGANIZATION_TYPE\"].unique()"
   ]
  },
  {
   "cell_type": "code",
   "execution_count": null,
   "id": "fda7a639-2128-4672-88df-444bc89ebfb0",
   "metadata": {
    "scrolled": true
   },
   "outputs": [],
   "source": [
    "sr_organisation = MetricFrame(metrics=selection_rate, y_true=predictions_test, y_pred=predictions_test, sensitive_features=test_df[\"ORGANIZATION_TYPE\"])\n",
    "\n",
    "display(sr_organisation.by_group)"
   ]
  },
  {
   "cell_type": "code",
   "execution_count": null,
   "id": "c2c8f042-89d9-4a30-b9df-7f4138d1c8a0",
   "metadata": {},
   "outputs": [],
   "source": [
    "# Groups\n",
    "\n",
    "Education = ['Kindergarten', 'School' , 'University']\n",
    "Industry = [\"Industry: type 1\", \"Industry: type 11\", \"Industry: type 12\", \"Industry: type 3\", \n",
    "            \"Industry: type 4\", \"Industry: type 5\", \"Industry: type 7\", \"Industry: type 9\"]\n",
    "Buisness_Entity = [\"Business Entity Type 1\",\"Business Entity Type 2\",\"Business Entity Type 3\"]\n",
    "Trade= [\"Trade: type 2\",\"Trade: type 3\",\"Trade: type 6\",\"Trade: type 7\"]\n",
    "Transport= [\"Transport: type 1\",\"Transport: type 2\",\"Transport: type 3\", \"Transport: type 4\"]\n",
    "Public_Sector=[\"Government\", \"Housing\", \"Military\", \"Police\", \"Postal\", 'Security Ministries', \"Medicine\"]\n",
    "Private_Sector= ['Advertising', 'Security', \"Agriculture\", \"Electricity\", \"Hotel\", \"Mobile\", \"Restaurant\", \"Self-employed\",\"Telecom\"]\n",
    "Unknown=[\"XNA\"]\n",
    "Others = [\"Other\", \"Services\", \"Bank\", \"Construction\", \"Emergency\", \"Legal Services\"]\n"
   ]
  },
  {
   "cell_type": "code",
   "execution_count": null,
   "id": "be3c2465-46dd-4f02-81d0-47eba0538328",
   "metadata": {},
   "outputs": [],
   "source": [
    "print(len(sr_organisation.by_group))"
   ]
  },
  {
   "cell_type": "code",
   "execution_count": null,
   "id": "a9f7630d-3bb4-4550-ae9f-aad6fd0df7ce",
   "metadata": {},
   "outputs": [],
   "source": [
    "Education_group = sr_organisation.by_group.loc[Education]\n",
    "Industry_group = sr_organisation.by_group.loc[Industry]\n",
    "Buisness_Entity_group = sr_organisation.by_group.loc[Buisness_Entity]\n",
    "Trade_group = sr_organisation.by_group.loc[Trade]\n",
    "Transport_group = sr_organisation.by_group.loc[Transport]\n",
    "Public_Sector_group = sr_organisation.by_group.loc[Public_Sector]\n",
    "Private_Sector_group = sr_organisation.by_group.loc[Private_Sector]\n",
    "Others_group = sr_organisation.by_group.loc[Others]\n",
    "Unknown_group = sr_organisation.by_group.loc[Unknown]\n",
    "\n",
    "\n",
    "Education_risk_rate = 100*round(np.mean(Education_group),2)\n",
    "Industry_risk_rate = 100*round(np.mean(Industry_group),2)\n",
    "Buisness_Entity_risk_rate = 100*round(np.mean(Buisness_Entity_group),2)\n",
    "\n",
    "Trade_risk_rate = 100*round(np.mean(Trade_group),2)\n",
    "Transport_risk_rate = 100*round(np.mean(Transport_group),2)\n",
    "Public_Sector_risk_rate = 100*round(np.mean(Public_Sector_group),2)\n",
    "Private_Sector_risk_rate = 100*round(np.mean(Private_Sector_group),2)\n",
    "Others_risk_rate = 100*round(np.mean(Others_group),2)\n",
    "Unknown_risk_rate = 100*round(np.mean(Unknown_group),2)\n",
    "\n",
    "\n",
    "\n",
    "organisation_groups= {\"Education\" : Education_risk_rate, \n",
    "                    \"Industry\" :Industry_risk_rate ,\n",
    "                   \"Buisness Entity\" : Buisness_Entity_risk_rate,\n",
    "                    \"Trade\" :round(Trade_risk_rate),\n",
    "                   \"Transport\" : Transport_risk_rate,\n",
    "                   \"Public Sector\" : Public_Sector_risk_rate,\n",
    "                   \"Private Sector\" : Private_Sector_risk_rate,\n",
    "                   \"Others\" : Others_risk_rate,\n",
    "                \"XNA\" : Unknown_risk_rate,\n",
    "                   }\n",
    "\n",
    "organisation_groups"
   ]
  },
  {
   "cell_type": "code",
   "execution_count": null,
   "id": "d2d485f7-0a07-4f48-bf44-a2180d91a0c3",
   "metadata": {},
   "outputs": [],
   "source": [
    "fig = plt.figure()\n",
    "ax = fig.add_axes([0,0,1,1])\n",
    "\n",
    "bars = ax.bar(organisation_groups.keys(),organisation_groups.values(), width=0.5, color = \"green\")\n",
    "ax.bar_label(bars)\n",
    "plt.title(\"Risk Rate vs ORGANIZATION_TYPE\")\n",
    "plt.xlabel('ORGANIZATION_TYPE')\n",
    "plt.ylabel('Risk Rate in %')\n",
    "fig.autofmt_xdate()\n",
    "plt.show()"
   ]
  },
  {
   "cell_type": "code",
   "execution_count": null,
   "id": "4e04f111-b6f6-48a6-9cc8-7857e30f685c",
   "metadata": {},
   "outputs": [],
   "source": [
    "print(\"The dp difference for ORGANIZATION_TYPE is \", max(organisation_groups.values()) - min(organisation_groups.values()))\n",
    "\n",
    "organisation_dp = round(min(organisation_groups.values()) / max(organisation_groups.values()),2)\n",
    "print(\"The dp ratio for ORGANIZATION_TYPE is \", organisation_dp)\n",
    "\n",
    "dp_ratio_features.update({\"ORGANIZATION_TYPE\": organisation_dp})"
   ]
  },
  {
   "cell_type": "code",
   "execution_count": null,
   "id": "9ed69c69-e865-4f56-b7bf-fe134d11aa64",
   "metadata": {},
   "outputs": [],
   "source": [
    "display(dp_ratio_features)\n",
    "len(dp_ratio_features)"
   ]
  },
  {
   "cell_type": "markdown",
   "id": "177efe91-f8d2-4657-ad56-13c9117cebb5",
   "metadata": {},
   "source": [
    "#### 39. OBS_30_CNT_SOCIAL_CIRCLE"
   ]
  },
  {
   "cell_type": "code",
   "execution_count": null,
   "id": "adb9e94b-ff59-478d-9e0c-c00bb567d871",
   "metadata": {
    "scrolled": true
   },
   "outputs": [],
   "source": [
    "test_df[\"OBS_30_CNT_SOCIAL_CIRCLE\"].min(), test_df[\"OBS_30_CNT_SOCIAL_CIRCLE\"].max()"
   ]
  },
  {
   "cell_type": "code",
   "execution_count": null,
   "id": "492ab158-657a-46a9-bf43-c89b54d816f4",
   "metadata": {},
   "outputs": [],
   "source": [
    "# <=5\n",
    "# 6-10\n",
    "# >10"
   ]
  },
  {
   "cell_type": "code",
   "execution_count": null,
   "id": "dcae9538-1df9-49c0-a49b-a5a919546a64",
   "metadata": {
    "scrolled": true
   },
   "outputs": [],
   "source": [
    "sr_OBS_30 = MetricFrame(metrics=selection_rate, y_true=predictions_test, y_pred=predictions_test,sensitive_features=test_df[\"OBS_30_CNT_SOCIAL_CIRCLE\"])\n",
    "display(sr_OBS_30.by_group)"
   ]
  },
  {
   "cell_type": "code",
   "execution_count": null,
   "id": "50bcd7f7-73bb-4500-851b-1b9b87f7aa21",
   "metadata": {},
   "outputs": [],
   "source": [
    "lessthan_5 = sr_OBS_30.by_group.loc[:5]\n",
    "btw_6_10 = sr_OBS_30.by_group.loc[6:9]\n",
    "gt_10 = sr_OBS_30.by_group.loc[10:]\n",
    "\n",
    "lessthan_5_risk_rate = 100*round(np.mean(lessthan_5),2)\n",
    "btw_6_10_risk_rate = 100*round(np.mean(btw_6_10),2)\n",
    "gt_10_risk_rate = 100*round(np.mean(gt_10),2)\n",
    "\n",
    "\n",
    "OBS_30_risk_groups= {\"<=5\" : lessthan_5_risk_rate, \"5-9\" : btw_6_10_risk_rate, \">=10\": gt_10_risk_rate}\n",
    "OBS_30_risk_groups"
   ]
  },
  {
   "cell_type": "code",
   "execution_count": null,
   "id": "5c20a22e-3779-40aa-aedc-463b92fa4d10",
   "metadata": {},
   "outputs": [],
   "source": [
    "fig = plt.figure()\n",
    "ax = fig.add_axes([0,0,1,1])\n",
    "\n",
    "bars = ax.bar(OBS_30_risk_groups.keys(),OBS_30_risk_groups.values(), width=0.5, color = \"green\")\n",
    "ax.bar_label(bars)\n",
    "plt.title(\"Risk Rate vs OBS_30_CNT_SOCIAL_CIRCLE\")\n",
    "plt.xlabel('OBS_30_CNT_SOCIAL_CIRCLE')\n",
    "plt.ylabel('Risk Rate in %')\n",
    "plt.show()"
   ]
  },
  {
   "cell_type": "code",
   "execution_count": null,
   "id": "858ce6f7-4497-47b6-bf0c-f0df7584550a",
   "metadata": {},
   "outputs": [],
   "source": [
    "print(\"The dp difference for OBS_30_CNT_SOCIAL_CIRCLE is \", max(OBS_30_risk_groups.values()) - min(OBS_30_risk_groups.values()))\n",
    "\n",
    "OBS_30_dp = round(min(OBS_30_risk_groups.values()) / max(OBS_30_risk_groups.values()),2)\n",
    "print(\"The dp ratio for OBS_30_CNT_SOCIAL_CIRCLE is \", OBS_30_dp)\n",
    "\n",
    "dp_ratio_features.update({\"OBS_30_CNT_SOCIAL_CIRCLE\":OBS_30_dp})"
   ]
  },
  {
   "cell_type": "code",
   "execution_count": null,
   "id": "acf12d23-bb86-4baf-ae4b-cdb855c1dfea",
   "metadata": {},
   "outputs": [],
   "source": [
    "display(dp_ratio_features)\n",
    "len(dp_ratio_features)"
   ]
  },
  {
   "cell_type": "markdown",
   "id": "37b38aa1-d8f2-4178-ac03-0d5eb9e8fc9b",
   "metadata": {},
   "source": [
    "#### 40. DEF_30_CNT_SOCIAL_CIRCLE"
   ]
  },
  {
   "cell_type": "code",
   "execution_count": null,
   "id": "4baadca9-c296-4dc5-bcb4-2cac1daa3902",
   "metadata": {
    "scrolled": true
   },
   "outputs": [],
   "source": [
    "test_df[\"DEF_30_CNT_SOCIAL_CIRCLE\"].unique()"
   ]
  },
  {
   "cell_type": "code",
   "execution_count": null,
   "id": "250208fc-4fe4-4d44-b893-f7b9e93dee76",
   "metadata": {
    "scrolled": true
   },
   "outputs": [],
   "source": [
    "sr_DEF_30 = MetricFrame(metrics=selection_rate, y_true=predictions_test, y_pred=predictions_test,sensitive_features=test_df[\"DEF_30_CNT_SOCIAL_CIRCLE\"])\n",
    "display(sr_DEF_30.by_group)"
   ]
  },
  {
   "cell_type": "code",
   "execution_count": null,
   "id": "678ee892-c959-4aad-a6c9-7c72b056e8e2",
   "metadata": {},
   "outputs": [],
   "source": [
    "# Groups\n",
    "# 0-2\n",
    "# =>2"
   ]
  },
  {
   "cell_type": "code",
   "execution_count": null,
   "id": "a136d522-d8b8-4a97-8aa4-6e276d61abf5",
   "metadata": {},
   "outputs": [],
   "source": [
    "lessthan_2 = sr_DEF_30.by_group.loc[0:1]\n",
    "equal_gt_2 = sr_DEF_30.by_group.loc[2:]\n",
    "\n",
    "lessthan_2_risk_rate = 100*round(np.mean(lessthan_2),2)\n",
    "equal_gt_2_risk_rate = 100*round(np.mean(equal_gt_2),2)\n",
    "\n",
    "\n",
    "DEF_30_risk_groups= {\"0-2\" : lessthan_2_risk_rate, \">=2\" : equal_gt_2_risk_rate}\n",
    "DEF_30_risk_groups"
   ]
  },
  {
   "cell_type": "code",
   "execution_count": null,
   "id": "77ce1059-cf33-47de-ad6f-41ebb2fd0996",
   "metadata": {},
   "outputs": [],
   "source": [
    "fig = plt.figure()\n",
    "ax = fig.add_axes([0,0,1,1])\n",
    "\n",
    "bars = ax.bar(DEF_30_risk_groups.keys(),DEF_30_risk_groups.values(), width=0.5, color = \"green\")\n",
    "ax.bar_label(bars)\n",
    "plt.title(\"Risk Rate vs DEF_30_CNT_SOCIAL_CIRCLE\")\n",
    "plt.xlabel('DEF_30_CNT_SOCIAL_CIRCLE')\n",
    "plt.ylabel('Risk Rate in %')\n",
    "plt.show()"
   ]
  },
  {
   "cell_type": "code",
   "execution_count": null,
   "id": "875f1b16-b493-4317-95b5-38c6914820f4",
   "metadata": {},
   "outputs": [],
   "source": [
    "print(\"The dp difference for DEF_30_CNT_SOCIAL_CIRCLE is \", max(DEF_30_risk_groups.values()) - min(DEF_30_risk_groups.values()))\n",
    "\n",
    "DEF_30_dp = round(min(DEF_30_risk_groups.values()) / max(DEF_30_risk_groups.values()),2)\n",
    "print(\"The dp ratio for DEF_30_CNT_SOCIAL_CIRCLE is \", DEF_30_dp)\n",
    "\n",
    "dp_ratio_features.update({\"DEF_30_CNT_SOCIAL_CIRCLE\":DEF_30_dp})"
   ]
  },
  {
   "cell_type": "code",
   "execution_count": null,
   "id": "8d5b9494-bdc9-4dfc-ad33-f2064aa2f839",
   "metadata": {},
   "outputs": [],
   "source": [
    "display(dp_ratio_features)\n",
    "len(dp_ratio_features)"
   ]
  },
  {
   "cell_type": "markdown",
   "id": "415e3892-5436-4c3e-b4d6-56a5c621175d",
   "metadata": {},
   "source": [
    "#### 41. OBS_60_CNT_SOCIAL_CIRCLE"
   ]
  },
  {
   "cell_type": "code",
   "execution_count": null,
   "id": "172a8107-5095-4d64-9d8a-ca0348b90e8e",
   "metadata": {
    "scrolled": true
   },
   "outputs": [],
   "source": [
    "test_df[\"OBS_60_CNT_SOCIAL_CIRCLE\"].min(), test_df[\"OBS_60_CNT_SOCIAL_CIRCLE\"].max()"
   ]
  },
  {
   "cell_type": "code",
   "execution_count": null,
   "id": "522722e1-801b-4ad5-ba71-ea9977330fb1",
   "metadata": {},
   "outputs": [],
   "source": [
    "# <=5\n",
    "# 6-10\n",
    "# >10"
   ]
  },
  {
   "cell_type": "code",
   "execution_count": null,
   "id": "693220f9-6dd3-4370-8b3f-e6985dce55a7",
   "metadata": {
    "scrolled": true
   },
   "outputs": [],
   "source": [
    "sr_OBS_60 = MetricFrame(metrics=selection_rate, y_true=predictions_test, y_pred=predictions_test,sensitive_features=test_df[\"OBS_60_CNT_SOCIAL_CIRCLE\"])\n",
    "display(sr_OBS_60.by_group)"
   ]
  },
  {
   "cell_type": "code",
   "execution_count": null,
   "id": "2c534104-bc98-4ab8-b873-a53cd1990994",
   "metadata": {},
   "outputs": [],
   "source": [
    "lessthan_5 = sr_OBS_60.by_group.loc[:5]\n",
    "btw_6_10 = sr_OBS_60.by_group.loc[6:9]\n",
    "gt_10 = sr_OBS_60.by_group.loc[10:]\n",
    "\n",
    "lessthan_5_risk_rate = 100*round(np.mean(lessthan_5),2)\n",
    "btw_6_10_risk_rate = 100*round(np.mean(btw_6_10),2)\n",
    "gt_10_risk_rate = 100*round(np.mean(gt_10),2)\n",
    "\n",
    "\n",
    "OBS_60_risk_groups= {\"<=5\" : lessthan_5_risk_rate, \"5-9\" : btw_6_10_risk_rate, \">=10\": gt_10_risk_rate}\n",
    "OBS_60_risk_groups"
   ]
  },
  {
   "cell_type": "code",
   "execution_count": null,
   "id": "acf322d6-1059-4349-a1e6-60eb4868b221",
   "metadata": {},
   "outputs": [],
   "source": [
    "fig = plt.figure()\n",
    "ax = fig.add_axes([0,0,1,1])\n",
    "\n",
    "bars = ax.bar(OBS_60_risk_groups.keys(),OBS_60_risk_groups.values(), width=0.5, color = \"green\")\n",
    "ax.bar_label(bars)\n",
    "plt.title(\"Risk Rate vs OBS_60_CNT_SOCIAL_CIRCLE\")\n",
    "plt.xlabel('OBS_60_CNT_SOCIAL_CIRCLE')\n",
    "plt.ylabel('Risk Rate in %')\n",
    "plt.show()"
   ]
  },
  {
   "cell_type": "code",
   "execution_count": null,
   "id": "a7816f4e-6ffe-421a-8cf5-72c21657f41d",
   "metadata": {},
   "outputs": [],
   "source": [
    "print(\"The dp difference for OBS_60_CNT_SOCIAL_CIRCLE is \", max(OBS_60_risk_groups.values()) - min(OBS_60_risk_groups.values()))\n",
    "\n",
    "OBS_60_dp = round(min(OBS_60_risk_groups.values()) / max(OBS_60_risk_groups.values()),2)\n",
    "print(\"The dp ratio for OBS_60_CNT_SOCIAL_CIRCLE is \", OBS_60_dp)\n",
    "\n",
    "dp_ratio_features.update({\"OBS_60_CNT_SOCIAL_CIRCLE\":OBS_60_dp})"
   ]
  },
  {
   "cell_type": "code",
   "execution_count": null,
   "id": "e4782cc2-e132-420a-8cc9-5e9d911d1912",
   "metadata": {},
   "outputs": [],
   "source": [
    "display(dp_ratio_features)\n",
    "len(dp_ratio_features)"
   ]
  },
  {
   "cell_type": "markdown",
   "id": "44758826-6abf-4178-819d-a29e875c1242",
   "metadata": {},
   "source": [
    "#### 42. DEF_60_CNT_SOCIAL_CIRCLE"
   ]
  },
  {
   "cell_type": "code",
   "execution_count": null,
   "id": "adbbe88f-382b-4989-8130-20558d59254c",
   "metadata": {
    "scrolled": true
   },
   "outputs": [],
   "source": [
    "test_df[\"DEF_60_CNT_SOCIAL_CIRCLE\"].unique()"
   ]
  },
  {
   "cell_type": "code",
   "execution_count": null,
   "id": "02b091cc-c613-4a29-a23a-8db6b43553e0",
   "metadata": {
    "scrolled": true
   },
   "outputs": [],
   "source": [
    "sr_DEF_60 = MetricFrame(metrics=selection_rate, y_true=predictions_test, y_pred=predictions_test,sensitive_features=test_df[\"DEF_60_CNT_SOCIAL_CIRCLE\"])\n",
    "display(sr_DEF_60.by_group)"
   ]
  },
  {
   "cell_type": "code",
   "execution_count": null,
   "id": "35a6e2d6-c8fd-44a4-864d-e1dd4d5a4134",
   "metadata": {},
   "outputs": [],
   "source": [
    "# Groups\n",
    "# 0-2\n",
    "# =>2"
   ]
  },
  {
   "cell_type": "code",
   "execution_count": null,
   "id": "890ada91-1e97-4334-85ee-a2f3d54f2f0c",
   "metadata": {},
   "outputs": [],
   "source": [
    "lessthan_2 = sr_DEF_60.by_group.loc[0:1]\n",
    "equal_gt_2 = sr_DEF_60.by_group.loc[2:]\n",
    "\n",
    "lessthan_2_risk_rate = 100*round(np.mean(lessthan_2),2)\n",
    "equal_gt_2_risk_rate = 100*round(np.mean(equal_gt_2),2)\n",
    "\n",
    "\n",
    "DEF_60_risk_groups= {\"0-2\" : lessthan_2_risk_rate, \">=2\" : equal_gt_2_risk_rate}\n",
    "DEF_60_risk_groups"
   ]
  },
  {
   "cell_type": "code",
   "execution_count": null,
   "id": "fc5c210e-2dc2-4ea9-9196-47e76cdde872",
   "metadata": {},
   "outputs": [],
   "source": [
    "fig = plt.figure()\n",
    "ax = fig.add_axes([0,0,1,1])\n",
    "\n",
    "bars = ax.bar(DEF_60_risk_groups.keys(),DEF_60_risk_groups.values(), width=0.5, color = \"green\")\n",
    "ax.bar_label(bars)\n",
    "\n",
    "plt.title(\"Risk Rate vs DEF_60_CNT_SOCIAL_CIRCLE\")\n",
    "plt.xlabel('DEF_60_CNT_SOCIAL_CIRCLE')\n",
    "plt.ylabel('Risk Rate in %')\n",
    "plt.show()"
   ]
  },
  {
   "cell_type": "code",
   "execution_count": null,
   "id": "c992f00f-f8f2-438b-8f8b-70a6a11bb1c5",
   "metadata": {},
   "outputs": [],
   "source": [
    "print(\"The dp difference for DEF_60_CNT_SOCIAL_CIRCLE is \", max(DEF_60_risk_groups.values()) - min(DEF_60_risk_groups.values()))\n",
    "\n",
    "DEF_60_dp = round(min(DEF_60_risk_groups.values()) / max(DEF_60_risk_groups.values()),2)\n",
    "print(\"The dp ratio for DEF_60_CNT_SOCIAL_CIRCLE is \", DEF_60_dp)\n",
    "\n",
    "dp_ratio_features.update({\"DEF_60_CNT_SOCIAL_CIRCLE\":DEF_60_dp})"
   ]
  },
  {
   "cell_type": "code",
   "execution_count": null,
   "id": "561591aa-8fdd-45cf-ac4a-c01e13ef1cba",
   "metadata": {},
   "outputs": [],
   "source": [
    "display(dp_ratio_features)\n",
    "len(dp_ratio_features)"
   ]
  },
  {
   "cell_type": "markdown",
   "id": "a02d1c14-fd6e-4edc-9b45-717704cd14e5",
   "metadata": {},
   "source": [
    "#### 43. YEARS_LAST_PHONE_CHANGE"
   ]
  },
  {
   "cell_type": "code",
   "execution_count": null,
   "id": "a1061be4-a4fa-4edb-a04e-679b746542a0",
   "metadata": {
    "scrolled": true
   },
   "outputs": [],
   "source": [
    "test_df[\"YEARS_LAST_PHONE_CHANGE\"].min(), test_df[\"YEARS_LAST_PHONE_CHANGE\"].max()"
   ]
  },
  {
   "cell_type": "code",
   "execution_count": null,
   "id": "7ca53b7d-96a7-4fb6-a736-cbdcf2e40dbe",
   "metadata": {},
   "outputs": [],
   "source": [
    "# <=2\n",
    "# 2-5\n",
    "# >5"
   ]
  },
  {
   "cell_type": "code",
   "execution_count": null,
   "id": "11436733-415e-428f-9b42-f12ec945b8db",
   "metadata": {
    "scrolled": true
   },
   "outputs": [],
   "source": [
    "sr_phone_change = MetricFrame(metrics=selection_rate, y_true=predictions_test, y_pred=predictions_test,sensitive_features=test_df[\"YEARS_LAST_PHONE_CHANGE\"])\n",
    "display(sr_phone_change.by_group)"
   ]
  },
  {
   "cell_type": "code",
   "execution_count": null,
   "id": "8ee718ad-0773-4cc1-9221-4c20697e6f3a",
   "metadata": {},
   "outputs": [],
   "source": [
    "lessthan_2 = sr_phone_change.by_group.loc[:2]\n",
    "btw_2_5 = sr_phone_change.by_group.loc[3:5]\n",
    "gt_5 = sr_phone_change.by_group.loc[6:]\n",
    "\n",
    "lessthan_2_risk_rate = 100*round(np.mean(lessthan_2),2)\n",
    "btw_2_5_risk_rate = 100*round(np.mean(btw_2_5),2)\n",
    "gt_5_risk_rate = 100*round(np.mean(gt_5),2)\n",
    "\n",
    "\n",
    "phone_change_risk_groups= {\"<=2\" : lessthan_2_risk_rate, \"3-5\" : btw_2_5_risk_rate, \">5\": gt_5_risk_rate}\n",
    "phone_change_risk_groups"
   ]
  },
  {
   "cell_type": "code",
   "execution_count": null,
   "id": "90c5ef4b-716c-465f-baa7-8b90fd7c8273",
   "metadata": {},
   "outputs": [],
   "source": [
    "fig = plt.figure()\n",
    "ax = fig.add_axes([0,0,1,1])\n",
    "\n",
    "bars = ax.bar(phone_change_risk_groups.keys(),phone_change_risk_groups.values(), width=0.5, color = \"green\")\n",
    "ax.bar_label(bars)\n",
    "plt.title(\"Risk Rate vs YEARS_LAST_PHONE_CHANGE\")\n",
    "plt.xlabel('YEARS_LAST_PHONE_CHANGE')\n",
    "plt.ylabel('Risk Rate in %')\n",
    "plt.show()"
   ]
  },
  {
   "cell_type": "code",
   "execution_count": null,
   "id": "d8938f20-dad1-4142-9074-20a41e9b9d61",
   "metadata": {},
   "outputs": [],
   "source": [
    "print(\"The dp difference for YEARS_LAST_PHONE_CHANGE is \", max(phone_change_risk_groups.values()) - min(phone_change_risk_groups.values()))\n",
    "\n",
    "phone_change_dp = round(min(phone_change_risk_groups.values()) / max(phone_change_risk_groups.values()),2)\n",
    "print(\"The dp ratio for YEARS_LAST_PHONE_CHANGE is \", phone_change_dp)\n",
    "\n",
    "dp_ratio_features.update({\"YEARS_LAST_PHONE_CHANGE\":phone_change_dp})"
   ]
  },
  {
   "cell_type": "code",
   "execution_count": null,
   "id": "844275f3-34f4-4029-8384-6e02f48978d3",
   "metadata": {},
   "outputs": [],
   "source": [
    "display(dp_ratio_features)\n",
    "len(dp_ratio_features)"
   ]
  },
  {
   "cell_type": "markdown",
   "id": "01c01703-4676-4fb8-a0ce-a129ac0a0892",
   "metadata": {},
   "source": [
    "#### 44. AMT_REQ_CREDIT_BUREAU_HOUR"
   ]
  },
  {
   "cell_type": "code",
   "execution_count": null,
   "id": "a7364ac2-4ae4-4e09-832a-ec067c3fc229",
   "metadata": {},
   "outputs": [],
   "source": [
    "test_df[\"AMT_REQ_CREDIT_BUREAU_HOUR\"]"
   ]
  },
  {
   "cell_type": "code",
   "execution_count": null,
   "id": "442d2c42-c575-44a3-8dce-ccfef7265af8",
   "metadata": {},
   "outputs": [],
   "source": [
    "sr_AMT_REQ_CREDIT_BUREAU_HOUR = MetricFrame(metrics=selection_rate, y_true=predictions_test, y_pred=predictions_test, sensitive_features=test_df_final[\"AMT_REQ_CREDIT_BUREAU_HOUR\"])\n",
    "\n",
    "display(sr_AMT_REQ_CREDIT_BUREAU_HOUR.by_group)"
   ]
  },
  {
   "cell_type": "code",
   "execution_count": null,
   "id": "dbd188c7-b612-44f1-9a6a-0ea48282c10e",
   "metadata": {},
   "outputs": [],
   "source": [
    "AMT_REQ_CREDIT_BUREAU_HOUR_groups= {\"0\" : round(100*sr_AMT_REQ_CREDIT_BUREAU_HOUR.by_group.loc[0]), \n",
    "                           \"1\" : round(100*sr_AMT_REQ_CREDIT_BUREAU_HOUR.by_group.loc[1])}\n",
    "#                   \"Unknown\" : round(100*sr_AMT_REQ_CREDIT_BUREAU_HOUR.by_group.loc[0.0033821871476888386])}\n",
    "\n",
    "fig = plt.figure()\n",
    "ax = fig.add_axes([0,0,1,1])\n",
    "\n",
    "bars = ax.bar(AMT_REQ_CREDIT_BUREAU_HOUR_groups.keys(),AMT_REQ_CREDIT_BUREAU_HOUR_groups.values(), width=0.4, color = \"green\")\n",
    "ax.bar_label(bars)\n",
    "plt.title(\"Risk Rate vs AMT_REQ_CREDIT_BUREAU_HOUR\")\n",
    "plt.xlabel('AMT_REQ_CREDIT_BUREAU_HOUR')\n",
    "plt.ylabel('Risk Rate in %')\n",
    "plt.show()"
   ]
  },
  {
   "cell_type": "code",
   "execution_count": null,
   "id": "724e9858-82a3-49df-b61c-95e98031ac39",
   "metadata": {},
   "outputs": [],
   "source": [
    "print(\"The dp difference for AMT_REQ_CREDIT_BUREAU_HOUR is \", max(AMT_REQ_CREDIT_BUREAU_HOUR_groups.values()) - min(AMT_REQ_CREDIT_BUREAU_HOUR_groups.values()))\n",
    "\n",
    "AMT_REQ_CREDIT_BUREAU_HOUR_dp = round(min(AMT_REQ_CREDIT_BUREAU_HOUR_groups.values()) / max(AMT_REQ_CREDIT_BUREAU_HOUR_groups.values()),2)\n",
    "print(\"The dp ratio for AMT_REQ_CREDIT_BUREAU_HOUR is \", AMT_REQ_CREDIT_BUREAU_HOUR_dp)\n",
    "\n",
    "dp_ratio_features.update({\"AMT_REQ_CREDIT_BUREAU_HOUR\": AMT_REQ_CREDIT_BUREAU_HOUR_dp})"
   ]
  },
  {
   "cell_type": "code",
   "execution_count": null,
   "id": "4978bdd9-2c04-411a-a318-d721dc1fd3b1",
   "metadata": {},
   "outputs": [],
   "source": [
    "display(dp_ratio_features)\n",
    "len(dp_ratio_features)"
   ]
  },
  {
   "cell_type": "markdown",
   "id": "b23dda43-06a6-445c-846c-b5893009a1b2",
   "metadata": {},
   "source": [
    "#### 45. AMT_REQ_CREDIT_BUREAU_DAY"
   ]
  },
  {
   "cell_type": "code",
   "execution_count": null,
   "id": "d0ba367f-fc8b-42e8-b775-e0c140eddf0d",
   "metadata": {},
   "outputs": [],
   "source": [
    "test_df[\"AMT_REQ_CREDIT_BUREAU_DAY\"].unique()"
   ]
  },
  {
   "cell_type": "code",
   "execution_count": null,
   "id": "9ec3b15c-276e-4d58-bd87-b61c805938bb",
   "metadata": {},
   "outputs": [],
   "source": [
    "sr_AMT_REQ_CREDIT_BUREAU_DAY = MetricFrame(metrics=selection_rate, y_true=predictions_test, y_pred=predictions_test, sensitive_features=test_df_final[\"AMT_REQ_CREDIT_BUREAU_DAY\"])\n",
    "\n",
    "display(sr_AMT_REQ_CREDIT_BUREAU_DAY.by_group)"
   ]
  },
  {
   "cell_type": "code",
   "execution_count": null,
   "id": "3504b53d-c046-4798-ba3e-bbef288879db",
   "metadata": {},
   "outputs": [],
   "source": [
    "# sr_AMT_REQ_CREDIT_BUREAU_DAY.by_group.keys()"
   ]
  },
  {
   "cell_type": "code",
   "execution_count": null,
   "id": "dd99f6cb-4fa3-400e-9191-5dc0d489ba8a",
   "metadata": {},
   "outputs": [],
   "source": [
    "AMT_REQ_CREDIT_BUREAU_DAY_groups= {\"0\" : round(100*sr_AMT_REQ_CREDIT_BUREAU_DAY.by_group.loc[0]), \n",
    "                           \"1\" : round(100*sr_AMT_REQ_CREDIT_BUREAU_DAY.by_group.loc[1])}\n",
    "#                   \"Unknown\" : round(100*sr_AMT_REQ_CREDIT_BUREAU_DAY.by_group.loc[0.0011273957158962795])}\n",
    "\n",
    "fig = plt.figure()\n",
    "ax = fig.add_axes([0,0,1,1])\n",
    "\n",
    "bars = ax.bar(AMT_REQ_CREDIT_BUREAU_DAY_groups.keys(),AMT_REQ_CREDIT_BUREAU_DAY_groups.values(), width=0.4, color = \"green\")\n",
    "ax.bar_label(bars)\n",
    "plt.title(\"Risk Rate vs AMT_REQ_CREDIT_BUREAU_DAY\")\n",
    "plt.xlabel('AMT_REQ_CREDIT_BUREAU_DAY')\n",
    "plt.ylabel('Risk Rate in %')\n",
    "plt.show()"
   ]
  },
  {
   "cell_type": "code",
   "execution_count": null,
   "id": "545f81d4-a03d-4ba3-bf58-ac338fc3d1ea",
   "metadata": {},
   "outputs": [],
   "source": [
    "print(\"The dp difference for AMT_REQ_CREDIT_BUREAU_DAY is \", max(AMT_REQ_CREDIT_BUREAU_DAY_groups.values()) - min(AMT_REQ_CREDIT_BUREAU_DAY_groups.values()))\n",
    "\n",
    "AMT_REQ_CREDIT_BUREAU_DAY_dp = round(min(AMT_REQ_CREDIT_BUREAU_DAY_groups.values()) / max(AMT_REQ_CREDIT_BUREAU_DAY_groups.values()),2)\n",
    "print(\"The dp ratio for AMT_REQ_CREDIT_BUREAU_DAY is \", AMT_REQ_CREDIT_BUREAU_DAY_dp)\n",
    "\n",
    "dp_ratio_features.update({\"AMT_REQ_CREDIT_BUREAU_DAY\": AMT_REQ_CREDIT_BUREAU_DAY_dp})"
   ]
  },
  {
   "cell_type": "code",
   "execution_count": null,
   "id": "57b0133f-e413-48a2-98c5-5bd6914b3d0e",
   "metadata": {},
   "outputs": [],
   "source": [
    "display(dp_ratio_features)\n",
    "len(dp_ratio_features)"
   ]
  },
  {
   "cell_type": "markdown",
   "id": "70a6a853-1e8c-43f2-b749-acf01145e9f3",
   "metadata": {},
   "source": [
    "#### 46. AMT_REQ_CREDIT_BUREAU_WEEK"
   ]
  },
  {
   "cell_type": "code",
   "execution_count": null,
   "id": "c3b414b6-2460-4b3a-9ebd-127da4f4b99d",
   "metadata": {},
   "outputs": [],
   "source": [
    "sr_AMT_REQ_CREDIT_BUREAU_WEEK = MetricFrame(metrics=selection_rate, y_true=predictions_test, y_pred=predictions_test, sensitive_features=test_df_final[\"AMT_REQ_CREDIT_BUREAU_WEEK\"])\n",
    "\n",
    "display(sr_AMT_REQ_CREDIT_BUREAU_WEEK.by_group)"
   ]
  },
  {
   "cell_type": "code",
   "execution_count": null,
   "id": "4a14cc1a-f631-4fc9-bb70-c34e3c36b62a",
   "metadata": {},
   "outputs": [],
   "source": [
    "# sr_AMT_REQ_CREDIT_BUREAU_DAY.by_group.keys()"
   ]
  },
  {
   "cell_type": "code",
   "execution_count": null,
   "id": "f6b6d3ce-beed-4881-aa65-f5eb58321732",
   "metadata": {},
   "outputs": [],
   "source": [
    "AMT_REQ_CREDIT_BUREAU_WEEK_groups= {\"0\" : round(100*sr_AMT_REQ_CREDIT_BUREAU_WEEK.by_group.loc[0]), \n",
    "                           \"1\" : round(100*sr_AMT_REQ_CREDIT_BUREAU_WEEK.by_group.loc[1])}\n",
    "#                   \"Unknown\" : round(100*sr_AMT_REQ_CREDIT_BUREAU_WEEK.by_group.loc[0.0011273957158962795])}\n",
    "\n",
    "fig = plt.figure()\n",
    "ax = fig.add_axes([0,0,1,1])\n",
    "\n",
    "bars = ax.bar(AMT_REQ_CREDIT_BUREAU_WEEK_groups.keys(),AMT_REQ_CREDIT_BUREAU_WEEK_groups.values(), width=0.4, color = \"green\")\n",
    "ax.bar_label(bars)\n",
    "plt.title(\"Risk Rate vs AMT_REQ_CREDIT_BUREAU_WEEK\")\n",
    "plt.xlabel('AMT_REQ_CREDIT_BUREAU_WEEK')\n",
    "plt.ylabel('Risk Rate in %')\n",
    "plt.show()"
   ]
  },
  {
   "cell_type": "code",
   "execution_count": null,
   "id": "450c4dae-c0fb-4da1-8f0f-bf7acce1f72a",
   "metadata": {},
   "outputs": [],
   "source": [
    "print(\"The dp difference for AMT_REQ_CREDIT_BUREAU_WEEK is \", max(AMT_REQ_CREDIT_BUREAU_WEEK_groups.values()) - min(AMT_REQ_CREDIT_BUREAU_WEEK_groups.values()))\n",
    "\n",
    "AMT_REQ_CREDIT_BUREAU_WEEK_dp = round(min(AMT_REQ_CREDIT_BUREAU_WEEK_groups.values()) / max(AMT_REQ_CREDIT_BUREAU_WEEK_groups.values()),2)\n",
    "print(\"The dp ratio for AMT_REQ_CREDIT_BUREAU_WEEK is \", AMT_REQ_CREDIT_BUREAU_WEEK_dp)\n",
    "\n",
    "dp_ratio_features.update({\"AMT_REQ_CREDIT_BUREAU_WEEK\": AMT_REQ_CREDIT_BUREAU_WEEK_dp})"
   ]
  },
  {
   "cell_type": "code",
   "execution_count": null,
   "id": "6f0726b2-ee06-4671-9434-1ca0c25ecc7f",
   "metadata": {},
   "outputs": [],
   "source": [
    "display(dp_ratio_features)\n",
    "len(dp_ratio_features)"
   ]
  },
  {
   "cell_type": "markdown",
   "id": "a56ab4c0-276b-42ab-9cc0-1605c0c3d063",
   "metadata": {},
   "source": [
    "#### 47. AMT_REQ_CREDIT_BUREAU_MON"
   ]
  },
  {
   "cell_type": "code",
   "execution_count": null,
   "id": "916a458d-dff6-4cbc-a332-939a62b66552",
   "metadata": {},
   "outputs": [],
   "source": [
    "sr_AMT_REQ_CREDIT_BUREAU_MON = MetricFrame(metrics=selection_rate, y_true=predictions_test, y_pred=predictions_test, sensitive_features=test_df_final[\"AMT_REQ_CREDIT_BUREAU_MON\"])\n",
    "\n",
    "display(sr_AMT_REQ_CREDIT_BUREAU_MON.by_group)"
   ]
  },
  {
   "cell_type": "code",
   "execution_count": null,
   "id": "1cdde747-9c30-4f4e-ab75-40abd439a3b6",
   "metadata": {},
   "outputs": [],
   "source": [
    "# sr_AMT_REQ_CREDIT_BUREAU_MON.by_group.keys()"
   ]
  },
  {
   "cell_type": "code",
   "execution_count": null,
   "id": "9e01ce0f-d486-46f2-bbd2-b98face91782",
   "metadata": {},
   "outputs": [],
   "source": [
    "AMT_REQ_CREDIT_BUREAU_MON_groups= {\"0\" : round(100*sr_AMT_REQ_CREDIT_BUREAU_MON.by_group.loc[0]), \n",
    "                           \"1\" : round(100*sr_AMT_REQ_CREDIT_BUREAU_MON.by_group.loc[1])}\n",
    "#                   \"Unknown\" : round(100*sr_AMT_REQ_CREDIT_BUREAU_MON.by_group.loc[0.006764374295377677])}\n",
    "\n",
    "fig = plt.figure()\n",
    "ax = fig.add_axes([0,0,1,1])\n",
    "\n",
    "bars = ax.bar(AMT_REQ_CREDIT_BUREAU_MON_groups.keys(),AMT_REQ_CREDIT_BUREAU_MON_groups.values(), width=0.4, color = \"green\")\n",
    "ax.bar_label(bars)\n",
    "plt.title(\"Risk Rate vs AMT_REQ_CREDIT_BUREAU_MON\")\n",
    "plt.xlabel('AMT_REQ_CREDIT_BUREAU_MON')\n",
    "plt.ylabel('Risk Rate in %')\n",
    "plt.show()"
   ]
  },
  {
   "cell_type": "code",
   "execution_count": null,
   "id": "c04b11ff-793f-40a0-b729-1e3ecad7cf0a",
   "metadata": {},
   "outputs": [],
   "source": [
    "print(\"The dp difference for AMT_REQ_CREDIT_BUREAU_MON is \", max(AMT_REQ_CREDIT_BUREAU_MON_groups.values()) - min(AMT_REQ_CREDIT_BUREAU_MON_groups.values()))\n",
    "\n",
    "AMT_REQ_CREDIT_BUREAU_MON_dp = round(min(AMT_REQ_CREDIT_BUREAU_MON_groups.values()) / max(AMT_REQ_CREDIT_BUREAU_MON_groups.values()),2)\n",
    "print(\"The dp ratio for AMT_REQ_CREDIT_BUREAU_MON is \", AMT_REQ_CREDIT_BUREAU_MON_dp)\n",
    "\n",
    "dp_ratio_features.update({\"AMT_REQ_CREDIT_BUREAU_MON\": AMT_REQ_CREDIT_BUREAU_MON_dp})"
   ]
  },
  {
   "cell_type": "code",
   "execution_count": null,
   "id": "8b3feb70-9ba4-423f-9170-a92ca49a56e3",
   "metadata": {},
   "outputs": [],
   "source": [
    "display(dp_ratio_features)\n",
    "len(dp_ratio_features)"
   ]
  },
  {
   "cell_type": "markdown",
   "id": "782d7022-197c-453b-88e4-ffe151ba7456",
   "metadata": {},
   "source": [
    "#### 48. AMT_REQ_CREDIT_BUREAU_QRT"
   ]
  },
  {
   "cell_type": "code",
   "execution_count": null,
   "id": "1be0543c-4aaf-4ed1-b32a-adddd17a2363",
   "metadata": {
    "scrolled": true
   },
   "outputs": [],
   "source": [
    "test_df[\"AMT_REQ_CREDIT_BUREAU_QRT\"].min(), test_df[\"AMT_REQ_CREDIT_BUREAU_QRT\"].max()"
   ]
  },
  {
   "cell_type": "code",
   "execution_count": null,
   "id": "29648c79-9ce3-4a35-ba33-b8d2ba5bd6ed",
   "metadata": {},
   "outputs": [],
   "source": [
    "# <=2  = [0,1]\n",
    "# >2 = "
   ]
  },
  {
   "cell_type": "code",
   "execution_count": null,
   "id": "3c8695dc-74dc-41c8-ab00-956f40cbeba5",
   "metadata": {
    "scrolled": true
   },
   "outputs": [],
   "source": [
    "sr_AMT_REQ_CREDIT_BUREAU_QRT = MetricFrame(metrics=selection_rate, y_true=predictions_test, y_pred=predictions_test,sensitive_features=test_df_final[\"AMT_REQ_CREDIT_BUREAU_QRT\"])\n",
    "display(sr_AMT_REQ_CREDIT_BUREAU_QRT.by_group)"
   ]
  },
  {
   "cell_type": "code",
   "execution_count": null,
   "id": "9a440987-af3c-459c-8ae1-ab7b16a02849",
   "metadata": {},
   "outputs": [],
   "source": [
    "sr_AMT_REQ_CREDIT_BUREAU_QRT.by_group.keys()"
   ]
  },
  {
   "cell_type": "code",
   "execution_count": null,
   "id": "12350a61-8b65-4d86-8414-df9436153163",
   "metadata": {},
   "outputs": [],
   "source": [
    "lessthan_2 = sr_AMT_REQ_CREDIT_BUREAU_QRT.by_group.loc[[0,1]]\n",
    "gt_2 = sr_AMT_REQ_CREDIT_BUREAU_QRT.by_group.loc[2:]\n",
    "# unknown = sr_AMT_REQ_CREDIT_BUREAU_QRT.by_group.loc[0.5298759864712514]\n",
    "\n",
    "lessthan_2_risk_rate = 100*round(np.mean(lessthan_2),2)\n",
    "gt_2_risk_rate = 100*round(np.mean(gt_2),2)\n",
    "# unknown_risk_rate = 100*round(unknown,2)\n",
    "\n",
    "\n",
    "AMT_REQ_CREDIT_BUREAU_QRT_risk_groups= {\"<=2\" : round(lessthan_2_risk_rate), \">2\" : gt_2_risk_rate}\n",
    "AMT_REQ_CREDIT_BUREAU_QRT_risk_groups"
   ]
  },
  {
   "cell_type": "code",
   "execution_count": null,
   "id": "3b452288-a1d0-4f49-b21c-5abcbded14d3",
   "metadata": {},
   "outputs": [],
   "source": [
    "fig = plt.figure()\n",
    "ax = fig.add_axes([0,0,1,1])\n",
    "\n",
    "bars = ax.bar(AMT_REQ_CREDIT_BUREAU_QRT_risk_groups.keys(),AMT_REQ_CREDIT_BUREAU_QRT_risk_groups.values(), width=0.5, color = \"green\")\n",
    "ax.bar_label(bars)\n",
    "plt.title(\"Risk Rate vs AMT_REQ_CREDIT_BUREAU_QRT\")\n",
    "plt.xlabel('AMT_REQ_CREDIT_BUREAU_QRT')\n",
    "plt.ylabel('Risk Rate in %')\n",
    "plt.show()"
   ]
  },
  {
   "cell_type": "code",
   "execution_count": null,
   "id": "59b8ea13-23e3-46f8-9185-44969ae8ce99",
   "metadata": {},
   "outputs": [],
   "source": [
    "print(\"The dp difference for AMT_REQ_CREDIT_BUREAU_QRT is \", max(AMT_REQ_CREDIT_BUREAU_QRT_risk_groups.values()) - min(AMT_REQ_CREDIT_BUREAU_QRT_risk_groups.values()))\n",
    "\n",
    "AMT_REQ_CREDIT_BUREAU_QRT_dp = round(min(AMT_REQ_CREDIT_BUREAU_QRT_risk_groups.values()) / max(AMT_REQ_CREDIT_BUREAU_QRT_risk_groups.values()),2)\n",
    "print(\"The dp ratio for AMT_REQ_CREDIT_BUREAU_QRT is \", AMT_REQ_CREDIT_BUREAU_QRT_dp)\n",
    "\n",
    "dp_ratio_features.update({\"AMT_REQ_CREDIT_BUREAU_QRT\":AMT_REQ_CREDIT_BUREAU_QRT_dp})"
   ]
  },
  {
   "cell_type": "code",
   "execution_count": null,
   "id": "0a9dba13-de7d-4e37-a716-799f7be374a9",
   "metadata": {},
   "outputs": [],
   "source": [
    "display(dp_ratio_features)\n",
    "len(dp_ratio_features)"
   ]
  },
  {
   "cell_type": "markdown",
   "id": "b5927f03-3440-40c3-ad32-e702666610bc",
   "metadata": {},
   "source": [
    "#### 49. AMT_REQ_CREDIT_BUREAU_YEAR"
   ]
  },
  {
   "cell_type": "code",
   "execution_count": null,
   "id": "336b65c5-fccb-499c-be23-ce3416d58647",
   "metadata": {
    "scrolled": true
   },
   "outputs": [],
   "source": [
    "test_df[\"AMT_REQ_CREDIT_BUREAU_YEAR\"].min(), test_df[\"AMT_REQ_CREDIT_BUREAU_YEAR\"].max()"
   ]
  },
  {
   "cell_type": "code",
   "execution_count": null,
   "id": "980552cb-d6eb-49a8-be12-2fed35d63cc3",
   "metadata": {},
   "outputs": [],
   "source": [
    "# <=2  = [0,1]\n",
    "# 3-5\n",
    "# >5 "
   ]
  },
  {
   "cell_type": "code",
   "execution_count": null,
   "id": "0a3862d7-c2a9-4954-9281-e48716905359",
   "metadata": {
    "scrolled": true
   },
   "outputs": [],
   "source": [
    "sr_AMT_REQ_CREDIT_BUREAU_YEAR = MetricFrame(metrics=selection_rate, y_true=predictions_test, y_pred=predictions_test,sensitive_features=test_df_final[\"AMT_REQ_CREDIT_BUREAU_YEAR\"])\n",
    "display(sr_AMT_REQ_CREDIT_BUREAU_YEAR.by_group)"
   ]
  },
  {
   "cell_type": "code",
   "execution_count": null,
   "id": "008b8529-dc9c-41f2-97f2-deb397381a7c",
   "metadata": {},
   "outputs": [],
   "source": [
    "sr_AMT_REQ_CREDIT_BUREAU_YEAR.by_group.keys()"
   ]
  },
  {
   "cell_type": "code",
   "execution_count": null,
   "id": "71306b66-aff4-4f09-bda0-eba2363d46b7",
   "metadata": {},
   "outputs": [],
   "source": [
    "lessthan_2 = sr_AMT_REQ_CREDIT_BUREAU_YEAR.by_group.loc[[0,1]]\n",
    "bt_3_5 = sr_AMT_REQ_CREDIT_BUREAU_YEAR.by_group.loc[3:5]\n",
    "gt_5 = sr_AMT_REQ_CREDIT_BUREAU_YEAR.by_group.loc[6:]\n",
    "# unknown = sr_AMT_REQ_CREDIT_BUREAU_YEAR.by_group.loc[1.9526493799323563]\n",
    "\n",
    "lessthan_2_risk_rate = 100*round(np.mean(lessthan_2),2)\n",
    "bt_3_5_risk_rate = 100*round(np.mean(bt_3_5),2)\n",
    "gt_5_risk_rate = 100*round(np.mean(gt_5),2)\n",
    "# unknown_risk_rate = 100*round(unknown,2)\n",
    "\n",
    "\n",
    "sr_AMT_REQ_CREDIT_BUREAU_YEAR_risk_groups= {\"<=2\" : lessthan_2_risk_rate, \"3-5\": bt_3_5_risk_rate,\n",
    "                                            \n",
    "                                            \">5\" : gt_5_risk_rate}\n",
    "sr_AMT_REQ_CREDIT_BUREAU_YEAR_risk_groups"
   ]
  },
  {
   "cell_type": "code",
   "execution_count": null,
   "id": "b7b1aba4-0874-492b-bb63-38752b6c1744",
   "metadata": {},
   "outputs": [],
   "source": [
    "fig = plt.figure()\n",
    "ax = fig.add_axes([0,0,1,1])\n",
    "\n",
    "bars = ax.bar(sr_AMT_REQ_CREDIT_BUREAU_YEAR_risk_groups.keys(),sr_AMT_REQ_CREDIT_BUREAU_YEAR_risk_groups.values(), width=0.5, color = \"green\")\n",
    "ax.bar_label(bars)\n",
    "plt.title(\"Risk Rate vs AMT_REQ_CREDIT_BUREAU_YEAR\")\n",
    "plt.xlabel('AMT_REQ_CREDIT_BUREAU_YEAR')\n",
    "plt.ylabel('Risk Rate in %')\n",
    "plt.show()"
   ]
  },
  {
   "cell_type": "code",
   "execution_count": null,
   "id": "b4847bfb-4139-46d6-a439-3c4479e15c94",
   "metadata": {},
   "outputs": [],
   "source": [
    "print(\"The dp difference for AMT_REQ_CREDIT_BUREAU_YEAR is \", max(sr_AMT_REQ_CREDIT_BUREAU_YEAR_risk_groups.values()) - min(sr_AMT_REQ_CREDIT_BUREAU_YEAR_risk_groups.values()))\n",
    "\n",
    "AMT_REQ_CREDIT_BUREAU_YEAR_dp = round(min(sr_AMT_REQ_CREDIT_BUREAU_YEAR_risk_groups.values()) / max(sr_AMT_REQ_CREDIT_BUREAU_YEAR_risk_groups.values()),2)\n",
    "print(\"The dp ratio for AMT_REQ_CREDIT_BUREAU_YEAR is \", AMT_REQ_CREDIT_BUREAU_YEAR_dp)\n",
    "\n",
    "dp_ratio_features.update({\"AMT_REQ_CREDIT_BUREAU_YEAR\":AMT_REQ_CREDIT_BUREAU_YEAR_dp})"
   ]
  },
  {
   "cell_type": "code",
   "execution_count": null,
   "id": "ca4e4244-599a-4383-b8e7-adc44eb1d1f6",
   "metadata": {},
   "outputs": [],
   "source": [
    "display(dp_ratio_features)\n",
    "len(dp_ratio_features)"
   ]
  },
  {
   "cell_type": "code",
   "execution_count": null,
   "id": "42fb781f-46f3-4893-983b-cdd885aae858",
   "metadata": {},
   "outputs": [],
   "source": [
    "dp_ratio_features_df = pd.DataFrame()\n",
    "dp_ratio_features_df[\"Features\"] = dp_ratio_features.keys()\n",
    "dp_ratio_features_df[\"DP_Ratio\"] = dp_ratio_features.values()\n",
    "dp_ratio_features_df"
   ]
  },
  {
   "cell_type": "code",
   "execution_count": null,
   "id": "29d9a436-0c3b-4c36-9feb-213a3ed912b7",
   "metadata": {},
   "outputs": [],
   "source": [
    "# ft_vd.to_csv(folder+\"data/processed_data/Value_Distributions.csv\")"
   ]
  },
  {
   "cell_type": "code",
   "execution_count": null,
   "id": "ed1beea3-7370-4133-9b1b-7e3b994d77c6",
   "metadata": {},
   "outputs": [],
   "source": [
    "# ft_vd"
   ]
  },
  {
   "cell_type": "code",
   "execution_count": null,
   "id": "38db7a28-57b3-48f3-96b1-d5dab93ac4c1",
   "metadata": {},
   "outputs": [],
   "source": [
    "# ft_df[\"REGION_POPULATION_RELATIVE\"]"
   ]
  },
  {
   "cell_type": "code",
   "execution_count": null,
   "id": "53a655ff-125a-4e57-bba1-58f17647f958",
   "metadata": {
    "scrolled": true
   },
   "outputs": [],
   "source": [
    "# a = len(ft_df[\"AMT_ANNUITY\"][\"SR\"])\n",
    "# a_3 = int(a/3)\n",
    "# v_list = ft_df[\"AMT_ANNUITY\"][\"SR\"].values.tolist()\n",
    "# i_list = ft_df[\"AMT_ANNUITY\"][\"SR\"].index.tolist()\n",
    "# v_list_1 = ft_df[\"AMT_ANNUITY\"][\"SR\"].values.tolist()[0:a_3]\n",
    "# v_list_2 = ft_df[\"AMT_ANNUITY\"][\"SR\"].values.tolist()[a_3:a_3+a_3]\n",
    "# v_list_3 = ft_df[\"AMT_ANNUITY\"][\"SR\"].values.tolist()[a_3+a_3:]\n",
    "# print(np.mean(v_list_1))"
   ]
  },
  {
   "cell_type": "markdown",
   "id": "d6cf5e6e-c187-4e2c-b67e-df038c93a159",
   "metadata": {},
   "source": [
    "### Indegree and Outdegree\n",
    "These are measured based on the causal analysis presented in CausalAnalysis.ipynb"
   ]
  },
  {
   "cell_type": "code",
   "execution_count": null,
   "id": "50156ec6-a88a-44ba-a966-230d15b0a921",
   "metadata": {},
   "outputs": [],
   "source": [
    "import warnings\n",
    "warnings.simplefilter(action='ignore', category=pd.errors.PerformanceWarning)"
   ]
  },
  {
   "cell_type": "code",
   "execution_count": null,
   "id": "226b4d43-f462-497d-ac96-b06bbcb4d622",
   "metadata": {},
   "outputs": [],
   "source": [
    "am = pd.read_csv(folder+\"data/processed_data/adjacency_matrix_TestSet.csv\")\n",
    "edges = pd.read_csv(folder+'data/processed_data/Edges_TestSet.csv')\n",
    "nodes = pd.read_csv(folder+'data/processed_data/Nodes_TestSet.csv')"
   ]
  },
  {
   "cell_type": "code",
   "execution_count": null,
   "id": "bf2c5ffe-e43b-4c4a-8b53-280dc8735a6e",
   "metadata": {},
   "outputs": [],
   "source": [
    "am.head()"
   ]
  },
  {
   "cell_type": "code",
   "execution_count": null,
   "id": "2bc29381-f809-45f9-9255-6e34a6c1c5e5",
   "metadata": {},
   "outputs": [],
   "source": [
    "am.iloc[:,1:].columns"
   ]
  },
  {
   "cell_type": "code",
   "execution_count": null,
   "id": "5f158777-c4e7-4e77-9e65-fb8ee967a349",
   "metadata": {},
   "outputs": [],
   "source": [
    "am.head()"
   ]
  },
  {
   "cell_type": "code",
   "execution_count": null,
   "id": "f4c684ea-abf2-4579-8305-01f55e0c62b1",
   "metadata": {},
   "outputs": [],
   "source": [
    "## checks\n",
    "am.set_index(\"Edge_Start\",inplace = True)\n",
    "np.sum(am.loc[\"CNT_CHILDREN\"],0)"
   ]
  },
  {
   "cell_type": "code",
   "execution_count": null,
   "id": "e9630550-469a-47b7-b0cf-2fd3f010fde0",
   "metadata": {},
   "outputs": [],
   "source": [
    "## checks\n",
    "df = {}\n",
    "\n",
    "for i in test_df.iloc[:,4:].columns:\n",
    "    df.update({i + \"_indegree\":round(np.sum(am[i]),2)})\n",
    "    df.update({i + \"_outdegree\":round(np.sum(am.loc[i]),2)})\n",
    "    \n",
    "# df"
   ]
  },
  {
   "cell_type": "markdown",
   "id": "c01ef3ee-f2c8-4daf-aa03-8e67c275ff03",
   "metadata": {},
   "source": [
    "### Final Composition of Data to be shown to Participants"
   ]
  },
  {
   "cell_type": "code",
   "execution_count": null,
   "id": "3c723866-325a-4bb5-bdf6-b3244030911b",
   "metadata": {},
   "outputs": [],
   "source": [
    "test_df['NAME_CONTRACT_TYPE'].unique()"
   ]
  },
  {
   "cell_type": "code",
   "execution_count": null,
   "id": "96803019-0e8b-4ba1-9095-1d833b6c07aa",
   "metadata": {},
   "outputs": [],
   "source": [
    "dj_df = pd.DataFrame()\n",
    "\n",
    "dj_df['Application_id'] = test_df['SK_ID_CURR']\n",
    "dj_df['Predicted_decision'] = test_df['Predicted_Result']\n",
    "dj_df['Prediction_Confidence_Accepted'] = test_df['Prediction_Confidence_Accepted']\n",
    "dj_df['Prediction_Confidence_Rejected'] = test_df['Prediction_Confidence_Rejected']\n",
    "\n",
    "#Ft_values\n",
    "for index,value in enumerate(test_df.columns[4:]):\n",
    "\n",
    "    dj_df[\"ft_name_\" + str(index)] = test_df[value].name\n",
    "    \n",
    "    dj_df[\"ft_value_\" + str(index)] = test_df[value].values\n",
    "\n",
    "    dj_df[\"ft_weight_\" + str(index)] = round(float(ft_df[value].loc[1]),3)\n",
    "    \n",
    "    dj_df[\"ft_indegree_\" + str(index)] = round(np.sum(am[value]),2)\n",
    "    \n",
    "    dj_df[\"ft_outdegree_\" + str(index)] = round(np.sum(am.loc[value]),2)\n",
    "    \n",
    "    dj_df[\"ft_dp_ratio_\" + str(index)] = dp_ratio_features[value]\n",
    "    \n",
    "#     print(value)\n",
    "\n",
    "dj_df"
   ]
  },
  {
   "cell_type": "code",
   "execution_count": null,
   "id": "68d8fa76-e5e0-4ffb-8599-905c4e00178f",
   "metadata": {},
   "outputs": [],
   "source": [
    "# dj_df.to_csv(folder+\"data/processed_data/Applications.csv\")"
   ]
  },
  {
   "cell_type": "markdown",
   "id": "be3bdd41-720d-478e-b1e2-9514e1d24fb1",
   "metadata": {},
   "source": [
    "### Value Distributions"
   ]
  },
  {
   "cell_type": "code",
   "execution_count": null,
   "id": "7000037b-86e3-44ea-a1f2-6c47091fa8ee",
   "metadata": {},
   "outputs": [],
   "source": [
    "test_df.columns"
   ]
  },
  {
   "cell_type": "code",
   "execution_count": null,
   "id": "02f5f77d-a490-4784-80e4-2898cfedce4b",
   "metadata": {},
   "outputs": [],
   "source": [
    "feature_groups = {}\n",
    "feature_groups.update({'NAME_CONTRACT_TYPE':contract_type_risk_groups, 'CODE_GENDER':gender_risk_groups,\n",
    "       'FLAG_OWN_CAR':car_risk_groups, 'FLAG_OWN_REALTY':realty_risk_groups, 'CNT_CHILDREN':cnt_children_risk_groups, \n",
    "        'AMT_INCOME_TOTAL':income_risk_groups,'AMT_CREDIT':credit_risk_groups, \n",
    "        'AMT_ANNUITY':annunity_risk_groups, 'AMT_GOODS_PRICE':goods_risk_groups, \n",
    "        'NAME_TYPE_SUITE':type_suite_groups,'NAME_INCOME_TYPE':income_type_groups, 'NAME_EDUCATION_TYPE':education_type_groups, 'NAME_FAMILY_STATUS':family_groups,\n",
    "       'NAME_HOUSING_TYPE':housing_groups, 'REGION_POPULATION_RELATIVE':region_population_risk_groups, 'AGE':age_risk_groups,\n",
    "       'YEARS_EMPLOYED':years_employed_risk_groups, 'YEARS_REGISTRATION':years_employed_risk_groups, 'YEARS_ID_PUBLISH':id_publish_risk_groups,\n",
    "       'FLAG_MOBIL':{\"Yes\":32.0}, 'FLAG_EMP_PHONE':emp_mobile_groups, 'FLAG_WORK_PHONE':work_phone_groups, 'FLAG_CONT_MOBILE':cont_mobile_groups,\n",
    "       'FLAG_PHONE':phone_groups, 'FLAG_EMAIL':email_groups, 'OCCUPATION_TYPE':occupation_groups, 'CNT_FAM_MEMBERS':family_members_risk_groups,\n",
    "       'REGION_RATING_CLIENT':region_rating_groups, 'REGION_RATING_CLIENT_W_CITY':region_rating_w_city_groups,\n",
    "       'WEEKDAY_APPR_PROCESS_START':weekday_groups, 'HOUR_APPR_PROCESS_START':hour_application_risk_groups,\n",
    "       'REG_REGION_NOT_LIVE_REGION':region_live_groups, 'REG_REGION_NOT_WORK_REGION':region_work_groups,\n",
    "       'LIVE_REGION_NOT_WORK_REGION':live_work_groups, 'REG_CITY_NOT_LIVE_CITY':city_live_groups,\n",
    "       'REG_CITY_NOT_WORK_CITY':city_work_groups, 'LIVE_CITY_NOT_WORK_CITY':live_work_city_groups,\n",
    "       'ORGANIZATION_TYPE':organisation_groups, 'OBS_30_CNT_SOCIAL_CIRCLE':OBS_30_risk_groups,\n",
    "       'DEF_30_CNT_SOCIAL_CIRCLE':DEF_30_risk_groups, 'OBS_60_CNT_SOCIAL_CIRCLE':OBS_60_risk_groups,\n",
    "       'DEF_60_CNT_SOCIAL_CIRCLE':DEF_60_risk_groups, 'YEARS_LAST_PHONE_CHANGE':phone_change_risk_groups,\n",
    "       'AMT_REQ_CREDIT_BUREAU_HOUR':AMT_REQ_CREDIT_BUREAU_HOUR_groups, 'AMT_REQ_CREDIT_BUREAU_DAY':AMT_REQ_CREDIT_BUREAU_DAY_groups,\n",
    "       'AMT_REQ_CREDIT_BUREAU_WEEK':AMT_REQ_CREDIT_BUREAU_WEEK_groups, 'AMT_REQ_CREDIT_BUREAU_MON':AMT_REQ_CREDIT_BUREAU_MON_groups,\n",
    "       'AMT_REQ_CREDIT_BUREAU_QRT':AMT_REQ_CREDIT_BUREAU_QRT_risk_groups, 'AMT_REQ_CREDIT_BUREAU_YEAR':sr_AMT_REQ_CREDIT_BUREAU_YEAR_risk_groups})"
   ]
  },
  {
   "cell_type": "code",
   "execution_count": null,
   "id": "743573b1-d5b6-463f-9ecd-839b39818a83",
   "metadata": {},
   "outputs": [],
   "source": [
    "dp_feature_bins_df = pd.DataFrame()\n",
    "dp_feature_bins_df[\"Features\"] = feature_groups.keys()\n",
    "dp_feature_bins_df[\"Groups\"] = feature_groups.values()\n",
    "# dp_feature_bins_df.to_csv(folder+\"data/processed_data/Value_Distributions.csv\")"
   ]
  },
  {
   "cell_type": "markdown",
   "id": "809f8dba-99b1-420c-8f0a-dd106c06b32a",
   "metadata": {},
   "source": [
    "### Feature Combinations"
   ]
  },
  {
   "cell_type": "markdown",
   "id": "4b542305-8464-48c2-9099-30ff23b9da0f",
   "metadata": {},
   "source": [
    "#### Binning"
   ]
  },
  {
   "cell_type": "code",
   "execution_count": null,
   "id": "c9490d2d-02ff-4965-bc56-8f263f183669",
   "metadata": {},
   "outputs": [],
   "source": [
    "test_df_fc = test_df.iloc[:,4:]"
   ]
  },
  {
   "cell_type": "code",
   "execution_count": null,
   "id": "478f036e-f5f8-4115-b149-c0c645a9523e",
   "metadata": {},
   "outputs": [],
   "source": [
    "test_df_fc.columns"
   ]
  },
  {
   "cell_type": "code",
   "execution_count": null,
   "id": "203ef447-0e71-4c34-aef0-e233ee08300d",
   "metadata": {},
   "outputs": [],
   "source": [
    "# dp_feature_bins_df.set_index('Features',inplace = True)\n",
    "# dp_feature_bins_df.loc[\"AMT_ANNUITY\"].values"
   ]
  },
  {
   "cell_type": "code",
   "execution_count": null,
   "id": "5bde1eeb-65ca-4d3b-ac6e-7064c928853d",
   "metadata": {},
   "outputs": [],
   "source": [
    "test_df[\"AMT_ANNUITY\"].max()"
   ]
  },
  {
   "cell_type": "code",
   "execution_count": null,
   "id": "02c10acc-e962-4610-833d-b7cfaa838b3e",
   "metadata": {},
   "outputs": [],
   "source": [
    "# import warnings\n",
    "# from pandas.core.common import SettingWithCopyWarning\n",
    "\n",
    "# warnings.simplefilter(action=\"ignore\", category=SettingWithCopyWarning)\n",
    "\n",
    "import warnings\n",
    "from pandas.errors import SettingWithCopyWarning\n",
    "warnings.simplefilter(action=\"ignore\", category=SettingWithCopyWarning)"
   ]
  },
  {
   "cell_type": "code",
   "execution_count": null,
   "id": "1430d5b3-a9ec-4d4f-a40c-f87449560b16",
   "metadata": {
    "scrolled": true
   },
   "outputs": [],
   "source": [
    "test_df_fc = test_df.iloc[:,4:]\n",
    "\n",
    "test_df_fc['CNT_CHILDREN'].loc[test_df_fc['CNT_CHILDREN'] <= 2] = 10\n",
    "test_df_fc['CNT_CHILDREN'].loc[(test_df_fc['CNT_CHILDREN'] >2) & (test_df_fc['CNT_CHILDREN'] <5)] = 20\n",
    "test_df_fc['CNT_CHILDREN'].loc[(test_df_fc['CNT_CHILDREN'] >5) & (test_df_fc['CNT_CHILDREN'] <= 8)] = 30\n",
    "\n",
    "test_df_fc['AMT_INCOME_TOTAL'].loc[test_df_fc['AMT_INCOME_TOTAL'] <= 100000] = 1\n",
    "test_df_fc['AMT_INCOME_TOTAL'].loc[(test_df_fc['AMT_INCOME_TOTAL'] >100000) & (test_df_fc['AMT_INCOME_TOTAL'] < 150000)] = 2\n",
    "test_df_fc['AMT_INCOME_TOTAL'].loc[(test_df_fc['AMT_INCOME_TOTAL'] >150000) & (test_df_fc['AMT_INCOME_TOTAL'] < 200000)] = 3\n",
    "test_df_fc['AMT_INCOME_TOTAL'].loc[(test_df_fc['AMT_INCOME_TOTAL'] >200000) & (test_df_fc['AMT_INCOME_TOTAL'] <= 1350000)] = 4\n",
    "\n",
    "test_df_fc['AMT_CREDIT'].loc[test_df_fc['AMT_CREDIT'] <= 250000] = 1\n",
    "test_df_fc['AMT_CREDIT'].loc[(test_df_fc['AMT_CREDIT'] >250000) & (test_df_fc['AMT_CREDIT'] < 500000)] = 2\n",
    "test_df_fc['AMT_CREDIT'].loc[(test_df_fc['AMT_CREDIT'] >500000) & (test_df_fc['AMT_CREDIT'] < 750000)] = 3\n",
    "test_df_fc['AMT_CREDIT'].loc[(test_df_fc['AMT_CREDIT'] >750000) & (test_df_fc['AMT_CREDIT'] <= 1000000)] = 4\n",
    "test_df_fc['AMT_CREDIT'].loc[(test_df_fc['AMT_CREDIT'] >1000000) & (test_df_fc['AMT_CREDIT'] <= 2156400)] = 5\n",
    "\n",
    "test_df_fc['AMT_ANNUITY'].loc[test_df_fc['AMT_ANNUITY'] <= 10000] = 1\n",
    "test_df_fc['AMT_ANNUITY'].loc[(test_df_fc['AMT_ANNUITY'] >10000) & (test_df_fc['AMT_ANNUITY'] < 25000)] = 2\n",
    "test_df_fc['AMT_ANNUITY'].loc[(test_df_fc['AMT_ANNUITY'] >25000) & (test_df_fc['AMT_ANNUITY'] < 50000)] = 3\n",
    "test_df_fc['AMT_ANNUITY'].loc[(test_df_fc['AMT_ANNUITY'] >50000) & (test_df_fc['AMT_ANNUITY'] <= 103455)] = 4\n",
    "\n",
    "test_df_fc['AMT_GOODS_PRICE'].loc[test_df_fc['AMT_GOODS_PRICE'] <= 100000] = 1\n",
    "test_df_fc['AMT_GOODS_PRICE'].loc[(test_df_fc['AMT_GOODS_PRICE'] >100000) & (test_df_fc['AMT_GOODS_PRICE'] < 500000)] = 2\n",
    "test_df_fc['AMT_GOODS_PRICE'].loc[(test_df_fc['AMT_GOODS_PRICE'] >500000) & (test_df_fc['AMT_GOODS_PRICE'] < 1000000)] = 3\n",
    "test_df_fc['AMT_GOODS_PRICE'].loc[(test_df_fc['AMT_GOODS_PRICE'] >1000000) & (test_df_fc['AMT_GOODS_PRICE'] <= 1800000)] = 4\n",
    "\n",
    "test_df_fc['REGION_POPULATION_RELATIVE'].loc[test_df_fc['REGION_POPULATION_RELATIVE'] <= 0.01] = 1\n",
    "test_df_fc['REGION_POPULATION_RELATIVE'].loc[(test_df_fc['REGION_POPULATION_RELATIVE'] >0.01) & (test_df_fc['REGION_POPULATION_RELATIVE'] <=0.02)] = 2\n",
    "test_df_fc['REGION_POPULATION_RELATIVE'].loc[(test_df_fc['REGION_POPULATION_RELATIVE'] >0.02) & (test_df_fc['REGION_POPULATION_RELATIVE'] <= 0.03)] = 3\n",
    "test_df_fc['REGION_POPULATION_RELATIVE'].loc[(test_df_fc['REGION_POPULATION_RELATIVE'] >0.03) & (test_df_fc['REGION_POPULATION_RELATIVE'] <0.08)] = 4\n",
    "\n",
    "test_df_fc['AGE'].loc[test_df_fc['AGE'] <= 25] = 1\n",
    "test_df_fc['AGE'].loc[(test_df_fc['AGE'] >25) & (test_df_fc['AGE'] <=40)] = 2\n",
    "test_df_fc['AGE'].loc[(test_df_fc['AGE'] >40) & (test_df_fc['AGE'] <= 60)] = 3\n",
    "test_df_fc['AGE'].loc[(test_df_fc['AGE'] >60)] = 4\n",
    "\n",
    "test_df_fc['YEARS_EMPLOYED'].loc[test_df_fc['YEARS_EMPLOYED'] <= 10] = 1\n",
    "test_df_fc['YEARS_EMPLOYED'].loc[(test_df_fc['YEARS_EMPLOYED'] >10) & (test_df_fc['YEARS_EMPLOYED'] <=20)] = 2\n",
    "test_df_fc['YEARS_EMPLOYED'].loc[(test_df_fc['YEARS_EMPLOYED'] >20) & (test_df_fc['YEARS_EMPLOYED'] <= 30)] = 3\n",
    "test_df_fc['YEARS_EMPLOYED'].loc[(test_df_fc['YEARS_EMPLOYED'] >30)] = 4\n",
    "\n",
    "test_df_fc['YEARS_REGISTRATION'].loc[test_df_fc['YEARS_REGISTRATION'] <= 10] = 1\n",
    "test_df_fc['YEARS_REGISTRATION'].loc[(test_df_fc['YEARS_REGISTRATION'] >10) & (test_df_fc['YEARS_REGISTRATION'] <=20)] = 2\n",
    "test_df_fc['YEARS_REGISTRATION'].loc[(test_df_fc['YEARS_REGISTRATION'] >20) & (test_df_fc['YEARS_REGISTRATION'] <= 30)] = 3\n",
    "test_df_fc['YEARS_REGISTRATION'].loc[(test_df_fc['YEARS_REGISTRATION'] >30)] = 4\n",
    "\n",
    "test_df_fc['YEARS_ID_PUBLISH'].loc[test_df_fc['YEARS_ID_PUBLISH'] <= 5] = 1\n",
    "test_df_fc['YEARS_ID_PUBLISH'].loc[(test_df_fc['YEARS_ID_PUBLISH'] >5) & (test_df_fc['YEARS_ID_PUBLISH'] <= 10)] = 2\n",
    "test_df_fc['YEARS_ID_PUBLISH'].loc[(test_df_fc['YEARS_ID_PUBLISH'] >10)] = 3\n",
    "\n",
    "test_df_fc['CNT_FAM_MEMBERS'].loc[test_df_fc['CNT_FAM_MEMBERS'] <= 2] = 1\n",
    "test_df_fc['CNT_FAM_MEMBERS'].loc[(test_df_fc['CNT_FAM_MEMBERS'] >2) & (test_df_fc['CNT_FAM_MEMBERS'] <= 5)] = 2\n",
    "test_df_fc['CNT_FAM_MEMBERS'].loc[(test_df_fc['CNT_FAM_MEMBERS'] >5)] = 3\n",
    "\n",
    "test_df_fc['HOUR_APPR_PROCESS_START'].loc[test_df_fc['HOUR_APPR_PROCESS_START'] <= 8] = 1\n",
    "test_df_fc['HOUR_APPR_PROCESS_START'].loc[(test_df_fc['HOUR_APPR_PROCESS_START'] >8) & (test_df_fc['HOUR_APPR_PROCESS_START'] <=13)] = 2\n",
    "test_df_fc['HOUR_APPR_PROCESS_START'].loc[(test_df_fc['HOUR_APPR_PROCESS_START'] >13) & (test_df_fc['HOUR_APPR_PROCESS_START'] <= 17)] = 3\n",
    "test_df_fc['HOUR_APPR_PROCESS_START'].loc[(test_df_fc['HOUR_APPR_PROCESS_START'] >17)] = 4\n",
    "\n",
    "\n",
    "test_df_fc['ORGANIZATION_TYPE'].loc[test_df_fc['ORGANIZATION_TYPE'].isin(['Kindergarten', 'School' , 'University'])] = 1\n",
    "test_df_fc['ORGANIZATION_TYPE'].loc[test_df_fc['ORGANIZATION_TYPE'].isin([\"Industry: type 1\", \"Industry: type 11\", \"Industry: type 12\", \"Industry: type 3\", \"Industry: type 4\", \"Industry: type 5\", \"Industry: type 7\", \"Industry: type 9\"])] = 2\n",
    "test_df_fc['ORGANIZATION_TYPE'].loc[test_df_fc['ORGANIZATION_TYPE'].isin([\"Business Entity Type 1\",\"Business Entity Type 2\",\"Business Entity Type 3\"])] = 3\n",
    "test_df_fc['ORGANIZATION_TYPE'].loc[test_df_fc['ORGANIZATION_TYPE'].isin([\"Trade: type 2\",\"Trade: type 3\",\"Trade: type 6\",\"Trade: type 7\"])] = 4\n",
    "test_df_fc['ORGANIZATION_TYPE'].loc[test_df_fc['ORGANIZATION_TYPE'].isin([\"Transport: type 1\",\"Transport: type 2\",\"Transport: type 3\", \"Transport: type 4\"])] = 5\n",
    "test_df_fc['ORGANIZATION_TYPE'].loc[test_df_fc['ORGANIZATION_TYPE'].isin([\"Government\", \"Housing\", \"Military\", \"Police\", \"Postal\", 'Security Ministries', \"Medicine\"])] = 6\n",
    "test_df_fc['ORGANIZATION_TYPE'].loc[test_df_fc['ORGANIZATION_TYPE'].isin(['Advertising', 'Security', \"Agriculture\", \"Electricity\", \"Hotel\", \"Mobile\", \"Restaurant\", \"Self-employed\", \"Telecom\"])] = 7\n",
    "test_df_fc['ORGANIZATION_TYPE'].loc[test_df_fc['ORGANIZATION_TYPE'].isin([\"Other\", \"Services\", \"Bank\", \"Construction\", \"Emergency\", \"Legal Services\"])] = 8\n",
    "test_df_fc['ORGANIZATION_TYPE'].loc[test_df_fc['ORGANIZATION_TYPE'].isin([\"XNA\"])] = 9\n",
    "\n",
    "test_df_fc['OBS_30_CNT_SOCIAL_CIRCLE'].loc[test_df_fc['OBS_30_CNT_SOCIAL_CIRCLE'] <= 5] = 1\n",
    "test_df_fc['OBS_30_CNT_SOCIAL_CIRCLE'].loc[(test_df_fc['OBS_30_CNT_SOCIAL_CIRCLE'] >5) & (test_df_fc['OBS_30_CNT_SOCIAL_CIRCLE'] <10)] = 2\n",
    "test_df_fc['OBS_30_CNT_SOCIAL_CIRCLE'].loc[(test_df_fc['OBS_30_CNT_SOCIAL_CIRCLE'] >= 10)] = 3\n",
    "\n",
    "test_df_fc['DEF_30_CNT_SOCIAL_CIRCLE'].loc[test_df_fc['DEF_30_CNT_SOCIAL_CIRCLE'] <2] = 1\n",
    "test_df_fc['DEF_30_CNT_SOCIAL_CIRCLE'].loc[(test_df_fc['DEF_30_CNT_SOCIAL_CIRCLE'] >= 2)] = 2\n",
    "\n",
    "test_df_fc['OBS_60_CNT_SOCIAL_CIRCLE'].loc[test_df_fc['OBS_60_CNT_SOCIAL_CIRCLE'] <= 5] = 1\n",
    "test_df_fc['OBS_60_CNT_SOCIAL_CIRCLE'].loc[(test_df_fc['OBS_60_CNT_SOCIAL_CIRCLE'] >5) & (test_df_fc['OBS_60_CNT_SOCIAL_CIRCLE'] <10)] = 2\n",
    "test_df_fc['OBS_60_CNT_SOCIAL_CIRCLE'].loc[(test_df_fc['OBS_60_CNT_SOCIAL_CIRCLE'] >= 10)] = 3\n",
    "\n",
    "test_df_fc['DEF_60_CNT_SOCIAL_CIRCLE'].loc[test_df_fc['DEF_60_CNT_SOCIAL_CIRCLE'] <2] = 1\n",
    "test_df_fc['DEF_60_CNT_SOCIAL_CIRCLE'].loc[(test_df_fc['DEF_60_CNT_SOCIAL_CIRCLE'] >= 2)] = 2\n",
    "\n",
    "test_df_fc['YEARS_LAST_PHONE_CHANGE'].loc[test_df_fc['YEARS_LAST_PHONE_CHANGE'] <= 2] = 1\n",
    "test_df_fc['YEARS_LAST_PHONE_CHANGE'].loc[(test_df_fc['YEARS_LAST_PHONE_CHANGE'] >2) & (test_df_fc['YEARS_LAST_PHONE_CHANGE'] <= 5)] = 2\n",
    "test_df_fc['YEARS_LAST_PHONE_CHANGE'].loc[(test_df_fc['YEARS_LAST_PHONE_CHANGE'] >5)] = 3\n",
    "\n",
    "test_df_fc['AMT_REQ_CREDIT_BUREAU_QRT'].loc[test_df_fc['AMT_REQ_CREDIT_BUREAU_QRT'] <= 2] = 1\n",
    "test_df_fc['AMT_REQ_CREDIT_BUREAU_QRT'].loc[(test_df_fc['AMT_REQ_CREDIT_BUREAU_QRT'] > 2)] = 2\n",
    "\n",
    "test_df_fc['AMT_REQ_CREDIT_BUREAU_YEAR'].loc[test_df_fc['AMT_REQ_CREDIT_BUREAU_YEAR'] <= 2] = 1\n",
    "test_df_fc['AMT_REQ_CREDIT_BUREAU_YEAR'].loc[(test_df_fc['AMT_REQ_CREDIT_BUREAU_YEAR'] >2) & (test_df_fc['AMT_REQ_CREDIT_BUREAU_YEAR'] <=5)] = 2\n",
    "test_df_fc['AMT_REQ_CREDIT_BUREAU_YEAR'].loc[(test_df_fc['AMT_REQ_CREDIT_BUREAU_YEAR'] >= 5)] = 3"
   ]
  },
  {
   "cell_type": "code",
   "execution_count": null,
   "id": "1fa931af-d555-4b98-bfee-dece615fefd1",
   "metadata": {},
   "outputs": [],
   "source": [
    "test_df_fc.replace({'CNT_CHILDREN' : { 10 :'0-2', 20 : '3-5', 30: '5-10'},\n",
    "                'AMT_INCOME_TOTAL' : { 1 :'<100K', 2 : '100K-150K',3:\"150K-200K\",4:\"200K-250K\", 5:\">250K\" },\n",
    "                'AMT_CREDIT' : { 1 :'<250k', 2 : '250K-500K',3:\"500K-750K\" ,4:\"750K-1M\", 5:\">1M\"},\n",
    "                'AMT_ANNUITY' : { 1 :'<10K', 2 : '10K-25K',3:\"25K-50K\",4:\">50K\"},\n",
    "                'AMT_GOODS_PRICE' : { 1 :'<100K', 2 : '100K-500K',3:\"500K-1M\" ,4:\">1M\" },\n",
    "                'REGION_POPULATION_RELATIVE' : { 1 :'<0.01 ', 2 : '0.01-0.02',3:\"0.02-0.03\" ,4:\">0.03\" },\n",
    "                'AGE' : { 1 :'Young Adults =<25', 2 : 'Adults =26-40',3:\"Middle-Aged Adults = 41 - 60\",4:\"Older Adults =60+\"},\n",
    "                'YEARS_EMPLOYED' : { 1 :'<10', 2 : '10–20',3:\"20–30\",4:\">30\"},\n",
    "                'YEARS_REGISTRATION' : { 1 :'<10', 2 : '10–20',3:\"20–30\",4:\">30\"},\n",
    "                'YEARS_ID_PUBLISH' : { 1 :'<5', 2 : '5-10',3:\">10\"},\n",
    "                'CNT_FAM_MEMBERS' : { 1 :'<=2', 2 : '3-5',3:\">=5\"},\n",
    "                'HOUR_APPR_PROCESS_START' : { 1 :'Midnight to 9 am (Before Office Hours) : 0-9', 2 : '9am to 1 pm (Office Hours: Morning): 9-13',3:\"1pm to 5 pm(Office Hours:Afternoon): 13-17\",4:'5pm - Midnight (After Office Hours): 17-24'},\n",
    "                'ORGANIZATION_TYPE' : { 1 :'Education', 2 : 'Industry',3:\"Business Entity\",4:\"Trade\", 5: \"Transport\", 6:\"Public Sector\", 7: \"Private Sector\",8:\"Others\",9:\"XNA\"},\n",
    "                'OBS_30_CNT_SOCIAL_CIRCLE' : { 1 :'<=5', 2 : '6-9',3: \">=10\"},\n",
    "                'DEF_30_CNT_SOCIAL_CIRCLE' : { 1 :'0-2', 2 : '>=2'},\n",
    "                'OBS_60_CNT_SOCIAL_CIRCLE' : { 1 :'<=5', 2 : '6-9',3:\">=10\"},\n",
    "                'DEF_60_CNT_SOCIAL_CIRCLE' : { 1 :'0-2', 2 : '>=2'},\n",
    "                'YEARS_LAST_PHONE_CHANGE' : { 1 :'<=2', 2 : '2-5',3:\">5\"},\n",
    "                'AMT_REQ_CREDIT_BUREAU_QRT' : { 1 :'<= 2', 2 : '>2'},\n",
    "                'AMT_REQ_CREDIT_BUREAU_YEAR' : { 1 :'<= 2', 2 : '3-5',3: \">5\"}},inplace=True)"
   ]
  },
  {
   "cell_type": "code",
   "execution_count": null,
   "id": "a8e122cc-6d81-4f8a-8b9f-1bba65aa9e62",
   "metadata": {},
   "outputs": [],
   "source": [
    "test_df_fc[\"NAME_TYPE_SUITE\"].unique()"
   ]
  },
  {
   "cell_type": "code",
   "execution_count": null,
   "id": "a8a86435-d07d-4902-915d-bd7e1e7faeaf",
   "metadata": {},
   "outputs": [],
   "source": [
    "test_df_fc.replace({'NAME_TYPE_SUITE' : { \"Other_A\" : 'Others', \"Other_B\":  'Others'}},inplace=True)\n",
    "# test_df_fc[\"NAME_TYPE_SUITE\"].replace({'CNT_CHILDREN' : { 10 :'0-2', 20 : '3-5', 30: '5-10'},\n",
    "#                 'AMT_INCOME_TOTAL' : { 1 :'<100K', 2 : '100K-150K',3:\"150K-200K\",4:\"200K-250K\", 5:\">250K\" })"
   ]
  },
  {
   "cell_type": "code",
   "execution_count": null,
   "id": "18bae346-0278-4f76-b27d-ce3ea434679c",
   "metadata": {
    "scrolled": true
   },
   "outputs": [],
   "source": [
    "# df = test_df.select_dtypes(exclude=[\"number\"])\n",
    "for col in test_df_fc.columns:\n",
    "    print(col)\n",
    "    print(test_df_fc[col].unique())"
   ]
  },
  {
   "cell_type": "markdown",
   "id": "251e942c-0026-4c8f-b76b-4b4d40634dbc",
   "metadata": {},
   "source": [
    "#### Any feature values have less than 10 instances "
   ]
  },
  {
   "cell_type": "code",
   "execution_count": null,
   "id": "46f53c94-0933-4667-9fdf-340a936b314d",
   "metadata": {
    "scrolled": true
   },
   "outputs": [],
   "source": [
    "test_df_fc.fillna(\"NA\", inplace = True)\n",
    "\n",
    "test_df_fc[\"Predictions\"] = test_df[\"Predicted_Result\"]\n",
    "test_df_fc.replace({'Predictions' : { 'Accepted' : 1, 'Rejected': 0}},inplace=True)\n",
    "test_df_fc.head()"
   ]
  },
  {
   "cell_type": "code",
   "execution_count": null,
   "id": "015f5f78-10ab-4a12-a5f6-129081ce7869",
   "metadata": {},
   "outputs": [],
   "source": [
    "feature_Descriptions_Display = pd.read_csv(folder+'data/processed_data/Feature_Descriptions_Display.csv', delimiter=',')\n",
    "feature_Descriptions_Display.head()"
   ]
  },
  {
   "cell_type": "code",
   "execution_count": null,
   "id": "46be499c-f24f-40d0-85e5-d7ff9f818550",
   "metadata": {},
   "outputs": [],
   "source": [
    "# Repalcing the feature Values\n",
    "feature_list = feature_Descriptions_Display[\"Display name\"].tolist()\n",
    "feature_list.append(\"Predictions\")\n",
    "\n",
    "test_df_fc.columns = feature_list\n",
    "test_df_fc\n",
    "# test_df_fc = test_df_fc.replace(feature_Descriptions_Display[\"Column\"].tolist(),feature_Descriptions_Display[\"Display name\"].tolist())"
   ]
  },
  {
   "cell_type": "code",
   "execution_count": null,
   "id": "5234a923-7169-4106-ae22-faa91e5f3fa4",
   "metadata": {
    "scrolled": true
   },
   "outputs": [],
   "source": [
    "fc = {}\n",
    "fc_df = pd.DataFrame()\n",
    "fc[\"Combinations\"] = []\n",
    "fc[\"Values\"] = []\n",
    "fc[\"Counts\"] = []\n",
    "fc[\"Selection_Rate\"] = []\n",
    "\n",
    "column_list = test_df_fc.columns.tolist()\n",
    "col_use = [column_list[0]]\n",
    "for i in range(1,len(column_list)):\n",
    "    col_use.extend(column_list[i:i+1])\n",
    "    gr = test_df_fc.groupby(by=col_use)\n",
    "    \n",
    "    for i, group in gr:\n",
    "        if len(group)>10: \n",
    "            predictions_fc = group['Predictions']\n",
    "            group = group[col_use]\n",
    "            display(group)\n",
    "            risk_rate = MetricFrame(metrics=selection_rate, y_true=predictions_fc, y_pred=predictions_fc,sensitive_features=group)\n",
    "            \n",
    "            fc[\"Combinations\"] = [tuple(list(risk_rate.by_group.keys().names))]\n",
    "            fc[\"Values\"] = risk_rate.by_group.keys().tolist()\n",
    "            fc[\"Counts\"] = [len(group)]\n",
    "            fc[\"Selection_Rate\"] = [100*round(risk_rate.by_group.values[0],2)]\n",
    "            # fc_df = fc_df.append(pd.Series(fc), ignore_index=True)     \n",
    "            fc_df = pd.concat([fc_df, pd.DataFrame(fc)], ignore_index=True)"
   ]
  },
  {
   "cell_type": "code",
   "execution_count": null,
   "id": "e2a0efd4-332e-48fe-8077-06d36e5c92d8",
   "metadata": {},
   "outputs": [],
   "source": [
    "fc_df = fc_df.sort_values(by=['Selection_Rate'], ascending=False)\n",
    "fc_df.reset_index(inplace = True)\n",
    "fc_df"
   ]
  },
  {
   "cell_type": "code",
   "execution_count": null,
   "id": "6be7ad68-9e49-4ea5-a33d-c0de053d5572",
   "metadata": {},
   "outputs": [],
   "source": [
    "# fc_df.to_csv(folder+\"data/processed_data/Feature Combinations_Converted.csv\")"
   ]
  },
  {
   "cell_type": "code",
   "execution_count": null,
   "id": "6a44bea1-89b3-4d0a-ae15-1d9232e86225",
   "metadata": {},
   "outputs": [],
   "source": [
    "# fc_df.to_csv(folder+\"data/processed_data/Feature Combinations.csv\")"
   ]
  },
  {
   "cell_type": "markdown",
   "id": "c22a5ce7-af7d-4348-93a2-a25b6b1c3f02",
   "metadata": {},
   "source": [
    "### Feature Combinations"
   ]
  },
  {
   "cell_type": "code",
   "execution_count": null,
   "id": "ccbf833a-67f9-4336-9dbc-21d22b97d092",
   "metadata": {},
   "outputs": [],
   "source": [
    "test_df[\"CNT_CHILDREN\"].value_counts()"
   ]
  },
  {
   "cell_type": "code",
   "execution_count": null,
   "id": "34eb3620-0e60-4f07-a7b8-16ecce1327d5",
   "metadata": {},
   "outputs": [],
   "source": [
    "test_df.iloc[:,4:].columns"
   ]
  },
  {
   "cell_type": "code",
   "execution_count": null,
   "id": "ba599d00-00a2-4333-9ae5-0a32e94cf4fa",
   "metadata": {},
   "outputs": [],
   "source": [
    "# dp_feature_bins_df.loc[\"CNT_CHILDREN\"]"
   ]
  },
  {
   "cell_type": "code",
   "execution_count": null,
   "id": "1e1d1779-7fa3-4ee1-907a-d2dfe498a927",
   "metadata": {},
   "outputs": [],
   "source": [
    "# print(len(test_df[(test_df[\"NAME_CONTRACT_TYPE\"] == \"Fixed\") & (test_df[\"CODE_GENDER\"] == \"Female\") & (test_df[\"Predicted_Result\"] == \"Rejected\")]))\n",
    "# print(len(test_df[(test_df[\"NAME_CONTRACT_TYPE\"] == \"Fixed\") & (test_df[\"CODE_GENDER\"] == \"Female\") & (test_df[\"Predicted_Result\"] == \"Accepted\")]))"
   ]
  },
  {
   "cell_type": "code",
   "execution_count": null,
   "id": "20eed291-7b16-42e4-aa7c-3074e898099d",
   "metadata": {},
   "outputs": [],
   "source": [
    "from fairlearn.metrics import count\n",
    "sr_check = MetricFrame(metrics=selection_rate, y_true=predictions_test, y_pred=predictions_test,sensitive_features=test_df.iloc[:,4:7])\n",
    "display(sr_check.by_group)\n",
    "counts = MetricFrame(metrics=count, y_true=predictions_test, y_pred=predictions_test,sensitive_features=test_df.iloc[:,4:7])\n",
    "display(counts.by_group)"
   ]
  },
  {
   "cell_type": "code",
   "execution_count": null,
   "id": "5b17aa30-ca03-4674-9790-9c039499e562",
   "metadata": {},
   "outputs": [],
   "source": [
    "# display(dp_feature_bins_df.loc[\"NAME_CONTRACT_TYPE\"])\n",
    "# display(dp_feature_bins_df.loc[\"CODE_GENDER\"])"
   ]
  },
  {
   "cell_type": "markdown",
   "id": "50afcf00-caf3-4d4e-8b65-556ec7e1063b",
   "metadata": {},
   "source": [
    "### Comparison of Different Applications"
   ]
  },
  {
   "cell_type": "code",
   "execution_count": null,
   "id": "534fdbb6-eeae-4054-a822-c95b50f16cdc",
   "metadata": {},
   "outputs": [],
   "source": [
    "test_df_final"
   ]
  },
  {
   "cell_type": "code",
   "execution_count": null,
   "id": "9500c846-86e8-482b-80d6-e42b3ff1e1c6",
   "metadata": {},
   "outputs": [],
   "source": [
    "# an 100x10 array of features, one row for each of the 100 applications\n",
    "\n",
    "# L2 changed to L1\n",
    "\n",
    "applicant_ft = np.array(test_df_final)\n",
    "\n",
    "#A list of all application ids\n",
    "application_ids = np.array(test_df[\"SK_ID_CURR\"])\n",
    "    \n",
    "each_applicant_l2 = np.zeros((1000,1000))\n",
    "\n",
    "for i in range(1000):    \n",
    "    appid = applicant_ft[application_ids.searchsorted(application_ids[i])]\n",
    "\n",
    "    appid_l2 = np.linalg.norm(applicant_ft - appid, 1, axis = 1 )  # L_1\n",
    "    each_applicant_l2[i] = appid_l2\n",
    "    \n",
    "#Due to huge distances, we need to normalise our data to bring the distance between 0 to 1. We do this by formula : -\n",
    "# # normalized_df=(df-df.min())/(df.max()-df.min())\n",
    "\n",
    "normalized_each_applicant_l2=(each_applicant_l2-each_applicant_l2.min())/(each_applicant_l2.max()-each_applicant_l2.min())\n",
    "\n",
    "# To convert distance measure to similarity measure, we use the formula :-\n",
    "# Similarity = 1 / (difference + 1)\n",
    "\n",
    "similarity_matrix = np.zeros((1000,1000))\n",
    "for i in range(1000):\n",
    "    similarity = 1/ (normalized_each_applicant_l2[i] + 1)\n",
    "    similarity_matrix[i] = 100*similarity\n",
    "    \n",
    "similarity_df = pd.DataFrame(data = similarity_matrix, columns = application_ids, index=application_ids)\n",
    "similarity_df = similarity_df.round(2)\n",
    "similarity_df\n",
    "\n",
    "\n",
    "# similarity_df.to_csv(folder+\"data/processed_data/Comparison_Different_Applications.csv\")"
   ]
  },
  {
   "cell_type": "markdown",
   "id": "cbe734a8-b9ee-4164-843f-3cb386c10b99",
   "metadata": {},
   "source": [
    "### Comparison of Different Features"
   ]
  },
  {
   "cell_type": "code",
   "execution_count": null,
   "id": "45450f63-a865-47ef-8224-1be0205073b2",
   "metadata": {},
   "outputs": [],
   "source": [
    "test_df_features = test_df_final.copy()\n",
    "test_df_features\n",
    "\n",
    "test_df_features.rename(columns={'CODE_GENDER_LE':'CODE_GENDER','NAME_CONTRACT_TYPE_LE': 'NAME_CONTRACT_TYPE',\n",
    "                             'FLAG_OWN_CAR_LE':\"FLAG_OWN_CAR\" , 'FLAG_OWN_REALTY_LE':'FLAG_OWN_REALTY', \n",
    "                              'NAME_TYPE_SUITE_LE':\"NAME_TYPE_SUITE\",'NAME_INCOME_TYPE_LE':\"NAME_INCOME_TYPE\",\n",
    "                              \n",
    "                              'NAME_EDUCATION_TYPE_LE': \"NAME_EDUCATION_TYPE\",'NAME_FAMILY_STATUS_LE':\"NAME_FAMILY_STATUS\",\n",
    "                              'NAME_HOUSING_TYPE_LE':\"NAME_HOUSING_TYPE\", 'OCCUPATION_TYPE_LE':\"OCCUPATION_TYPE\",\n",
    "                              'WEEKDAY_APPR_PROCESS_START_LE':\"WEEKDAY_APPR_PROCESS_START\",'ORGANIZATION_TYPE_LE':\"ORGANIZATION_TYPE\"\n",
    "                             }, inplace=True)\n",
    "\n",
    "\n",
    "test_df_features = test_df_features.reindex(test_df.columns[4:], axis=1)\n",
    "\n",
    "# test_df_features.isnull().any()"
   ]
  },
  {
   "cell_type": "code",
   "execution_count": null,
   "id": "aa14b3ee-0291-43cd-8837-bb14e3abc851",
   "metadata": {},
   "outputs": [],
   "source": [
    "test_df_features"
   ]
  },
  {
   "cell_type": "code",
   "execution_count": null,
   "id": "19f4997d-e924-469c-a665-45006b0ab8b4",
   "metadata": {
    "scrolled": true
   },
   "outputs": [],
   "source": [
    "applicant_ft = np.array(test_df_features)\n",
    "application_ids = np.array(test_df[\"SK_ID_CURR\"])\n",
    "\n",
    "feature_similarity_tensor = np.zeros((1000,1000,49))\n",
    "\n",
    "for i in range(1000):\n",
    "    \n",
    "#     Pick the 49 features\n",
    "    appid = applicant_ft[application_ids.searchsorted(application_ids[i])]\n",
    "    \n",
    "    ft_distances = abs(applicant_ft - appid)\n",
    "\n",
    "    ft_similarity = 1/ (ft_distances + 1)\n",
    "    \n",
    "#     ft_similarity[ft_similarity == 0.5] = 0\n",
    "    \n",
    "    feature_similarity_tensor[i] = ft_similarity\n",
    "    \n",
    "feature_similarity_tensor = 100*feature_similarity_tensor\n",
    "feature_similarity_tensor = feature_similarity_tensor.round(2)"
   ]
  },
  {
   "cell_type": "code",
   "execution_count": null,
   "id": "9ba8d59d-3412-40f5-a53e-a4072a174390",
   "metadata": {},
   "outputs": [],
   "source": [
    "# feature_similarity_matrix"
   ]
  },
  {
   "cell_type": "code",
   "execution_count": null,
   "id": "fca35465-a670-4bd9-a6f4-dd0b47e9fe8d",
   "metadata": {},
   "outputs": [],
   "source": [
    "# pip install xarray"
   ]
  },
  {
   "cell_type": "code",
   "execution_count": null,
   "id": "f3ad2f15-9ee2-450b-8b70-b66adbbb490b",
   "metadata": {
    "scrolled": true
   },
   "outputs": [],
   "source": [
    "import xarray as xr\n",
    "feature_similarities = xr.DataArray(name='Feature_similarities', data = feature_similarity_tensor, dims=['Application_1', 'Application_2', 'Features'])\n",
    "feature_similarities[\"Application_1\"] = application_ids\n",
    "feature_similarities[\"Application_2\"] = application_ids\n",
    "feature_similarities['Features'] = test_df_features.columns\n",
    "feature_similarities_df = feature_similarities.to_dataframe().unstack()"
   ]
  },
  {
   "cell_type": "code",
   "execution_count": null,
   "id": "17b6ae3a-b055-4090-ab30-0b2344b0d92f",
   "metadata": {},
   "outputs": [],
   "source": [
    "feature_similarities_df"
   ]
  },
  {
   "cell_type": "code",
   "execution_count": null,
   "id": "0d209415-8575-44da-b37e-f533e6f1e765",
   "metadata": {},
   "outputs": [],
   "source": [
    "# feature_similarities_df.to_csv(folder+\"data/processed_data/Feature Similarities.csv\")"
   ]
  },
  {
   "cell_type": "code",
   "execution_count": null,
   "id": "d7b2e614-858b-406e-ba2f-e79b4faf336e",
   "metadata": {},
   "outputs": [],
   "source": [
    "feature_similarities = xr.DataArray(name='Feature_similarities', data = feature_similarity_tensor, dims=['Application_1', 'Application_2', 'Features'])\n",
    "feature_similarities[\"Application_1\"] = application_ids\n",
    "feature_similarities[\"Application_2\"] = application_ids\n",
    "feature_similarities['Features'] = feature_Descriptions_Display[\"Display name\"].tolist()\n",
    "feature_similarities_df = feature_similarities.to_dataframe().unstack()"
   ]
  },
  {
   "cell_type": "code",
   "execution_count": null,
   "id": "19f3f6d9-b74c-4176-96a7-afe96ebce6ff",
   "metadata": {},
   "outputs": [],
   "source": [
    "feature_similarities_df.to_csv(folder+\"data/processed_data/Feature Similarities_Converted.csv\")"
   ]
  },
  {
   "cell_type": "markdown",
   "id": "d99d44b7-ee32-4066-80c6-1648e76f87e4",
   "metadata": {},
   "source": [
    "### Feature Descriptions to Display"
   ]
  },
  {
   "cell_type": "code",
   "execution_count": null,
   "id": "baad7ba7-82da-4423-815b-9d6bd50a7580",
   "metadata": {},
   "outputs": [],
   "source": [
    "from docx import Document\n",
    "document = Document(\"Feature Descriptions Display 15112022.docx\")\n",
    "\n",
    "table = document.tables[0]\n",
    "\n",
    "data = [[cell.text for cell in row.cells] for row in table.rows]\n",
    "feature_description = pd.DataFrame(data)\n",
    "\n",
    "feature_description = feature_description.rename(columns=feature_description.iloc[0]).drop(feature_description.index[0]).reset_index(drop=True)"
   ]
  },
  {
   "cell_type": "code",
   "execution_count": null,
   "id": "8af2eed9-2bba-4205-ba61-79b928b758df",
   "metadata": {},
   "outputs": [],
   "source": [
    "feature_description"
   ]
  },
  {
   "cell_type": "code",
   "execution_count": null,
   "id": "967cc037-31a8-4a58-b557-b3ed202b6b32",
   "metadata": {},
   "outputs": [],
   "source": [
    "feature_description.to_csv(folder+\"data/processed_data/Feature_Descriptions_Display.csv\")"
   ]
  },
  {
   "cell_type": "code",
   "execution_count": null,
   "id": "3e5be28c-3187-4627-80a9-7930fbc1244b",
   "metadata": {},
   "outputs": [],
   "source": [
    "# test_df.to_csv(folder+\"data/processed_data/Model_Predictions.csv\")"
   ]
  },
  {
   "cell_type": "code",
   "execution_count": null,
   "id": "e7ecffa2-2109-439a-b193-4af25ee44aec",
   "metadata": {},
   "outputs": [],
   "source": []
  }
 ],
 "metadata": {
  "kernelspec": {
   "display_name": "Python 3 (ipykernel)",
   "language": "python",
   "name": "python3"
  },
  "language_info": {
   "codemirror_mode": {
    "name": "ipython",
    "version": 3
   },
   "file_extension": ".py",
   "mimetype": "text/x-python",
   "name": "python",
   "nbconvert_exporter": "python",
   "pygments_lexer": "ipython3",
   "version": "3.11.4"
  }
 },
 "nbformat": 4,
 "nbformat_minor": 5
}
