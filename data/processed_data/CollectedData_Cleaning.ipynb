{
 "cells": [
  {
   "cell_type": "code",
   "execution_count": null,
   "id": "2b47d4c7-a53e-47f8-92e9-dc8e1199a84b",
   "metadata": {},
   "outputs": [],
   "source": [
    "import numpy as np\n",
    "import pandas as pd\n",
    "\n",
    "import warnings\n",
    "from pandas.errors import SettingWithCopyWarning\n",
    "warnings.simplefilter(action=\"ignore\", category=SettingWithCopyWarning)\n",
    "\n",
    "## SET folder to project directory\n",
    "folder=\"C:\\\\evdoxiataka\\\\effi_user_study1\\\\\""
   ]
  },
  {
   "cell_type": "code",
   "execution_count": null,
   "id": "8c6f5be7-dd4b-44dc-8123-e499239a36ed",
   "metadata": {},
   "outputs": [],
   "source": [
    "import os\n",
    "from natsort import os_sorted\n",
    "\n",
    "folder_path = folder+\"data/collected_data/LOGS/\"\n",
    "files = []\n",
    "for f in os.listdir(folder_path):\n",
    "    fname = os.path.join(folder_path, f)\n",
    "    if f[-4:] == '.csv':\n",
    "        files.append(f)\n",
    "files = os_sorted(files)"
   ]
  },
  {
   "cell_type": "code",
   "execution_count": null,
   "id": "5571e673-007e-4719-b5f9-0805bf7b12c3",
   "metadata": {},
   "outputs": [],
   "source": [
    "feedback_df = pd.DataFrame()\n",
    "for file_name in files:    \n",
    "    # file_name = part_id+\".csv\"    \n",
    "    file = pd.read_csv(folder+\"data/collected_data/LOGs/'+file_name, delimiter=',')    \n",
    "    # Conversion of App ID to int     \n",
    "    file[\"App ID\"] = file[\"App ID\"].fillna(0.0).astype(int)\n",
    "    # Reset_index \n",
    "    file.index = np.arange(0, len(file))    \n",
    "    # Dropping Login\n",
    "    file = file[file.Function != \"Login\"]\n",
    "    file.reset_index(drop = True, inplace = True)  \n",
    "    # Dropping Repeated Entries\n",
    "    drop_index = []\n",
    "    for i in range(1,len(file.index)):\n",
    "        try:\n",
    "            if ((file.at[i,\"App ID\"] == int(file.at[i,\"Value\"])) and (file.loc[i,\"ID\"] in file.loc[0:i-1,\"ID\"].unique()) and (file.loc[i,\"App ID\"]  in file.loc[0:i-1,\"App ID\"].unique())):          \n",
    "                    drop_index.append(i)\n",
    "        except: \n",
    "            continue    \n",
    "    file.drop(index = drop_index,inplace = True)\n",
    "    feedback_df = pd.concat([feedback_df,file],axis=0)    \n",
    "feedback_df.drop(columns = \"Pattern\",inplace = True)# blank column\n",
    "feedback_df.reset_index(drop = True, inplace = True)"
   ]
  },
  {
   "cell_type": "code",
   "execution_count": null,
   "id": "0c0cf4b5-8ec8-4c13-b01f-37577fa29954",
   "metadata": {},
   "outputs": [],
   "source": [
    "# Dropping the entires where function chosen is apply_refine_search which is filtering for attribute \n",
    "# but there is no attribute present that was filtered for. \n",
    "df_with_null_attribute = feedback_df[feedback_df[\"Attribute\"].isna()]\n",
    "null_attribute_index = df_with_null_attribute[df_with_null_attribute[\"Function\"] == \"apply_refine_search\"].index\n",
    "null_attribute_index\n",
    "\n",
    "print(len(null_attribute_index))\n",
    "\n",
    "feedback_df.drop(index = null_attribute_index,inplace = True)\n",
    "\n",
    "feedback_df.reset_index(drop = True, inplace = True)\n",
    "feedback_df.loc[15]"
   ]
  },
  {
   "cell_type": "code",
   "execution_count": null,
   "id": "559ff324-d687-49b4-b0f6-2487181f0ea0",
   "metadata": {},
   "outputs": [],
   "source": [
    "similar_apps_ind = feedback_df[(feedback_df[\"Function\"] == \"similar_application\") | (feedback_df[\"Function\"] == \"select_applications\")].index\n",
    "\n",
    "feedback_df.loc[similar_apps_ind, \"Value\"] = feedback_df.loc[similar_apps_ind, \"Value\"].astype(int)\n",
    "type(feedback_df[feedback_df[\"Function\"] == \"similar_application\"][\"Value\"][6])"
   ]
  },
  {
   "cell_type": "code",
   "execution_count": null,
   "id": "d59a6949-5467-4c06-959c-0b5d1e6a9191",
   "metadata": {},
   "outputs": [],
   "source": [
    "feedback_df.to_csv(folder+\"data/processed_data/Feedback_final.csv\", na_rep='None')"
   ]
  },
  {
   "cell_type": "code",
   "execution_count": null,
   "id": "0d1392b4-ff5f-4c51-9155-62c012bcb34d",
   "metadata": {},
   "outputs": [],
   "source": []
  }
 ],
 "metadata": {
  "kernelspec": {
   "display_name": "Python 3 (ipykernel)",
   "language": "python",
   "name": "python3"
  },
  "language_info": {
   "codemirror_mode": {
    "name": "ipython",
    "version": 3
   },
   "file_extension": ".py",
   "mimetype": "text/x-python",
   "name": "python",
   "nbconvert_exporter": "python",
   "pygments_lexer": "ipython3",
   "version": "3.11.4"
  }
 },
 "nbformat": 4,
 "nbformat_minor": 5
}
