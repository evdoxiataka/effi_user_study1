{
 "cells": [
  {
   "cell_type": "code",
   "execution_count": null,
   "id": "cff2b5ae",
   "metadata": {},
   "outputs": [],
   "source": [
    "import numpy as np\n",
    "import pandas as pd\n",
    "import json\n",
    "import matplotlib.pyplot as plt\n",
    "\n",
    "########################SET folder to path of code directory in the project folder#####################\n",
    "## SET PATH to code directory in the project folder\n",
    "code_path = \"C:\\\\Users\\\\evdoxiataka\\\\codes\\\\effi_user_study_1\\\\code\\\\\"\n",
    "import sys  \n",
    "sys.path.insert(1, code_path)\n",
    "\n",
    "########################SET folder to project directory path#####################\n",
    "folder= \"C:\\\\Users\\\\evdoxiataka\\\\codes\\\\effi_user_study_1\\\\\"\n",
    "\n",
    "from utils.data_loading import get_all_participants_logs, get_all_participants_feedback\n",
    "\n",
    "import warnings\n",
    "from pandas.errors import SettingWithCopyWarning\n",
    "warnings.simplefilter(action=\"ignore\", category=SettingWithCopyWarning)"
   ]
  },
  {
   "cell_type": "markdown",
   "id": "7053efd4-bcc6-4a49-b08b-aac5cc7ee1f6",
   "metadata": {},
   "source": [
    "# Data Loading"
   ]
  },
  {
   "cell_type": "code",
   "execution_count": null,
   "id": "2d5e30f0-8da7-4e66-a72e-0b7a8d75f646",
   "metadata": {},
   "outputs": [],
   "source": [
    "## LOAD FEEDBACK\n",
    "prolific_export_filePath = folder+\"data\\\\collected_data\\\\prolific_export_demographics.csv\"\n",
    "interaction_logs_filePath = folder+\"data\\\\collected_data\\\\LOGS\\\\\"\n",
    "logs_df = get_all_participants_logs(prolific_export_filePath, interaction_logs_filePath)\n",
    "feedback_df = get_all_participants_feedback(logs_df)\n",
    "# logs_df.to_csv(\"Feedback_final.csv\")\n",
    "\n",
    "## LOAD APPLICATIONS SHOWN TO PARTICIPANTS\n",
    "applications_df = pd.read_csv(folder+\"data\\\\processed_data\\\\Applications_Converted.csv\")\n",
    "ft_weight_dict = {}\n",
    "\n",
    "for i in range(0,49):\n",
    "    ft_weight_dict.update({applications_df[\"ft_name_\"+ str(i)][0]:applications_df[\"ft_weight_\"+ str(i)][0]})\n",
    "\n",
    "df = applications_df[[\"Application_id\",\"Predicted_decision\", \"Prediction_Confidence_Accepted\" ]]\n",
    "df = df.T\n",
    "df.rename(columns=df.iloc[0],inplace =True)"
   ]
  },
  {
   "cell_type": "markdown",
   "id": "6118f693-0386-4291-a137-e594f9edaf86",
   "metadata": {},
   "source": [
    "# Analysis of Participants' Interaction with the UI components"
   ]
  },
  {
   "cell_type": "markdown",
   "id": "b3ebf97f",
   "metadata": {},
   "source": [
    "## Average number of clicks that a user did on a function with std"
   ]
  },
  {
   "cell_type": "code",
   "execution_count": null,
   "id": "c86feed6",
   "metadata": {},
   "outputs": [],
   "source": [
    "function_group = logs_df.groupby(by = [\"ID\",\"Function\"])\n",
    "\n",
    "function_count = function_group.size().unstack(fill_value=0).stack()\n",
    "\n",
    "parti_list = []\n",
    "function_list = []\n",
    "function_count_list = function_count.tolist()\n",
    "\n",
    "# print(len(function_count_list))\n",
    "\n",
    "for i in range(0,len(function_count.index)):\n",
    "    parti_list.append(function_count.index[i][0])\n",
    "    function_list.append(function_count.index[i][1])\n",
    "\n",
    "parti_func_df = pd.DataFrame()\n",
    "\n",
    "parti_func_df[\"Participant\"] = parti_list\n",
    "parti_func_df[\"Function\"] = function_list\n",
    "parti_func_df[\"Participant_Function_Count\"] = function_count_list\n",
    "parti_func_df"
   ]
  },
  {
   "cell_type": "code",
   "execution_count": null,
   "id": "343ddced",
   "metadata": {},
   "outputs": [],
   "source": [
    "data = []\n",
    "\n",
    "for func in parti_func_df[\"Function\"].unique():\n",
    "    \n",
    "    data.append(\n",
    "    {\n",
    "        \"Function\" : func,\n",
    "        \"Total\" : parti_func_df[parti_func_df[\"Function\"]== func ].Participant_Function_Count.sum(),\n",
    "        \"Mean\": round(parti_func_df[parti_func_df[\"Function\"]== func ].Participant_Function_Count.mean(),2),\n",
    "        \"Std\": round(parti_func_df[parti_func_df[\"Function\"]== func ].Participant_Function_Count.std(),2),\n",
    "        \"Number of Participants Clicked\" : parti_func_df[(parti_func_df[\"Function\"]== func) & (parti_func_df[\"Participant_Function_Count\"] != 0)].shape[0]\n",
    "    }\n",
    "    )\n",
    "    \n",
    "each_function_df = pd.DataFrame(data)\n",
    "each_function_df.sort_values(by='Total', ascending=False, inplace = True)\n",
    "each_function_df.reset_index(drop = True, inplace = True)\n",
    "each_function_df\n",
    "\n",
    "each_function_df.replace({'Function' : { \"select_applications\" :'Select an application in APPs table', \n",
    "                                        \"apply_refine_search\":\"Filter for an attribute in APPs table\",\n",
    "                                        \"similar_application\": \"Selecting an Application in Scatter plot (in Compare)\",\n",
    "                                        \"Similar_Application_table_Similarity_of_each_attribute\": \"Sorting the table on Similarity of each attribute  (in Compare)\",\n",
    "                                        \"select_reject_application\":'Give rating and/or weight for an Application',\n",
    "                                        \"Applications_Prediction_Confidence\":\"Sorting Applications Prediction Confidence\",\n",
    "                                        \"Click on Feature Combination Button\":\"Click on Feature Combination Button\",\n",
    "                                       \"Clicked-on-Causal-Graph-Node\":\"Click on node of causal graph\"\n",
    "                                       }},inplace=True)\n",
    "each_function_df"
   ]
  },
  {
   "cell_type": "code",
   "execution_count": null,
   "id": "9ae6cb29",
   "metadata": {},
   "outputs": [],
   "source": [
    "fig = plt.figure()\n",
    "ax = fig.add_axes([0,0,1,1])\n",
    "\n",
    "\n",
    "bars = ax.bar(each_function_df[\"Function\"],each_function_df[\"Total\"], width=0.5, color = \"green\")\n",
    "ax.bar_label(bars)\n",
    "plt.title(\"Clicks vs Function\")\n",
    "plt.xlabel('Function')\n",
    "plt.ylabel('Number of Clicks')\n",
    "fig.autofmt_xdate()\n",
    "plt.show()"
   ]
  },
  {
   "cell_type": "markdown",
   "id": "d0c472d8",
   "metadata": {
    "jp-MarkdownHeadingCollapsed": true
   },
   "source": [
    "## How many times each application was viewed w.r.t each user"
   ]
  },
  {
   "cell_type": "code",
   "execution_count": null,
   "id": "c7b3c674",
   "metadata": {},
   "outputs": [],
   "source": [
    "logs_df[logs_df[\"Function\"] == \"select_applications\"]\n",
    "\n",
    "display(logs_df[logs_df[\"Function\"] == \"select_applications\"].head())\n",
    "print(logs_df[logs_df[\"Function\"] == \"select_applications\"][\"ID\"].nunique())"
   ]
  },
  {
   "cell_type": "code",
   "execution_count": null,
   "id": "9344568d",
   "metadata": {},
   "outputs": [],
   "source": [
    "app_group = logs_df[logs_df[\"Function\"] == \"select_applications\"].groupby(by = [\"ID\",\"App ID\"])\n",
    "\n",
    "app_count = app_group.size().unstack(fill_value=0).stack()\n",
    "\n",
    "data = []\n",
    "\n",
    "for i in range(0,len(app_count.index)):    \n",
    "    data.append(\n",
    "    {\n",
    "        \"Participant\" : app_count.index[i][0],\n",
    "        \"App ID\" : app_count.index[i][1],\n",
    "        \"Count\": app_count.values[i]\n",
    "    }\n",
    "    )\n",
    "    \n",
    "parti_app_df = pd.DataFrame(data)\n",
    "parti_app_df"
   ]
  },
  {
   "cell_type": "code",
   "execution_count": null,
   "id": "85aa5ce4",
   "metadata": {},
   "outputs": [],
   "source": [
    "data = []\n",
    "\n",
    "for app_id in parti_app_df[\"App ID\"].unique():    \n",
    "    data.append(\n",
    "    {\n",
    "        \"Application\" : app_id,\n",
    "        \"Total\" : parti_app_df[parti_app_df[\"App ID\"]== app_id ].Count.sum(),\n",
    "        \"Mean\": round(parti_app_df[parti_app_df[\"App ID\"]== app_id ].Count.mean(),2),\n",
    "        \"Std\": round(parti_app_df[parti_app_df[\"App ID\"]== app_id ].Count.std(),2),\n",
    "        \"Number of Participants Viewed\" : parti_app_df[(parti_app_df[\"App ID\"]== app_id) & (parti_app_df[\"Count\"] != 0)].shape[0]\n",
    "    }\n",
    "    )\n",
    "    \n",
    "each_app_df = pd.DataFrame(data)\n",
    "each_app_df\n",
    "\n",
    "each_app_df.sort_values(by='Total', ascending=False, inplace = True)\n",
    "each_app_df.fillna(\"NA\", inplace = True)\n",
    "each_app_df.reset_index(drop = True, inplace = True)\n",
    "each_app_df\n",
    "\n",
    "# each_app_df.to_csv(\"How many times each application was viewed w.r.t each user.csv\")"
   ]
  },
  {
   "cell_type": "markdown",
   "id": "252df4b3",
   "metadata": {
    "jp-MarkdownHeadingCollapsed": true
   },
   "source": [
    "## Which attribute was most filtered for w.r.t each participant"
   ]
  },
  {
   "cell_type": "code",
   "execution_count": null,
   "id": "33a83403",
   "metadata": {},
   "outputs": [],
   "source": [
    "logs_df[logs_df[\"Function\"] == \"apply_refine_search\"]\n",
    "\n",
    "display(logs_df[logs_df[\"Function\"] == \"apply_refine_search\"].head())\n",
    "print(\"No.Part.:\",logs_df[logs_df[\"Function\"] == \"apply_refine_search\"][\"ID\"].nunique())"
   ]
  },
  {
   "cell_type": "code",
   "execution_count": null,
   "id": "55af94cb",
   "metadata": {},
   "outputs": [],
   "source": [
    "attribute_group = logs_df[logs_df[\"Function\"] == \"apply_refine_search\"].groupby(by = [\"ID\",\"Attribute\"])\n",
    "\n",
    "attribute_count = attribute_group.size().unstack(fill_value=0).stack()\n",
    "\n",
    "data = []\n",
    "\n",
    "for i in range(0,len(attribute_count.index)):\n",
    "    \n",
    "    if attribute_count.index[i][1] in list(ft_weight_dict.keys()):\n",
    "        data.append(\n",
    "        {\n",
    "            \"Participant\" : attribute_count.index[i][0],\n",
    "            \"Attribute\" : attribute_count.index[i][1],\n",
    "            \"Count\": attribute_count.values[i]\n",
    "        }\n",
    "        )\n",
    "    \n",
    "parti_attri_df = pd.DataFrame(data)\n",
    "parti_attri_df"
   ]
  },
  {
   "cell_type": "code",
   "execution_count": null,
   "id": "935810a6",
   "metadata": {
    "scrolled": true
   },
   "outputs": [],
   "source": [
    "data = []\n",
    "\n",
    "for attribute in list(ft_weight_dict.keys()):\n",
    "    \n",
    "    data.append(\n",
    "    {\n",
    "        \"Attribute\" : attribute,\n",
    "        \"Total\" : parti_attri_df[parti_attri_df[\"Attribute\"]== attribute ].Count.sum(),\n",
    "        \"Mean\": round(parti_attri_df[parti_attri_df[\"Attribute\"]== attribute ].Count.mean(),2),\n",
    "        \"Std\": round(parti_attri_df[parti_attri_df[\"Attribute\"]== attribute ].Count.std(),2),\n",
    "        \"Number of Participants Filtered\" : parti_attri_df[(parti_attri_df[\"Attribute\"]== attribute) & (parti_attri_df[\"Count\"] != 0)].shape[0]\n",
    "    }\n",
    "    )\n",
    "    \n",
    "each_attri_df = pd.DataFrame(data)\n",
    "each_attri_df\n",
    "\n",
    "each_attri_df.sort_values(by='Total', ascending=False, inplace = True)\n",
    "each_attri_df.fillna(\"NA\", inplace = True)\n",
    "each_attri_df.reset_index(drop = True, inplace = True)\n",
    "each_attri_df\n",
    "# each_attri_df.to_csv(\"Attribute was most filtered for w.r.t each participant.csv\")"
   ]
  },
  {
   "cell_type": "markdown",
   "id": "4a0c8093-9f48-4b88-b145-d8aea830f013",
   "metadata": {
    "jp-MarkdownHeadingCollapsed": true
   },
   "source": [
    "## Applications_Prediction_Confidence : Ascended or Descended w.r.t each User"
   ]
  },
  {
   "cell_type": "code",
   "execution_count": null,
   "id": "94064b3d-d301-40ce-8c7b-f56c2a6f1493",
   "metadata": {},
   "outputs": [],
   "source": [
    "# logs_df[logs_df[\"Function\"] == \"Applications_Prediction_Confidence\"]"
   ]
  },
  {
   "cell_type": "code",
   "execution_count": null,
   "id": "d65adc49-2716-40d0-b2f6-85bac49f37ba",
   "metadata": {
    "scrolled": true
   },
   "outputs": [],
   "source": [
    "pc_group= logs_df[logs_df[\"Function\"] == \"Applications_Prediction_Confidence\"].groupby(by = [\"ID\",\"Value\"])\n",
    "\n",
    "pc_count = pc_group.size().unstack(fill_value=0).stack()\n",
    "\n",
    "data = []\n",
    "\n",
    "for i in range(0,len(pc_count.index)):\n",
    "    \n",
    "    data.append(\n",
    "    {\n",
    "        \"Participant\" : pc_count.index[i][0],\n",
    "        \"PC_Value\" : pc_count.index[i][1],\n",
    "        \"Count\": pc_count.values[i]\n",
    "    }\n",
    "    )\n",
    "    \n",
    "parti_pc_df = pd.DataFrame(data)\n",
    "parti_pc_df"
   ]
  },
  {
   "cell_type": "code",
   "execution_count": null,
   "id": "72311969-f66d-41a1-bca2-b30086e22d8f",
   "metadata": {},
   "outputs": [],
   "source": [
    "data = []\n",
    "\n",
    "for pc_action in logs_df[logs_df[\"Function\"] == \"Applications_Prediction_Confidence\"][\"Value\"].unique():\n",
    "    \n",
    "    data.append(\n",
    "    {\n",
    "        \"PC_Value\" : pc_action,\n",
    "        \"Total\" : parti_pc_df[parti_pc_df[\"PC_Value\"]== pc_action ].Count.sum(),\n",
    "        \"Mean\": round(parti_pc_df[parti_pc_df[\"PC_Value\"]== pc_action ].Count.mean(),2),\n",
    "        \"Std\": round(parti_pc_df[parti_pc_df[\"PC_Value\"]== pc_action ].Count.std(),2),\n",
    "        \"Number of Participants Clicked\" : parti_pc_df[(parti_pc_df[\"PC_Value\"]== pc_action) & (parti_pc_df[\"Count\"] != 0)].shape[0]\n",
    "    }\n",
    "    )\n",
    "    \n",
    "each_pc_df = pd.DataFrame(data)\n",
    "\n",
    "each_pc_df.sort_values(by='Total', ascending=False, inplace = True)\n",
    "each_pc_df.fillna(\"NA\", inplace = True)\n",
    "each_pc_df.reset_index(drop = True, inplace = True)\n",
    "display(each_pc_df)"
   ]
  },
  {
   "cell_type": "markdown",
   "id": "55e22614-c260-4aa8-869c-a5bd702d88cc",
   "metadata": {
    "jp-MarkdownHeadingCollapsed": true
   },
   "source": [
    "## How many participants selected to view a similar application?"
   ]
  },
  {
   "cell_type": "code",
   "execution_count": null,
   "id": "88498791-6614-49d2-8ea8-27d1da408a79",
   "metadata": {},
   "outputs": [],
   "source": [
    "p_ids_similar = logs_df[logs_df[\"Function\"] == \"similar_application\"]['ID'].unique()"
   ]
  },
  {
   "cell_type": "code",
   "execution_count": null,
   "id": "fbbcb2e6-8dc0-4a41-bd45-3dc0af3958df",
   "metadata": {},
   "outputs": [],
   "source": [
    "len(p_ids_similar)"
   ]
  },
  {
   "cell_type": "markdown",
   "id": "54d6f28f-40a7-45fa-9d72-5e74edf35946",
   "metadata": {
    "jp-MarkdownHeadingCollapsed": true
   },
   "source": [
    "## How many participants clicked on Feature Combinations buttons"
   ]
  },
  {
   "cell_type": "code",
   "execution_count": null,
   "id": "b641b012-be0e-4873-ac5e-787d40e89bbd",
   "metadata": {},
   "outputs": [],
   "source": [
    "logs_df[logs_df[\"Function\"] == \"Click on Feature Combination Button\"]['ID'].nunique()\n"
   ]
  },
  {
   "cell_type": "markdown",
   "id": "d28f1f6e-3f95-4c7e-b6b0-3f322ad8ec93",
   "metadata": {
    "jp-MarkdownHeadingCollapsed": true
   },
   "source": [
    "## Which attribute was most clicked on the causal graph w.r.t each participant"
   ]
  },
  {
   "cell_type": "code",
   "execution_count": null,
   "id": "2f47c42a-581d-4e37-98e6-5a946e6766bf",
   "metadata": {},
   "outputs": [],
   "source": [
    "logs_df[logs_df[\"Function\"] == \"Clicked-on-Causal-Graph-Node\"]\n",
    "\n",
    "display(logs_df[logs_df[\"Function\"] == \"Clicked-on-Causal-Graph-Node\"].head())\n",
    "print(\"No. Part.:\",logs_df[logs_df[\"Function\"] == \"Clicked-on-Causal-Graph-Node\"][\"ID\"].nunique())"
   ]
  },
  {
   "cell_type": "code",
   "execution_count": null,
   "id": "2caffa57-8620-4f2c-bc8c-64c795febda6",
   "metadata": {
    "scrolled": true
   },
   "outputs": [],
   "source": [
    "attribute_group = logs_df[logs_df[\"Function\"] == \"Clicked-on-Causal-Graph-Node\"].groupby(by = [\"ID\",\"Value\"])\n",
    "\n",
    "attribute_count = attribute_group.size().unstack(fill_value=0).stack()\n",
    "\n",
    "data = []\n",
    "\n",
    "for i in range(0,len(attribute_count.index)):\n",
    "    \n",
    "    if attribute_count.index[i][1] in list(ft_weight_dict.keys()):\n",
    "        data.append(\n",
    "        {\n",
    "            \"Participant\" : attribute_count.index[i][0],\n",
    "            \"Attribute\" : attribute_count.index[i][1],\n",
    "            \"Count\": attribute_count.values[i]\n",
    "        }\n",
    "        )\n",
    "    \n",
    "parti_attri_df = pd.DataFrame(data)\n",
    "parti_attri_df"
   ]
  },
  {
   "cell_type": "code",
   "execution_count": null,
   "id": "4fcc34a4-df13-4c08-b2a0-8083c0a6df6e",
   "metadata": {},
   "outputs": [],
   "source": [
    "data = []\n",
    "\n",
    "for attribute in list(ft_weight_dict.keys()):\n",
    "    \n",
    "    data.append(\n",
    "    {\n",
    "        \"Attribute\" : attribute,\n",
    "        \"Total\" : parti_attri_df[parti_attri_df[\"Attribute\"]== attribute ].Count.sum(),\n",
    "        \"Mean\": round(parti_attri_df[parti_attri_df[\"Attribute\"]== attribute ].Count.mean(),2),\n",
    "        \"Std\": round(parti_attri_df[parti_attri_df[\"Attribute\"]== attribute ].Count.std(),2),\n",
    "        \"Number of Participants Clicked Node\" : parti_attri_df[(parti_attri_df[\"Attribute\"]== attribute) & (parti_attri_df[\"Count\"] != 0)].shape[0]\n",
    "    }\n",
    "    )\n",
    "    \n",
    "each_attri_df = pd.DataFrame(data)\n",
    "each_attri_df\n",
    "\n",
    "each_attri_df.sort_values(by='Total', ascending=False, inplace = True)\n",
    "each_attri_df.fillna(\"NA\", inplace = True)\n",
    "each_attri_df.reset_index(drop = True, inplace = True)\n",
    "each_attri_df\n",
    "# each_attri_df.to_csv(\"Attribute was most clicked on causal graph w.r.t each participant.csv\")"
   ]
  },
  {
   "cell_type": "markdown",
   "id": "d27c65a1-8bc5-4db7-89f7-f985f48626c1",
   "metadata": {},
   "source": [
    "# Analysis of Feedback"
   ]
  },
  {
   "cell_type": "markdown",
   "id": "b616366f-da91-4428-9351-fbf6f6149886",
   "metadata": {
    "jp-MarkdownHeadingCollapsed": true
   },
   "source": [
    "## How many applications were rated as fair/unfair w.r.t each participant"
   ]
  },
  {
   "cell_type": "code",
   "execution_count": null,
   "id": "6fea315e-6bd9-46b8-8da4-604752a8a9a2",
   "metadata": {},
   "outputs": [],
   "source": [
    "rating_group= feedback_df[feedback_df[\"Function\"] == \"select_reject_application\"].groupby(by = [\"ID\",\"Attribute\"])\n",
    "\n",
    "rating_count = rating_group.size().unstack(fill_value=0).stack()\n",
    "\n",
    "\n",
    "data = []\n",
    "\n",
    "for i in range(0,len(rating_count.index)):\n",
    "    \n",
    "    data.append(\n",
    "    {\n",
    "        \"Participant\" : rating_count.index[i][0],\n",
    "        \"Rating\" : rating_count.index[i][1],\n",
    "        \"Count\": rating_count.values[i]\n",
    "    }\n",
    "    )\n",
    "    \n",
    "parti_rating_df = pd.DataFrame(data)\n",
    "parti_rating_df"
   ]
  },
  {
   "cell_type": "code",
   "execution_count": null,
   "id": "a4b34c73-0fc7-4284-b2ed-49cd958a2897",
   "metadata": {},
   "outputs": [],
   "source": [
    "data = []\n",
    "\n",
    "for rating in parti_rating_df[\"Rating\"].unique():\n",
    "    \n",
    "    data.append(\n",
    "    {\n",
    "        \"Rating\" : rating,\n",
    "        \"Total\" : parti_rating_df[parti_rating_df[\"Rating\"]== rating ].Count.sum(),\n",
    "        \"Mean\": round(parti_rating_df[parti_rating_df[\"Rating\"]== rating ].Count.mean(),2),\n",
    "        \"Std\": round(parti_rating_df[parti_rating_df[\"Rating\"]== rating ].Count.std(),2),\n",
    "        \"Number of Participants Clicked\" : parti_rating_df[(parti_rating_df[\"Rating\"]== rating) & (parti_rating_df[\"Count\"] != 0)].shape[0]\n",
    "\n",
    "    }\n",
    "    )\n",
    "    \n",
    "each_rating_df = pd.DataFrame(data)\n",
    "\n",
    "each_rating_df.sort_values(by='Total', ascending=False, inplace = True)\n",
    "each_rating_df.fillna(\"NA\", inplace = True)\n",
    "each_rating_df.reset_index(drop = True, inplace = True)\n",
    "each_rating_df\n",
    "# each_rating_df.to_csv(\"select_reject_application.csv\")"
   ]
  },
  {
   "cell_type": "markdown",
   "id": "5680b7f2-d4cd-4cb6-ac80-81dd709e7d2e",
   "metadata": {
    "jp-MarkdownHeadingCollapsed": true
   },
   "source": [
    "## How often participants gave unfair labels w.r.t each participant"
   ]
  },
  {
   "cell_type": "code",
   "execution_count": null,
   "id": "e09089dd-c1da-46ea-8478-3d2404ec4d27",
   "metadata": {},
   "outputs": [],
   "source": [
    "parti_rating_df2 = parti_rating_df[parti_rating_df['Rating']=='unfair']\n",
    "data = []\n",
    "\n",
    "for participant in parti_rating_df2[\"Participant\"].unique():\n",
    "    \n",
    "    data.append(\n",
    "    {\n",
    "        \"Participant\" : participant,\n",
    "        \"Total_unfair_Ratings\" : parti_rating_df2[parti_rating_df2[\"Participant\"]== participant].Count.sum(),\n",
    "        # \"Mean\": round(parti_rating_df[parti_rating_df[\"Participant\"]== participant].Count.mean(),2),\n",
    "        # \"Std\": round(parti_rating_df[parti_rating_df[\"Participant\"]== participant].Count.std(),2)\n",
    "    }\n",
    "    )    \n",
    "    \n",
    "each_participant_rating_df = pd.DataFrame(data)\n",
    "each_participant_rating_df.sort_values(by='Total_unfair_Ratings', ascending=False, inplace = True)\n",
    "each_participant_rating_df.fillna(\"NA\", inplace = True)\n",
    "each_participant_rating_df.reset_index(drop = True, inplace = True)\n",
    "each_participant_rating_df\n",
    "# each_participant_rating_df.to_csv(\"How often participants gave unfair labels w.r.t each participant.csv\")"
   ]
  },
  {
   "cell_type": "markdown",
   "id": "44aa14e3-c724-40b1-9673-4f4157082570",
   "metadata": {
    "jp-MarkdownHeadingCollapsed": true
   },
   "source": [
    "## How often participants suggested weight changes w.r.t each participant"
   ]
  },
  {
   "cell_type": "code",
   "execution_count": null,
   "id": "43d789df-9653-4342-9433-84bc944a58fe",
   "metadata": {
    "scrolled": true
   },
   "outputs": [],
   "source": [
    "feedback_group = feedback_df[(feedback_df[\"Function\"] == \"select_reject_application\")]\n",
    "feedback_group = pd.DataFrame(feedback_group)\n",
    "for idx in feedback_group.index:\n",
    "    feedback_group.at[idx,\"Value\"] = str(feedback_group.loc[idx][\"Value\"])"
   ]
  },
  {
   "cell_type": "code",
   "execution_count": null,
   "id": "fe7dd272-7bde-4d4f-86a5-2377b921e3db",
   "metadata": {
    "scrolled": true
   },
   "outputs": [],
   "source": [
    "labels_with_weights_all = feedback_group.loc[[idx  for idx in feedback_group.index if feedback_group.loc[idx]['Value']!=[]]]\n",
    "# labels_with_weights_all = feedback_group[[True if isinstance(val,str) and val!=\"[]\" else False for val in feedback_group[\"Value\"]]]\n",
    "labels_with_weights_unfair =labels_with_weights_all[labels_with_weights_all['Attribute']=='unfair']\n",
    "labels_with_weights_ids= labels_with_weights_unfair['ID']\n",
    "\n",
    "labels_without_weights_all = feedback_group.loc[[idx  for idx in feedback_group.index if feedback_group.loc[idx]['Value']==[]]]\n",
    "# labels_without_weights_all = feedback_group[[True if isinstance(val,str) and val==\"[]\" else False for val in feedback_group[\"Value\"]]]\n",
    "labels_without_weights_unfair = labels_without_weights_all[labels_without_weights_all['Attribute']=='unfair']\n",
    "labels_without_weights_ids = labels_without_weights_all['ID']\n"
   ]
  },
  {
   "cell_type": "code",
   "execution_count": null,
   "id": "1ff09539-1c40-4b08-bcaa-23719ac80ad6",
   "metadata": {
    "scrolled": true
   },
   "outputs": [],
   "source": [
    "participants_weight_group= feedback_group.groupby(by = [\"ID\",\"Value\"])\n",
    "\n",
    "participant_count = participants_weight_group.size().unstack(fill_value=0).stack()\n",
    "\n",
    "data = []\n",
    "for i in range(0,len(participant_count.index)):    \n",
    "    # if participant_count.index[i][1] in feedback_df[(feedback_df[\"Function\"] == \"OKBUTTON_CLICKED_DECIDE_MODAL_Applications_List\") & (feedback_df[\"Value\"] != \"[]\")][\"Value\"].unique():\n",
    "    if participant_count.index[i][1] in labels_with_weights_all[\"Value\"].unique():    \n",
    "        data.append(\n",
    "        {\n",
    "            \"Participant\" : participant_count.index[i][0],\n",
    "            \"Weight\" : participant_count.index[i][1],\n",
    "            \"Count\": participant_count.values[i]\n",
    "        }\n",
    "        )\n",
    "    \n",
    "participant_weight_df = pd.DataFrame(data)\n",
    "participant_weight_df"
   ]
  },
  {
   "cell_type": "code",
   "execution_count": null,
   "id": "2403b217-c8c6-486f-ba3c-642632ac7337",
   "metadata": {},
   "outputs": [],
   "source": [
    "data = []\n",
    "\n",
    "for participant in participant_weight_df[\"Participant\"].unique():\n",
    "    \n",
    "    data.append(\n",
    "    {\n",
    "        \"Participant\" : participant,\n",
    "        \"Total_Weight_Changes\" : participant_weight_df[participant_weight_df[\"Participant\"]== participant ].Count.sum(),\n",
    "    }\n",
    "    )\n",
    "    \n",
    "    \n",
    "each_participant_weight_df = pd.DataFrame(data)\n",
    "\n",
    "each_participant_weight_df.sort_values(by='Total_Weight_Changes', ascending=False, inplace = True)\n",
    "each_participant_weight_df.fillna(\"NA\", inplace = True)\n",
    "each_participant_weight_df.reset_index(drop = True, inplace = True)\n",
    "each_participant_weight_df\n",
    "# each_participant_weight_df.to_csv(\"How often participants suggested weight changes w.r.t each participant.csv\")\n",
    "\n",
    "# Can't delete these entries because the participant is labeling different applications in these entries."
   ]
  },
  {
   "cell_type": "markdown",
   "id": "68cfec62-e786-4fb6-85c3-76d740a85165",
   "metadata": {
    "jp-MarkdownHeadingCollapsed": true
   },
   "source": [
    "## How many participants provided feedback for the same application more than once"
   ]
  },
  {
   "cell_type": "code",
   "execution_count": null,
   "id": "bad7eae6-72e9-4575-94a9-719de40df819",
   "metadata": {},
   "outputs": [],
   "source": [
    "feedback_group = feedback_df[feedback_df[\"Function\"] == \"select_reject_application\"]\n",
    "participants_checked_app_multiple_times=[]\n",
    "for part in feedback_group['ID'].unique():\n",
    "    part_feedback = feedback_group[feedback_group[\"ID\"]== part]\n",
    "    if len(part_feedback)> len(part_feedback['App ID'].unique()):\n",
    "        participants_checked_app_multiple_times.append(part)\n",
    "len(participants_checked_app_multiple_times)"
   ]
  },
  {
   "cell_type": "markdown",
   "id": "400228d7-97fe-425c-b5fb-17cb4ce917b8",
   "metadata": {},
   "source": [
    "## How many participants suggested a weight change for each attribute and average weight percentage change of weight"
   ]
  },
  {
   "cell_type": "code",
   "execution_count": null,
   "id": "7bc1c642-4a6d-4554-9d73-b735f1402de7",
   "metadata": {
    "scrolled": true
   },
   "outputs": [],
   "source": [
    "for idx in feedback_df.index:\n",
    "    value = feedback_df.loc[idx]['Value']\n",
    "    if value == []:\n",
    "        feedback_df.at[idx,'Value'] = {}\n",
    "    else:\n",
    "        transf_value = {}\n",
    "        for el in value:\n",
    "            transf_value[el['attribute']] = el['value']\n",
    "        feedback_df.at[idx,'Value'] = transf_value\n",
    "feedback_df"
   ]
  },
  {
   "cell_type": "code",
   "execution_count": null,
   "id": "5a9463c3-a2db-4128-887d-a0754aca97f4",
   "metadata": {},
   "outputs": [],
   "source": [
    "fdbck_with_weights = feedback_df[[True if len(val) else False for val in feedback_df[\"Value\"]]]\n",
    "\n",
    "feature_weights_dict = {}\n",
    "for i in range(49):\n",
    "    feature_weights_dict[applications_df['ft_name_'+str(i)].tolist()[0]] = applications_df['ft_weight_'+str(i)].tolist()[0]\n",
    "    \n",
    "total_clickcs_per_attr ={}\n",
    "number_part_per_attr = {}\n",
    "part_appid_weight_ch_dict = {}\n",
    "for idx in fdbck_with_weights.index:\n",
    "    ch_weights = fdbck_with_weights.loc[idx]['Value']\n",
    "    for attr in ch_weights:\n",
    "        if attr not in total_clickcs_per_attr:\n",
    "            total_clickcs_per_attr[attr] = 0\n",
    "        if attr not in number_part_per_attr:\n",
    "            number_part_per_attr[attr] = []\n",
    "        if fdbck_with_weights.loc[idx]['ID'] not in part_appid_weight_ch_dict:\n",
    "            part_appid_weight_ch_dict[fdbck_with_weights.loc[idx]['ID']] = {}\n",
    "        if fdbck_with_weights.loc[idx]['App ID'] not in part_appid_weight_ch_dict[fdbck_with_weights.loc[idx]['ID']]:\n",
    "             part_appid_weight_ch_dict[fdbck_with_weights.loc[idx]['ID']][fdbck_with_weights.loc[idx]['App ID']] = {}\n",
    "        if attr not in part_appid_weight_ch_dict[fdbck_with_weights.loc[idx]['ID']][fdbck_with_weights.loc[idx]['App ID']]:\n",
    "            part_appid_weight_ch_dict[fdbck_with_weights.loc[idx]['ID']][fdbck_with_weights.loc[idx]['App ID']][attr] = None\n",
    "        part_appid_weight_ch_dict[fdbck_with_weights.loc[idx]['ID']][fdbck_with_weights.loc[idx]['App ID']][attr] = float(ch_weights[attr]) - feature_weights_dict[attr]\n",
    "        if fdbck_with_weights.loc[idx]['ID'] not in number_part_per_attr[attr]:\n",
    "            number_part_per_attr[attr].append(fdbck_with_weights.loc[idx]['ID'])\n",
    "        total_clickcs_per_attr[attr] = total_clickcs_per_attr[attr] + 1\n",
    "for attr in number_part_per_attr:\n",
    "    number_part_per_attr[attr] = len(number_part_per_attr[attr])\n",
    "\n",
    "av_weight_ch_dict = {}\n",
    "for part in part_appid_weight_ch_dict:\n",
    "    for appid in part_appid_weight_ch_dict[part]:\n",
    "        for attr in part_appid_weight_ch_dict[part][appid]:\n",
    "            if attr not in av_weight_ch_dict:\n",
    "                av_weight_ch_dict[attr] = []\n",
    "            av_weight_ch_dict[attr].append(part_appid_weight_ch_dict[part][appid][attr])\n",
    "for attr in av_weight_ch_dict:\n",
    "    av_weight_ch_dict[attr] = sum(av_weight_ch_dict[attr])/len(av_weight_ch_dict[attr]) \n",
    "    av_weight_ch_dict[attr] = (av_weight_ch_dict[attr]/feature_weights_dict[attr])*100 if feature_weights_dict[attr] else np.inf\n",
    "    \n",
    "data = []\n",
    "for attr in total_clickcs_per_attr:\n",
    "    data.append({'attribute':attr, \n",
    "                 # 'Total_Weight_Changes':total_clickcs_per_attr[attr],                 \n",
    "                 'Number of participants clicked':number_part_per_attr[attr],\n",
    "                'Av. Perc. Weight Ch. %':av_weight_ch_dict[attr]})\n",
    "\n",
    "weight_changes_df = pd.DataFrame(data)\n",
    "weight_changes_df.sort_values(by='Number of participants clicked', ascending=False, inplace = True)\n",
    "weight_changes_df.fillna(\"NA\", inplace = True)\n",
    "weight_changes_df.reset_index(drop = True, inplace = True)\n",
    "weight_changes_df\n",
    "weight_changes_df.to_csv(\"How many participants suggested a weight change for each attribute and average weight percentage change of weight.csv\")"
   ]
  },
  {
   "cell_type": "markdown",
   "id": "f2ca53c8-0d93-4162-8cbd-bc167f6ff051",
   "metadata": {},
   "source": [
    "## How  many times an application was rated by Users w.r.t each participant"
   ]
  },
  {
   "cell_type": "code",
   "execution_count": null,
   "id": "c6f1f84d-3a2c-461b-adbf-cbfef9c36b5b",
   "metadata": {},
   "outputs": [],
   "source": [
    "parti_app_rating_group= feedback_df.groupby(by = [\"ID\",\"App ID\",\"Attribute\"])\n",
    "\n",
    "parti_app_rating_count = parti_app_rating_group.size().unstack(fill_value=0).stack()\n",
    "\n",
    "data = []\n",
    "\n",
    "app_id_list = feedback_df[\"App ID\"].unique().tolist()\n",
    "# app_id_list.remove(0)\n",
    "\n",
    "for i in range(0,len(parti_app_rating_count.index)):\n",
    "    if (parti_app_rating_count.index[i][1] in app_id_list) and (parti_app_rating_count.index[i][2] in feedback_df[feedback_df[\"Function\"] == \"select_reject_application\"][\"Attribute\"].unique().tolist()):\n",
    "\n",
    "        data.append(\n",
    "        {\n",
    "            \"Participant\" : parti_app_rating_count.index[i][0],\n",
    "            \"Application_Label\" : (parti_app_rating_count.index[i][1],parti_app_rating_count.index[i][2]) ,\n",
    "            \"Application\" : parti_app_rating_count.index[i][1],\n",
    "            \"Label\" : parti_app_rating_count.index[i][2],\n",
    "            \"Count\": parti_app_rating_count.values[i]\n",
    "        }\n",
    "        )\n",
    "    \n",
    "parti_app_rating_df = pd.DataFrame(data)\n",
    "parti_app_rating_df.head(5)"
   ]
  },
  {
   "cell_type": "code",
   "execution_count": null,
   "id": "006aa60a-2843-4006-8e8d-1143132557ce",
   "metadata": {},
   "outputs": [],
   "source": [
    "data = []\n",
    "\n",
    "for app_label in parti_app_rating_df[\"Application_Label\"].unique():\n",
    "    \n",
    "    data.append(\n",
    "    {\n",
    "        \"App_Label\" : app_label,\n",
    "        \"Total_Ratings\" : parti_app_rating_df[parti_app_rating_df[\"Application_Label\"]== app_label].Count.sum(),\n",
    "        \"Mean\": round(parti_app_rating_df[parti_app_rating_df[\"Application_Label\"]== app_label].Count.mean(),2),\n",
    "        \"Std\": round(parti_app_rating_df[parti_app_rating_df[\"Application_Label\"]== app_label].Count.std(),2),\n",
    "        \"Number of Participants Labeled\": parti_app_rating_df[(parti_app_rating_df[\"Application_Label\"]== app_label) & (parti_app_rating_df[\"Count\"] != 0)].shape[0]}\n",
    "    )\n",
    "    \n",
    "    \n",
    "    \n",
    "each_participant_app_rating_df = pd.DataFrame(data)\n",
    "\n",
    "each_participant_app_rating_df.sort_values(by='Total_Ratings', ascending=False, inplace = True)\n",
    "each_participant_app_rating_df.fillna(0, inplace = True)\n",
    "each_participant_app_rating_df.reset_index(drop = True, inplace = True)\n",
    "\n",
    "applications_list = []\n",
    "label_list = []\n",
    "for i in range(0,len(each_participant_app_rating_df)):\n",
    "    applications_list.append(each_participant_app_rating_df[\"App_Label\"][i][0])\n",
    "    label_list.append(each_participant_app_rating_df[\"App_Label\"][i][1])\n",
    "\n",
    "each_participant_app_rating_df[\"Application\"] = applications_list\n",
    "each_participant_app_rating_df['Label'] = label_list\n",
    "each_participant_app_rating_df = each_participant_app_rating_df.loc[:, [\"Application\",\"Label\",\"Total_Ratings\",\"Mean\",\"Std\",\"Number of Participants Labeled\"]]\n",
    "\n",
    "each_participant_app_rating_df.sort_values(by='Application', ascending=True, inplace = True)\n",
    "each_participant_app_rating_df.reset_index(drop = True, inplace = True)\n",
    "\n",
    "for index in each_participant_app_rating_df.index: \n",
    "    app_id = each_participant_app_rating_df.loc[index,\"Application\"]\n",
    "    each_participant_app_rating_df.loc[index,\"Predicted_decision\"] = df[app_id][\"Predicted_decision\"]\n",
    "    each_participant_app_rating_df.loc[index,\"Prediction_Confidence_Accepted\"] = df[app_id][\"Prediction_Confidence_Accepted\"]\n",
    "\n",
    "each_participant_app_rating_df\n",
    "#each_participant_app_rating_df.to_csv(\"How  many times an application was rated by Users w.r.t each participant.csv\")"
   ]
  },
  {
   "cell_type": "code",
   "execution_count": null,
   "id": "7896548a-93b7-49da-a912-bd489b26cb2b",
   "metadata": {},
   "outputs": [],
   "source": []
  }
 ],
 "metadata": {
  "kernelspec": {
   "display_name": "Python 3 (ipykernel)",
   "language": "python",
   "name": "python3"
  },
  "language_info": {
   "codemirror_mode": {
    "name": "ipython",
    "version": 3
   },
   "file_extension": ".py",
   "mimetype": "text/x-python",
   "name": "python",
   "nbconvert_exporter": "python",
   "pygments_lexer": "ipython3",
   "version": "3.12.3"
  }
 },
 "nbformat": 4,
 "nbformat_minor": 5
}
